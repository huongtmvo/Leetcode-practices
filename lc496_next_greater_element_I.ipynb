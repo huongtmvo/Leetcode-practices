{
 "cells": [
  {
   "cell_type": "markdown",
   "id": "b654b055",
   "metadata": {},
   "source": [
    "### 496. Next Greater Element I"
   ]
  },
  {
   "cell_type": "code",
   "execution_count": 3,
   "id": "821788d7",
   "metadata": {},
   "outputs": [],
   "source": [
    "from typing import List\n",
    "class Solution:\n",
    "    # Solution 1: record the index of numbers in nums1 in nums2\n",
    "    # Find the next greater element in nums2 using created index\n",
    "    # Comment: Work but slow\n",
    "    # Complexity: \n",
    "    # Time: O(N*M)\n",
    "    # Space: O(N)\n",
    "    def nextGreaterElement1(self, nums1: List[int], nums2: List[int]) -> List[int]:\n",
    "        index = []\n",
    "        for num in nums1: \n",
    "            for j in range(len(nums2)):\n",
    "                if num == nums2[j]:\n",
    "                    index.append(j)\n",
    "                    break\n",
    "        ans = []\n",
    "        for i in index:\n",
    "            for j in range(i+1, len(nums2)):\n",
    "                if nums2[j] > nums2[i]:\n",
    "                    ans.append(nums2[j])\n",
    "                    break    # When this break, it goes to the next i and break the j for loop\n",
    "            else:\n",
    "                ans.append(-1)   \n",
    "#             print(i, ans)\n",
    "        return ans     \n",
    "    \n",
    "    # Solution 2: Use Stacks\n",
    "    # Time: O(N)\n",
    "    # Space: O(N)\n",
    "    def nextGreaterElement(self, nums1, nums2):\n",
    "        if not nums2: \n",
    "            return None\n",
    "        \n",
    "        mapping = {}\n",
    "        result = []\n",
    "        stack = []\n",
    "        stack.append(nums2[0])\n",
    "        \n",
    "        for i in range(1, len(nums2)):\n",
    "            while stack and nums2[i] > stack[-1]:\n",
    "                mapping[stack[-1]] = nums2[i]\n",
    "                stack.pop()\n",
    "            stack.append(nums2[i])\n",
    "#             print(stack)\n",
    "\n",
    "        for element in stack:\n",
    "            mapping[element] = -1\n",
    "        \n",
    "        for i in range(len(nums1)):\n",
    "            result.append(mapping[nums1[i]])\n",
    "        return result"
   ]
  },
  {
   "cell_type": "code",
   "execution_count": 2,
   "id": "4af09aa5",
   "metadata": {},
   "outputs": [
    {
     "name": "stdout",
     "output_type": "stream",
     "text": [
      "[3]\n",
      "[4]\n",
      "[4, 2]\n"
     ]
    },
    {
     "data": {
      "text/plain": [
       "[-1, 3, -1]"
      ]
     },
     "execution_count": 2,
     "metadata": {},
     "output_type": "execute_result"
    }
   ],
   "source": [
    "nums1 = [4,1,2]; nums2 = [1,3,4,2]\n",
    "Solution().nextGreaterElement(nums1, nums2)"
   ]
  },
  {
   "cell_type": "code",
   "execution_count": 20,
   "id": "74994ea3",
   "metadata": {},
   "outputs": [
    {
     "data": {
      "text/plain": [
       "[3, -1]"
      ]
     },
     "execution_count": 20,
     "metadata": {},
     "output_type": "execute_result"
    }
   ],
   "source": [
    "nums1 = [2,4]; nums2 = [1,2,3,4]\n",
    "Solution().nextGreaterElement(nums1, nums2)"
   ]
  }
 ],
 "metadata": {
  "kernelspec": {
   "display_name": "Python 3",
   "language": "python",
   "name": "python3"
  },
  "language_info": {
   "codemirror_mode": {
    "name": "ipython",
    "version": 3
   },
   "file_extension": ".py",
   "mimetype": "text/x-python",
   "name": "python",
   "nbconvert_exporter": "python",
   "pygments_lexer": "ipython3",
   "version": "3.7.4"
  }
 },
 "nbformat": 4,
 "nbformat_minor": 5
}
