{
 "cells": [
  {
   "cell_type": "markdown",
   "id": "b654b055",
   "metadata": {},
   "source": [
    "### 496. Next Greater Element I"
   ]
  },
  {
   "cell_type": "markdown",
   "id": "2fd1d5dc",
   "metadata": {},
   "source": [
    "The next greater element of some element x in an array is the first greater element that is to the right of x in the same array.\n",
    "\n",
    "You are given two distinct 0-indexed integer arrays nums1 and nums2, where nums1 is a subset of nums2.\n",
    "\n",
    "For each 0 <= i < nums1.length, find the index j such that nums1[i] == nums2[j] and determine the next greater element of nums2[j] in nums2. If there is no next greater element, then the answer for this query is -1.\n",
    "\n",
    "Return an array ans of length nums1.length such that ans[i] is the next greater element as described above.\n",
    "\n",
    "Constraints:\n",
    "\n",
    "1 <= nums1.length <= nums2.length <= 1000\n",
    "\n",
    "0 <= nums1[i], nums2[i] <= 104\n",
    "\n",
    "All integers in nums1 and nums2 are unique.\n",
    "\n",
    "All the integers of nums1 also appear in nums2."
   ]
  },
  {
   "cell_type": "code",
   "execution_count": 12,
   "id": "821788d7",
   "metadata": {},
   "outputs": [],
   "source": [
    "from typing import List\n",
    "class Solution:\n",
    "    # Solution 0 & 1: Brute force, work but slow\n",
    "    # Time complexity: O(N*M)\n",
    "    # Space complexity: O(N)\n",
    "    \n",
    "    def nextGreaterElement0(self, nums1, nums2):\n",
    "        dic = {}\n",
    "        for i in range(len(nums2) - 1):\n",
    "            for j in range(i+1, len(nums2)):\n",
    "                if nums2[i] < nums2[j]:\n",
    "                    dic[nums2[i]] = nums2[j]\n",
    "                    break\n",
    "        return [dic.get(num, -1) for num in nums1]\n",
    "                \n",
    "        \n",
    "    def nextGreaterElement1(self, nums1: List[int], nums2: List[int]) -> List[int]:\n",
    "        index = [] # store index of nums1 in nums2\n",
    "        for num in nums1: \n",
    "            for j in range(len(nums2)):\n",
    "                if num == nums2[j]:\n",
    "                    index.append(j)\n",
    "                    break\n",
    "        ans = []\n",
    "        for i in index:\n",
    "            for j in range(i+1, len(nums2)):\n",
    "                if nums2[j] > nums2[i]:\n",
    "                    ans.append(nums2[j])\n",
    "                    break    # When this break, it goes to the next i and break the j for loop\n",
    "            else:\n",
    "                ans.append(-1)   \n",
    "        return ans     \n",
    "    \n",
    "    # Solution 2, 3, 4: Use monotonic Stacks\n",
    "    # Time: O(N)\n",
    "    # Space: O(N)\n",
    "    def nextGreaterElement2(self, nums1, nums2):\n",
    "        dic = {}\n",
    "        stack = []\n",
    "        for i in range(len(nums2)):\n",
    "            while stack and stack[-1] < nums2[i]:\n",
    "                dic[stack[-1]] = nums2[i]\n",
    "                stack.pop()\n",
    "            stack.append(nums2[i])\n",
    "        return [dic.get(num, -1) for num in nums1]\n",
    "    \n",
    "    \n",
    "    def nextGreaterElement3(self, nums1, nums2):\n",
    "        if not nums2: \n",
    "            return None\n",
    "        \n",
    "        mapping = {}\n",
    "        result = []\n",
    "        stack = []\n",
    "        stack.append(nums2[0])\n",
    "        \n",
    "        for i in range(1, len(nums2)):\n",
    "            while stack and nums2[i] > stack[-1]:\n",
    "                mapping[stack[-1]] = nums2[i]\n",
    "                stack.pop()\n",
    "            stack.append(nums2[i])\n",
    "\n",
    "        for element in stack:\n",
    "            mapping[element] = -1\n",
    "        \n",
    "        for i in range(len(nums1)):\n",
    "            result.append(mapping[nums1[i]])\n",
    "        return result\n",
    "    \n",
    "    \n",
    "    def nextGreaterElement4(self, nums1, nums2):\n",
    "        dic, stack = {}, []\n",
    "        \n",
    "        for num in nums2[::-1]:\n",
    "            while stack and num > stack[-1]:\n",
    "                stack.pop()\n",
    "            if stack:\n",
    "                dic[num] = stack[-1]\n",
    "            stack.append(num)\n",
    "            \n",
    "        return [dic.get(num, -1) for num in nums1]"
   ]
  },
  {
   "cell_type": "code",
   "execution_count": 13,
   "id": "4af09aa5",
   "metadata": {},
   "outputs": [
    {
     "data": {
      "text/plain": [
       "[-1, 3, -1]"
      ]
     },
     "execution_count": 13,
     "metadata": {},
     "output_type": "execute_result"
    }
   ],
   "source": [
    "nums1 = [4,1,2]; nums2 = [1,3,4,2]\n",
    "Solution().nextGreaterElement0(nums1, nums2)"
   ]
  },
  {
   "cell_type": "code",
   "execution_count": 14,
   "id": "74994ea3",
   "metadata": {},
   "outputs": [
    {
     "data": {
      "text/plain": [
       "[3, -1]"
      ]
     },
     "execution_count": 14,
     "metadata": {},
     "output_type": "execute_result"
    }
   ],
   "source": [
    "nums1 = [2,4]; nums2 = [1,2,3,4]\n",
    "Solution().nextGreaterElement0(nums1, nums2)"
   ]
  }
 ],
 "metadata": {
  "kernelspec": {
   "display_name": "Python 3",
   "language": "python",
   "name": "python3"
  },
  "language_info": {
   "codemirror_mode": {
    "name": "ipython",
    "version": 3
   },
   "file_extension": ".py",
   "mimetype": "text/x-python",
   "name": "python",
   "nbconvert_exporter": "python",
   "pygments_lexer": "ipython3",
   "version": "3.7.4"
  }
 },
 "nbformat": 4,
 "nbformat_minor": 5
}
