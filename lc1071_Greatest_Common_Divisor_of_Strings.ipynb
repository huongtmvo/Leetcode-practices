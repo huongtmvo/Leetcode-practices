{
 "cells": [
  {
   "cell_type": "markdown",
   "id": "606e45fe",
   "metadata": {},
   "source": [
    "https://leetcode.com/problems/greatest-common-divisor-of-strings/"
   ]
  },
  {
   "cell_type": "code",
   "execution_count": null,
   "id": "6171512c",
   "metadata": {},
   "outputs": [],
   "source": [
    "class Solution:\n",
    "    def gcdOfStrings(self, str1: str, str2: str) -> str:\n",
    "        def findGcd(x, y):\n",
    "            while y: \n",
    "                x, y = y, x % y\n",
    "            return x\n",
    "        \n",
    "        n1, n2 = len(str1), len(str2)\n",
    "        m = findGcd(n1,n2)\n",
    "        \n",
    "        component = str1[:m]\n",
    "        if (component*(n1//m) == str1) and (component*(n2//m) == str2):\n",
    "            return component\n",
    "        return \"\""
   ]
  },
  {
   "cell_type": "code",
   "execution_count": null,
   "id": "73e64cd0",
   "metadata": {},
   "outputs": [],
   "source": [
    "class Solution:\n",
    "    def findLcm(self, x, y):\n",
    "        greater = max(x,y)\n",
    "        while True:\n",
    "            if (greater % x == 0) and (greater % y == 0):\n",
    "                return greater\n",
    "            greater += 1\n",
    "                       \n",
    "    def gcdOfStrings(self, str1: str, str2: str) -> str:\n",
    "        if set(str1) != set(str2):\n",
    "            return \"\"\n",
    "        # find gcd by using lcm\n",
    "        n1, n2 = len(str1), len(str2)\n",
    "        n = self.findLcm(n1, n2)\n",
    "        gcd = (n1*n2)//n\n",
    "        \n",
    "        component = str1[:gcd]\n",
    "        \n",
    "        if str1 == component * (n1//gcd) and str2 == component *(n2//gcd):\n",
    "            return component\n",
    "        return \"\""
   ]
  },
  {
   "cell_type": "code",
   "execution_count": 9,
   "id": "ef5b9258",
   "metadata": {},
   "outputs": [
    {
     "data": {
      "text/plain": [
       "2"
      ]
     },
     "execution_count": 9,
     "metadata": {},
     "output_type": "execute_result"
    }
   ],
   "source": [
    "# find greatest common divisor using loops\n",
    "def findGcd1(x, y):\n",
    "    if x < y: \n",
    "        smaller = x\n",
    "    else:\n",
    "        smaller = y\n",
    "    for i in range(1, smaller + 1):\n",
    "        if (x % i == 0) and (y % i == 0):\n",
    "            hcf = i\n",
    "    return hcf\n",
    "findGcd1(4,6)"
   ]
  },
  {
   "cell_type": "code",
   "execution_count": 12,
   "id": "57b8c183",
   "metadata": {},
   "outputs": [
    {
     "data": {
      "text/plain": [
       "2"
      ]
     },
     "execution_count": 12,
     "metadata": {},
     "output_type": "execute_result"
    }
   ],
   "source": [
    "# Find greatest common divisor using Euclidean algorithmn\n",
    "def findGcd2(x, y):\n",
    "    while y: \n",
    "        x, y = y, x % y\n",
    "    return x\n",
    "\n",
    "findGcd2(4,6)"
   ]
  }
 ],
 "metadata": {
  "kernelspec": {
   "display_name": "Python 3",
   "language": "python",
   "name": "python3"
  },
  "language_info": {
   "codemirror_mode": {
    "name": "ipython",
    "version": 3
   },
   "file_extension": ".py",
   "mimetype": "text/x-python",
   "name": "python",
   "nbconvert_exporter": "python",
   "pygments_lexer": "ipython3",
   "version": "3.7.4"
  }
 },
 "nbformat": 4,
 "nbformat_minor": 5
}
