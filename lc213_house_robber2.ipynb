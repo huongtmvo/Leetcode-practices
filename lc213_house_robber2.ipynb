{
 "cells": [
  {
   "cell_type": "markdown",
   "id": "e2c977a4",
   "metadata": {},
   "source": [
    "https://leetcode.com/problems/house-robber-ii/"
   ]
  },
  {
   "cell_type": "code",
   "execution_count": 22,
   "id": "a427615d",
   "metadata": {},
   "outputs": [],
   "source": [
    "from typing import List\n",
    "class Solution:\n",
    "    def rob(self, nums: List[int]) -> int:\n",
    "        def rob_bottom (nums):\n",
    "            n = len(nums)\n",
    "            res = [0]*(n)\n",
    "            if n == 0:\n",
    "                return\n",
    "            else: \n",
    "                res[0] = nums[0]\n",
    "            if n >= 2:\n",
    "                res[1] = max(nums[0], nums[1])\n",
    "            if n > 2:\n",
    "                for i in range(2, n):\n",
    "                    res[i] = max(res[i-1], res[i-2] + nums[i])\n",
    "            return res[n - 1]\n",
    "        \n",
    "        n = len(nums) \n",
    "        if n == 1:\n",
    "            return nums[0]\n",
    "        elif n == 2:\n",
    "            return max(nums[0], nums[1])\n",
    "        else:\n",
    "            res = max(rob_bottom(nums[1:]), rob_bottom(nums[:-1]))\n",
    "        return res\n",
    "        "
   ]
  },
  {
   "cell_type": "code",
   "execution_count": 23,
   "id": "fcd5d55d",
   "metadata": {},
   "outputs": [
    {
     "data": {
      "text/plain": [
       "4"
      ]
     },
     "execution_count": 23,
     "metadata": {},
     "output_type": "execute_result"
    }
   ],
   "source": [
    "nums = [1,2,3,1]\n",
    "Solution().rob(nums)"
   ]
  },
  {
   "cell_type": "code",
   "execution_count": 24,
   "id": "ba9552c7",
   "metadata": {},
   "outputs": [
    {
     "data": {
      "text/plain": [
       "340"
      ]
     },
     "execution_count": 24,
     "metadata": {},
     "output_type": "execute_result"
    }
   ],
   "source": [
    "nums = [200,3,140,10]\n",
    "Solution().rob(nums)"
   ]
  },
  {
   "cell_type": "code",
   "execution_count": 17,
   "id": "f8230f27",
   "metadata": {},
   "outputs": [
    {
     "data": {
      "text/plain": [
       "[2, 3, 1]"
      ]
     },
     "execution_count": 17,
     "metadata": {},
     "output_type": "execute_result"
    }
   ],
   "source": [
    "nums[1:]"
   ]
  },
  {
   "cell_type": "code",
   "execution_count": 18,
   "id": "6833f876",
   "metadata": {},
   "outputs": [
    {
     "data": {
      "text/plain": [
       "[1, 2, 3]"
      ]
     },
     "execution_count": 18,
     "metadata": {},
     "output_type": "execute_result"
    }
   ],
   "source": [
    "nums[:-1]"
   ]
  }
 ],
 "metadata": {
  "kernelspec": {
   "display_name": "Python 3",
   "language": "python",
   "name": "python3"
  },
  "language_info": {
   "codemirror_mode": {
    "name": "ipython",
    "version": 3
   },
   "file_extension": ".py",
   "mimetype": "text/x-python",
   "name": "python",
   "nbconvert_exporter": "python",
   "pygments_lexer": "ipython3",
   "version": "3.7.4"
  }
 },
 "nbformat": 4,
 "nbformat_minor": 5
}
