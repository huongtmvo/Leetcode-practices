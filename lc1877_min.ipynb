{
 "cells": [
  {
   "cell_type": "markdown",
   "id": "d64bb60f",
   "metadata": {},
   "source": [
    "### 1877. Minimize Maximum Pair Sum in Array"
   ]
  },
  {
   "cell_type": "code",
   "execution_count": 2,
   "id": "4e00977b",
   "metadata": {},
   "outputs": [],
   "source": [
    "from typing import List\n",
    "class Solution:\n",
    "    def minPairSum(self, nums: List[int]) -> int:\n",
    "        maxPair = 0\n",
    "        n = len(nums)\n",
    "        nums.sort()\n",
    "        for i in range(n//2):\n",
    "            maxPair = max(maxPair,nums[i] + nums[n-i-1])\n",
    "        return maxPair\n",
    "\n",
    "# Complexity analysis:\n",
    "# Time complexity: O(NlogN)\n",
    "# Space complexity: O(1)"
   ]
  },
  {
   "cell_type": "code",
   "execution_count": 3,
   "id": "c5dded48",
   "metadata": {},
   "outputs": [
    {
     "data": {
      "text/plain": [
       "8"
      ]
     },
     "execution_count": 3,
     "metadata": {},
     "output_type": "execute_result"
    }
   ],
   "source": [
    "nums = [3,5,4,2,4,6] \n",
    "Solution().minPairSum(nums)"
   ]
  },
  {
   "cell_type": "code",
   "execution_count": 4,
   "id": "20864073",
   "metadata": {},
   "outputs": [
    {
     "data": {
      "text/plain": [
       "7"
      ]
     },
     "execution_count": 4,
     "metadata": {},
     "output_type": "execute_result"
    }
   ],
   "source": [
    "nums = [3,5,2,3]\n",
    "Solution().minPairSum(nums)"
   ]
  }
 ],
 "metadata": {
  "kernelspec": {
   "display_name": "Python 3",
   "language": "python",
   "name": "python3"
  },
  "language_info": {
   "codemirror_mode": {
    "name": "ipython",
    "version": 3
   },
   "file_extension": ".py",
   "mimetype": "text/x-python",
   "name": "python",
   "nbconvert_exporter": "python",
   "pygments_lexer": "ipython3",
   "version": "3.7.4"
  }
 },
 "nbformat": 4,
 "nbformat_minor": 5
}
