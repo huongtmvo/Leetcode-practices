{
 "cells": [
  {
   "cell_type": "markdown",
   "id": "21d4d28f",
   "metadata": {},
   "source": [
    "https://leetcode.com/problems/increasing-order-search-tree/"
   ]
  },
  {
   "cell_type": "code",
   "execution_count": null,
   "id": "06c46f52",
   "metadata": {},
   "outputs": [],
   "source": [
    " def increasingBST(self, root, tail = None):\n",
    "        if not root: return tail\n",
    "        res = self.increasingBST(root.left, root)\n",
    "        root.left = None\n",
    "        root.right = self.increasingBST(root.right, tail)\n",
    "        return res"
   ]
  },
  {
   "cell_type": "code",
   "execution_count": 1,
   "id": "6ab87783",
   "metadata": {},
   "outputs": [],
   "source": [
    "# Keep going to the left of the tree by appending the nodes to the stack and once you reach the \n",
    "# leaf, then pop the stack and make the first popped node as root and then for rest of the nodes, \n",
    "# append it to the right of the current root and make the left for each node as None \n",
    "class Solution(object):\n",
    "    def increasingBST(self, root):\n",
    "        \"\"\"\n",
    "        :type root: TreeNode\n",
    "        :rtype: TreeNode\n",
    "        \"\"\"\n",
    "        if not root:\n",
    "            return None\n",
    "        stack = []\n",
    "        temp = x = root\n",
    "        i = 0\n",
    "        while stack or temp:\n",
    "            if temp:\n",
    "                stack.append(temp)\n",
    "                temp = temp.left\n",
    "            else:\n",
    "                node = stack.pop()\n",
    "                if i==0:\n",
    "                    root = x = node\n",
    "                    i+=1\n",
    "                else:\n",
    "                    x.right = node\n",
    "                    x = node\n",
    "                    x.left = None\n",
    "                temp = node.right\n",
    "        return root\t\n",
    "\t\t\n",
    "# If you like the solution, upvote it and do suggest if you have a better solution!!"
   ]
  },
  {
   "cell_type": "code",
   "execution_count": 2,
   "id": "93c3c8ae",
   "metadata": {},
   "outputs": [
    {
     "ename": "NameError",
     "evalue": "name 'TreeNode' is not defined",
     "output_type": "error",
     "traceback": [
      "\u001b[0;31m---------------------------------------------------------------------------\u001b[0m",
      "\u001b[0;31mNameError\u001b[0m                                 Traceback (most recent call last)",
      "\u001b[0;32m<ipython-input-2-bd3e8b227526>\u001b[0m in \u001b[0;36m<module>\u001b[0;34m\u001b[0m\n\u001b[0;32m----> 1\u001b[0;31m \u001b[0;32mdef\u001b[0m \u001b[0mincreasingBST\u001b[0m\u001b[0;34m(\u001b[0m\u001b[0mself\u001b[0m\u001b[0;34m,\u001b[0m \u001b[0mroot\u001b[0m\u001b[0;34m:\u001b[0m \u001b[0mTreeNode\u001b[0m\u001b[0;34m,\u001b[0m \u001b[0mnxt\u001b[0m\u001b[0;34m=\u001b[0m\u001b[0;32mNone\u001b[0m\u001b[0;34m)\u001b[0m \u001b[0;34m->\u001b[0m \u001b[0mTreeNode\u001b[0m\u001b[0;34m:\u001b[0m\u001b[0;34m\u001b[0m\u001b[0;34m\u001b[0m\u001b[0m\n\u001b[0m\u001b[1;32m      2\u001b[0m         \u001b[0;32mif\u001b[0m \u001b[0;32mnot\u001b[0m \u001b[0mroot\u001b[0m\u001b[0;34m:\u001b[0m \u001b[0;32mreturn\u001b[0m \u001b[0mnxt\u001b[0m\u001b[0;34m\u001b[0m\u001b[0;34m\u001b[0m\u001b[0m\n\u001b[1;32m      3\u001b[0m         \u001b[0mres\u001b[0m \u001b[0;34m=\u001b[0m \u001b[0mself\u001b[0m\u001b[0;34m.\u001b[0m\u001b[0mincreasingBST\u001b[0m\u001b[0;34m(\u001b[0m\u001b[0mroot\u001b[0m\u001b[0;34m.\u001b[0m\u001b[0mleft\u001b[0m\u001b[0;34m,\u001b[0m \u001b[0mroot\u001b[0m\u001b[0;34m)\u001b[0m\u001b[0;34m\u001b[0m\u001b[0;34m\u001b[0m\u001b[0m\n\u001b[1;32m      4\u001b[0m         \u001b[0mroot\u001b[0m\u001b[0;34m.\u001b[0m\u001b[0mleft\u001b[0m \u001b[0;34m=\u001b[0m \u001b[0;32mNone\u001b[0m\u001b[0;34m\u001b[0m\u001b[0;34m\u001b[0m\u001b[0m\n\u001b[1;32m      5\u001b[0m         \u001b[0mroot\u001b[0m\u001b[0;34m.\u001b[0m\u001b[0mright\u001b[0m \u001b[0;34m=\u001b[0m \u001b[0mself\u001b[0m\u001b[0;34m.\u001b[0m\u001b[0mincreasingBST\u001b[0m\u001b[0;34m(\u001b[0m\u001b[0mroot\u001b[0m\u001b[0;34m.\u001b[0m\u001b[0mright\u001b[0m\u001b[0;34m,\u001b[0m \u001b[0mnxt\u001b[0m\u001b[0;34m)\u001b[0m\u001b[0;34m\u001b[0m\u001b[0;34m\u001b[0m\u001b[0m\n",
      "\u001b[0;31mNameError\u001b[0m: name 'TreeNode' is not defined"
     ]
    }
   ],
   "source": [
    "def increasingBST(self, root: TreeNode, nxt=None) -> TreeNode:\n",
    "    if not root: return nxt\n",
    "    res = self.increasingBST(root.left, root)\n",
    "    root.left = None\n",
    "    root.right = self.increasingBST(root.right, nxt)\n",
    "    return res"
   ]
  },
  {
   "cell_type": "code",
   "execution_count": null,
   "id": "dc418cf4",
   "metadata": {},
   "outputs": [],
   "source": [
    "# f(1, None)\n",
    "  # res = self.increasingBST(2, 1)  # res = 2->1\n",
    "  # 1.left = None\n",
    "  # 1.right = self.increasingBST(3, None)  # 1.right = 3\n",
    "  # return res  2->1->3\n",
    "\n",
    "# res = self.increasingBST(2, 1)\n",
    "  # res = self.increasingBST(None, 2)  # res = 2\n",
    "  # 2.left = None\n",
    "  # 2.right = 1\n",
    "  # return res   2->1\n",
    "\n",
    "# res = self.increasingBST(None, 2)\n",
    "  # if not None: return 2\n",
    "    \n",
    "    \n",
    "# self.increasingBST(3, None)\n",
    "    # res = self.increasingBST(None, 3) # 3 \n",
    "    # 3.left = None\n",
    "    # 3.right = self.increasingBST(None, None)\n",
    "    # return res "
   ]
  }
 ],
 "metadata": {
  "kernelspec": {
   "display_name": "Python 3",
   "language": "python",
   "name": "python3"
  },
  "language_info": {
   "codemirror_mode": {
    "name": "ipython",
    "version": 3
   },
   "file_extension": ".py",
   "mimetype": "text/x-python",
   "name": "python",
   "nbconvert_exporter": "python",
   "pygments_lexer": "ipython3",
   "version": "3.7.4"
  }
 },
 "nbformat": 4,
 "nbformat_minor": 5
}
