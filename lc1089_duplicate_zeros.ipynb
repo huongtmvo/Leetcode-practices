{
 "cells": [
  {
   "cell_type": "markdown",
   "id": "5140c051",
   "metadata": {},
   "source": [
    "https://leetcode.com/problems/duplicate-zeros/"
   ]
  },
  {
   "cell_type": "code",
   "execution_count": 2,
   "id": "825e1e45",
   "metadata": {},
   "outputs": [],
   "source": [
    "class Solution(object):\n",
    "    def duplicateZeros(self, arr):\n",
    "        org = arr[:] # Copy values to array org\n",
    "        i = j = 0\n",
    "        n = len(arr)\n",
    "        while j < n:\n",
    "            arr[j] = org[i]\n",
    "            j += 1\n",
    "            if org[i] == 0: # Copy twice if it is a 0\n",
    "                if j < n: arr[j] = org[i]\n",
    "                j += 1\n",
    "            i += 1\n",
    "            \n",
    "    def duplicateZeros(self, arr):\n",
    "        n = len(arr)\n",
    "        number_zero = arr.count(0)\n",
    "        newLen = n + number_zero # Length of new array if not trimmed to n (hypothetically)\n",
    "        \n",
    "        # Copy values from end\n",
    "        i = n - 1\n",
    "        j = newLen - 1\n",
    "        while j >= 0:\n",
    "            if j < n: arr[j] = arr[i]\n",
    "            j -= 1\n",
    "            if arr[i] == 0: # Copy twice if arr[i] == 0\n",
    "                if j < n: arr[j] = arr[i]\n",
    "                j -= 1\n",
    "            i -= 1"
   ]
  },
  {
   "cell_type": "code",
   "execution_count": null,
   "id": "d6ec6a1d",
   "metadata": {},
   "outputs": [],
   "source": []
  }
 ],
 "metadata": {
  "kernelspec": {
   "display_name": "Python 3",
   "language": "python",
   "name": "python3"
  },
  "language_info": {
   "codemirror_mode": {
    "name": "ipython",
    "version": 3
   },
   "file_extension": ".py",
   "mimetype": "text/x-python",
   "name": "python",
   "nbconvert_exporter": "python",
   "pygments_lexer": "ipython3",
   "version": "3.7.4"
  }
 },
 "nbformat": 4,
 "nbformat_minor": 5
}
