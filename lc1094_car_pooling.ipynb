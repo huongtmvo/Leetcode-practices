{
 "cells": [
  {
   "cell_type": "markdown",
   "id": "a07c206a",
   "metadata": {},
   "source": [
    "#### 1094. Car Pooling"
   ]
  },
  {
   "cell_type": "markdown",
   "id": "b5f9cc4a",
   "metadata": {},
   "source": [
    "There is a car with capacity empty seats. The vehicle only drives east (i.e., it cannot turn around and drive west).\n",
    "\n",
    "You are given the integer capacity and an array trips where trips[i] = [numPassengersi, fromi, toi] indicates that the ith trip has numPassengersi passengers and the locations to pick them up and drop them off are fromi and toi respectively. The locations are given as the number of kilometers due east from the car's initial location.\n",
    "\n",
    "Return true if it is possible to pick up and drop off all passengers for all the given trips, or false otherwise.\n",
    "\n",
    " \n",
    "\n",
    "Example 1:\n",
    "\n",
    "Input: trips = [[2,1,5],[3,3,7]], capacity = 4\n",
    "Output: false\n",
    "\n",
    "Example 2:\n",
    "\n",
    "Input: trips = [[2,1,5],[3,3,7]], capacity = 5\n",
    "Output: true\n",
    " \n",
    "\n",
    "Constraints:\n",
    "\n",
    "1 <= trips.length <= 1000\n",
    "trips[i].length == 3\n",
    "1 <= numPassengersi <= 100\n",
    "0 <= fromi < toi <= 1000\n",
    "1 <= capacity <= 105"
   ]
  },
  {
   "cell_type": "code",
   "execution_count": 33,
   "id": "eeb0e2e6",
   "metadata": {},
   "outputs": [],
   "source": [
    "from typing import List\n",
    "from heapq import heappush, heappop\n",
    "class Solution:\n",
    "    # Solution1: Use min heap\n",
    "    # Time complexity: O(NlogN)\n",
    "    # SpaceL O(N)\n",
    "    def carPooling(self, trips: List[List[int]], capacity: int) -> bool:\n",
    "        # sort the list of trips according to the start time\n",
    "        trips.sort(key=lambda x:x[1])\n",
    "        curPassengers = 0\n",
    "        heap = []\n",
    "        \n",
    "        for trip in trips:\n",
    "            passengers, start, end = trip\n",
    "            \n",
    "            while heap and heap[0][0] <= start:\n",
    "                curPassengers -= heap[0][1]\n",
    "                heappop(heap)\n",
    "            \n",
    "            curPassengers += passengers\n",
    "            if curPassengers > capacity:\n",
    "                return False\n",
    "            heappush(heap,[end, passengers])\n",
    "        return True\n",
    "    \n",
    "    \n",
    "    # Solution 2: Sort the trips in ascending order of time\n",
    "    # At a single time, update the number of passengers\n",
    "    # Return false if capacity < 0\n",
    "    # Time complexity: O(NlogN)\n",
    "    # Space : O(N)\n",
    "    def carPooling2(self, trips, capacity):\n",
    "        for end, passengers in sorted(x for pas, start, end in trips for x in [[start, pas], [end, - pas]]):\n",
    "            capacity -= passengers\n",
    "            if capacity < 0:\n",
    "                return False\n",
    "        return True"
   ]
  },
  {
   "cell_type": "code",
   "execution_count": 15,
   "id": "07afcc77",
   "metadata": {},
   "outputs": [
    {
     "data": {
      "text/plain": [
       "False"
      ]
     },
     "execution_count": 15,
     "metadata": {},
     "output_type": "execute_result"
    }
   ],
   "source": [
    "trips = [[2,1,5],[3,3,7]]; capacity = 4\n",
    "Solution().carPooling(trips, capacity)"
   ]
  },
  {
   "cell_type": "code",
   "execution_count": 16,
   "id": "9973b17d",
   "metadata": {},
   "outputs": [
    {
     "data": {
      "text/plain": [
       "True"
      ]
     },
     "execution_count": 16,
     "metadata": {},
     "output_type": "execute_result"
    }
   ],
   "source": [
    "trips = [[2,1,5],[3,3,7]]; capacity = 5\n",
    "Solution().carPooling(trips, capacity)"
   ]
  },
  {
   "cell_type": "code",
   "execution_count": 17,
   "id": "c1cb00e0",
   "metadata": {},
   "outputs": [
    {
     "data": {
      "text/plain": [
       "False"
      ]
     },
     "execution_count": 17,
     "metadata": {},
     "output_type": "execute_result"
    }
   ],
   "source": [
    "trips = [[2,1,5],[3,3,7]]; capacity = 4\n",
    "Solution().carPooling2(trips, capacity)"
   ]
  },
  {
   "cell_type": "code",
   "execution_count": 18,
   "id": "8fd6192f",
   "metadata": {},
   "outputs": [
    {
     "data": {
      "text/plain": [
       "True"
      ]
     },
     "execution_count": 18,
     "metadata": {},
     "output_type": "execute_result"
    }
   ],
   "source": [
    "trips = [[2,1,5],[3,3,7]]; capacity = 5\n",
    "Solution().carPooling2(trips, capacity)"
   ]
  },
  {
   "cell_type": "code",
   "execution_count": 21,
   "id": "2f4b047f",
   "metadata": {},
   "outputs": [
    {
     "data": {
      "text/plain": [
       "[[1, 2], [3, 3], [5, -2], [7, -3]]"
      ]
     },
     "execution_count": 21,
     "metadata": {},
     "output_type": "execute_result"
    }
   ],
   "source": [
    "trips = [[2,1,5],[3,3,7]]; capacity = 4\n",
    "sorted(x for passengers, start, end in trips for x in ([start,passengers],[end,-passengers]))"
   ]
  }
 ],
 "metadata": {
  "kernelspec": {
   "display_name": "Python 3",
   "language": "python",
   "name": "python3"
  },
  "language_info": {
   "codemirror_mode": {
    "name": "ipython",
    "version": 3
   },
   "file_extension": ".py",
   "mimetype": "text/x-python",
   "name": "python",
   "nbconvert_exporter": "python",
   "pygments_lexer": "ipython3",
   "version": "3.7.4"
  }
 },
 "nbformat": 4,
 "nbformat_minor": 5
}
