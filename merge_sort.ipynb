{
 "cells": [
  {
   "cell_type": "markdown",
   "id": "693946ad",
   "metadata": {},
   "source": [
    "#### Sort an array"
   ]
  },
  {
   "cell_type": "markdown",
   "id": "b45078ae",
   "metadata": {},
   "source": [
    "Given an array of integers nums, sort the array in ascending order."
   ]
  },
  {
   "cell_type": "markdown",
   "id": "a1be68db",
   "metadata": {},
   "source": [
    "Example 1:\n",
    "Input: nums = [5,2,3,1]\n",
    "Output: [1,2,3,5]"
   ]
  },
  {
   "cell_type": "markdown",
   "id": "380d6374",
   "metadata": {},
   "source": [
    "Example 2:\n",
    "Input: nums = [5,1,1,2,0,0]\n",
    "Output: [0,0,1,1,2,5]"
   ]
  },
  {
   "cell_type": "markdown",
   "id": "ddab1f8a",
   "metadata": {},
   "source": [
    "Constraints:\n",
    "1 <= nums.length <= 5 * 104\n",
    "-5 * 104 <= nums[i] <= 5 * 104"
   ]
  },
  {
   "cell_type": "code",
   "execution_count": 32,
   "id": "2f5248a2",
   "metadata": {},
   "outputs": [],
   "source": [
    "from typing import List\n",
    "class Solution:\n",
    "    def sortArray(self, nums: List[int]) -> List[int]:\n",
    "        if len(nums) <= 1:\n",
    "            return nums\n",
    "        m = len(nums)//2\n",
    "        L = nums[:m]\n",
    "        R = nums[m:]\n",
    "        \n",
    "        Solution().sortArray(L)\n",
    "        Solution().sortArray(R)\n",
    "\n",
    "        i = j = k = 0\n",
    "        while i < len(L) and j < len(R):\n",
    "            if L[i] < R[j]:\n",
    "                nums[k] = L[i]\n",
    "                i += 1\n",
    "            else: \n",
    "                nums[k] = R[j]\n",
    "                j += 1\n",
    "            k += 1\n",
    "        while j < len(R):\n",
    "            nums[k] = R[j]\n",
    "            k += 1\n",
    "            j += 1\n",
    "        while i < len(L):\n",
    "            nums[k] = L[i]\n",
    "            k += 1\n",
    "            i += 1\n",
    "        return nums\n",
    "    "
   ]
  },
  {
   "cell_type": "code",
   "execution_count": 33,
   "id": "112c5818",
   "metadata": {},
   "outputs": [
    {
     "data": {
      "text/plain": [
       "[0, 0, 1, 1, 2, 5]"
      ]
     },
     "execution_count": 33,
     "metadata": {},
     "output_type": "execute_result"
    }
   ],
   "source": [
    "nums = [5,1,1,2,0,0]\n",
    "Solution().sortArray(nums)"
   ]
  },
  {
   "cell_type": "code",
   "execution_count": 34,
   "id": "2a735382",
   "metadata": {},
   "outputs": [
    {
     "data": {
      "text/plain": [
       "[1, 2, 3, 5]"
      ]
     },
     "execution_count": 34,
     "metadata": {},
     "output_type": "execute_result"
    }
   ],
   "source": [
    "nums = [5,2,3,1]\n",
    "Solution().sortArray(nums)"
   ]
  },
  {
   "cell_type": "code",
   "execution_count": null,
   "id": "53060672",
   "metadata": {},
   "outputs": [],
   "source": []
  }
 ],
 "metadata": {
  "kernelspec": {
   "display_name": "Python 3",
   "language": "python",
   "name": "python3"
  },
  "language_info": {
   "codemirror_mode": {
    "name": "ipython",
    "version": 3
   },
   "file_extension": ".py",
   "mimetype": "text/x-python",
   "name": "python",
   "nbconvert_exporter": "python",
   "pygments_lexer": "ipython3",
   "version": "3.7.4"
  }
 },
 "nbformat": 4,
 "nbformat_minor": 5
}
