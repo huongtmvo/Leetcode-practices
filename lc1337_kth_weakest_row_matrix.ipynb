{
 "cells": [
  {
   "cell_type": "markdown",
   "id": "d94aa96f",
   "metadata": {},
   "source": [
    "#### 1337. The K Weakest Rows in a Matrix"
   ]
  },
  {
   "cell_type": "code",
   "execution_count": 50,
   "id": "6a4e17ff",
   "metadata": {},
   "outputs": [],
   "source": [
    "from typing import List\n",
    "class Solution:\n",
    "    def kWeakestRows(self, mat: List[List[int]], k: int) -> List[int]:\n",
    "        counts = []\n",
    "        for r in range(len(mat)):\n",
    "            soldier = 0\n",
    "            for c in range(len(mat[0])):\n",
    "                if mat[r][c] == 1:\n",
    "                    soldier += 1\n",
    "            counts.append((r,soldier))\n",
    "        \n",
    "        counts.sort(key=lambda x: (x[1],x[0]))\n",
    "        return [i for i,_ in counts[:k]]\n",
    "    \n",
    "# Rows = M, columns = N\n",
    "# Time: O(M*N + MlogM)\n",
    "# Space: O(M)\n",
    "\n",
    "    # Same solution, shorter way of writing\n",
    "    def kWeakestRows(self, mat: List[List[int]], k: int) -> List[int]:\n",
    "        return sorted(range(len(mat)), key=lambda x: sum(mat[x]))[:k]\n",
    "    "
   ]
  },
  {
   "cell_type": "code",
   "execution_count": 51,
   "id": "82e3a6ff",
   "metadata": {},
   "outputs": [
    {
     "data": {
      "text/plain": [
       "[2, 0, 3]"
      ]
     },
     "execution_count": 51,
     "metadata": {},
     "output_type": "execute_result"
    }
   ],
   "source": [
    "mat = [[1,1,0,0,0], [1,1,1,1,0],[1,0,0,0,0],[1,1,0,0,0],[1,1,1,1,1]]; k = 3\n",
    "Solution().kWeakestRows(mat,k)"
   ]
  },
  {
   "cell_type": "code",
   "execution_count": 52,
   "id": "9e999d60",
   "metadata": {},
   "outputs": [
    {
     "data": {
      "text/plain": [
       "[0, 2]"
      ]
     },
     "execution_count": 52,
     "metadata": {},
     "output_type": "execute_result"
    }
   ],
   "source": [
    "mat = [[1,0,0,0],[1,1,1,1],[1,0,0,0],[1,0,0,0]]; k = 2\n",
    "Solution().kWeakestRows(mat,2)"
   ]
  }
 ],
 "metadata": {
  "kernelspec": {
   "display_name": "Python 3",
   "language": "python",
   "name": "python3"
  },
  "language_info": {
   "codemirror_mode": {
    "name": "ipython",
    "version": 3
   },
   "file_extension": ".py",
   "mimetype": "text/x-python",
   "name": "python",
   "nbconvert_exporter": "python",
   "pygments_lexer": "ipython3",
   "version": "3.7.4"
  }
 },
 "nbformat": 4,
 "nbformat_minor": 5
}
