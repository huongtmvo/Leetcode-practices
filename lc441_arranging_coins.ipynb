{
 "cells": [
  {
   "cell_type": "markdown",
   "id": "cce2447c",
   "metadata": {},
   "source": [
    "### 441: Arranging Coins"
   ]
  },
  {
   "cell_type": "code",
   "execution_count": 17,
   "id": "003e5b58",
   "metadata": {},
   "outputs": [],
   "source": [
    "class Solution:\n",
    "    def arrangeCoins(self, n: int) -> int:\n",
    "        x = (n*2 + 1/4)**0.5 - 1/2\n",
    "        return int(x)"
   ]
  },
  {
   "cell_type": "code",
   "execution_count": 18,
   "id": "fcd7e6df",
   "metadata": {},
   "outputs": [
    {
     "data": {
      "text/plain": [
       "2"
      ]
     },
     "execution_count": 18,
     "metadata": {},
     "output_type": "execute_result"
    }
   ],
   "source": [
    "n = 5\n",
    "Solution().arrangeCoins(n)"
   ]
  },
  {
   "cell_type": "code",
   "execution_count": 19,
   "id": "5d7b9957",
   "metadata": {},
   "outputs": [
    {
     "data": {
      "text/plain": [
       "3"
      ]
     },
     "execution_count": 19,
     "metadata": {},
     "output_type": "execute_result"
    }
   ],
   "source": [
    "n = 8\n",
    "Solution().arrangeCoins(n)"
   ]
  }
 ],
 "metadata": {
  "kernelspec": {
   "display_name": "Python 3",
   "language": "python",
   "name": "python3"
  },
  "language_info": {
   "codemirror_mode": {
    "name": "ipython",
    "version": 3
   },
   "file_extension": ".py",
   "mimetype": "text/x-python",
   "name": "python",
   "nbconvert_exporter": "python",
   "pygments_lexer": "ipython3",
   "version": "3.7.4"
  }
 },
 "nbformat": 4,
 "nbformat_minor": 5
}
