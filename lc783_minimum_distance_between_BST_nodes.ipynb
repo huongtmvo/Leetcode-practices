{
 "cells": [
  {
   "cell_type": "markdown",
   "id": "8dad97e0",
   "metadata": {},
   "source": [
    "https://leetcode.com/problems/minimum-distance-between-bst-nodes/submissions/"
   ]
  },
  {
   "cell_type": "code",
   "execution_count": null,
   "id": "c5ce27d7",
   "metadata": {},
   "outputs": [],
   "source": [
    "# Definition for a binary tree node.\n",
    "class TreeNode:\n",
    "    def __init__(self, val=0, left=None, right=None):\n",
    "        self.val = val\n",
    "        self.left = left\n",
    "        self.right = right\n",
    "        \n",
    "class Solution:\n",
    "    def minDiffInBST(self, root: Optional[TreeNode]) -> int:\n",
    "        res = []\n",
    "        self.inOrder(root,res)\n",
    "        ans = float('inf')\n",
    "        for i in range(len(res) - 1):\n",
    "            ans = min(ans, res[i+1]-res[i])\n",
    "        return ans\n",
    "        \n",
    "    def inOrder(self, root, res):\n",
    "        if root:\n",
    "            self.inOrder(root.left, res)\n",
    "            res.append(root.val)\n",
    "            self.inOrder(root.right,res)"
   ]
  }
 ],
 "metadata": {
  "kernelspec": {
   "display_name": "Python 3",
   "language": "python",
   "name": "python3"
  },
  "language_info": {
   "codemirror_mode": {
    "name": "ipython",
    "version": 3
   },
   "file_extension": ".py",
   "mimetype": "text/x-python",
   "name": "python",
   "nbconvert_exporter": "python",
   "pygments_lexer": "ipython3",
   "version": "3.7.4"
  }
 },
 "nbformat": 4,
 "nbformat_minor": 5
}
