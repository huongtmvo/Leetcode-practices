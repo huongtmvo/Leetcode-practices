{
 "cells": [
  {
   "cell_type": "markdown",
   "id": "9d215467",
   "metadata": {},
   "source": [
    "#### lc 1100. Find K-Length Substrings With No Repeated Characters"
   ]
  },
  {
   "cell_type": "code",
   "execution_count": 3,
   "id": "01d909ed",
   "metadata": {},
   "outputs": [],
   "source": [
    "from collections import deque\n",
    "class Solution:\n",
    "    def numKLenSubstrNoRepeats(self, s: str, k: int) -> int:\n",
    "        if k > len(s): \n",
    "            return 0\n",
    "        \n",
    "        ans = 0\n",
    "        chars = deque(s[:k])\n",
    "        if len(set(chars)) == k:\n",
    "            ans += 1\n",
    "        \n",
    "        for i in range(k,len(s)):\n",
    "            chars.append(s[i])\n",
    "            chars.popleft()\n",
    "            if len(set(chars)) == k:\n",
    "                ans += 1\n",
    "        return ans\n",
    "# Time: O(N)\n",
    "# Space: O(1)"
   ]
  },
  {
   "cell_type": "code",
   "execution_count": 4,
   "id": "afdcd444",
   "metadata": {},
   "outputs": [
    {
     "data": {
      "text/plain": [
       "6"
      ]
     },
     "execution_count": 4,
     "metadata": {},
     "output_type": "execute_result"
    }
   ],
   "source": [
    "s = \"havefunonleetcode\"; k = 5\n",
    "Solution().numKLenSubstrNoRepeats(s,k)"
   ]
  },
  {
   "cell_type": "code",
   "execution_count": 5,
   "id": "3a203871",
   "metadata": {},
   "outputs": [
    {
     "data": {
      "text/plain": [
       "0"
      ]
     },
     "execution_count": 5,
     "metadata": {},
     "output_type": "execute_result"
    }
   ],
   "source": [
    "s = \"home\"; k = 5\n",
    "Solution().numKLenSubstrNoRepeats(s,k)"
   ]
  }
 ],
 "metadata": {
  "kernelspec": {
   "display_name": "Python 3",
   "language": "python",
   "name": "python3"
  },
  "language_info": {
   "codemirror_mode": {
    "name": "ipython",
    "version": 3
   },
   "file_extension": ".py",
   "mimetype": "text/x-python",
   "name": "python",
   "nbconvert_exporter": "python",
   "pygments_lexer": "ipython3",
   "version": "3.7.4"
  }
 },
 "nbformat": 4,
 "nbformat_minor": 5
}
