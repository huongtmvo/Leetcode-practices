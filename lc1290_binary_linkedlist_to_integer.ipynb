{
 "cells": [
  {
   "cell_type": "markdown",
   "id": "8596f4f5",
   "metadata": {},
   "source": [
    "https://leetcode.com/problems/convert-binary-number-in-a-linked-list-to-integer/"
   ]
  },
  {
   "cell_type": "code",
   "execution_count": 16,
   "id": "3252126e",
   "metadata": {},
   "outputs": [],
   "source": [
    "# Definition for singly-linked list.\n",
    "class ListNode:\n",
    "    def __init__(self, val=0, next=None):\n",
    "        self.val = val\n",
    "        self.next = next\n",
    "class Solution:\n",
    "    def getDecimalValue(self, head: ListNode) -> int:\n",
    "        cur = head\n",
    "        binary = []\n",
    "        while cur:\n",
    "            binary.append(str(cur.val))\n",
    "            cur = cur.next\n",
    "        return int(''.join(binary),2)\n",
    "    \n",
    "    def getDecimalValue(self, head: ListNode) -> int:\n",
    "        cur = head\n",
    "        x = 0\n",
    "        while cur:\n",
    "            x = x * 2\n",
    "            x = x + cur.val\n",
    "            cur = cur.next\n",
    "        return x"
   ]
  },
  {
   "cell_type": "code",
   "execution_count": 14,
   "id": "3c99b4c2",
   "metadata": {},
   "outputs": [
    {
     "data": {
      "text/plain": [
       "5"
      ]
     },
     "execution_count": 14,
     "metadata": {},
     "output_type": "execute_result"
    }
   ],
   "source": [
    "int('101',2)"
   ]
  },
  {
   "cell_type": "code",
   "execution_count": 17,
   "id": "d3abbb68",
   "metadata": {},
   "outputs": [
    {
     "data": {
      "text/plain": [
       "2"
      ]
     },
     "execution_count": 17,
     "metadata": {},
     "output_type": "execute_result"
    }
   ],
   "source": [
    "x = x*2"
   ]
  },
  {
   "cell_type": "code",
   "execution_count": 35,
   "id": "962328df",
   "metadata": {},
   "outputs": [],
   "source": [
    "def dec2bin(x):\n",
    "    b = []\n",
    "    while x:\n",
    "        c = '1' if x%2 else '0'\n",
    "        b.append(c)\n",
    "        x = x // 2\n",
    "    return ''.join(b[::-1])\n",
    "   \n",
    "def bin2dec(b):\n",
    "    n = len(b)\n",
    "    x = 0\n",
    "    for d in b:\n",
    "        x = x * 2\n",
    "        x += int(d)\n",
    "    return x\n",
    "\n",
    "def str2int(s):\n",
    "    n = len(s)\n",
    "    x = 0\n",
    "    for d in s:\n",
    "        x = x * 10\n",
    "        x += int(d)\n",
    "    return x\n",
    "    "
   ]
  },
  {
   "cell_type": "code",
   "execution_count": 23,
   "id": "6f654129",
   "metadata": {},
   "outputs": [
    {
     "data": {
      "text/plain": [
       "'1'"
      ]
     },
     "execution_count": 23,
     "metadata": {},
     "output_type": "execute_result"
    }
   ],
   "source": [
    "dec2bin(1)"
   ]
  },
  {
   "cell_type": "code",
   "execution_count": 31,
   "id": "0efcac92",
   "metadata": {},
   "outputs": [
    {
     "data": {
      "text/plain": [
       "10"
      ]
     },
     "execution_count": 31,
     "metadata": {},
     "output_type": "execute_result"
    }
   ],
   "source": [
    "bin2dec('1010')"
   ]
  },
  {
   "cell_type": "code",
   "execution_count": 37,
   "id": "bff82777",
   "metadata": {},
   "outputs": [
    {
     "data": {
      "text/plain": [
       "1234433"
      ]
     },
     "execution_count": 37,
     "metadata": {},
     "output_type": "execute_result"
    }
   ],
   "source": [
    "str2int(\"1234433\")"
   ]
  },
  {
   "cell_type": "code",
   "execution_count": null,
   "id": "dbeaa5ce",
   "metadata": {},
   "outputs": [],
   "source": []
  }
 ],
 "metadata": {
  "kernelspec": {
   "display_name": "Python 3",
   "language": "python",
   "name": "python3"
  },
  "language_info": {
   "codemirror_mode": {
    "name": "ipython",
    "version": 3
   },
   "file_extension": ".py",
   "mimetype": "text/x-python",
   "name": "python",
   "nbconvert_exporter": "python",
   "pygments_lexer": "ipython3",
   "version": "3.7.4"
  }
 },
 "nbformat": 4,
 "nbformat_minor": 5
}
