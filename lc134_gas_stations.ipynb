{
 "cells": [
  {
   "cell_type": "markdown",
   "id": "41bc4dc5",
   "metadata": {},
   "source": [
    "### 134. Gas Station"
   ]
  },
  {
   "cell_type": "markdown",
   "id": "ffe05cf6",
   "metadata": {},
   "source": [
    "There are n gas stations along a circular route, where the amount of gas at the ith station is gas[i].\n",
    "\n",
    "You have a car with an unlimited gas tank and it costs cost[i] of gas to travel from the ith station to its next (i + 1)th station. You begin the journey with an empty tank at one of the gas stations.\n",
    "\n",
    "Given two integer arrays gas and cost, return the starting gas station's index if you can travel around the circuit once in the clockwise direction, otherwise return -1. If there exists a solution, it is guaranteed to be unique\n",
    "\n",
    "Constraints:\n",
    "\n",
    "n == gas.length == cost.length\n",
    "1 <= n <= 105\n",
    "0 <= gas[i], cost[i] <= 104"
   ]
  },
  {
   "cell_type": "code",
   "execution_count": 61,
   "id": "ce41016e",
   "metadata": {},
   "outputs": [],
   "source": [
    "from typing import List\n",
    "class Solution1:\n",
    "    # Brute force, works but slow\n",
    "    # Time: O(N^2)\n",
    "    # Space: O(1)\n",
    "    def canCompleteCircuit(self, gas: List[int], cost: List[int]) -> int:\n",
    "        for start in range(len(gas)):\n",
    "            if self.helper(start, gas, cost) != -1:\n",
    "                return start\n",
    "        return -1 \n",
    "               \n",
    "    def helper(self, start, gas, cost): \n",
    "        i = start\n",
    "        n = len(gas)\n",
    "        tank = gas[i]\n",
    "        while True:\n",
    "            if tank < cost[i]:\n",
    "                return -1 \n",
    "            tank = tank - cost[i] + gas[(i+1)%n]\n",
    "            i = (i + 1) % n\n",
    "            if i == start: \n",
    "                return start       "
   ]
  },
  {
   "cell_type": "code",
   "execution_count": 72,
   "id": "546128a0",
   "metadata": {},
   "outputs": [],
   "source": [
    "class Solution2:\n",
    "    # If the diff is negative, then reset the start point\n",
    "    # Add up all of the left gas to total. In order to finish the total susrplus must > 0.\n",
    "    # If it's negative finally, return -1 since impossible to finish.\n",
    "    # If it's non-negative, return the start point\n",
    "    # Time: O(N) single pass\n",
    "    # Space: O(1)\n",
    "    \n",
    "    def canCompleteCircuit(self, gas: List[int], cost: List[int]) -> int:\n",
    "        n, total_surplus, surplus, start = len(gas), 0, 0, 0\n",
    "        for i in range(n):\n",
    "            total_surplus += gas[i] - cost[i]\n",
    "            surplus += gas[i] - cost[i]\n",
    "            print(i, surplus, start)\n",
    "            if surplus < 0: \n",
    "                surplus = 0\n",
    "                start = i + 1\n",
    "            \n",
    "        return -1 if (total_surplus < 0) else start"
   ]
  },
  {
   "cell_type": "code",
   "execution_count": 73,
   "id": "22c629c0",
   "metadata": {},
   "outputs": [
    {
     "name": "stdout",
     "output_type": "stream",
     "text": [
      "0 -2 0\n",
      "1 1 1\n",
      "2 -1 1\n",
      "3 3 3\n"
     ]
    },
    {
     "data": {
      "text/plain": [
       "3"
      ]
     },
     "execution_count": 73,
     "metadata": {},
     "output_type": "execute_result"
    }
   ],
   "source": [
    "gas = [1,2,3,4,]; cost = [3,1,5,1]\n",
    "Solution2().canCompleteCircuit(gas, cost)"
   ]
  },
  {
   "cell_type": "code",
   "execution_count": 67,
   "id": "56e1ad32",
   "metadata": {},
   "outputs": [
    {
     "name": "stdout",
     "output_type": "stream",
     "text": [
      "0 -2\n",
      "1 -2\n",
      "2 -2\n",
      "3 3\n",
      "4 6\n"
     ]
    },
    {
     "data": {
      "text/plain": [
       "3"
      ]
     },
     "execution_count": 67,
     "metadata": {},
     "output_type": "execute_result"
    }
   ],
   "source": [
    "gas = [1,2,3,4,5]; cost = [3,4,5,1,2]\n",
    "Solution2().canCompleteCircuit(gas, cost)"
   ]
  },
  {
   "cell_type": "code",
   "execution_count": 68,
   "id": "6b301443",
   "metadata": {},
   "outputs": [
    {
     "name": "stdout",
     "output_type": "stream",
     "text": [
      "0 -2\n",
      "1 -4\n",
      "2 -1\n",
      "3 9\n",
      "4 7\n"
     ]
    },
    {
     "data": {
      "text/plain": [
       "3"
      ]
     },
     "execution_count": 68,
     "metadata": {},
     "output_type": "execute_result"
    }
   ],
   "source": [
    "gas = [1,2,3,13,5]; cost = [3,6,4,4,7]\n",
    "Solution2().canCompleteCircuit(gas, cost)"
   ]
  },
  {
   "cell_type": "code",
   "execution_count": 59,
   "id": "deb4b5a4",
   "metadata": {},
   "outputs": [
    {
     "data": {
      "text/plain": [
       "-1"
      ]
     },
     "execution_count": 59,
     "metadata": {},
     "output_type": "execute_result"
    }
   ],
   "source": [
    "gas = [2,3,4]; cost = [3,4,3]\n",
    "Solution2().canCompleteCircuit(gas, cost)"
   ]
  },
  {
   "cell_type": "code",
   "execution_count": 60,
   "id": "a26a361d",
   "metadata": {},
   "outputs": [
    {
     "data": {
      "text/plain": [
       "0"
      ]
     },
     "execution_count": 60,
     "metadata": {},
     "output_type": "execute_result"
    }
   ],
   "source": [
    "gas = [3,1,1]; cost = [1,2,2]\n",
    "Solution2().canCompleteCircuit(gas, cost)"
   ]
  },
  {
   "cell_type": "code",
   "execution_count": 52,
   "id": "0c21afe8",
   "metadata": {},
   "outputs": [
    {
     "data": {
      "text/plain": [
       "3"
      ]
     },
     "execution_count": 52,
     "metadata": {},
     "output_type": "execute_result"
    }
   ],
   "source": [
    "gas = [1,2,3,4,5]; cost = [3,4,5,1,2]\n",
    "Solution3().canCompleteCircuit(gas, cost)"
   ]
  },
  {
   "cell_type": "code",
   "execution_count": 53,
   "id": "e2f348af",
   "metadata": {},
   "outputs": [
    {
     "data": {
      "text/plain": [
       "-1"
      ]
     },
     "execution_count": 53,
     "metadata": {},
     "output_type": "execute_result"
    }
   ],
   "source": [
    "gas = [2,3,4]; cost = [3,4,3]\n",
    "Solution3().canCompleteCircuit(gas, cost)"
   ]
  },
  {
   "cell_type": "code",
   "execution_count": 54,
   "id": "d47ee7cc",
   "metadata": {},
   "outputs": [
    {
     "data": {
      "text/plain": [
       "0"
      ]
     },
     "execution_count": 54,
     "metadata": {},
     "output_type": "execute_result"
    }
   ],
   "source": [
    "gas = [3,1,1]; cost = [1,2,2]\n",
    "Solution3().canCompleteCircuit(gas, cost)"
   ]
  }
 ],
 "metadata": {
  "kernelspec": {
   "display_name": "Python 3",
   "language": "python",
   "name": "python3"
  },
  "language_info": {
   "codemirror_mode": {
    "name": "ipython",
    "version": 3
   },
   "file_extension": ".py",
   "mimetype": "text/x-python",
   "name": "python",
   "nbconvert_exporter": "python",
   "pygments_lexer": "ipython3",
   "version": "3.7.4"
  }
 },
 "nbformat": 4,
 "nbformat_minor": 5
}
