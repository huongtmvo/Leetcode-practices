{
 "cells": [
  {
   "cell_type": "markdown",
   "id": "dafd471f",
   "metadata": {},
   "source": [
    "### 680. Valid Palindrome II"
   ]
  },
  {
   "cell_type": "code",
   "execution_count": 22,
   "id": "35cc4f49",
   "metadata": {},
   "outputs": [],
   "source": [
    "class Solution:\n",
    "    def checkPalindrome(self, s, l, r):\n",
    "        while l < r:\n",
    "            if s[l] != s[r]:\n",
    "                return False\n",
    "            l -= 1\n",
    "            r += 1\n",
    "        return True\n",
    "            \n",
    "    def validPalindrome(self, s: str) -> bool:\n",
    "        l, r = 0, len(s) - 1\n",
    "        while l < r:\n",
    "            if s[l] != s[r]:\n",
    "                return self.checkPalindrome(s,l+1,r) or self.checkPalindrome(s,l, r-1)\n",
    "            l += 1\n",
    "            r -= 1\n",
    "        return True\n",
    "\n",
    "# Complexity analysis:\n",
    "# Time complexity: O(N)\n",
    "# Space: O(1)\n",
    "\n",
    "    def validPalindrome2(self, s):\n",
    "        l, r = 0, len(s) - 1\n",
    "        while l < r:\n",
    "            if s[l] != s[r]: \n",
    "                one, two = s[l+1:r+1], s[l:r]\n",
    "                return one == one[::-1] or two ==  two[::-1]\n",
    "            l += 1\n",
    "            r -= 1\n",
    "        return True\n",
    "# Time; O(N)\n",
    "# Space: O(N)"
   ]
  },
  {
   "cell_type": "code",
   "execution_count": 23,
   "id": "58d7a484",
   "metadata": {},
   "outputs": [
    {
     "data": {
      "text/plain": [
       "True"
      ]
     },
     "execution_count": 23,
     "metadata": {},
     "output_type": "execute_result"
    }
   ],
   "source": [
    "s = \"deeee\"\n",
    "Solution().validPalindrome2(s)"
   ]
  },
  {
   "cell_type": "code",
   "execution_count": 19,
   "id": "4ac69644",
   "metadata": {},
   "outputs": [
    {
     "data": {
      "text/plain": [
       "True"
      ]
     },
     "execution_count": 19,
     "metadata": {},
     "output_type": "execute_result"
    }
   ],
   "source": [
    "s = \"aba\" \n",
    "Solution().validPalindrome5(s)"
   ]
  },
  {
   "cell_type": "code",
   "execution_count": 6,
   "id": "7b1d742b",
   "metadata": {},
   "outputs": [
    {
     "data": {
      "text/plain": [
       "True"
      ]
     },
     "execution_count": 6,
     "metadata": {},
     "output_type": "execute_result"
    }
   ],
   "source": [
    "s = \"abca\" \n",
    "Solution().validPalindrome(s)"
   ]
  },
  {
   "cell_type": "code",
   "execution_count": 7,
   "id": "10da9839",
   "metadata": {},
   "outputs": [
    {
     "data": {
      "text/plain": [
       "False"
      ]
     },
     "execution_count": 7,
     "metadata": {},
     "output_type": "execute_result"
    }
   ],
   "source": [
    "s = \"abc\"\n",
    "Solution().validPalindrome(s)"
   ]
  }
 ],
 "metadata": {
  "kernelspec": {
   "display_name": "Python 3",
   "language": "python",
   "name": "python3"
  },
  "language_info": {
   "codemirror_mode": {
    "name": "ipython",
    "version": 3
   },
   "file_extension": ".py",
   "mimetype": "text/x-python",
   "name": "python",
   "nbconvert_exporter": "python",
   "pygments_lexer": "ipython3",
   "version": "3.7.4"
  }
 },
 "nbformat": 4,
 "nbformat_minor": 5
}
