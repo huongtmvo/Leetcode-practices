{
 "cells": [
  {
   "cell_type": "markdown",
   "id": "e5f12876",
   "metadata": {},
   "source": [
    "#### 1464. Maximum Product of Two Elements in an Array"
   ]
  },
  {
   "cell_type": "code",
   "execution_count": 31,
   "id": "f2a6bc5f",
   "metadata": {},
   "outputs": [],
   "source": [
    "from typing import List\n",
    "from heapq import heapify, heappop, heappush\n",
    "class Solution:\n",
    "    def maxProduct2(self, nums: List[int]) -> int:\n",
    "        nums.sort()\n",
    "        return max((nums[0]-1)*(nums[1]-1),(nums[-1]-1)*(nums[-2]-1))\n",
    "    \n",
    "    # Time: O(NlogN)\n",
    "    # Space: O(1)\n",
    "    \n",
    "    def maxProduct(self, nums: List[int]) -> int:\n",
    "        heapify(nums) \n",
    "        min1, min2 = heappop(nums), heappop(nums)\n",
    "        sum1 = (min1-1)*(min2-1)\n",
    "        \n",
    "        max1, max2 = min1, min2\n",
    "        if len(nums) == 1:\n",
    "            max1, max2 = min2, heappop(nums)\n",
    "        if len(nums) >= 2: \n",
    "            while len(nums) > 2:\n",
    "                heappop(nums)\n",
    "            max1, max2 = heappop(nums), heappop(nums)\n",
    "        sum2 = (max1-1)*(max2-1)\n",
    "        \n",
    "        return max(sum1,sum2)\n",
    "    \n",
    "    # Time: NlogN (heapify nums: O(N), heappop N times is Nlog(N))\n",
    "    # Space: O(1)   "
   ]
  },
  {
   "cell_type": "code",
   "execution_count": 32,
   "id": "19c5b820",
   "metadata": {},
   "outputs": [
    {
     "data": {
      "text/plain": [
       "12"
      ]
     },
     "execution_count": 32,
     "metadata": {},
     "output_type": "execute_result"
    }
   ],
   "source": [
    "nums = [3,4,5,2] \n",
    "Solution().maxProduct2(nums)"
   ]
  },
  {
   "cell_type": "code",
   "execution_count": 33,
   "id": "b1e32746",
   "metadata": {},
   "outputs": [
    {
     "data": {
      "text/plain": [
       "16"
      ]
     },
     "execution_count": 33,
     "metadata": {},
     "output_type": "execute_result"
    }
   ],
   "source": [
    "nums = [1,5,4,5]\n",
    "Solution().maxProduct2(nums)"
   ]
  },
  {
   "cell_type": "code",
   "execution_count": 34,
   "id": "de9c51cd",
   "metadata": {},
   "outputs": [
    {
     "data": {
      "text/plain": [
       "12"
      ]
     },
     "execution_count": 34,
     "metadata": {},
     "output_type": "execute_result"
    }
   ],
   "source": [
    "nums = [3,7]\n",
    "Solution().maxProduct2(nums)"
   ]
  },
  {
   "cell_type": "code",
   "execution_count": 35,
   "id": "7a55f6aa",
   "metadata": {},
   "outputs": [
    {
     "data": {
      "text/plain": [
       "21"
      ]
     },
     "execution_count": 35,
     "metadata": {},
     "output_type": "execute_result"
    }
   ],
   "source": [
    "nums = [3,4,8]\n",
    "Solution().maxProduct2(nums)"
   ]
  },
  {
   "cell_type": "code",
   "execution_count": null,
   "id": "6c1cf872",
   "metadata": {},
   "outputs": [],
   "source": []
  }
 ],
 "metadata": {
  "kernelspec": {
   "display_name": "Python 3",
   "language": "python",
   "name": "python3"
  },
  "language_info": {
   "codemirror_mode": {
    "name": "ipython",
    "version": 3
   },
   "file_extension": ".py",
   "mimetype": "text/x-python",
   "name": "python",
   "nbconvert_exporter": "python",
   "pygments_lexer": "ipython3",
   "version": "3.7.4"
  }
 },
 "nbformat": 4,
 "nbformat_minor": 5
}
