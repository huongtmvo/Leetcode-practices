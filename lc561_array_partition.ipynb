{
 "cells": [
  {
   "cell_type": "markdown",
   "id": "b400c786",
   "metadata": {},
   "source": [
    "### 561. Array Partition"
   ]
  },
  {
   "cell_type": "code",
   "execution_count": 8,
   "id": "ccaa7ce5",
   "metadata": {},
   "outputs": [],
   "source": [
    "from typing import List\n",
    "class Solution:\n",
    "    def arrayPairSum(self, nums: List[int]) -> int:\n",
    "        nums.sort()\n",
    "        ans = 0\n",
    "        i = 0\n",
    "        while i < len(nums):\n",
    "            pair = (nums[i], nums[i+1])\n",
    "            ans += min(pair)\n",
    "            i += 2\n",
    "        return ans\n",
    "# Time: O(NlogN)\n",
    "# Space: O(N)"
   ]
  },
  {
   "cell_type": "code",
   "execution_count": 9,
   "id": "c91d5bc3",
   "metadata": {},
   "outputs": [
    {
     "data": {
      "text/plain": [
       "9"
      ]
     },
     "execution_count": 9,
     "metadata": {},
     "output_type": "execute_result"
    }
   ],
   "source": [
    "nums = [6,2,6,5,1,2]\n",
    "Solution().arrayPairSum(nums)"
   ]
  },
  {
   "cell_type": "code",
   "execution_count": 10,
   "id": "6fb9458d",
   "metadata": {},
   "outputs": [
    {
     "data": {
      "text/plain": [
       "4"
      ]
     },
     "execution_count": 10,
     "metadata": {},
     "output_type": "execute_result"
    }
   ],
   "source": [
    "nums = [1,4,3,2]\n",
    "Solution().arrayPairSum(nums)"
   ]
  }
 ],
 "metadata": {
  "kernelspec": {
   "display_name": "Python 3",
   "language": "python",
   "name": "python3"
  },
  "language_info": {
   "codemirror_mode": {
    "name": "ipython",
    "version": 3
   },
   "file_extension": ".py",
   "mimetype": "text/x-python",
   "name": "python",
   "nbconvert_exporter": "python",
   "pygments_lexer": "ipython3",
   "version": "3.7.4"
  }
 },
 "nbformat": 4,
 "nbformat_minor": 5
}
