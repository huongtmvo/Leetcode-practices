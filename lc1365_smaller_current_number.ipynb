{
 "cells": [
  {
   "cell_type": "markdown",
   "id": "3121c3d5",
   "metadata": {},
   "source": [
    "1365. How Many Numbers Are Smaller Than the Current Number"
   ]
  },
  {
   "cell_type": "code",
   "execution_count": 38,
   "id": "bff62a29",
   "metadata": {},
   "outputs": [],
   "source": [
    "from collections import Counter, defaultdict\n",
    "from typing import List\n",
    "class Solution:\n",
    "    def smallerNumbersThanCurrent(self, nums: List[int]) -> List[int]:\n",
    "        dic = Counter(nums)\n",
    "        lookup = dict(sorted(dic.items(),key=lambda x:x[0]))\n",
    "        \n",
    "        prev = 0\n",
    "        cur = 0\n",
    "        for k, v in lookup.items():\n",
    "            cur = v\n",
    "            lookup[k] = prev\n",
    "            prev += cur\n",
    "            \n",
    "        return [lookup[num] for num in nums]\n",
    "    \n",
    "# Time complexity: counter:n, sorted: nlog(n) -> nlog(n)\n",
    "# Space: dic: n, lookup :n -> n"
   ]
  },
  {
   "cell_type": "code",
   "execution_count": 39,
   "id": "cd8f6e0d",
   "metadata": {},
   "outputs": [
    {
     "data": {
      "text/plain": [
       "[2, 1, 0, 3]"
      ]
     },
     "execution_count": 39,
     "metadata": {},
     "output_type": "execute_result"
    }
   ],
   "source": [
    "nums = [6,5,4,8]\n",
    "Solution().smallerNumbersThanCurrent(nums)"
   ]
  },
  {
   "cell_type": "code",
   "execution_count": 40,
   "id": "159da098",
   "metadata": {},
   "outputs": [
    {
     "data": {
      "text/plain": [
       "[4, 0, 1, 1, 3]"
      ]
     },
     "execution_count": 40,
     "metadata": {},
     "output_type": "execute_result"
    }
   ],
   "source": [
    "nums = [8,1,2,2,3]\n",
    "Solution().smallerNumbersThanCurrent(nums)"
   ]
  },
  {
   "cell_type": "code",
   "execution_count": 42,
   "id": "4d973397",
   "metadata": {},
   "outputs": [
    {
     "data": {
      "text/plain": [
       "[0, 0, 0, 0]"
      ]
     },
     "execution_count": 42,
     "metadata": {},
     "output_type": "execute_result"
    }
   ],
   "source": [
    "nums = [7,7,7,7] \n",
    "Solution().smallerNumbersThanCurrent(nums)"
   ]
  },
  {
   "cell_type": "code",
   "execution_count": null,
   "id": "0db930da",
   "metadata": {},
   "outputs": [],
   "source": []
  }
 ],
 "metadata": {
  "kernelspec": {
   "display_name": "Python 3",
   "language": "python",
   "name": "python3"
  },
  "language_info": {
   "codemirror_mode": {
    "name": "ipython",
    "version": 3
   },
   "file_extension": ".py",
   "mimetype": "text/x-python",
   "name": "python",
   "nbconvert_exporter": "python",
   "pygments_lexer": "ipython3",
   "version": "3.7.4"
  }
 },
 "nbformat": 4,
 "nbformat_minor": 5
}
