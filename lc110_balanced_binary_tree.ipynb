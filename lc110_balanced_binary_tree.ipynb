{
 "cells": [
  {
   "cell_type": "markdown",
   "id": "36c97cbe",
   "metadata": {},
   "source": [
    "https://leetcode.com/problems/balanced-binary-tree/"
   ]
  },
  {
   "cell_type": "code",
   "execution_count": 1,
   "id": "db64dd28",
   "metadata": {},
   "outputs": [],
   "source": [
    "class TreeNode:\n",
    "    def __init__(self, val=0, left=None, right=None):\n",
    "        self.val = val\n",
    "        self.left = left\n",
    "        self.right = right"
   ]
  },
  {
   "cell_type": "code",
   "execution_count": null,
   "id": "97818868",
   "metadata": {},
   "outputs": [],
   "source": [
    "class Solution:\n",
    "    def getHeight(self, root): # count number of nodes \n",
    "        if not root: return 0\n",
    "        return 1 + max(self.getHeight(root.left), self.getHeight(root.right))\n",
    "        \n",
    "    def isBalanced(self, root):\n",
    "        if not root: return True\n",
    "        return abs(self.getHeight(root.left) - self.getHeight(root.right)) <= 1 and self.isBalanced(root.left) and self.isBalanced(root.right)\n",
    "        "
   ]
  }
 ],
 "metadata": {
  "kernelspec": {
   "display_name": "Python 3",
   "language": "python",
   "name": "python3"
  },
  "language_info": {
   "codemirror_mode": {
    "name": "ipython",
    "version": 3
   },
   "file_extension": ".py",
   "mimetype": "text/x-python",
   "name": "python",
   "nbconvert_exporter": "python",
   "pygments_lexer": "ipython3",
   "version": "3.7.4"
  }
 },
 "nbformat": 4,
 "nbformat_minor": 5
}
