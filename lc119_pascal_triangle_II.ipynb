{
 "cells": [
  {
   "cell_type": "markdown",
   "id": "fdfb4707",
   "metadata": {},
   "source": [
    "119. Pascal's Triangle II"
   ]
  },
  {
   "cell_type": "code",
   "execution_count": 10,
   "id": "7bc4cdcb",
   "metadata": {},
   "outputs": [],
   "source": [
    "from typing import List\n",
    "class Solution:\n",
    "    def getRow(self, rowIndex: int) -> List[int]:\n",
    "        rows = [[1]]\n",
    "        for r in range(1, rowIndex + 1):\n",
    "            rows.append([1]*(r + 1))\n",
    "            for c in range(1,r):\n",
    "                rows[r][c] = rows[r-1][c-1] + rows[r-1][c]\n",
    "        return rows[rowIndex]\n",
    "# Time: O(N^2)\n",
    "# Space O(N^2)"
   ]
  },
  {
   "cell_type": "code",
   "execution_count": 11,
   "id": "f82d7b62",
   "metadata": {},
   "outputs": [
    {
     "data": {
      "text/plain": [
       "[1, 3, 3, 1]"
      ]
     },
     "execution_count": 11,
     "metadata": {},
     "output_type": "execute_result"
    }
   ],
   "source": [
    "rowIndex = 3\n",
    "Solution().getRow(rowIndex)"
   ]
  },
  {
   "cell_type": "code",
   "execution_count": 12,
   "id": "5d69c75c",
   "metadata": {},
   "outputs": [
    {
     "data": {
      "text/plain": [
       "[1]"
      ]
     },
     "execution_count": 12,
     "metadata": {},
     "output_type": "execute_result"
    }
   ],
   "source": [
    "rowIndex = 0\n",
    "Solution().getRow(rowIndex)"
   ]
  },
  {
   "cell_type": "code",
   "execution_count": 13,
   "id": "391eb931",
   "metadata": {},
   "outputs": [
    {
     "data": {
      "text/plain": [
       "[1, 1]"
      ]
     },
     "execution_count": 13,
     "metadata": {},
     "output_type": "execute_result"
    }
   ],
   "source": [
    "rowIndex = 1\n",
    "Solution().getRow(rowIndex)"
   ]
  },
  {
   "cell_type": "code",
   "execution_count": null,
   "id": "3eb24ab4",
   "metadata": {},
   "outputs": [],
   "source": []
  }
 ],
 "metadata": {
  "kernelspec": {
   "display_name": "Python 3",
   "language": "python",
   "name": "python3"
  },
  "language_info": {
   "codemirror_mode": {
    "name": "ipython",
    "version": 3
   },
   "file_extension": ".py",
   "mimetype": "text/x-python",
   "name": "python",
   "nbconvert_exporter": "python",
   "pygments_lexer": "ipython3",
   "version": "3.7.4"
  }
 },
 "nbformat": 4,
 "nbformat_minor": 5
}
