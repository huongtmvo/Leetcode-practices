{
 "cells": [
  {
   "cell_type": "markdown",
   "id": "c90b55d2",
   "metadata": {},
   "source": [
    "#### 1086. High Five"
   ]
  },
  {
   "cell_type": "code",
   "execution_count": 21,
   "id": "5a62e89a",
   "metadata": {},
   "outputs": [],
   "source": [
    "from typing import List\n",
    "from collections import defaultdict\n",
    "class Solution:\n",
    "    def highFive(self, items: List[List[int]]) -> List[List[int]]:\n",
    "        ans = []\n",
    "        dic = defaultdict(list)\n",
    "        for i, score in items:\n",
    "            dic[i].append(score)\n",
    "        \n",
    "        for k, v in dic.items():\n",
    "            avg = sum(sorted(v,reverse=True)[:5])//5\n",
    "            ans.append([k,avg])\n",
    "        return sorted(ans, key=lambda x: x[0])\n",
    "\n",
    "# Time: O(NlogN)\n",
    "# Space: O(N)"
   ]
  },
  {
   "cell_type": "code",
   "execution_count": 22,
   "id": "2896f0bd",
   "metadata": {},
   "outputs": [
    {
     "data": {
      "text/plain": [
       "[[1, 87], [2, 88]]"
      ]
     },
     "execution_count": 22,
     "metadata": {},
     "output_type": "execute_result"
    }
   ],
   "source": [
    "items = [[1,91],[1,92],[2,93],[2,97],[1,60],[2,77],[1,65],[1,87],[1,100],[2,100],[2,76]]\n",
    "Solution().highFive(items)"
   ]
  },
  {
   "cell_type": "code",
   "execution_count": 23,
   "id": "991d9b01",
   "metadata": {},
   "outputs": [
    {
     "data": {
      "text/plain": [
       "[[1, 100], [7, 100]]"
      ]
     },
     "execution_count": 23,
     "metadata": {},
     "output_type": "execute_result"
    }
   ],
   "source": [
    "items = [[1,100],[7,100],[1,100],[7,100],[1,100],[7,100],[1,100],[7,100],[1,100],[7,100]]\n",
    "Solution().highFive(items)"
   ]
  },
  {
   "cell_type": "code",
   "execution_count": 24,
   "id": "f0633c8b",
   "metadata": {},
   "outputs": [
    {
     "data": {
      "text/plain": [
       "[[3, 88], [5, 87]]"
      ]
     },
     "execution_count": 24,
     "metadata": {},
     "output_type": "execute_result"
    }
   ],
   "source": [
    "items =[[5,91],[5,92],[3,93],[3,97],[5,60],[3,77],[5,65],[5,87],[5,100],[3,100],[3,76]]\n",
    "Solution().highFive(items)"
   ]
  },
  {
   "cell_type": "code",
   "execution_count": null,
   "id": "49e28b8f",
   "metadata": {},
   "outputs": [],
   "source": []
  }
 ],
 "metadata": {
  "kernelspec": {
   "display_name": "Python 3",
   "language": "python",
   "name": "python3"
  },
  "language_info": {
   "codemirror_mode": {
    "name": "ipython",
    "version": 3
   },
   "file_extension": ".py",
   "mimetype": "text/x-python",
   "name": "python",
   "nbconvert_exporter": "python",
   "pygments_lexer": "ipython3",
   "version": "3.7.4"
  }
 },
 "nbformat": 4,
 "nbformat_minor": 5
}
