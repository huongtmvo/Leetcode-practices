{
 "cells": [
  {
   "cell_type": "markdown",
   "id": "a6bd15ed",
   "metadata": {},
   "source": [
    "https://leetcode.com/problems/coin-change/"
   ]
  },
  {
   "cell_type": "code",
   "execution_count": 76,
   "id": "00a186b1",
   "metadata": {},
   "outputs": [],
   "source": [
    "from typing import List\n",
    "class Solution:\n",
    "    def coinChange(self, coins: List[int], amount: int) -> int:\n",
    "        n = len(coins)\n",
    "        opt = [0] + [float('inf')] * amount\n",
    "        for a in range(1, amount + 1):\n",
    "            for c in coins:\n",
    "                if a >= c:\n",
    "                    opt[a] = min(opt[a], opt[a - c] + 1)\n",
    "        if opt[amount] == float('inf'):\n",
    "            return -1\n",
    "        else:\n",
    "            return opt[amount]\n"
   ]
  },
  {
   "cell_type": "code",
   "execution_count": 77,
   "id": "c7b7cb8b",
   "metadata": {},
   "outputs": [
    {
     "data": {
      "text/plain": [
       "3"
      ]
     },
     "execution_count": 77,
     "metadata": {},
     "output_type": "execute_result"
    }
   ],
   "source": [
    "coins = [1,2,5]\n",
    "amount = 11\n",
    "Solution().coinChange(coins,amount)"
   ]
  },
  {
   "cell_type": "code",
   "execution_count": 78,
   "id": "4d2f4273",
   "metadata": {},
   "outputs": [
    {
     "data": {
      "text/plain": [
       "-1"
      ]
     },
     "execution_count": 78,
     "metadata": {},
     "output_type": "execute_result"
    }
   ],
   "source": [
    "coins = [2]; amount = 3\n",
    "Solution().coinChange(coins,amount)\n"
   ]
  },
  {
   "cell_type": "code",
   "execution_count": 79,
   "id": "b0c7917d",
   "metadata": {},
   "outputs": [
    {
     "data": {
      "text/plain": [
       "0"
      ]
     },
     "execution_count": 79,
     "metadata": {},
     "output_type": "execute_result"
    }
   ],
   "source": [
    "coins = [1]; amount = 0\n",
    "Solution().coinChange(coins,amount)"
   ]
  },
  {
   "cell_type": "code",
   "execution_count": null,
   "id": "f1d32bba",
   "metadata": {},
   "outputs": [],
   "source": [
    "# Another solution with neater codes:\n",
    "class Solution:\n",
    "    def coinChange(self, coins: List[int], amount: int) -> int:\n",
    "        MAX = float('inf')\n",
    "        dp = [0] + [MAX] * amount\n",
    "\n",
    "        for i in range(1, amount + 1):\n",
    "            dp[i] = min([dp[i - c] if i - c >= 0 else MAX for c in coins]) + 1\n",
    "\n",
    "        return [dp[amount], -1][dp[amount] == MAX]\n",
    "    "
   ]
  },
  {
   "cell_type": "code",
   "execution_count": 51,
   "id": "4457f03b",
   "metadata": {},
   "outputs": [
    {
     "data": {
      "text/plain": [
       "3"
      ]
     },
     "execution_count": 51,
     "metadata": {},
     "output_type": "execute_result"
    }
   ],
   "source": [
    "coins = [1,2,5]\n",
    "amount = 11\n",
    "Solution().coinChange(coins,amount)"
   ]
  },
  {
   "cell_type": "code",
   "execution_count": null,
   "id": "f84e1657",
   "metadata": {},
   "outputs": [],
   "source": []
  }
 ],
 "metadata": {
  "kernelspec": {
   "display_name": "Python 3",
   "language": "python",
   "name": "python3"
  },
  "language_info": {
   "codemirror_mode": {
    "name": "ipython",
    "version": 3
   },
   "file_extension": ".py",
   "mimetype": "text/x-python",
   "name": "python",
   "nbconvert_exporter": "python",
   "pygments_lexer": "ipython3",
   "version": "3.7.4"
  }
 },
 "nbformat": 4,
 "nbformat_minor": 5
}
