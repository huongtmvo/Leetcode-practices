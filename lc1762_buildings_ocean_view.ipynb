{
 "cells": [
  {
   "cell_type": "markdown",
   "id": "e16c3dd4",
   "metadata": {},
   "source": [
    " ### 1762. Buildings With an Ocean View"
   ]
  },
  {
   "cell_type": "code",
   "execution_count": 24,
   "id": "894701d6",
   "metadata": {},
   "outputs": [],
   "source": [
    "from typing import List\n",
    "class Solution:\n",
    "    # Solution 1: Brute force, works but slow\n",
    "    # Time complexity: O(N^2)\n",
    "    # Space: O(N)\n",
    "    def findBuildings1(self, heights: List[int]) -> List[int]:\n",
    "        ans = []\n",
    "        for i in range(len(heights)-1):\n",
    "            for j in range(i+1, len(heights)):\n",
    "                if heights[i] <= heights[j]:\n",
    "                    break\n",
    "            else:\n",
    "                ans.append(i)\n",
    "        ans.append(len(heights)-1)\n",
    "        return ans\n",
    "                \n",
    "        \n",
    "    # Solution 2: use stack\n",
    "    # Time; O(N)\n",
    "    # Space: O(N)\n",
    "    def findBuildings(self, heights: List[int]) -> List[int]:\n",
    "        stack = []\n",
    "        for i, height in enumerate(heights):\n",
    "            while stack and heights[stack[-1]] <= height:\n",
    "                stack.pop()\n",
    "            stack.append(i)\n",
    "        return stack             "
   ]
  },
  {
   "cell_type": "code",
   "execution_count": 25,
   "id": "fe68eb6f",
   "metadata": {},
   "outputs": [
    {
     "data": {
      "text/plain": [
       "[0, 2, 3]"
      ]
     },
     "execution_count": 25,
     "metadata": {},
     "output_type": "execute_result"
    }
   ],
   "source": [
    "heights = [4,2,3,1]\n",
    "Solution().findBuildings(heights)"
   ]
  },
  {
   "cell_type": "code",
   "execution_count": 26,
   "id": "e4e95e77",
   "metadata": {},
   "outputs": [
    {
     "data": {
      "text/plain": [
       "[0, 1, 2, 3]"
      ]
     },
     "execution_count": 26,
     "metadata": {},
     "output_type": "execute_result"
    }
   ],
   "source": [
    "heights = [4,3,2,1]\n",
    "Solution().findBuildings(heights)"
   ]
  },
  {
   "cell_type": "code",
   "execution_count": 27,
   "id": "6e4f322e",
   "metadata": {},
   "outputs": [
    {
     "data": {
      "text/plain": [
       "[3]"
      ]
     },
     "execution_count": 27,
     "metadata": {},
     "output_type": "execute_result"
    }
   ],
   "source": [
    "heights = [1,3,2,4]\n",
    "Solution().findBuildings(heights)"
   ]
  }
 ],
 "metadata": {
  "kernelspec": {
   "display_name": "Python 3",
   "language": "python",
   "name": "python3"
  },
  "language_info": {
   "codemirror_mode": {
    "name": "ipython",
    "version": 3
   },
   "file_extension": ".py",
   "mimetype": "text/x-python",
   "name": "python",
   "nbconvert_exporter": "python",
   "pygments_lexer": "ipython3",
   "version": "3.7.4"
  }
 },
 "nbformat": 4,
 "nbformat_minor": 5
}
