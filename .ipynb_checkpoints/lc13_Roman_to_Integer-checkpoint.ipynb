{
 "cells": [
  {
   "cell_type": "markdown",
   "id": "b6aa4c4a",
   "metadata": {},
   "source": [
    "https://leetcode.com/problems/roman-to-integer/"
   ]
  },
  {
   "cell_type": "code",
   "execution_count": null,
   "id": "3574c0a9",
   "metadata": {},
   "outputs": [],
   "source": [
    "class Solution:\n",
    "    def romanToInt(self, s: str) -> int:\n",
    "        dic = {'I':1, 'V':5, 'X':10,'L':50,'C':100,'D':500,'M':1000, 'IV':4, 'IX':9, 'XL':40, 'XC':90, 'CD':400, 'CM':900}\n",
    "        res = i  = 0 \n",
    "        \n",
    "        while i < len(s):\n",
    "            if s[i] in {'I', 'X', 'C'}:\n",
    "                if s[i:i+2] in dic:\n",
    "                    res += dic[s[i:i+2]]\n",
    "                    i += 2\n",
    "                else:\n",
    "                    res += dic[s[i]]\n",
    "                    i += 1\n",
    "            else:\n",
    "                res += dic[s[i]]\n",
    "                i += 1\n",
    "                \n",
    "        return res\n",
    "    \n",
    "    def romanToInt(self, s):\n",
    "        roman = {'M': 1000,'D': 500 ,'C': 100,'L': 50,'X': 10,'V': 5,'I': 1}\n",
    "        z = 0\n",
    "        for i in range(0, len(s) - 1):\n",
    "            if roman[s[i]] < roman[s[i+1]]:\n",
    "                z -= roman[s[i]]\n",
    "            else:\n",
    "                z += roman[s[i]]\n",
    "        return z + roman[s[-1]]\n"
   ]
  },
  {
   "cell_type": "code",
   "execution_count": null,
   "id": "a83971e4",
   "metadata": {},
   "outputs": [],
   "source": [
    "class Solution:\n",
    "    def romanToInt(self, s: str) -> int:\n",
    "        translations = {\n",
    "            \"I\": 1,\n",
    "            \"V\": 5,\n",
    "            \"X\": 10,\n",
    "            \"L\": 50,\n",
    "            \"C\": 100,\n",
    "            \"D\": 500,\n",
    "            \"M\": 1000\n",
    "        }\n",
    "        number = 0\n",
    "        s = s.replace(\"IV\", \"IIII\").replace(\"IX\", \"VIIII\")\n",
    "        s = s.replace(\"XL\", \"XXXX\").replace(\"XC\", \"LXXXX\")\n",
    "        s = s.replace(\"CD\", \"CCCC\").replace(\"CM\", \"DCCCC\")\n",
    "        for char in s:\n",
    "            number += translations[char]\n",
    "        return number"
   ]
  },
  {
   "cell_type": "code",
   "execution_count": null,
   "id": "a080ab83",
   "metadata": {},
   "outputs": [],
   "source": []
  }
 ],
 "metadata": {
  "kernelspec": {
   "display_name": "Python 3",
   "language": "python",
   "name": "python3"
  },
  "language_info": {
   "codemirror_mode": {
    "name": "ipython",
    "version": 3
   },
   "file_extension": ".py",
   "mimetype": "text/x-python",
   "name": "python",
   "nbconvert_exporter": "python",
   "pygments_lexer": "ipython3",
   "version": "3.7.4"
  }
 },
 "nbformat": 4,
 "nbformat_minor": 5
}
