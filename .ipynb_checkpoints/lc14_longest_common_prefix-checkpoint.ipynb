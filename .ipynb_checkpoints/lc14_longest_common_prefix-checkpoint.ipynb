{
 "cells": [
  {
   "cell_type": "markdown",
   "id": "44681f2b",
   "metadata": {},
   "source": [
    "https://leetcode.com/problems/longest-common-prefix/"
   ]
  },
  {
   "cell_type": "code",
   "execution_count": 7,
   "id": "98c03bfc",
   "metadata": {},
   "outputs": [],
   "source": [
    "from typing import List\n",
    "class Solution:\n",
    "    def longestCommonPrefix2(self, strs: List[str]) -> str:\n",
    "        res = ''\n",
    "        strs.sort(key = lambda x: len(x))\n",
    "        for j in range(len(strs[0])):\n",
    "            for i in range(1, len(strs)):\n",
    "                if strs[0][j] != strs[i][j]:\n",
    "                    return res\n",
    "            res += strs[0][j]\n",
    "        return res   \n",
    "    \n",
    "    \n",
    "     def longestCommonPrefix(self, m):\n",
    "        # Faster solution, use min, max to sort the string in alphabetic order\n",
    "        if not m: return ''\n",
    "        s1 = min(m)\n",
    "        s2 = max(m)\n",
    "        \n",
    "        for i, c in enumerate(s1):\n",
    "            if c != s2[i]:\n",
    "                return s1[:i] \n",
    "        return s1"
   ]
  },
  {
   "cell_type": "code",
   "execution_count": 8,
   "id": "112db1ae",
   "metadata": {},
   "outputs": [
    {
     "data": {
      "text/plain": [
       "'fl'"
      ]
     },
     "execution_count": 8,
     "metadata": {},
     "output_type": "execute_result"
    }
   ],
   "source": [
    "strs = [\"flower\",\"flow\",\"flight\"]\n",
    "Solution().longestCommonPrefix(strs)"
   ]
  },
  {
   "cell_type": "code",
   "execution_count": 14,
   "id": "89e58b42",
   "metadata": {},
   "outputs": [
    {
     "data": {
      "text/plain": [
       "'flight'"
      ]
     },
     "execution_count": 14,
     "metadata": {},
     "output_type": "execute_result"
    }
   ],
   "source": [
    "min(strs)"
   ]
  },
  {
   "cell_type": "code",
   "execution_count": 15,
   "id": "8409798c",
   "metadata": {},
   "outputs": [
    {
     "data": {
      "text/plain": [
       "'flower'"
      ]
     },
     "execution_count": 15,
     "metadata": {},
     "output_type": "execute_result"
    }
   ],
   "source": [
    "max(strs)"
   ]
  }
 ],
 "metadata": {
  "kernelspec": {
   "display_name": "Python 3",
   "language": "python",
   "name": "python3"
  },
  "language_info": {
   "codemirror_mode": {
    "name": "ipython",
    "version": 3
   },
   "file_extension": ".py",
   "mimetype": "text/x-python",
   "name": "python",
   "nbconvert_exporter": "python",
   "pygments_lexer": "ipython3",
   "version": "3.7.4"
  }
 },
 "nbformat": 4,
 "nbformat_minor": 5
}
