{
 "cells": [
  {
   "cell_type": "markdown",
   "id": "f5325d3c",
   "metadata": {},
   "source": [
    "https://leetcode.com/problems/rotate-string/"
   ]
  },
  {
   "cell_type": "code",
   "execution_count": null,
   "id": "3fb6cf34",
   "metadata": {},
   "outputs": [],
   "source": [
    "class Solution:\n",
    "    def rotateString(self, s, goal):        \n",
    "        return len(s) == len(goal) and goal in s + s \n",
    "    \n",
    "    def rotateStrings(self, s: str, goal: str) -> bool:\n",
    "        from collections import deque\n",
    "        q = deque()\n",
    "        for c in s:\n",
    "            q.append(c)\n",
    "            \n",
    "        goal = list(goal)\n",
    "        \n",
    "        count = 0\n",
    "        while list(q) != goal:\n",
    "            count += 1\n",
    "            if count > len(s):\n",
    "                return False\n",
    "            t = q.popleft()\n",
    "            q.append(t)\n",
    "        return True"
   ]
  }
 ],
 "metadata": {
  "kernelspec": {
   "display_name": "Python 3",
   "language": "python",
   "name": "python3"
  },
  "language_info": {
   "codemirror_mode": {
    "name": "ipython",
    "version": 3
   },
   "file_extension": ".py",
   "mimetype": "text/x-python",
   "name": "python",
   "nbconvert_exporter": "python",
   "pygments_lexer": "ipython3",
   "version": "3.7.4"
  }
 },
 "nbformat": 4,
 "nbformat_minor": 5
}
