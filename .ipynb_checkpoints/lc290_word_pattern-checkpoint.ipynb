{
 "cells": [
  {
   "cell_type": "code",
   "execution_count": 23,
   "id": "3dc96cb0",
   "metadata": {},
   "outputs": [
    {
     "ename": "SyntaxError",
     "evalue": "invalid syntax (<ipython-input-23-3f751f5e747e>, line 1)",
     "output_type": "error",
     "traceback": [
      "\u001b[0;36m  File \u001b[0;32m\"<ipython-input-23-3f751f5e747e>\"\u001b[0;36m, line \u001b[0;32m1\u001b[0m\n\u001b[0;31m    accepted solution\u001b[0m\n\u001b[0m                    ^\u001b[0m\n\u001b[0;31mSyntaxError\u001b[0m\u001b[0;31m:\u001b[0m invalid syntax\n"
     ]
    }
   ],
   "source": [
    "accepted solution"
   ]
  },
  {
   "cell_type": "markdown",
   "id": "15b0e77d",
   "metadata": {},
   "source": [
    "#### 290. Word Pattern"
   ]
  },
  {
   "cell_type": "code",
   "execution_count": 26,
   "id": "40682110",
   "metadata": {},
   "outputs": [],
   "source": [
    "from collections import defaultdict\n",
    "class Solution:\n",
    "    def wordPattern(self, pattern: str, s: str) -> bool:\n",
    "        words = s.split(\" \")\n",
    "        if len(words) != len(pattern): return False\n",
    "        if len(set(words)) != len(set(pattern)): return False\n",
    "        \n",
    "        dic = dict()\n",
    "        for i in range(len(pattern)):\n",
    "            if pattern[i] not in dic:\n",
    "                dic[pattern[i]] = words[i]\n",
    "            else: \n",
    "                if dic[pattern[i]] != words[i]:\n",
    "                    return False\n",
    "        return True\n",
    "   \n",
    "    def wordPattern2(self, pattern: str, s: str) -> bool:\n",
    "        words = s.split(\" \")\n",
    "        if len(words) != len(pattern):\n",
    "            return False\n",
    "        \n",
    "        dicp = defaultdict(str)\n",
    "        dicw = defaultdict(str)\n",
    "        \n",
    "        for i in range(len(pattern)):\n",
    "            if pattern[i] not in dicp:\n",
    "                dicp[pattern[i]] = words[i]\n",
    "                if words[i] not in dicw:\n",
    "                    dicw[words[i]] = pattern[i]\n",
    "                else: \n",
    "                    if dicw[words[i]] != pattern[i]:\n",
    "                        return False\n",
    "            else: \n",
    "                if dicp[pattern[i]] != words[i]:\n",
    "                    return False\n",
    "        return True\n",
    "\n",
    "# Time; O(N)\n",
    "# Space: O(N)"
   ]
  },
  {
   "cell_type": "code",
   "execution_count": 27,
   "id": "246874c1",
   "metadata": {},
   "outputs": [
    {
     "data": {
      "text/plain": [
       "True"
      ]
     },
     "execution_count": 27,
     "metadata": {},
     "output_type": "execute_result"
    }
   ],
   "source": [
    "s = \"dog cat cat dog\"\n",
    "pattern = \"abba\"\n",
    "Solution().wordPattern(pattern, s)"
   ]
  },
  {
   "cell_type": "code",
   "execution_count": 28,
   "id": "9c81d24b",
   "metadata": {},
   "outputs": [
    {
     "data": {
      "text/plain": [
       "False"
      ]
     },
     "execution_count": 28,
     "metadata": {},
     "output_type": "execute_result"
    }
   ],
   "source": [
    "pattern = \"abba\"; s = \"dog cat cat fish\" \n",
    "Solution().wordPattern(pattern, s)"
   ]
  },
  {
   "cell_type": "code",
   "execution_count": 29,
   "id": "60ce3a7c",
   "metadata": {},
   "outputs": [
    {
     "data": {
      "text/plain": [
       "False"
      ]
     },
     "execution_count": 29,
     "metadata": {},
     "output_type": "execute_result"
    }
   ],
   "source": [
    "pattern = \"aaaa\"; s = \"dog cat cat dog\" \n",
    "Solution().wordPattern(pattern, s)"
   ]
  },
  {
   "cell_type": "code",
   "execution_count": 30,
   "id": "1a261d3d",
   "metadata": {},
   "outputs": [
    {
     "data": {
      "text/plain": [
       "False"
      ]
     },
     "execution_count": 30,
     "metadata": {},
     "output_type": "execute_result"
    }
   ],
   "source": [
    "pattern = \"abba\"\n",
    "s = \"dog dog dog dog\"\n",
    "Solution().wordPattern(pattern, s)"
   ]
  },
  {
   "cell_type": "code",
   "execution_count": 31,
   "id": "19e09554",
   "metadata": {},
   "outputs": [
    {
     "data": {
      "text/plain": [
       "False"
      ]
     },
     "execution_count": 31,
     "metadata": {},
     "output_type": "execute_result"
    }
   ],
   "source": [
    "pattern = \"aaa\"\n",
    "s = \"aa aa aa aa\"\n",
    "Solution().wordPattern(pattern, s)"
   ]
  },
  {
   "cell_type": "code",
   "execution_count": null,
   "id": "7d058390",
   "metadata": {},
   "outputs": [],
   "source": [
    "\n",
    "StefanPochmann's avatar\n",
    "StefanPochmann\n",
    "80468\n",
    "Last Edit: October 4, 2018 12:06 PM\n",
    "\n",
    "26.6K VIEWS\n",
    "\n",
    "This problem is pretty much equivalent to Isomorphic Strings. Let me reuse two old solutions.\n",
    "\n",
    "From here:\n",
    "\n",
    "def wordPattern(self, pattern, str):\n",
    "    s = pattern\n",
    "    t = str.split()\n",
    "    return map(s.find, s) == map(t.index, t)\n",
    "Improved version also from there:\n",
    "\n",
    "def wordPattern(self, pattern, str):\n",
    "    f = lambda s: map({}.setdefault, s, range(len(s)))\n",
    "    return f(pattern) == f(str.split())\n",
    "From here:\n",
    "\n",
    "def wordPattern(self, pattern, str):\n",
    "    s = pattern\n",
    "    t = str.split()\n",
    "    return len(set(zip(s, t))) == len(set(s)) == len(set(t)) and len(s) == len(t)"
   ]
  },
  {
   "cell_type": "code",
   "execution_count": null,
   "id": "f232ceee",
   "metadata": {},
   "outputs": [],
   "source": [
    "def wordPattern(self, p: str, s: str) -> bool:\n",
    "    words, w_to_p = s.split(' '), dict()\n",
    "\n",
    "    if len(p) != len(words): return False\n",
    "    if len(set(p)) != len(set(words)): return False # for the case w = ['dog', 'cat'] and p = 'aa'\n",
    "\n",
    "    for i in range(len(words)):\n",
    "        if words[i] not in w_to_p: \n",
    "            w_to_p[words[i]] = p[i]\n",
    "        elif w_to_p[words[i]] != p[i]: \n",
    "            return False\n",
    "\n",
    "    return True"
   ]
  }
 ],
 "metadata": {
  "kernelspec": {
   "display_name": "Python 3",
   "language": "python",
   "name": "python3"
  },
  "language_info": {
   "codemirror_mode": {
    "name": "ipython",
    "version": 3
   },
   "file_extension": ".py",
   "mimetype": "text/x-python",
   "name": "python",
   "nbconvert_exporter": "python",
   "pygments_lexer": "ipython3",
   "version": "3.7.4"
  }
 },
 "nbformat": 4,
 "nbformat_minor": 5
}
