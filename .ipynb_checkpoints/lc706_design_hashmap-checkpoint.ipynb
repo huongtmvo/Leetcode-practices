{
 "cells": [
  {
   "cell_type": "markdown",
   "id": "f3c59e96",
   "metadata": {},
   "source": [
    "### 706. Design HashMap"
   ]
  },
  {
   "cell_type": "markdown",
   "id": "85fd7b42",
   "metadata": {},
   "source": [
    "Design a HashMap without using any built-in hash table libraries.\n",
    "\n",
    "Implement the MyHashMap class:\n",
    "\n",
    "MyHashMap() initializes the object with an empty map.\n",
    "\n",
    "void put(int key, int value) inserts a (key, value) pair into the HashMap. If the key already exists in the map, update the corresponding value.\n",
    "\n",
    "int get(int key) returns the value to which the specified key is mapped, or -1 if this map contains no mapping for the key.\n",
    "\n",
    "void remove(key) removes the key and its corresponding value if the map contains the mapping for the key.\n",
    " \n",
    "\n",
    "Example 1:\n",
    "\n",
    "Input\n",
    "\n",
    "[\"MyHashMap\", \"put\", \"put\", \"get\", \"get\", \"put\", \"get\", \"remove\", \"get\"]\n",
    "\n",
    "[[], [1, 1], [2, 2], [1], [3], [2, 1], [2], [2], [2]]\n",
    "\n",
    "Output\n",
    "[null, null, null, 1, -1, null, 1, null, -1]\n",
    "\n",
    "Explanation\n",
    "\n",
    "MyHashMap myHashMap = new MyHashMap();\n",
    "\n",
    "myHashMap.put(1, 1); // The map is now [[1,1]]\n",
    "\n",
    "myHashMap.put(2, 2); // The map is now [[1,1], [2,2]]\n",
    "\n",
    "myHashMap.get(1);    // return 1, The map is now [[1,1], [2,2]]\n",
    "\n",
    "myHashMap.get(3);    // return -1 (i.e., not found), The map is now [[1,1], [2,2]]\n",
    "\n",
    "myHashMap.put(2, 1); // The map is now [[1,1], [2,1]] (i.e., update the existing value)\n",
    "\n",
    "myHashMap.get(2);    // return 1, The map is now [[1,1], [2,1]]\n",
    "\n",
    "myHashMap.remove(2); // remove the mapping for 2, The map is now [[1,1]]\n",
    "\n",
    "myHashMap.get(2);    // return -1 (i.e., not found), The map is now [[1,1]]\n",
    " \n",
    "\n",
    "Constraints:\n",
    "\n",
    "0 <= key, value <= 106\n",
    "At most 104 calls will be made to put, get, and remove."
   ]
  },
  {
   "cell_type": "code",
   "execution_count": null,
   "id": "c804d7d4",
   "metadata": {},
   "outputs": [],
   "source": [
    "class MyHashMap:\n",
    "\n",
    "    def __init__(self):\n",
    "        \n",
    "\n",
    "    def put(self, key: int, value: int) -> None:\n",
    "        \n",
    "\n",
    "    def get(self, key: int) -> int:\n",
    "        \n",
    "\n",
    "    def remove(self, key: int) -> None:\n",
    "        \n",
    "\n",
    "\n",
    "# Your MyHashMap object will be instantiated and called as such:\n",
    "# obj = MyHashMap()\n",
    "# obj.put(key,value)\n",
    "# param_2 = obj.get(key)\n",
    "# obj.remove(key)"
   ]
  }
 ],
 "metadata": {
  "kernelspec": {
   "display_name": "Python 3",
   "language": "python",
   "name": "python3"
  },
  "language_info": {
   "codemirror_mode": {
    "name": "ipython",
    "version": 3
   },
   "file_extension": ".py",
   "mimetype": "text/x-python",
   "name": "python",
   "nbconvert_exporter": "python",
   "pygments_lexer": "ipython3",
   "version": "3.7.4"
  }
 },
 "nbformat": 4,
 "nbformat_minor": 5
}
