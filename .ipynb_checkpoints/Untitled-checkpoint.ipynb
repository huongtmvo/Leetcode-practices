{
 "cells": [
  {
   "cell_type": "code",
   "execution_count": null,
   "id": "7f70aecf",
   "metadata": {},
   "outputs": [],
   "source": [
    " - Designed, developed and owned ETL data pipelines to support real-time data for rapid data growth\n",
    "- Performed ad hoc analysis to support business decisions"
   ]
  },
  {
   "cell_type": "code",
   "execution_count": null,
   "id": "8f961d35",
   "metadata": {},
   "outputs": [],
   "source": []
  }
 ],
 "metadata": {
  "kernelspec": {
   "display_name": "Python 3",
   "language": "python",
   "name": "python3"
  },
  "language_info": {
   "codemirror_mode": {
    "name": "ipython",
    "version": 3
   },
   "file_extension": ".py",
   "mimetype": "text/x-python",
   "name": "python",
   "nbconvert_exporter": "python",
   "pygments_lexer": "ipython3",
   "version": "3.7.4"
  }
 },
 "nbformat": 4,
 "nbformat_minor": 5
}
