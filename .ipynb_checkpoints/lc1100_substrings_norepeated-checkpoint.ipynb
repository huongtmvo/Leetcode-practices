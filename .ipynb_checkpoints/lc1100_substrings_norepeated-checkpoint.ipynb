{
 "cells": [
  {
   "cell_type": "markdown",
   "id": "146e4901",
   "metadata": {},
   "source": [
    "#### lc 1100. Find K-Length Substrings With No Repeated Characters"
   ]
  },
  {
   "cell_type": "markdown",
   "id": "d930ef81",
   "metadata": {},
   "source": [
    "Given a string s and an integer k, return the number of substrings in s of length k with no repeated characters."
   ]
  },
  {
   "cell_type": "markdown",
   "id": "272106f8",
   "metadata": {},
   "source": [
    "Input: s = \"havefunonleetcode\", k = 5\n",
    "Output: 6\n",
    "Explanation: There are 6 substrings they are: 'havef','avefu','vefun','efuno','etcod','tcode'."
   ]
  },
  {
   "cell_type": "markdown",
   "id": "5b3ad4dd",
   "metadata": {},
   "source": [
    "Input: s = \"home\", k = 5\n",
    "Output: 0\n",
    "Explanation: Notice k can be larger than the length of s. In this case, it is not possible to find any substring."
   ]
  },
  {
   "cell_type": "markdown",
   "id": "cd864b35",
   "metadata": {},
   "source": [
    "1 <= s.length <= 104\n",
    "s consists of lowercase English letters.\n",
    "1 <= k <= 104"
   ]
  },
  {
   "cell_type": "code",
   "execution_count": 7,
   "id": "3d763245",
   "metadata": {},
   "outputs": [],
   "source": [
    "class Solution:\n",
    "    def numKLenSubstrNoRepeats(self, s: str, k: int) -> int:\n",
    "        n = len(s)\n",
    "        ans = 0\n",
    "        if k > n: return 0\n",
    "        l = 0\n",
    "        r = k - 1\n",
    "        while l < n-k+1:\n",
    "            if len(set(s[l:r])) == k:\n",
    "                ans += 1\n",
    "                l += 1\n",
    "                r += 1\n",
    "        return ans\n",
    "        "
   ]
  },
  {
   "cell_type": "code",
   "execution_count": null,
   "id": "807821e5",
   "metadata": {},
   "outputs": [],
   "source": [
    "s = \"havefunonleetcode\"; k = 5\n",
    "Solution().numKLenSubstrNoRepeats(s,k)"
   ]
  },
  {
   "cell_type": "code",
   "execution_count": 3,
   "id": "b33b6d98",
   "metadata": {},
   "outputs": [
    {
     "data": {
      "text/plain": [
       "2"
      ]
     },
     "execution_count": 3,
     "metadata": {},
     "output_type": "execute_result"
    }
   ],
   "source": [
    "6-5+1"
   ]
  },
  {
   "cell_type": "code",
   "execution_count": 6,
   "id": "93a38c73",
   "metadata": {},
   "outputs": [
    {
     "data": {
      "text/plain": [
       "17"
      ]
     },
     "execution_count": 6,
     "metadata": {},
     "output_type": "execute_result"
    }
   ],
   "source": [
    "len(s)"
   ]
  },
  {
   "cell_type": "code",
   "execution_count": null,
   "id": "cf6b5666",
   "metadata": {},
   "outputs": [],
   "source": []
  }
 ],
 "metadata": {
  "kernelspec": {
   "display_name": "Python 3",
   "language": "python",
   "name": "python3"
  },
  "language_info": {
   "codemirror_mode": {
    "name": "ipython",
    "version": 3
   },
   "file_extension": ".py",
   "mimetype": "text/x-python",
   "name": "python",
   "nbconvert_exporter": "python",
   "pygments_lexer": "ipython3",
   "version": "3.7.4"
  }
 },
 "nbformat": 4,
 "nbformat_minor": 5
}
