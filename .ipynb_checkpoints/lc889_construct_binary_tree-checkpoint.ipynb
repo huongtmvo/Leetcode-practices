{
 "cells": [
  {
   "cell_type": "markdown",
   "id": "f8b84e1a",
   "metadata": {},
   "source": [
    "### 889. Construct Binary Tree from Preorder and Postorder Traversal"
   ]
  },
  {
   "cell_type": "markdown",
   "id": "c96cbfb6",
   "metadata": {},
   "source": [
    "Given two integer arrays, preorder and postorder where preorder is the preorder traversal of a binary tree of distinct values and postorder is the postorder traversal of the same tree, reconstruct and return the binary tree.\n",
    "If there exist multiple answers, you can return any of them.\n",
    "\n",
    "Example 1:\n",
    "\n",
    "\n",
    "Input: preorder = [1,2,4,5,3,6,7], postorder = [4,5,2,6,7,3,1]\n",
    "\n",
    "Output: [1,2,3,4,5,6,7]\n",
    "\n",
    "Example 2:\n",
    "\n",
    "Input: preorder = [1], postorder = [1]\n",
    "\n",
    "Output: [1]\n",
    " \n",
    "\n",
    "Constraints:\n",
    "\n",
    "1 <= preorder.length <= 30\n",
    "\n",
    "1 <= preorder[i] <= preorder.length\n",
    "\n",
    "All the values of preorder are unique.\n",
    "\n",
    "postorder.length == preorder.length\n",
    "\n",
    "1 <= postorder[i] <= postorder.length\n",
    "\n",
    "All the values of postorder are unique.\n",
    "\n",
    "It is guaranteed that preorder and postorder are the preorder traversal and postorder traversal of the same binary tree."
   ]
  },
  {
   "cell_type": "code",
   "execution_count": null,
   "id": "f666b5cf",
   "metadata": {},
   "outputs": [],
   "source": [
    "# Definition for a binary tree node.\n",
    "# class TreeNode:\n",
    "#     def __init__(self, val=0, left=None, right=None):\n",
    "#         self.val = val\n",
    "#         self.left = left\n",
    "#         self.right = right\n",
    "class Solution:\n",
    "    def constructFromPrePost(self, preorder: List[int], postorder: List[int]) -> Optional[TreeNode]:\n",
    "        "
   ]
  }
 ],
 "metadata": {
  "kernelspec": {
   "display_name": "Python 3",
   "language": "python",
   "name": "python3"
  },
  "language_info": {
   "codemirror_mode": {
    "name": "ipython",
    "version": 3
   },
   "file_extension": ".py",
   "mimetype": "text/x-python",
   "name": "python",
   "nbconvert_exporter": "python",
   "pygments_lexer": "ipython3",
   "version": "3.7.4"
  }
 },
 "nbformat": 4,
 "nbformat_minor": 5
}
