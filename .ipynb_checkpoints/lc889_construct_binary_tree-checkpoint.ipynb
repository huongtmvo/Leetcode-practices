{
 "cells": [
  {
   "cell_type": "markdown",
   "id": "f8b84e1a",
   "metadata": {},
   "source": [
    "### 889. Construct Binary Tree from Preorder and Postorder Traversal"
   ]
  },
  {
   "cell_type": "markdown",
   "id": "c96cbfb6",
   "metadata": {},
   "source": [
    "Given two integer arrays, preorder and postorder where preorder is the preorder traversal of a binary tree of distinct values and postorder is the postorder traversal of the same tree, reconstruct and return the binary tree.\n",
    "If there exist multiple answers, you can return any of them.\n",
    "\n",
    "Example 1:\n",
    "\n",
    "\n",
    "Input: preorder = [1,2,4,5,3,6,7], postorder = [4,5,2,6,7,3,1]\n",
    "\n",
    "Output: [1,2,3,4,5,6,7]\n",
    "\n",
    "Example 2:\n",
    "\n",
    "Input: preorder = [1], postorder = [1]\n",
    "\n",
    "Output: [1]\n",
    " \n",
    "\n",
    "Constraints:\n",
    "\n",
    "1 <= preorder.length <= 30\n",
    "\n",
    "1 <= preorder[i] <= preorder.length\n",
    "\n",
    "All the values of preorder are unique.\n",
    "\n",
    "postorder.length == preorder.length\n",
    "\n",
    "1 <= postorder[i] <= postorder.length\n",
    "\n",
    "All the values of postorder are unique.\n",
    "\n",
    "It is guaranteed that preorder and postorder are the preorder traversal and postorder traversal of the same binary tree."
   ]
  },
  {
   "cell_type": "code",
   "execution_count": 1,
   "id": "f666b5cf",
   "metadata": {},
   "outputs": [],
   "source": [
    "# Definition for a binary tree node.\n",
    "from typing import List, Optional\n",
    "class TreeNode:\n",
    "    def __init__(self, val=0, left=None, right=None):\n",
    "        self.val = val\n",
    "        self.left = left\n",
    "        self.right = right\n",
    "        \n",
    "class Solution:\n",
    "    def constructFromPrePost(self, preorder: List[int], postorder: List[int]) -> Optional[TreeNode]:\n",
    "        root = TreeNode(preorder[0])\n",
    "        pass\n",
    "        \n",
    "        \n",
    "        "
   ]
  },
  {
   "cell_type": "code",
   "execution_count": 60,
   "id": "c5cd428e",
   "metadata": {},
   "outputs": [],
   "source": [
    "def preorder(root):\n",
    "    res = []\n",
    "    def dfs(node):\n",
    "        if node: \n",
    "            res.append(node.val)\n",
    "            dfs(node.left)\n",
    "            dfs(node.right)\n",
    "    dfs(root)\n",
    "    return res"
   ]
  },
  {
   "cell_type": "code",
   "execution_count": 59,
   "id": "3b18823b",
   "metadata": {},
   "outputs": [],
   "source": [
    "def preorder(root):\n",
    "    res = []\n",
    "    def dfs(node):\n",
    "        if node: \n",
    "            dfs(node.left)\n",
    "            dfs(node.right)\n",
    "            res.append(node.val)\n",
    "    dfs(root)\n",
    "    return res"
   ]
  },
  {
   "cell_type": "code",
   "execution_count": 5,
   "id": "4f72b6ae",
   "metadata": {},
   "outputs": [],
   "source": [
    "rt = TreeNode(1, TreeNode(2, TreeNode(3), TreeNode(4)), TreeNode(5, TreeNode(6), TreeNode(7)))"
   ]
  },
  {
   "cell_type": "code",
   "execution_count": 6,
   "id": "eb0fc22b",
   "metadata": {},
   "outputs": [
    {
     "name": "stdout",
     "output_type": "stream",
     "text": [
      "[1, 2, 3, 4, 5, 6, 7]\n"
     ]
    }
   ],
   "source": [
    "print(preorder(rt))"
   ]
  },
  {
   "cell_type": "code",
   "execution_count": 8,
   "id": "22dc4d7e",
   "metadata": {},
   "outputs": [
    {
     "name": "stdout",
     "output_type": "stream",
     "text": [
      "[3, 4, 2, 6, 7, 5, 1]\n"
     ]
    }
   ],
   "source": [
    "print(postorder(rt))"
   ]
  },
  {
   "cell_type": "markdown",
   "id": "90e7bd72",
   "metadata": {},
   "source": [
    "Complexity:\n",
    "Time O(N), as we iterate both pre index and post index only once.\n",
    "Space O(height), depending on the height of constructed tree.\n",
    "\n",
    "\n",
    "Recursive Solution\n",
    "Create a node TreeNode(pre[preIndex]) as the root.\n",
    "\n",
    "Becasue root node will be lastly iterated in post order,\n",
    "if root.val == post[posIndex],\n",
    "it means we have constructed the whole tree,\n",
    "\n",
    "If we haven't completed constructed the whole tree,\n",
    "So we recursively constructFromPrePost for left sub tree and right sub tree.\n",
    "\n",
    "And finally, we'll reach the posIndex that root.val == post[posIndex].\n",
    "We increment posIndex and return our root node."
   ]
  },
  {
   "cell_type": "code",
   "execution_count": 9,
   "id": "b03e2c4a",
   "metadata": {},
   "outputs": [],
   "source": [
    "class Solution: \n",
    "    preIndex, posIndex = 0, 0\n",
    "    def constructFromPrePost(self, pre, post):\n",
    "        root = TreeNode(pre[self.preIndex])\n",
    "        self.preIndex += 1\n",
    "        if (root.val != post[self.posIndex]):\n",
    "            root.left = self.constructFromPrePost(pre, post)\n",
    "        if (root.val != post[self.posIndex]):\n",
    "            root.right = self.constructFromPrePost(pre, post)\n",
    "        self.posIndex += 1\n",
    "        return root"
   ]
  },
  {
   "cell_type": "code",
   "execution_count": 11,
   "id": "2e350bc0",
   "metadata": {},
   "outputs": [
    {
     "name": "stdout",
     "output_type": "stream",
     "text": [
      "1\n"
     ]
    }
   ],
   "source": [
    "preorder = [1,2,4,5,3,6,7]; postorder = [4,5,2,6,7,3,1]\n",
    "print(Solution().constructFromPrePost(preorder, postorder).val)"
   ]
  },
  {
   "cell_type": "markdown",
   "id": "1431830a",
   "metadata": {},
   "source": [
    "Iterative Solution\n",
    "We will preorder generate TreeNodes, push them to stack and postorder pop them out.\n",
    "\n",
    "Iterate on pre array and construct node one by one.\n",
    "stack save the current path of tree.\n",
    "node = new TreeNode(pre[i]), if not left child, add node to the left. otherwise add it to the right.\n",
    "If we meet a same value in the pre and post, it means we complete the construction for current subtree. We pop it from stack."
   ]
  },
  {
   "cell_type": "code",
   "execution_count": null,
   "id": "a1257f6f",
   "metadata": {},
   "outputs": [],
   "source": [
    "class Solution: \n",
    "    def constructFromPrePost(self, pre, post):\n",
    "        stack = [TreeNode(pre[0])]\n",
    "        j = 0\n",
    "        for v in pre[1:]:\n",
    "            node = TreeNode(v)\n",
    "            while stack[-1].val == post[j]:\n",
    "                stack.pop()\n",
    "                j += 1\n",
    "            if not stack[-1].left:\n",
    "                stack[-1].left = node\n",
    "            else:\n",
    "                stack[-1].right = node\n",
    "            stack.append(node)\n",
    "        return stack[0]\n"
   ]
  },
  {
   "cell_type": "code",
   "execution_count": 46,
   "id": "6ab3c77b",
   "metadata": {},
   "outputs": [
    {
     "data": {
      "text/plain": [
       "4"
      ]
     },
     "execution_count": 46,
     "metadata": {},
     "output_type": "execute_result"
    }
   ],
   "source": [
    "pre = [1,2,4,5,3,6,7]\n",
    "post = [4,5,2,6,7,3,1]\n",
    "pre.index(post[-2])"
   ]
  },
  {
   "cell_type": "code",
   "execution_count": 47,
   "id": "a2dfe244",
   "metadata": {},
   "outputs": [
    {
     "data": {
      "text/plain": [
       "2"
      ]
     },
     "execution_count": 47,
     "metadata": {},
     "output_type": "execute_result"
    }
   ],
   "source": [
    "post.index(pre[1])"
   ]
  },
  {
   "cell_type": "code",
   "execution_count": 63,
   "id": "a8ef526f",
   "metadata": {},
   "outputs": [],
   "source": [
    "def construct(pre, post):\n",
    "    val = pre[0]\n",
    "    root = TreeNode(val)\n",
    "    if len(pre) == 1 or len(post) == 1:\n",
    "        return root\n",
    "    left_root = pre[1]\n",
    "    right_root = post[-2]\n",
    "    pre_bkp = pre.index(left_root)\n",
    "    post_bkp = post.index(left_root)\n",
    "    root.left = construct(pre[1:pre_bkp], post[:post_bkp+1])\n",
    "    root.right = construct(pre[pre_bkp:], post[post_bkp+1:-1])\n",
    "    return root"
   ]
  },
  {
   "cell_type": "code",
   "execution_count": 51,
   "id": "4f0a5ced",
   "metadata": {},
   "outputs": [],
   "source": [
    "root = construct(pre, post)"
   ]
  },
  {
   "cell_type": "code",
   "execution_count": 61,
   "id": "f6598ac9",
   "metadata": {},
   "outputs": [
    {
     "data": {
      "text/plain": [
       "[1, 2, 4, 5, 3, 6, 7]"
      ]
     },
     "execution_count": 61,
     "metadata": {},
     "output_type": "execute_result"
    }
   ],
   "source": [
    "preorder(root)"
   ]
  },
  {
   "cell_type": "code",
   "execution_count": 62,
   "id": "ed2a25df",
   "metadata": {},
   "outputs": [
    {
     "data": {
      "text/plain": [
       "[4, 5, 2, 6, 7, 3, 1]"
      ]
     },
     "execution_count": 62,
     "metadata": {},
     "output_type": "execute_result"
    }
   ],
   "source": [
    "postorder(root)"
   ]
  },
  {
   "cell_type": "code",
   "execution_count": null,
   "id": "802fc69c",
   "metadata": {},
   "outputs": [],
   "source": []
  }
 ],
 "metadata": {
  "kernelspec": {
   "display_name": "Python 3",
   "language": "python",
   "name": "python3"
  },
  "language_info": {
   "codemirror_mode": {
    "name": "ipython",
    "version": 3
   },
   "file_extension": ".py",
   "mimetype": "text/x-python",
   "name": "python",
   "nbconvert_exporter": "python",
   "pygments_lexer": "ipython3",
   "version": "3.7.4"
  }
 },
 "nbformat": 4,
 "nbformat_minor": 5
}
