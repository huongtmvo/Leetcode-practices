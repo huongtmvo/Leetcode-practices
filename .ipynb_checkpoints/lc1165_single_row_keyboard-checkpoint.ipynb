{
 "cells": [
  {
   "cell_type": "markdown",
   "id": "9e001edf",
   "metadata": {},
   "source": [
    "### 1165. Single-Row Keyboard"
   ]
  },
  {
   "cell_type": "code",
   "execution_count": 13,
   "id": "da81d688",
   "metadata": {},
   "outputs": [],
   "source": [
    "from collections import defaultdict\n",
    "class Solution:\n",
    "    def calculateTime(self, keyboard: str, word: str) -> int:\n",
    "        lookup = defaultdict(int)\n",
    "        for i,v in enumerate(keyboard):\n",
    "            lookup[v] = i\n",
    "        \n",
    "        res = 0\n",
    "        prev = 0\n",
    "        for letter in word:\n",
    "            res += abs(lookup[letter] - prev)\n",
    "            prev = lookup[letter]\n",
    "           \n",
    "        return res\n",
    "# Time complexity: O(N) for N is legth of word \n",
    "# Space complexity: O(1) as there are 26 letters in lookup"
   ]
  },
  {
   "cell_type": "code",
   "execution_count": 14,
   "id": "2909f64d",
   "metadata": {},
   "outputs": [
    {
     "data": {
      "text/plain": [
       "4"
      ]
     },
     "execution_count": 14,
     "metadata": {},
     "output_type": "execute_result"
    }
   ],
   "source": [
    "keyboard = \"abcdefghijklmnopqrstuvwxyz\"; word = \"cba\"\n",
    "Solution().calculateTime(keyboard, word)"
   ]
  },
  {
   "cell_type": "code",
   "execution_count": 16,
   "id": "72ab93cb",
   "metadata": {},
   "outputs": [
    {
     "data": {
      "text/plain": [
       "73"
      ]
     },
     "execution_count": 16,
     "metadata": {},
     "output_type": "execute_result"
    }
   ],
   "source": [
    "keyboard = \"pqrstuvwxyzabcdefghijklmno\"; word = \"leetcode\"\n",
    "Solution().calculateTime(keyboard, word)"
   ]
  },
  {
   "cell_type": "code",
   "execution_count": null,
   "id": "e939595e",
   "metadata": {},
   "outputs": [],
   "source": []
  }
 ],
 "metadata": {
  "kernelspec": {
   "display_name": "Python 3",
   "language": "python",
   "name": "python3"
  },
  "language_info": {
   "codemirror_mode": {
    "name": "ipython",
    "version": 3
   },
   "file_extension": ".py",
   "mimetype": "text/x-python",
   "name": "python",
   "nbconvert_exporter": "python",
   "pygments_lexer": "ipython3",
   "version": "3.7.4"
  }
 },
 "nbformat": 4,
 "nbformat_minor": 5
}
