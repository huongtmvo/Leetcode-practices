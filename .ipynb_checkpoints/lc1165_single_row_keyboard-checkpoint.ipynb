{
 "cells": [
  {
   "cell_type": "markdown",
   "id": "72df4302",
   "metadata": {},
   "source": [
    "### 1165. Single-Row Keyboard"
   ]
  },
  {
   "cell_type": "markdown",
   "id": "12bb0efb",
   "metadata": {},
   "source": [
    "There is a special keyboard with all keys in a single row.\n",
    "\n",
    "Given a string keyboard of length 26 indicating the layout of the keyboard (indexed from 0 to 25). Initially, your finger is at index 0. To type a character, you have to move your finger to the index of the desired character. The time taken to move your finger from index i to index j is |i - j|.\n",
    "\n",
    "You want to type a string word. Write a function to calculate how much time it takes to type it with one finger."
   ]
  },
  {
   "cell_type": "markdown",
   "id": "1391f1d7",
   "metadata": {},
   "source": [
    "Input: keyboard = \"abcdefghijklmnopqrstuvwxyz\", word = \"cba\"\n",
    "Output: 4\n",
    "Explanation: The index moves from 0 to 2 to write 'c' then to 1 to write 'b' then to 0 again to write 'a'.\n",
    "Total time = 2 + 1 + 1 = 4. "
   ]
  },
  {
   "cell_type": "markdown",
   "id": "bb22b025",
   "metadata": {},
   "source": [
    "Input: keyboard = \"pqrstuvwxyzabcdefghijklmno\", word = \"leetcode\"\n",
    "Output: 73"
   ]
  },
  {
   "cell_type": "markdown",
   "id": "842d30e6",
   "metadata": {},
   "source": [
    "keyboard.length == 26\n",
    "keyboard contains each English lowercase letter exactly once in some order.\n",
    "1 <= word.length <= 104\n",
    "word[i] is an English lowercase letter."
   ]
  },
  {
   "cell_type": "code",
   "execution_count": null,
   "id": "ac69624b",
   "metadata": {},
   "outputs": [],
   "source": [
    "from collections import Counter\n",
    "class Solution:\n",
    "    def calculateTime(self, keyboard: str, word: str) -> int:\n",
    "        lookup = Counter()\n",
    "        for i,v in enumerate(keyboard):\n",
    "            \n",
    "            "
   ]
  },
  {
   "cell_type": "code",
   "execution_count": null,
   "id": "16952f4c",
   "metadata": {},
   "outputs": [],
   "source": [
    "keyboard = \"abcdefghijklmnopqrstuvwxyz\"; word = \"cba\""
   ]
  },
  {
   "cell_type": "code",
   "execution_count": 1,
   "id": "cd2bca89",
   "metadata": {},
   "outputs": [],
   "source": [
    "keyboard = \"pqrstuvwxyzabcdefghijklmno\"; word = \"leetcode\""
   ]
  },
  {
   "cell_type": "code",
   "execution_count": 2,
   "id": "fcfebbd2",
   "metadata": {},
   "outputs": [
    {
     "data": {
      "text/plain": [
       "26"
      ]
     },
     "execution_count": 2,
     "metadata": {},
     "output_type": "execute_result"
    }
   ],
   "source": [
    "len(keyboard)"
   ]
  },
  {
   "cell_type": "code",
   "execution_count": null,
   "id": "a92a15c7",
   "metadata": {},
   "outputs": [],
   "source": []
  }
 ],
 "metadata": {
  "kernelspec": {
   "display_name": "Python 3",
   "language": "python",
   "name": "python3"
  },
  "language_info": {
   "codemirror_mode": {
    "name": "ipython",
    "version": 3
   },
   "file_extension": ".py",
   "mimetype": "text/x-python",
   "name": "python",
   "nbconvert_exporter": "python",
   "pygments_lexer": "ipython3",
   "version": "3.7.4"
  }
 },
 "nbformat": 4,
 "nbformat_minor": 5
}
