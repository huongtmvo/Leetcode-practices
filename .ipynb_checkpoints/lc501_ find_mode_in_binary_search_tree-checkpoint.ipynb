{
 "cells": [
  {
   "cell_type": "markdown",
   "id": "7a4ba729",
   "metadata": {},
   "source": [
    "https://leetcode.com/problems/find-mode-in-binary-search-tree/"
   ]
  },
  {
   "cell_type": "code",
   "execution_count": 19,
   "id": "95ee78d2",
   "metadata": {},
   "outputs": [],
   "source": [
    "class TreeNode:\n",
    "    def __init__(self,val=0,left=None,right=None):\n",
    "        self.val = val\n",
    "        self.left = left\n",
    "        self.right = right"
   ]
  },
  {
   "cell_type": "code",
   "execution_count": 24,
   "id": "890b2973",
   "metadata": {},
   "outputs": [],
   "source": [
    "from collections import Counter\n",
    "from typing import List, Optional\n",
    "class Solution:\n",
    "    count = Counter()\n",
    "    def dfs(self, root):\n",
    "        if root:\n",
    "            count[root.val] += 1\n",
    "            self.dfs(root.left)\n",
    "            self.dfs(root.right)\n",
    "    def findMode(self, root):\n",
    "        self.dfs(root)\n",
    "        max_value = max(count.values())\n",
    "        return [k for k,v in count.items() if v == max_value ]\n",
    "        \n",
    "        # Solution 2: \n",
    "    def inOrder(self, root, res):\n",
    "        if not root: return res\n",
    "        self.inOrder(root.left,res)\n",
    "        res.append(root.val)\n",
    "        self.inOrder(root.right,res)\n",
    "        \n",
    "    def findMode(self, root: Optional[TreeNode]) -> List[int]:\n",
    "        res = []\n",
    "        self.inOrder(root,res)\n",
    "        \n",
    "#         dic = {}\n",
    "#         for i in range(len(res)):\n",
    "#             if res[i] not in dic:\n",
    "#                 dic[res[i]] = 1\n",
    "#             else:\n",
    "#                 dic[res[i]] += 1\n",
    "        count = Counter()\n",
    "        for i in range(len(res)):\n",
    "            count[res[i]] += 1\n",
    "        \n",
    "        max_value = max(count.values())\n",
    "        print('max_value', max_value)\n",
    "        return [k for k,v in count.items() if v == max_value]"
   ]
  },
  {
   "cell_type": "code",
   "execution_count": null,
   "id": "c8f709a6",
   "metadata": {},
   "outputs": [],
   "source": []
  }
 ],
 "metadata": {
  "kernelspec": {
   "display_name": "Python 3",
   "language": "python",
   "name": "python3"
  },
  "language_info": {
   "codemirror_mode": {
    "name": "ipython",
    "version": 3
   },
   "file_extension": ".py",
   "mimetype": "text/x-python",
   "name": "python",
   "nbconvert_exporter": "python",
   "pygments_lexer": "ipython3",
   "version": "3.7.4"
  }
 },
 "nbformat": 4,
 "nbformat_minor": 5
}
