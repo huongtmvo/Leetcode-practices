{
 "cells": [
  {
   "cell_type": "markdown",
   "id": "1e21ea82",
   "metadata": {},
   "source": [
    "https://leetcode.com/problems/backspace-string-compare/"
   ]
  },
  {
   "cell_type": "code",
   "execution_count": 1,
   "id": "3d349fb7",
   "metadata": {},
   "outputs": [],
   "source": [
    "class Solution:\n",
    "    def backspaceCompare(self, s: str, t: str) -> bool:\n",
    "        stack_s = self.typing(s)\n",
    "        stack_t = self.typing(t)\n",
    "        \n",
    "        return True if stack_s == stack_t else False\n",
    "        \n",
    "    def typing(self, s):\n",
    "        stack = []\n",
    "        for c in s:\n",
    "            if c != '#':\n",
    "                stack.append(c)\n",
    "            else:\n",
    "                if stack:\n",
    "                    stack.pop()\n",
    "        return stack"
   ]
  },
  {
   "cell_type": "code",
   "execution_count": null,
   "id": "aee7a451",
   "metadata": {},
   "outputs": [],
   "source": []
  }
 ],
 "metadata": {
  "kernelspec": {
   "display_name": "Python 3",
   "language": "python",
   "name": "python3"
  },
  "language_info": {
   "codemirror_mode": {
    "name": "ipython",
    "version": 3
   },
   "file_extension": ".py",
   "mimetype": "text/x-python",
   "name": "python",
   "nbconvert_exporter": "python",
   "pygments_lexer": "ipython3",
   "version": "3.7.4"
  }
 },
 "nbformat": 4,
 "nbformat_minor": 5
}
