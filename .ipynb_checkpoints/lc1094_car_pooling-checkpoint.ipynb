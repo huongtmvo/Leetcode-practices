{
 "cells": [
  {
   "cell_type": "markdown",
   "id": "a07c206a",
   "metadata": {},
   "source": [
    "#### 1094. Car Pooling"
   ]
  },
  {
   "cell_type": "code",
   "execution_count": 14,
   "id": "eeb0e2e6",
   "metadata": {},
   "outputs": [],
   "source": [
    "from typing import List\n",
    "from heapq import heappush, heappop\n",
    "class Solution:\n",
    "    # Solution1: Use min heap\n",
    "    def carPooling(self, trips: List[List[int]], capacity: int) -> bool:\n",
    "        # sort the list of trips according to the start time\n",
    "        trips.sort(key=lambda x:x[1])\n",
    "        curPassengers = 0\n",
    "        heap = []\n",
    "        \n",
    "        for trip in trips:\n",
    "            passengers, start, end = trip\n",
    "            \n",
    "            while heap and heap[0][0] <= start:\n",
    "                curPassengers -= heap[0][1]\n",
    "                heappop(heap)\n",
    "            \n",
    "            curPassengers += passengers\n",
    "            if curPassengers > capacity:\n",
    "                return False\n",
    "            heappush(heap,[end, passengers])\n",
    "            \n",
    "        return True\n",
    "    \n",
    "    # Solution 2: Sort the trips in ascending order of time\n",
    "    # At a single time, update the number of passengers\n",
    "    # Return false if capacity < 0\n",
    "    def carPooling2(self, trips, capacity):\n",
    "        for end, passengers in sorted(x for pas, start, end in trips for x in [[start, pas], [end, - pas]]):\n",
    "            capacity -= passengers\n",
    "            if capacity < 0:\n",
    "                return False\n",
    "        return True\n",
    "\n",
    "# Time complexity: O(NlogN)\n",
    "# Space : O(N)"
   ]
  },
  {
   "cell_type": "code",
   "execution_count": 15,
   "id": "07afcc77",
   "metadata": {},
   "outputs": [
    {
     "data": {
      "text/plain": [
       "False"
      ]
     },
     "execution_count": 15,
     "metadata": {},
     "output_type": "execute_result"
    }
   ],
   "source": [
    "trips = [[2,1,5],[3,3,7]]; capacity = 4\n",
    "Solution().carPooling(trips, capacity)"
   ]
  },
  {
   "cell_type": "code",
   "execution_count": 16,
   "id": "9973b17d",
   "metadata": {},
   "outputs": [
    {
     "data": {
      "text/plain": [
       "True"
      ]
     },
     "execution_count": 16,
     "metadata": {},
     "output_type": "execute_result"
    }
   ],
   "source": [
    "trips = [[2,1,5],[3,3,7]]; capacity = 5\n",
    "Solution().carPooling(trips, capacity)"
   ]
  },
  {
   "cell_type": "code",
   "execution_count": 17,
   "id": "c1cb00e0",
   "metadata": {},
   "outputs": [
    {
     "data": {
      "text/plain": [
       "False"
      ]
     },
     "execution_count": 17,
     "metadata": {},
     "output_type": "execute_result"
    }
   ],
   "source": [
    "trips = [[2,1,5],[3,3,7]]; capacity = 4\n",
    "Solution().carPooling2(trips, capacity)"
   ]
  },
  {
   "cell_type": "code",
   "execution_count": 18,
   "id": "8fd6192f",
   "metadata": {},
   "outputs": [
    {
     "data": {
      "text/plain": [
       "True"
      ]
     },
     "execution_count": 18,
     "metadata": {},
     "output_type": "execute_result"
    }
   ],
   "source": [
    "trips = [[2,1,5],[3,3,7]]; capacity = 5\n",
    "Solution().carPooling2(trips, capacity)"
   ]
  },
  {
   "cell_type": "code",
   "execution_count": 21,
   "id": "2f4b047f",
   "metadata": {},
   "outputs": [
    {
     "data": {
      "text/plain": [
       "[[1, 2], [3, 3], [5, -2], [7, -3]]"
      ]
     },
     "execution_count": 21,
     "metadata": {},
     "output_type": "execute_result"
    }
   ],
   "source": [
    "trips = [[2,1,5],[3,3,7]]; capacity = 4\n",
    "sorted(x for passengers, start, end in trips for x in ([start,passengers],[end,-passengers]))"
   ]
  },
  {
   "cell_type": "code",
   "execution_count": null,
   "id": "03cc11cd",
   "metadata": {},
   "outputs": [],
   "source": []
  }
 ],
 "metadata": {
  "kernelspec": {
   "display_name": "Python 3",
   "language": "python",
   "name": "python3"
  },
  "language_info": {
   "codemirror_mode": {
    "name": "ipython",
    "version": 3
   },
   "file_extension": ".py",
   "mimetype": "text/x-python",
   "name": "python",
   "nbconvert_exporter": "python",
   "pygments_lexer": "ipython3",
   "version": "3.7.4"
  }
 },
 "nbformat": 4,
 "nbformat_minor": 5
}
