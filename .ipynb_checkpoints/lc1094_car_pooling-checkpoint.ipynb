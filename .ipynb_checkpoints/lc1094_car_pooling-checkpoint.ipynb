{
 "cells": [
  {
   "cell_type": "markdown",
   "id": "a07c206a",
   "metadata": {},
   "source": [
    "#### 1094. Car Pooling"
   ]
  },
  {
   "cell_type": "markdown",
   "id": "9bc30ffa",
   "metadata": {},
   "source": [
    "There is a car with capacity empty seats. The vehicle only drives east (i.e., it cannot turn around and drive west).\n",
    "\n",
    "You are given the integer capacity and an array trips where trips[i] = [numPassengersi, fromi, toi] indicates that the ith trip has numPassengersi passengers and the locations to pick them up and drop them off are fromi and toi respectively. The locations are given as the number of kilometers due east from the car's initial location.\n",
    "\n",
    "Return true if it is possible to pick up and drop off all passengers for all the given trips, or false otherwise."
   ]
  },
  {
   "cell_type": "markdown",
   "id": "34fa9d6a",
   "metadata": {},
   "source": [
    "Example 1:\n",
    "\n",
    "Input: trips = [[2,1,5],[3,3,7]], capacity = 4\n",
    "\n",
    "Output: false\n",
    "\n",
    "\n",
    "Example 2:\n",
    "\n",
    "Input: trips = [[2,1,5],[3,3,7]], capacity = 5\n",
    "\n",
    "Output: true\n",
    " \n",
    "\n",
    "Constraints:\n",
    "\n",
    "1 <= trips.length <= 1000\n",
    "trips[i].length == 3\n",
    "1 <= numPassengersi <= 100\n",
    "0 <= fromi < toi <= 1000\n",
    "1 <= capacity <= 105"
   ]
  },
  {
   "cell_type": "code",
   "execution_count": null,
   "id": "eeb0e2e6",
   "metadata": {},
   "outputs": [],
   "source": [
    "class Solution:\n",
    "    def carPooling(self, trips: List[List[int]], capacity: int) -> bool:\n",
    "        trips.sort(key=lambda x:x[0])\n",
    "        "
   ]
  },
  {
   "cell_type": "code",
   "execution_count": null,
   "id": "411ad1f5",
   "metadata": {},
   "outputs": [],
   "source": [
    "class Solution:\n",
    "    def carPooling(self, trips, capacity):\n",
    "        m = max([i for _,_,i in trips])\n",
    "        times = [0]*(m+2)\n",
    "        for i,j,k in trips:\n",
    "            times[j+1] += i\n",
    "            times[k+1] -= i\n",
    "        return max(accumulate(times)) <= capacity   "
   ]
  },
  {
   "cell_type": "code",
   "execution_count": null,
   "id": "f431e2ac",
   "metadata": {},
   "outputs": [],
   "source": [
    "def carPooling(self, trips, capacity):\n",
    "    for i, v in sorted(x for n, i, j in trips for x in [[i, n], [j, - n]]):\n",
    "        capacity -= v\n",
    "        if capacity < 0:\n",
    "            return False\n",
    "    return True\n",
    "    \n",
    "    \n",
    "# Track the change of capacity in time order.\n",
    "\n",
    "# Explanation\n",
    "# Save all time points and the change on current capacity\n",
    "# Sort all the changes on the key of time points.\n",
    "# Track the current capacity and return false if negative\n",
    "# Complexity\n",
    "# Time O(NlogN)\n",
    "# Space O(N)\n"
   ]
  },
  {
   "cell_type": "code",
   "execution_count": null,
   "id": "678d90df",
   "metadata": {},
   "outputs": [],
   "source": []
  }
 ],
 "metadata": {
  "kernelspec": {
   "display_name": "Python 3",
   "language": "python",
   "name": "python3"
  },
  "language_info": {
   "codemirror_mode": {
    "name": "ipython",
    "version": 3
   },
   "file_extension": ".py",
   "mimetype": "text/x-python",
   "name": "python",
   "nbconvert_exporter": "python",
   "pygments_lexer": "ipython3",
   "version": "3.7.4"
  }
 },
 "nbformat": 4,
 "nbformat_minor": 5
}
