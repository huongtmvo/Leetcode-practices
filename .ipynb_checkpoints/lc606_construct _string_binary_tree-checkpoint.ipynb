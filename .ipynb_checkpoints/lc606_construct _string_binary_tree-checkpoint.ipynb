{
 "cells": [
  {
   "cell_type": "markdown",
   "id": "38d5788c",
   "metadata": {},
   "source": [
    "### 606. Construct String from Binary Tree"
   ]
  },
  {
   "cell_type": "markdown",
   "id": "066e9e75",
   "metadata": {},
   "source": [
    "Given the root of a binary tree, construct a string consisting of parenthesis and integers from a binary tree with the preorder traversal way, and return it.\n",
    "\n",
    "Omit all the empty parenthesis pairs that do not affect the one-to-one mapping relationship between the string and the original binary tree.\n",
    "\n",
    "Example 1:\n",
    "\n",
    "\n",
    "Input: root = [1,2,3,4]\n",
    "\n",
    "Output: \"1(2(4))(3)\"\n",
    "\n",
    "Explanation: Originally, it needs to be \"1(2(4)())(3()())\", but you need to omit all the unnecessary empty parenthesis pairs. And it will be \"1(2(4))(3)\"\n",
    "    \n",
    "Example 2:\n",
    "    \n",
    "Input: root = [1,2,3,null,4]\n",
    "\n",
    "Output: \"1(2()(4))(3)\"\n",
    "\n",
    "Explanation: Almost the same as the first example, except we cannot omit the first parenthesis pair to break the one-to-one mapping relationship between the input and the output.\n",
    " \n",
    "\n",
    "Constraints:\n",
    "\n",
    "The number of nodes in the tree is in the range [1, 104].\n",
    "-1000 <= Node.val <= 1000"
   ]
  },
  {
   "cell_type": "code",
   "execution_count": 26,
   "id": "46ea589b",
   "metadata": {},
   "outputs": [],
   "source": [
    "from typing import Optional\n",
    "class TreeNode:\n",
    "    def __init__(self, val=0, left=None, right=None):\n",
    "        self.val = val\n",
    "        self.left = left\n",
    "        self.right = right\n",
    "class Solution:\n",
    "    def tree2str(self, root: Optional[TreeNode]) -> str:\n",
    "        res = []\n",
    "        self.preOrder(root, res)\n",
    "        return''.join(res)\n",
    "        \n",
    "    def preOrder(self, root, res=[]):\n",
    "        if root:\n",
    "            res.append('(')\n",
    "            res.append(str(root.val))\n",
    "            self.preOrder(root.left, res)\n",
    "            self.preOrder(root.right, res)\n",
    "            res.append(')')    "
   ]
  },
  {
   "cell_type": "code",
   "execution_count": 27,
   "id": "25a7d417",
   "metadata": {},
   "outputs": [
    {
     "data": {
      "text/plain": [
       "'(1(2(4))(3))'"
      ]
     },
     "execution_count": 27,
     "metadata": {},
     "output_type": "execute_result"
    }
   ],
   "source": [
    "root = TreeNode(1, TreeNode(2, TreeNode(4)), TreeNode(3))\n",
    "Solution().tree2str(root)"
   ]
  },
  {
   "cell_type": "code",
   "execution_count": 28,
   "id": "1f329dfd",
   "metadata": {},
   "outputs": [
    {
     "data": {
      "text/plain": [
       "'(1(2(4))(3))'"
      ]
     },
     "execution_count": 28,
     "metadata": {},
     "output_type": "execute_result"
    }
   ],
   "source": [
    "root = TreeNode(1, TreeNode(2, None, TreeNode(4)), TreeNode(3))\n",
    "Solution().tree2str(root)"
   ]
  },
  {
   "cell_type": "code",
   "execution_count": null,
   "id": "c6069139",
   "metadata": {},
   "outputs": [],
   "source": [
    "def tree2str(self, t):\n",
    "    if not t: return ''\n",
    "    left = '({})'.format(self.tree2str(t.left)) if (t.left or t.right) else ''\n",
    "    right = '({})'.format(self.tree2str(t.right)) if t.right else ''\n",
    "    return '{}{}{}'.format(t.val, left, right)"
   ]
  },
  {
   "cell_type": "code",
   "execution_count": null,
   "id": "afbe5226",
   "metadata": {},
   "outputs": [],
   "source": [
    "class Solution(object):\n",
    "    def tree2str(self,t):\n",
    "        if not t: return \"\"\n",
    "        stack = []\n",
    "        stack.append(t)\n",
    "        res = \"\"\n",
    "        while stack:\n",
    "            node = stack.pop()\n",
    "            if node == \")\":\n",
    "                res += \")\"\n",
    "                continue\n",
    "            res += \"(\"+str(node.val)\n",
    "            if not node.left and  node.right:\n",
    "                res += \"()\"\n",
    "            if  node.right:\n",
    "                stack.append(\")\")\n",
    "                stack.append(node.right)\n",
    "            if  node.left:\n",
    "                stack.append(\")\")\n",
    "                stack.append(node.left)\n",
    "\n",
    "        return res[1:]"
   ]
  }
 ],
 "metadata": {
  "kernelspec": {
   "display_name": "Python 3",
   "language": "python",
   "name": "python3"
  },
  "language_info": {
   "codemirror_mode": {
    "name": "ipython",
    "version": 3
   },
   "file_extension": ".py",
   "mimetype": "text/x-python",
   "name": "python",
   "nbconvert_exporter": "python",
   "pygments_lexer": "ipython3",
   "version": "3.7.4"
  }
 },
 "nbformat": 4,
 "nbformat_minor": 5
}
