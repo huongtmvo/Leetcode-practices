{
 "cells": [
  {
   "cell_type": "markdown",
   "id": "c90b55d2",
   "metadata": {},
   "source": [
    "#### 1086. High Five"
   ]
  },
  {
   "cell_type": "markdown",
   "id": "59646552",
   "metadata": {},
   "source": [
    "Given a list of the scores of different students, items, where items[i] = [IDi, scorei] represents one score from a student with IDi, calculate each student's top five average.\n",
    "\n",
    "Return the answer as an array of pairs result, where result[j] = [IDj, topFiveAveragej] represents the student with IDj and their top five average. Sort result by IDj in increasing order.\n",
    "\n",
    "A student's top five average is calculated by taking the sum of their top five scores and dividing it by 5 using integer division.\n",
    "\n",
    " \n",
    "\n",
    "Example 1:\n",
    "\n",
    "Input: items = [[1,91],[1,92],[2,93],[2,97],[1,60],[2,77],[1,65],[1,87],[1,100],[2,100],[2,76]]\n",
    "Output: [[1,87],[2,88]]\n",
    "Explanation: \n",
    "The student with ID = 1 got scores 91, 92, 60, 65, 87, and 100. Their top five average is (100 + 92 + 91 + 87 + 65) / 5 = 87.\n",
    "The student with ID = 2 got scores 93, 97, 77, 100, and 76. Their top five average is (100 + 97 + 93 + 77 + 76) / 5 = 88.6, but with integer division their average converts to 88.\n",
    "Example 2:\n",
    "\n",
    "Input: items = [[1,100],[7,100],[1,100],[7,100],[1,100],[7,100],[1,100],[7,100],[1,100],[7,100]]\n",
    "Output: [[1,100],[7,100]]\n",
    " \n",
    "\n",
    "Constraints:\n",
    "\n",
    "1 <= items.length <= 1000\n",
    "items[i].length == 2\n",
    "1 <= IDi <= 1000\n",
    "0 <= scorei <= 100\n",
    "For each IDi, there will be at least five scores."
   ]
  },
  {
   "cell_type": "code",
   "execution_count": null,
   "id": "5a62e89a",
   "metadata": {},
   "outputs": [],
   "source": [
    "class Solution:\n",
    "    def highFive(self, items: List[List[int]]) -> List[List[int]]:\n",
    "        "
   ]
  }
 ],
 "metadata": {
  "kernelspec": {
   "display_name": "Python 3",
   "language": "python",
   "name": "python3"
  },
  "language_info": {
   "codemirror_mode": {
    "name": "ipython",
    "version": 3
   },
   "file_extension": ".py",
   "mimetype": "text/x-python",
   "name": "python",
   "nbconvert_exporter": "python",
   "pygments_lexer": "ipython3",
   "version": "3.7.4"
  }
 },
 "nbformat": 4,
 "nbformat_minor": 5
}
