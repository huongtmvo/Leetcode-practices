{
 "cells": [
  {
   "cell_type": "markdown",
   "id": "9a2cc7ad",
   "metadata": {},
   "source": [
    "### 2144. Minimum Cost of Buying Candies With Discount"
   ]
  },
  {
   "cell_type": "code",
   "execution_count": 4,
   "id": "e370e41e",
   "metadata": {},
   "outputs": [],
   "source": [
    "from typing import List\n",
    "class Solution:\n",
    "    def minimumCost(self, cost: List[int]) -> int:\n",
    "        n = len(cost)\n",
    "        if n <= 2:\n",
    "            return sum(cost)\n",
    "        \n",
    "        cost.sort(reverse=True)\n",
    "        ans = 0\n",
    "        for i in range(n):\n",
    "            if (i + 1) % 3 != 0:\n",
    "                ans += cost[i]\n",
    "        return ans\n",
    "# Time: O(nlog(n))\n",
    "# Space: O(1)"
   ]
  },
  {
   "cell_type": "code",
   "execution_count": 5,
   "id": "50ae289c",
   "metadata": {},
   "outputs": [
    {
     "data": {
      "text/plain": [
       "23"
      ]
     },
     "execution_count": 5,
     "metadata": {},
     "output_type": "execute_result"
    }
   ],
   "source": [
    "cost = [6,5,7,9,2,2]\n",
    "Solution().minimumCost(cost)"
   ]
  },
  {
   "cell_type": "code",
   "execution_count": 6,
   "id": "de184f81",
   "metadata": {},
   "outputs": [
    {
     "data": {
      "text/plain": [
       "5"
      ]
     },
     "execution_count": 6,
     "metadata": {},
     "output_type": "execute_result"
    }
   ],
   "source": [
    "cost = [1,2,3]\n",
    "Solution().minimumCost(cost)"
   ]
  },
  {
   "cell_type": "code",
   "execution_count": 8,
   "id": "a6885e81",
   "metadata": {},
   "outputs": [
    {
     "data": {
      "text/plain": [
       "10"
      ]
     },
     "execution_count": 8,
     "metadata": {},
     "output_type": "execute_result"
    }
   ],
   "source": [
    "cost = [5,5]\n",
    "Solution().minimumCost(cost)      "
   ]
  },
  {
   "cell_type": "code",
   "execution_count": null,
   "id": "8bb0d1d5",
   "metadata": {},
   "outputs": [],
   "source": []
  }
 ],
 "metadata": {
  "kernelspec": {
   "display_name": "Python 3",
   "language": "python",
   "name": "python3"
  },
  "language_info": {
   "codemirror_mode": {
    "name": "ipython",
    "version": 3
   },
   "file_extension": ".py",
   "mimetype": "text/x-python",
   "name": "python",
   "nbconvert_exporter": "python",
   "pygments_lexer": "ipython3",
   "version": "3.7.4"
  }
 },
 "nbformat": 4,
 "nbformat_minor": 5
}
