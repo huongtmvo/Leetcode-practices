{
 "cells": [
  {
   "cell_type": "markdown",
   "id": "33dbe459",
   "metadata": {},
   "source": [
    "### 2006. Count Number of Pairs With Absolute Difference K"
   ]
  },
  {
   "cell_type": "code",
   "execution_count": 30,
   "id": "80d04dd1",
   "metadata": {},
   "outputs": [],
   "source": [
    "from typing import List\n",
    "from collections import defaultdict\n",
    "\n",
    "class Solution:\n",
    "    def countKDifference(self, nums:List[int],k:int) -> int:\n",
    "        seen = defaultdict(int)\n",
    "        count = 0\n",
    "        # Find the 2 numbers that are K difference from num\n",
    "        for num in nums:\n",
    "            kdiff1 = num - k\n",
    "            kdiff2 = num + k\n",
    "            if kdiff1 in seen: count += seen[kdiff1]\n",
    "            if kdiff2 in seen: count += seen[kdiff2]\n",
    "            seen[num] += 1\n",
    "        return count\n",
    "# Time complexity: O(N)\n",
    "# Space: O(N)"
   ]
  },
  {
   "cell_type": "code",
   "execution_count": 31,
   "id": "13dcfc5c",
   "metadata": {},
   "outputs": [
    {
     "data": {
      "text/plain": [
       "4"
      ]
     },
     "execution_count": 31,
     "metadata": {},
     "output_type": "execute_result"
    }
   ],
   "source": [
    "nums = [1,1,2,2]; k = 1\n",
    "Solution().countKDifference(nums,k)"
   ]
  },
  {
   "cell_type": "code",
   "execution_count": 33,
   "id": "c2ddc0b1",
   "metadata": {},
   "outputs": [
    {
     "data": {
      "text/plain": [
       "3"
      ]
     },
     "execution_count": 33,
     "metadata": {},
     "output_type": "execute_result"
    }
   ],
   "source": [
    "nums = [3,2,1,5,4]; k = 2\n",
    "Solution().countKDifference(nums,k)"
   ]
  },
  {
   "cell_type": "code",
   "execution_count": 9,
   "id": "8c18278b",
   "metadata": {},
   "outputs": [],
   "source": [
    "from typing import List\n",
    "class Solution:\n",
    "    # brute force: slow\n",
    "    def countKDifference2(self, nums: List[int], k: int) -> int:\n",
    "        count = 0\n",
    "        for i in range(len(nums)-1):\n",
    "            for j in range(i, len(nums)):\n",
    "                if i < j and abs(nums[i] - nums[j]) == k:\n",
    "                    count += 1\n",
    "        return count  \n",
    "    # Time: O(N^2)\n",
    "    # Space: O(1)"
   ]
  }
 ],
 "metadata": {
  "kernelspec": {
   "display_name": "Python 3",
   "language": "python",
   "name": "python3"
  },
  "language_info": {
   "codemirror_mode": {
    "name": "ipython",
    "version": 3
   },
   "file_extension": ".py",
   "mimetype": "text/x-python",
   "name": "python",
   "nbconvert_exporter": "python",
   "pygments_lexer": "ipython3",
   "version": "3.7.4"
  }
 },
 "nbformat": 4,
 "nbformat_minor": 5
}
