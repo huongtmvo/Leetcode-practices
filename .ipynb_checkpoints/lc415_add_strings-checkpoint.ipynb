{
 "cells": [
  {
   "cell_type": "markdown",
   "id": "4fd9f8ce",
   "metadata": {},
   "source": [
    "#### 415. Add Strings"
   ]
  },
  {
   "cell_type": "markdown",
   "id": "edfa4440",
   "metadata": {},
   "source": [
    "Given two non-negative integers, num1 and num2 represented as string, return the sum of num1 and num2 as a string.\n",
    "\n",
    "You must solve the problem without using any built-in library for handling large integers (such as BigInteger). You must also not convert the inputs to integers directly."
   ]
  },
  {
   "cell_type": "markdown",
   "id": "e6767f0f",
   "metadata": {},
   "source": [
    "Input: num1 = \"11\", num2 = \"123\"\n",
    "Output: \"134\""
   ]
  },
  {
   "cell_type": "markdown",
   "id": "f3f6d603",
   "metadata": {},
   "source": [
    "Input: num1 = \"456\", num2 = \"77\"\n",
    "Output: \"533\""
   ]
  },
  {
   "cell_type": "markdown",
   "id": "97f5cf37",
   "metadata": {},
   "source": [
    "Input: num1 = \"0\", num2 = \"0\"\n",
    "Output: \"0\""
   ]
  },
  {
   "cell_type": "markdown",
   "id": "84e609cf",
   "metadata": {},
   "source": [
    "1 <= num1.length, num2.length <= 104\n",
    "num1 and num2 consist of only digits.\n",
    "num1 and num2 don't have any leading zeros except for the zero itself."
   ]
  },
  {
   "cell_type": "code",
   "execution_count": null,
   "id": "8c12ea7e",
   "metadata": {},
   "outputs": [],
   "source": [
    "class Solution:\n",
    "    def addStrings(self, num1: str, num2: str) -> str:\n",
    "        \n",
    "        "
   ]
  },
  {
   "cell_type": "code",
   "execution_count": null,
   "id": "e76c8e39",
   "metadata": {},
   "outputs": [],
   "source": [
    "public class Solution {\n",
    "    public String addStrings(String num1, String num2) {\n",
    "        StringBuilder sb = new StringBuilder();\n",
    "        int carry = 0;\n",
    "        for(int i = num1.length() - 1, j = num2.length() - 1; i >= 0 || j >= 0 || carry == 1; i--, j--){\n",
    "            int x = i < 0 ? 0 : num1.charAt(i) - '0';\n",
    "            int y = j < 0 ? 0 : num2.charAt(j) - '0';\n",
    "            sb.append((x + y + carry) % 10);\n",
    "            carry = (x + y + carry) / 10;\n",
    "        }\n",
    "        return sb.reverse().toString();"
   ]
  },
  {
   "cell_type": "code",
   "execution_count": null,
   "id": "c176834a",
   "metadata": {},
   "outputs": [],
   "source": [
    "class Solution(object):\n",
    "    def addStrings(self, num1, num2):\n",
    "        \"\"\"\n",
    "        :type num1: str\n",
    "        :type num2: str\n",
    "        :rtype: str\n",
    "        \"\"\"\n",
    "        num1, num2 = list(num1), list(num2)\n",
    "        carry, res = 0, []\n",
    "        while len(num2) > 0 or len(num1) > 0:\n",
    "            n1 = ord(num1.pop())-ord('0') if len(num1) > 0 else 0\n",
    "            n2 = ord(num2.pop())-ord('0') if len(num2) > 0 else 0\n",
    "            \n",
    "            temp = n1 + n2 + carry \n",
    "            res.append(temp % 10)\n",
    "            carry = temp // 10\n",
    "        if carry: res.append(carry)\n",
    "        return ''.join([str(i) for i in res])[::-1]"
   ]
  },
  {
   "cell_type": "code",
   "execution_count": null,
   "id": "14b3237b",
   "metadata": {},
   "outputs": [],
   "source": [
    "class Solution:\n",
    "    def addStrings(self, num1: str, num2: str) -> str:\n",
    "        ans = []\n",
    "        i1, i2 = len(num1) - 1, len(num2) - 1\n",
    "        carry = 0\n",
    "        while i1 >= 0 or i2 >= 0 or carry > 0:\n",
    "            if i1 >= 0:\n",
    "                carry += ord(num1[i1]) - ord('0')\n",
    "                i1 -= 1\n",
    "            if i2 >= 0:\n",
    "                carry += ord(num2[i2]) - ord('0')\n",
    "                i2 -= 1\n",
    "            ans.append(chr(carry % 10 + ord('0')))\n",
    "            carry //= 10\n",
    "        return \"\".join(ans)[::-1]"
   ]
  },
  {
   "cell_type": "code",
   "execution_count": 2,
   "id": "d0f539fe",
   "metadata": {},
   "outputs": [
    {
     "data": {
      "text/plain": [
       "97"
      ]
     },
     "execution_count": 2,
     "metadata": {},
     "output_type": "execute_result"
    }
   ],
   "source": [
    "ord('a')"
   ]
  },
  {
   "cell_type": "code",
   "execution_count": null,
   "id": "8b7fbe27",
   "metadata": {},
   "outputs": [],
   "source": []
  }
 ],
 "metadata": {
  "kernelspec": {
   "display_name": "Python 3",
   "language": "python",
   "name": "python3"
  },
  "language_info": {
   "codemirror_mode": {
    "name": "ipython",
    "version": 3
   },
   "file_extension": ".py",
   "mimetype": "text/x-python",
   "name": "python",
   "nbconvert_exporter": "python",
   "pygments_lexer": "ipython3",
   "version": "3.7.4"
  }
 },
 "nbformat": 4,
 "nbformat_minor": 5
}
