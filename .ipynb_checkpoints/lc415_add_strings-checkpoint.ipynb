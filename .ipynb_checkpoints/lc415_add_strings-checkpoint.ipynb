{
 "cells": [
  {
   "cell_type": "markdown",
   "id": "4fd9f8ce",
   "metadata": {},
   "source": [
    "#### 415. Add Strings"
   ]
  },
  {
   "cell_type": "code",
   "execution_count": 2,
   "id": "8c12ea7e",
   "metadata": {},
   "outputs": [],
   "source": [
    "class Solution:\n",
    "    def addStrings(self, num1: str, num2: str) -> str:\n",
    "        num1, num2 = list(num1), list(num2)\n",
    "        carry, res = 0, []\n",
    "        \n",
    "        while len(num1) > 0 or len(num2) > 0:\n",
    "            n1 = ord(num1.pop()) - ord('0') if len(num1) > 0 else 0\n",
    "            n2 = ord(num2.pop()) - ord('0') if len(num2) > 0 else 0\n",
    "            \n",
    "            temp = n1 + n2 + carry\n",
    "            res.append(temp % 10)\n",
    "            carry = temp//10\n",
    "        if carry:\n",
    "            res.append(carry)\n",
    "        return ''.join([str(i) for i in res])[::-1]     "
   ]
  },
  {
   "cell_type": "code",
   "execution_count": 6,
   "id": "d0f539fe",
   "metadata": {},
   "outputs": [
    {
     "data": {
      "text/plain": [
       "int"
      ]
     },
     "execution_count": 6,
     "metadata": {},
     "output_type": "execute_result"
    }
   ],
   "source": [
    "type(ord('9') - ord('0'))"
   ]
  },
  {
   "cell_type": "code",
   "execution_count": 3,
   "id": "e4dea1f5",
   "metadata": {},
   "outputs": [
    {
     "data": {
      "text/plain": [
       "'134'"
      ]
     },
     "execution_count": 3,
     "metadata": {},
     "output_type": "execute_result"
    }
   ],
   "source": [
    "num1 = \"11\"; num2 = \"123\"\n",
    "Solution().addStrings(num1,num2)"
   ]
  },
  {
   "cell_type": "code",
   "execution_count": 5,
   "id": "2fed273e",
   "metadata": {},
   "outputs": [
    {
     "data": {
      "text/plain": [
       "'533'"
      ]
     },
     "execution_count": 5,
     "metadata": {},
     "output_type": "execute_result"
    }
   ],
   "source": [
    "num1 = \"456\"; num2 = \"77\"\n",
    "Solution().addStrings(num1,num2)"
   ]
  },
  {
   "cell_type": "code",
   "execution_count": 7,
   "id": "18dd5543",
   "metadata": {},
   "outputs": [
    {
     "data": {
      "text/plain": [
       "'0'"
      ]
     },
     "execution_count": 7,
     "metadata": {},
     "output_type": "execute_result"
    }
   ],
   "source": [
    "num1 = \"0\"; num2 = \"0\"\n",
    "Solution().addStrings(num1,num2)"
   ]
  },
  {
   "cell_type": "code",
   "execution_count": 8,
   "id": "f0e6d2bc",
   "metadata": {},
   "outputs": [
    {
     "data": {
      "text/plain": [
       "'1098'"
      ]
     },
     "execution_count": 8,
     "metadata": {},
     "output_type": "execute_result"
    }
   ],
   "source": [
    "num1 = '99'; num2 = '999'\n",
    "Solution().addStrings(num1,num2)"
   ]
  },
  {
   "cell_type": "code",
   "execution_count": null,
   "id": "b45cfe93",
   "metadata": {},
   "outputs": [],
   "source": []
  }
 ],
 "metadata": {
  "kernelspec": {
   "display_name": "Python 3",
   "language": "python",
   "name": "python3"
  },
  "language_info": {
   "codemirror_mode": {
    "name": "ipython",
    "version": 3
   },
   "file_extension": ".py",
   "mimetype": "text/x-python",
   "name": "python",
   "nbconvert_exporter": "python",
   "pygments_lexer": "ipython3",
   "version": "3.7.4"
  }
 },
 "nbformat": 4,
 "nbformat_minor": 5
}
