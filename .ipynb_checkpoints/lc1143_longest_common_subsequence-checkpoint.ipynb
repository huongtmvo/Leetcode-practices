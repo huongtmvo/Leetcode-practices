{
 "cells": [
  {
   "cell_type": "markdown",
   "id": "6c456601",
   "metadata": {},
   "source": [
    "#### 1143. Longest Common Subsequence\n",
    "\n",
    "Given two strings text1 and text2, return the length of their longest common subsequence. If there is no common subsequence, return 0.\n",
    "\n",
    "A subsequence of a string is a new string generated from the original string with some characters (can be none) deleted without changing the relative order of the remaining characters.\n",
    "\n",
    "For example, \"ace\" is a subsequence of \"abcde\".\n",
    "A common subsequence of two strings is a subsequence that is common to both strings.\n",
    "\n",
    "\n",
    "Example 1:\n",
    "Input: text1 = \"abcde\", text2 = \"ace\" \n",
    "Output: 3  \n",
    "Explanation: The longest common subsequence is \"ace\" and its length is 3.\n",
    "\n",
    "Example 2:\n",
    "Input: text1 = \"abc\", text2 = \"abc\"\n",
    "Output: 3\n",
    "Explanation: The longest common subsequence is \"abc\" and its length is 3.\n",
    "\n",
    "Example 3:\n",
    "Input: text1 = \"abc\", text2 = \"def\"\n",
    "Output: 0\n",
    "Explanation: There is no such common subsequence, so the result is 0.\n",
    " \n",
    "\n",
    "Constraints:\n",
    "\n",
    "1 <= text1.length, text2.length <= 1000\n",
    "text1 and text2 consist of only lowercase English characters."
   ]
  },
  {
   "cell_type": "code",
   "execution_count": 1,
   "id": "bee20e2d",
   "metadata": {},
   "outputs": [
    {
     "ename": "SyntaxError",
     "evalue": "unexpected EOF while parsing (<ipython-input-1-d6d7170449d5>, line 2)",
     "output_type": "error",
     "traceback": [
      "\u001b[0;36m  File \u001b[0;32m\"<ipython-input-1-d6d7170449d5>\"\u001b[0;36m, line \u001b[0;32m2\u001b[0m\n\u001b[0;31m    def longestCommonSubsequence(self, text1: str, text2: str) -> int:\u001b[0m\n\u001b[0m                                                                      ^\u001b[0m\n\u001b[0;31mSyntaxError\u001b[0m\u001b[0;31m:\u001b[0m unexpected EOF while parsing\n"
     ]
    }
   ],
   "source": [
    "class Solution:\n",
    "    def longestCommonSubsequence(self, text1: str, text2: str) -> int:\n",
    "        def opt(n, m):\n",
    "            \n",
    "            \n",
    "        "
   ]
  },
  {
   "cell_type": "code",
   "execution_count": 2,
   "id": "eef4578f",
   "metadata": {},
   "outputs": [],
   "source": [
    "s = \"abcd\"\n",
    "t = \"dfdfds\"\n"
   ]
  },
  {
   "cell_type": "code",
   "execution_count": 3,
   "id": "23fae6ee",
   "metadata": {},
   "outputs": [
    {
     "data": {
      "text/plain": [
       "'ab'"
      ]
     },
     "execution_count": 3,
     "metadata": {},
     "output_type": "execute_result"
    }
   ],
   "source": [
    "s[0:2]"
   ]
  },
  {
   "cell_type": "code",
   "execution_count": null,
   "id": "55c914c7",
   "metadata": {},
   "outputs": [],
   "source": []
  }
 ],
 "metadata": {
  "kernelspec": {
   "display_name": "Python 3",
   "language": "python",
   "name": "python3"
  },
  "language_info": {
   "codemirror_mode": {
    "name": "ipython",
    "version": 3
   },
   "file_extension": ".py",
   "mimetype": "text/x-python",
   "name": "python",
   "nbconvert_exporter": "python",
   "pygments_lexer": "ipython3",
   "version": "3.7.4"
  }
 },
 "nbformat": 4,
 "nbformat_minor": 5
}
