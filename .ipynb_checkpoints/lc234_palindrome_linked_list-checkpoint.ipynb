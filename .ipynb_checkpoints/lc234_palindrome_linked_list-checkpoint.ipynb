{
 "cells": [
  {
   "cell_type": "markdown",
   "id": "2c4227b7",
   "metadata": {},
   "source": [
    "https://leetcode.com/problems/palindrome-linked-list/"
   ]
  },
  {
   "cell_type": "code",
   "execution_count": 2,
   "id": "f02b5f84",
   "metadata": {},
   "outputs": [],
   "source": [
    "from typing import Optional\n",
    "# Definition for singly-linked list.\n",
    "class ListNode:\n",
    "    def __init__(self, val=0, next=None):\n",
    "        self.val = val\n",
    "        self.next = next\n",
    "        \n",
    "class Solution:\n",
    "    def isPalindrome(self, head: Optional[ListNode]) -> bool:\n",
    "        cur = head\n",
    "        res = []\n",
    "        while cur:\n",
    "            res.append(cur.val)\n",
    "            cur = cur.next\n",
    "        \n",
    "        l, r = 0, len(res) - 1\n",
    "        while l < r:\n",
    "            if res[l] == res[r]:\n",
    "                l += 1\n",
    "                r -= 1\n",
    "            else:\n",
    "                return False\n",
    "        return True\n",
    "    \n",
    "    def isPalindrome(self, head: Optional[ListNode]) -> bool:\n",
    "        # O(n) run time with O(1) space\n",
    "        fast = head\n",
    "        slow = head\n",
    "        while fast and fast.next:\n",
    "            slow = slow.next\n",
    "            fast = fast.next.next\n",
    "        \n",
    "        prev = None\n",
    "        cur = slow\n",
    "        while cur:\n",
    "            nxt = cur.next\n",
    "            cur.next = prev\n",
    "            prev = cur\n",
    "            cur = nxt\n",
    "        newHead = prev\n",
    "        \n",
    "        cur1 = head\n",
    "        cur2 = newHead\n",
    "        while cur1 and cur2:\n",
    "            if cur1.val != cur2.val:\n",
    "                return False\n",
    "            cur1 = cur1.next\n",
    "            cur2 = cur2.next\n",
    "        return True\n",
    "        "
   ]
  },
  {
   "cell_type": "code",
   "execution_count": null,
   "id": "37c33759",
   "metadata": {},
   "outputs": [],
   "source": []
  }
 ],
 "metadata": {
  "kernelspec": {
   "display_name": "Python 3",
   "language": "python",
   "name": "python3"
  },
  "language_info": {
   "codemirror_mode": {
    "name": "ipython",
    "version": 3
   },
   "file_extension": ".py",
   "mimetype": "text/x-python",
   "name": "python",
   "nbconvert_exporter": "python",
   "pygments_lexer": "ipython3",
   "version": "3.7.4"
  }
 },
 "nbformat": 4,
 "nbformat_minor": 5
}
