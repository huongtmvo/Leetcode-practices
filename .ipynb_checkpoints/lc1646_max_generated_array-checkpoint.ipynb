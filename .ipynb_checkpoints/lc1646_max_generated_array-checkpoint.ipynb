{
 "cells": [
  {
   "cell_type": "markdown",
   "id": "545d8e70",
   "metadata": {},
   "source": [
    "### 1646. Get Maximum in Generated Array"
   ]
  },
  {
   "cell_type": "code",
   "execution_count": null,
   "id": "454995e5",
   "metadata": {},
   "outputs": [],
   "source": [
    "ready to push"
   ]
  },
  {
   "cell_type": "code",
   "execution_count": 20,
   "id": "adc01f97",
   "metadata": {},
   "outputs": [],
   "source": [
    "class Solution:\n",
    "    # Bottom up solution: \n",
    "    # Time complexity: O(n)\n",
    "    # Space: O(n)\n",
    "    def getMaximumGeneratedBU(self, n: int) -> int:\n",
    "        nums = [0] * (n+1)\n",
    "        nums[0] = 0\n",
    "        if n >= 1:\n",
    "            nums[1] = 1\n",
    "            for i in range(2, n+1):\n",
    "                if i % 2 == 0: nums[i] = nums[i//2]\n",
    "                else: nums[i] = nums[i//2] + nums[i//2 + 1]\n",
    "        return max(nums) "
   ]
  },
  {
   "cell_type": "code",
   "execution_count": 21,
   "id": "0eea421e",
   "metadata": {},
   "outputs": [
    {
     "data": {
      "text/plain": [
       "3"
      ]
     },
     "execution_count": 21,
     "metadata": {},
     "output_type": "execute_result"
    }
   ],
   "source": [
    "n = 7\n",
    "Solution().getMaximumGenerated(n)"
   ]
  },
  {
   "cell_type": "code",
   "execution_count": 23,
   "id": "ecd9f9c3",
   "metadata": {},
   "outputs": [
    {
     "data": {
      "text/plain": [
       "1"
      ]
     },
     "execution_count": 23,
     "metadata": {},
     "output_type": "execute_result"
    }
   ],
   "source": [
    "n = 1\n",
    "Solution().getMaximumGenerated(n)"
   ]
  }
 ],
 "metadata": {
  "kernelspec": {
   "display_name": "Python 3",
   "language": "python",
   "name": "python3"
  },
  "language_info": {
   "codemirror_mode": {
    "name": "ipython",
    "version": 3
   },
   "file_extension": ".py",
   "mimetype": "text/x-python",
   "name": "python",
   "nbconvert_exporter": "python",
   "pygments_lexer": "ipython3",
   "version": "3.7.4"
  }
 },
 "nbformat": 4,
 "nbformat_minor": 5
}
