{
 "cells": [
  {
   "cell_type": "markdown",
   "id": "bf3e1c92",
   "metadata": {},
   "source": [
    "https://leetcode.com/problems/univalued-binary-tree/"
   ]
  },
  {
   "cell_type": "code",
   "execution_count": null,
   "id": "fbacbfdf",
   "metadata": {},
   "outputs": [],
   "source": [
    "# Definition for a binary tree node.\n",
    "# class TreeNode:\n",
    "#     def __init__(self, val=0, left=None, right=None):\n",
    "#         self.val = val\n",
    "#         self.left = left\n",
    "#         self.right = right\n",
    "class Solution:\n",
    "    # Solution 1: print all the values of nodes out and compare them\n",
    "    def isUnivalTree2(self, root: Optional[TreeNode]) -> bool:\n",
    "        res = []\n",
    "        self.preOrder(root,res)\n",
    "        \n",
    "        for i in range(1, len(res)):\n",
    "            if res[0] != res[i]: \n",
    "                return False\n",
    "        return True\n",
    "          \n",
    "    def preOrder(self, root, res):\n",
    "        if root:\n",
    "            res.append(root.val)\n",
    "            self.preOrder(root.left, res)\n",
    "            self.preOrder(root.right, res)\n",
    "        \n",
    "       \n",
    "    # Solution 2: reversal, comparing the values of nodes with root\n",
    "    def isUnivalTree(self, root: Optional[TreeNode]) -> bool:\n",
    "        if not root:\n",
    "            return True\n",
    "        if root.left:\n",
    "            if root.left.val != root.val:\n",
    "                return False\n",
    "        if root.right:\n",
    "            if root.right.val != root.val:\n",
    "                return False\n",
    "        return self.isUnivalTree(root.left) and self.isUnivalTree(root.right)"
   ]
  }
 ],
 "metadata": {
  "kernelspec": {
   "display_name": "Python 3",
   "language": "python",
   "name": "python3"
  },
  "language_info": {
   "codemirror_mode": {
    "name": "ipython",
    "version": 3
   },
   "file_extension": ".py",
   "mimetype": "text/x-python",
   "name": "python",
   "nbconvert_exporter": "python",
   "pygments_lexer": "ipython3",
   "version": "3.7.4"
  }
 },
 "nbformat": 4,
 "nbformat_minor": 5
}
