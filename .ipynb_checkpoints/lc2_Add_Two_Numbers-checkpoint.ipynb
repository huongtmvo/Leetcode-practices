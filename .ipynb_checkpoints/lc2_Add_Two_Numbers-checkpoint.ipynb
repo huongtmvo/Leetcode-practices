{
 "cells": [
  {
   "cell_type": "markdown",
   "id": "52dcb690",
   "metadata": {},
   "source": [
    "https://leetcode.com/problems/add-two-numbers/"
   ]
  },
  {
   "cell_type": "code",
   "execution_count": null,
   "id": "7d834ca9",
   "metadata": {},
   "outputs": [],
   "source": [
    "class ListNode:\n",
    "    def __init__(self, val=0):\n",
    "        self.val = val\n",
    "        self.next = None\n",
    "\n",
    "class Solution:\n",
    "    def addTwoNumbers(self, l1: Optional[ListNode], l2: Optional[ListNode]) -> Optional[ListNode]:\n",
    "      \n",
    "        value = (l1.val + l2.val) % 10 \n",
    "        carry = (l1.val + l2.val) // 10\n",
    "        l = ListNode(val = value)\n",
    "        cur = l\n",
    "        l1, l2 = l1.next, l2.next\n",
    "            \n",
    "        while l1 and l2:   \n",
    "            value = (l1.val + l2.val+ carry) % 10 \n",
    "            carry = (l1.val + l2.val+ carry) // 10\n",
    "            cur.next = ListNode(val = value)\n",
    "            cur = cur.next\n",
    "            l1, l2 = l1.next, l2.next\n",
    "            \n",
    "        while l1: \n",
    "            value = (l1.val + carry) % 10\n",
    "            carry = (l1.val + carry) // 10\n",
    "            cur.next = ListNode(val=value)\n",
    "            cur = cur.next\n",
    "            l1 = l1.next\n",
    "            \n",
    "        while l2:\n",
    "            value = (l2.val + carry) % 10\n",
    "            carry = (l2.val + carry) // 10\n",
    "            cur.next = ListNode(val=value)\n",
    "            cur = cur.next\n",
    "            l2 = l2.next\n",
    "        if carry > 0:\n",
    "            cur.next = ListNode(val=carry)\n",
    "        return l     \n",
    "        "
   ]
  }
 ],
 "metadata": {
  "kernelspec": {
   "display_name": "Python 3",
   "language": "python",
   "name": "python3"
  },
  "language_info": {
   "codemirror_mode": {
    "name": "ipython",
    "version": 3
   },
   "file_extension": ".py",
   "mimetype": "text/x-python",
   "name": "python",
   "nbconvert_exporter": "python",
   "pygments_lexer": "ipython3",
   "version": "3.7.4"
  }
 },
 "nbformat": 4,
 "nbformat_minor": 5
}
