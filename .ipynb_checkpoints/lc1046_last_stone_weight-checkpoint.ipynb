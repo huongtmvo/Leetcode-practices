{
 "cells": [
  {
   "cell_type": "markdown",
   "id": "1fc41543",
   "metadata": {},
   "source": [
    "#### 1046. Last Stone Weight"
   ]
  },
  {
   "cell_type": "markdown",
   "id": "557383f6",
   "metadata": {},
   "source": [
    "1 <= stones.length <= 30\n",
    "1 <= stones[i] <= 1000"
   ]
  },
  {
   "cell_type": "code",
   "execution_count": 26,
   "id": "9882e009",
   "metadata": {},
   "outputs": [],
   "source": [
    "from typing import List\n",
    "class Solution:\n",
    "    def lastStoneWeight(self, stones: List[int]) -> int:\n",
    "        if len(stones) <= 1:\n",
    "            return stones[0]\n",
    "        neg = [-x for x in stones]\n",
    "        heapify(neg)\n",
    "        while len(neg) > 1: \n",
    "            y, x = -heappop(neg),-heappop(neg)\n",
    "            heappush(neg,-(y-x))\n",
    "        return -heappop(neg)       \n",
    "\n",
    "# Time: O(NlogN)\n",
    "# Space: O(N)"
   ]
  },
  {
   "cell_type": "code",
   "execution_count": 27,
   "id": "c58bb8d3",
   "metadata": {
    "scrolled": true
   },
   "outputs": [
    {
     "data": {
      "text/plain": [
       "1"
      ]
     },
     "execution_count": 27,
     "metadata": {},
     "output_type": "execute_result"
    }
   ],
   "source": [
    "stones = [2,7,4,1,8,1]\n",
    "Solution().lastStoneWeight(stones)"
   ]
  },
  {
   "cell_type": "code",
   "execution_count": null,
   "id": "b4e12117",
   "metadata": {},
   "outputs": [],
   "source": []
  }
 ],
 "metadata": {
  "kernelspec": {
   "display_name": "Python 3",
   "language": "python",
   "name": "python3"
  },
  "language_info": {
   "codemirror_mode": {
    "name": "ipython",
    "version": 3
   },
   "file_extension": ".py",
   "mimetype": "text/x-python",
   "name": "python",
   "nbconvert_exporter": "python",
   "pygments_lexer": "ipython3",
   "version": "3.7.4"
  }
 },
 "nbformat": 4,
 "nbformat_minor": 5
}
