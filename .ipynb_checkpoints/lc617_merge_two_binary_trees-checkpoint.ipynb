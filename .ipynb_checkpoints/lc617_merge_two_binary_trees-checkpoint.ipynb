{
 "cells": [
  {
   "cell_type": "markdown",
   "metadata": {
    "id": "ypTPn-5QiXV_"
   },
   "source": [
    "https://leetcode.com/problems/merge-two-binary-trees/"
   ]
  },
  {
   "cell_type": "code",
   "execution_count": 2,
   "metadata": {
    "executionInfo": {
     "elapsed": 169,
     "status": "ok",
     "timestamp": 1642699867129,
     "user": {
      "displayName": "Huong Vo",
      "photoUrl": "https://lh3.googleusercontent.com/a-/AOh14Gjj47kLBDWvCWIsppoI9Meb2K-abmOLhHZ3-y9i=s64",
      "userId": "06024641955657481731"
     },
     "user_tz": 480
    },
    "id": "D7KUDq7PiLpx"
   },
   "outputs": [],
   "source": [
    "# Definition for a binary TreeNode class\n",
    "class TreeNode:\n",
    "    def __init__(self, val=0, left=None, right=None):\n",
    "        self.val = val\n",
    "        self.left = left\n",
    "        self.right = right"
   ]
  },
  {
   "cell_type": "code",
   "execution_count": 7,
   "metadata": {
    "executionInfo": {
     "elapsed": 164,
     "status": "ok",
     "timestamp": 1642700686569,
     "user": {
      "displayName": "Huong Vo",
      "photoUrl": "https://lh3.googleusercontent.com/a-/AOh14Gjj47kLBDWvCWIsppoI9Meb2K-abmOLhHZ3-y9i=s64",
      "userId": "06024641955657481731"
     },
     "user_tz": 480
    },
    "id": "1vWeOFv8ioCL"
   },
   "outputs": [],
   "source": [
    "from typing import Optional\n",
    "class Solution:\n",
    "        def mergeTrees(self, root1: Optional[TreeNode], root2: Optional[TreeNode]) -> Optional[TreeNode]:\n",
    "            if root1 and root2:\n",
    "               root = TreeNode(root1.val + root2.val)\n",
    "               root.left = self.mergeTrees(root1.left, root2.left)\n",
    "               root.right = self.mergeTrees(root1.right, root2.right)\n",
    "               return root\n",
    "            else:\n",
    "                return root1 or root2"
   ]
  },
  {
   "cell_type": "code",
   "execution_count": null,
   "metadata": {
    "id": "lJMOKsF6j5vc"
   },
   "outputs": [],
   "source": []
  },
  {
   "cell_type": "code",
   "execution_count": null,
   "metadata": {
    "id": "2qiavt_yi0c3"
   },
   "outputs": [],
   "source": []
  }
 ],
 "metadata": {
  "colab": {
   "authorship_tag": "ABX9TyNzu+o8qerfMx3StziqDsAI",
   "collapsed_sections": [],
   "name": "lc617_merge_two_binary_trees.ipynb",
   "provenance": []
  },
  "kernelspec": {
   "display_name": "Python 3",
   "language": "python",
   "name": "python3"
  },
  "language_info": {
   "codemirror_mode": {
    "name": "ipython",
    "version": 3
   },
   "file_extension": ".py",
   "mimetype": "text/x-python",
   "name": "python",
   "nbconvert_exporter": "python",
   "pygments_lexer": "ipython3",
   "version": "3.7.4"
  }
 },
 "nbformat": 4,
 "nbformat_minor": 1
}
