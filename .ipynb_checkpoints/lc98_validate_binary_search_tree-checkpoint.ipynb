{
 "cells": [
  {
   "cell_type": "markdown",
   "id": "b56af781",
   "metadata": {},
   "source": [
    "https://leetcode.com/problems/validate-binary-search-tree/"
   ]
  },
  {
   "cell_type": "code",
   "execution_count": 1,
   "id": "372df131",
   "metadata": {},
   "outputs": [],
   "source": [
    "class TreeNode:\n",
    "    def __init__(self, val=0, left=None, right=None):\n",
    "        self.val = val\n",
    "        self.left = left\n",
    "        self.right = right"
   ]
  },
  {
   "cell_type": "code",
   "execution_count": 3,
   "id": "b76c64cf",
   "metadata": {},
   "outputs": [],
   "source": [
    "from typing import Optional\n",
    "class Solution:\n",
    "    # Solution1: print In order the values of the tree and check if they're strictly increasing\n",
    "    # Time complexity: O(n). Space complexity; O(n) extra space\n",
    "    def isValidBST(self, root: Optional[TreeNode]) -> bool:\n",
    "        self.res = []\n",
    "        self.inOrder(root)\n",
    "        \n",
    "        for i in range(len(self.res) - 1):\n",
    "            if res[i] >= res[i+1]:\n",
    "                return False\n",
    "        return True\n",
    "    \n",
    "    def inOrder(self, root):\n",
    "        if root:\n",
    "            self.inOrder(root.left)\n",
    "            self.res.append(root.val)\n",
    "            self.inOrder(root.right)\n",
    "          \n",
    "    # Solution2: Recursive\n",
    "    def checkBST(self, node, left, right):\n",
    "        if not node:\n",
    "            return True\n",
    "        if not left < node.val < right:\n",
    "            return False\n",
    "        return self.checkBST(node.left, left, node.val) and self.checkBST(node.right, node.val, right)\n",
    "    \n",
    "    def isValidBST(self, root):\n",
    "        return self.checkBST(root, float(-'inf'), float('inf'))\n",
    "    "
   ]
  }
 ],
 "metadata": {
  "kernelspec": {
   "display_name": "Python 3",
   "language": "python",
   "name": "python3"
  },
  "language_info": {
   "codemirror_mode": {
    "name": "ipython",
    "version": 3
   },
   "file_extension": ".py",
   "mimetype": "text/x-python",
   "name": "python",
   "nbconvert_exporter": "python",
   "pygments_lexer": "ipython3",
   "version": "3.7.4"
  }
 },
 "nbformat": 4,
 "nbformat_minor": 5
}
