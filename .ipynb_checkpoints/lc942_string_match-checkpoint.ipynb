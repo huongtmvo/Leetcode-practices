{
 "cells": [
  {
   "cell_type": "markdown",
   "id": "1b2b5852",
   "metadata": {},
   "source": [
    "### 942. DI String Match"
   ]
  },
  {
   "cell_type": "markdown",
   "id": "39d826dd",
   "metadata": {},
   "source": [
    "# Why so slow?"
   ]
  },
  {
   "cell_type": "code",
   "execution_count": 20,
   "id": "92154014",
   "metadata": {},
   "outputs": [],
   "source": [
    "# Idea: If it is \"I\", append the mininum to the output; \n",
    "# if it is \"D\",append the maximum to the output\n",
    "\n",
    "from typing import List\n",
    "class Solution:\n",
    "    def diStringMatch(self, s: str) -> List[int]:\n",
    "        n = len(s)\n",
    "        nums = set([x for x in range(n+1)])\n",
    "        \n",
    "        out = []\n",
    "        for letter in s:\n",
    "            if letter == \"I\":\n",
    "                out.append(min(nums))\n",
    "                nums.remove(min(nums))\n",
    "            elif letter == \"D\":\n",
    "                out.append(max(nums))\n",
    "                nums.remove(max(nums))\n",
    "                \n",
    "        # append the last number       \n",
    "        out.append(max(nums))   \n",
    "        return out    \n",
    "\n",
    "# Time complexity: O(N)\n",
    "# Space complexity: O(N) "
   ]
  },
  {
   "cell_type": "code",
   "execution_count": 17,
   "id": "2729a28f",
   "metadata": {},
   "outputs": [
    {
     "data": {
      "text/plain": [
       "[0, 4, 1, 3, 2]"
      ]
     },
     "execution_count": 17,
     "metadata": {},
     "output_type": "execute_result"
    }
   ],
   "source": [
    "s = \"IDID\"\n",
    "Solution().diStringMatch(s)"
   ]
  },
  {
   "cell_type": "code",
   "execution_count": 18,
   "id": "1538f9a9",
   "metadata": {},
   "outputs": [
    {
     "data": {
      "text/plain": [
       "[0, 1, 2, 3]"
      ]
     },
     "execution_count": 18,
     "metadata": {},
     "output_type": "execute_result"
    }
   ],
   "source": [
    "s = \"III\"\n",
    "Solution().diStringMatch(s)"
   ]
  },
  {
   "cell_type": "code",
   "execution_count": 19,
   "id": "719b39c7",
   "metadata": {},
   "outputs": [
    {
     "data": {
      "text/plain": [
       "[3, 2, 0, 1]"
      ]
     },
     "execution_count": 19,
     "metadata": {},
     "output_type": "execute_result"
    }
   ],
   "source": [
    "s = \"DDI\"\n",
    "Solution().diStringMatch(s)"
   ]
  }
 ],
 "metadata": {
  "kernelspec": {
   "display_name": "Python 3",
   "language": "python",
   "name": "python3"
  },
  "language_info": {
   "codemirror_mode": {
    "name": "ipython",
    "version": 3
   },
   "file_extension": ".py",
   "mimetype": "text/x-python",
   "name": "python",
   "nbconvert_exporter": "python",
   "pygments_lexer": "ipython3",
   "version": "3.7.4"
  }
 },
 "nbformat": 4,
 "nbformat_minor": 5
}
