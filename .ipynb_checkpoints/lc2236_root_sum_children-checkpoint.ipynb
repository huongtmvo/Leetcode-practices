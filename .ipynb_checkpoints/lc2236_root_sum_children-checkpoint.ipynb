{
 "cells": [
  {
   "cell_type": "code",
   "execution_count": null,
   "id": "7b50336d",
   "metadata": {},
   "outputs": [],
   "source": [
    "ready to push"
   ]
  },
  {
   "cell_type": "markdown",
   "id": "828c5c75",
   "metadata": {},
   "source": [
    "### 2236. Root Equals Sum of Children"
   ]
  },
  {
   "cell_type": "code",
   "execution_count": 2,
   "id": "4d0e3e17",
   "metadata": {},
   "outputs": [],
   "source": [
    "# Definition for a binary tree node.\n",
    "class TreeNode:\n",
    "    def __init__(self, val=0, left=None, right=None):\n",
    "        self.val = val\n",
    "        self.left = left\n",
    "        self.right = right\n",
    "\n",
    "from typing import Optional\n",
    "class Solution:\n",
    "    def checkTree(self, root: Optional[TreeNode]) -> bool:\n",
    "        return root.val == root.left.val + root.right.val"
   ]
  },
  {
   "cell_type": "code",
   "execution_count": 3,
   "id": "0e829d22",
   "metadata": {},
   "outputs": [
    {
     "data": {
      "text/plain": [
       "True"
      ]
     },
     "execution_count": 3,
     "metadata": {},
     "output_type": "execute_result"
    }
   ],
   "source": [
    "root = TreeNode(10, TreeNode(4), TreeNode(6))\n",
    "Solution().checkTree(root)"
   ]
  },
  {
   "cell_type": "code",
   "execution_count": 4,
   "id": "28fff54e",
   "metadata": {},
   "outputs": [
    {
     "data": {
      "text/plain": [
       "False"
      ]
     },
     "execution_count": 4,
     "metadata": {},
     "output_type": "execute_result"
    }
   ],
   "source": [
    "root = TreeNode(5, TreeNode(3), TreeNode(1))\n",
    "Solution().checkTree(root)"
   ]
  }
 ],
 "metadata": {
  "kernelspec": {
   "display_name": "Python 3",
   "language": "python",
   "name": "python3"
  },
  "language_info": {
   "codemirror_mode": {
    "name": "ipython",
    "version": 3
   },
   "file_extension": ".py",
   "mimetype": "text/x-python",
   "name": "python",
   "nbconvert_exporter": "python",
   "pygments_lexer": "ipython3",
   "version": "3.7.4"
  }
 },
 "nbformat": 4,
 "nbformat_minor": 5
}
