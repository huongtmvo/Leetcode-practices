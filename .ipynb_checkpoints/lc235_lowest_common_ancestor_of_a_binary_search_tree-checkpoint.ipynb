{
 "cells": [
  {
   "cell_type": "markdown",
   "id": "d3eb0798",
   "metadata": {},
   "source": [
    "https://leetcode.com/problems/lowest-common-ancestor-of-a-binary-search-tree/"
   ]
  },
  {
   "cell_type": "code",
   "execution_count": 1,
   "id": "708c1797",
   "metadata": {},
   "outputs": [],
   "source": [
    "class TreeNode:\n",
    "    def __init__(self, val=0, left=None, right=None):\n",
    "        self.val = val\n",
    "        self.left = left\n",
    "        self.right = right"
   ]
  },
  {
   "cell_type": "code",
   "execution_count": null,
   "id": "4f41d2ec",
   "metadata": {},
   "outputs": [],
   "source": [
    "class Solution:\n",
    "    def lowestCommonAncestor(self, root, p, q):\n",
    "        while root:\n",
    "            if root.val > p.val and root.val > q.val:\n",
    "                root = root.left\n",
    "            elif root.val < p.val and root.val < q.val:\n",
    "                root = root.right\n",
    "            else:\n",
    "                return root"
   ]
  }
 ],
 "metadata": {
  "kernelspec": {
   "display_name": "Python 3",
   "language": "python",
   "name": "python3"
  },
  "language_info": {
   "codemirror_mode": {
    "name": "ipython",
    "version": 3
   },
   "file_extension": ".py",
   "mimetype": "text/x-python",
   "name": "python",
   "nbconvert_exporter": "python",
   "pygments_lexer": "ipython3",
   "version": "3.7.4"
  }
 },
 "nbformat": 4,
 "nbformat_minor": 5
}
