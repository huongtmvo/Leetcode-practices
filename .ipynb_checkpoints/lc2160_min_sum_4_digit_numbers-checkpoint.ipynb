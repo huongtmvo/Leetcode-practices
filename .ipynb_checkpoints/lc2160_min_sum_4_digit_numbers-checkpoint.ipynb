{
 "cells": [
  {
   "cell_type": "markdown",
   "id": "831bef2c",
   "metadata": {},
   "source": [
    "### 2160. Minimum Sum of Four Digit Number After Splitting Digits"
   ]
  },
  {
   "cell_type": "code",
   "execution_count": 7,
   "id": "3d1f8664",
   "metadata": {},
   "outputs": [],
   "source": [
    "class Solution:\n",
    "    def minimumSum(self, num: int) -> int:\n",
    "        digits = []\n",
    "        while num != 0:\n",
    "            digit = num%10\n",
    "            digits.append(digit)\n",
    "            num = num//10\n",
    "        \n",
    "        digits.sort()\n",
    "        minSum = (digits[0]*10 + digits[2]) + (digits[1]*10 + digits[3])\n",
    "        return minSum        "
   ]
  },
  {
   "cell_type": "markdown",
   "id": "6ab629b4",
   "metadata": {},
   "source": [
    "Complexity: \n",
    "\n",
    "- Time: O(NlogN)\n",
    "\n",
    "- Space: O(N)\n",
    "    "
   ]
  },
  {
   "cell_type": "code",
   "execution_count": 8,
   "id": "91c9e766",
   "metadata": {},
   "outputs": [
    {
     "data": {
      "text/plain": [
       "13"
      ]
     },
     "execution_count": 8,
     "metadata": {},
     "output_type": "execute_result"
    }
   ],
   "source": [
    "num = 4009\n",
    "Solution().minimumSum(num)"
   ]
  },
  {
   "cell_type": "code",
   "execution_count": 9,
   "id": "bdb2da04",
   "metadata": {},
   "outputs": [
    {
     "data": {
      "text/plain": [
       "52"
      ]
     },
     "execution_count": 9,
     "metadata": {},
     "output_type": "execute_result"
    }
   ],
   "source": [
    "num = 2932\n",
    "Solution().minimumSum(num)"
   ]
  }
 ],
 "metadata": {
  "kernelspec": {
   "display_name": "Python 3",
   "language": "python",
   "name": "python3"
  },
  "language_info": {
   "codemirror_mode": {
    "name": "ipython",
    "version": 3
   },
   "file_extension": ".py",
   "mimetype": "text/x-python",
   "name": "python",
   "nbconvert_exporter": "python",
   "pygments_lexer": "ipython3",
   "version": "3.7.4"
  }
 },
 "nbformat": 4,
 "nbformat_minor": 5
}
