{
 "cells": [
  {
   "cell_type": "markdown",
   "id": "30c7b769",
   "metadata": {},
   "source": [
    "https://leetcode.com/problems/search-insert-position/"
   ]
  },
  {
   "cell_type": "code",
   "execution_count": 41,
   "id": "b1328a74",
   "metadata": {},
   "outputs": [],
   "source": [
    "from typing import List\n",
    "class Solution:\n",
    "    def searchInsert(self, nums: List[int], target: int) -> int:\n",
    "        l, r = 0, len(nums) - 1\n",
    "        while l <= r:\n",
    "            mid = (l+r)//2\n",
    "            if nums[mid] == target:\n",
    "                return mid\n",
    "            elif nums[mid] > target:\n",
    "                r = mid - 1\n",
    "            else:\n",
    "                l = mid + 1\n",
    "        return l "
   ]
  },
  {
   "cell_type": "code",
   "execution_count": 42,
   "id": "26228def",
   "metadata": {},
   "outputs": [
    {
     "data": {
      "text/plain": [
       "2"
      ]
     },
     "execution_count": 42,
     "metadata": {},
     "output_type": "execute_result"
    }
   ],
   "source": [
    "nums = [1,3,5,6]; target = 5\n",
    "Solution().searchInsert(nums,target)"
   ]
  },
  {
   "cell_type": "code",
   "execution_count": 43,
   "id": "1f8143a2",
   "metadata": {},
   "outputs": [
    {
     "data": {
      "text/plain": [
       "1"
      ]
     },
     "execution_count": 43,
     "metadata": {},
     "output_type": "execute_result"
    }
   ],
   "source": [
    "nums = [1,3,5,6]; target = 2\n",
    "Solution().searchInsert(nums,target)"
   ]
  },
  {
   "cell_type": "code",
   "execution_count": 44,
   "id": "9c83cc22",
   "metadata": {},
   "outputs": [
    {
     "data": {
      "text/plain": [
       "4"
      ]
     },
     "execution_count": 44,
     "metadata": {},
     "output_type": "execute_result"
    }
   ],
   "source": [
    "nums = [1,3,5,6]; target = 7\n",
    "Solution().searchInsert(nums,target)"
   ]
  },
  {
   "cell_type": "code",
   "execution_count": 46,
   "id": "f691acb7",
   "metadata": {},
   "outputs": [],
   "source": [
    "# For input with duplicates\n",
    "class Solution:\n",
    "    def searchInsert2(self, nums: List[int], target: int) -> int:\n",
    "        l, r = 0, len(nums) - 1\n",
    "        while l <= r:\n",
    "            mid = (l+r)//2\n",
    "            if nums[mid] < target:\n",
    "                l = mid + 1\n",
    "            else:\n",
    "                if nums[mid] == target and nums[mid-1] != target:\n",
    "                    return mid\n",
    "                else:\n",
    "                    r = mid - 1\n",
    "        return l\n"
   ]
  },
  {
   "cell_type": "code",
   "execution_count": 47,
   "id": "92827325",
   "metadata": {},
   "outputs": [
    {
     "data": {
      "text/plain": [
       "1"
      ]
     },
     "execution_count": 47,
     "metadata": {},
     "output_type": "execute_result"
    }
   ],
   "source": [
    "nums = [1,3,3,3,3,5,6]; target = 3\n",
    "Solution().searchInsert2(nums,target)"
   ]
  },
  {
   "cell_type": "code",
   "execution_count": null,
   "id": "61b8512f",
   "metadata": {},
   "outputs": [],
   "source": []
  }
 ],
 "metadata": {
  "kernelspec": {
   "display_name": "Python 3",
   "language": "python",
   "name": "python3"
  },
  "language_info": {
   "codemirror_mode": {
    "name": "ipython",
    "version": 3
   },
   "file_extension": ".py",
   "mimetype": "text/x-python",
   "name": "python",
   "nbconvert_exporter": "python",
   "pygments_lexer": "ipython3",
   "version": "3.7.4"
  }
 },
 "nbformat": 4,
 "nbformat_minor": 5
}
