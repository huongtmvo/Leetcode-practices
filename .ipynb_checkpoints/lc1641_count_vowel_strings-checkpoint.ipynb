{
 "cells": [
  {
   "cell_type": "markdown",
   "id": "40e96f57",
   "metadata": {},
   "source": [
    "### 1641. Count Sorted Vowel Strings"
   ]
  },
  {
   "cell_type": "markdown",
   "id": "ea0acf68",
   "metadata": {},
   "source": [
    "Given an integer n, return the number of strings of length n that consist only of vowels (a, e, i, o, u) and are lexicographically sorted.\n",
    "\n",
    "A string s is lexicographically sorted if for all valid i, s[i] is the same as or comes before s[i+1] in the alphabet.\n",
    "\n",
    "Example 1:\n",
    "\n",
    "Input: n = 1\n",
    "Output: 5\n",
    "Explanation: The 5 sorted strings that consist of vowels only are [\"a\",\"e\",\"i\",\"o\",\"u\"].\n",
    "    \n",
    "Example 2:\n",
    "\n",
    "Input: n = 2\n",
    "Output: 15\n",
    "Explanation: The 15 sorted strings that consist of vowels only are\n",
    "[\"aa\",\"ae\",\"ai\",\"ao\",\"au\",\"ee\",\"ei\",\"eo\",\"eu\",\"ii\",\"io\",\"iu\",\"oo\",\"ou\",\"uu\"].\n",
    "\n",
    "Note that \"ea\" is not a valid string since 'e' comes after 'a' in the alphabet.\n",
    "\n",
    "Example 3:\n",
    "\n",
    "Input: n = 33\n",
    "Output: 66045\n",
    " \n",
    "\n",
    "Constraints:\n",
    "\n",
    "1 <= n <= 50 "
   ]
  },
  {
   "cell_type": "code",
   "execution_count": null,
   "id": "5a719025",
   "metadata": {},
   "outputs": [],
   "source": [
    "class Solution:\n",
    "    def countVowelStrings(self, n: int) -> int:\n",
    "        "
   ]
  },
  {
   "cell_type": "code",
   "execution_count": null,
   "id": "dd055887",
   "metadata": {},
   "outputs": [],
   "source": [
    "n = 1, 5\n",
    "n = 2, 15 = 5+4+3+2+1= 5\n",
    "n= 3 , 15 + (15-5) + "
   ]
  },
  {
   "cell_type": "code",
   "execution_count": 2,
   "id": "785be625",
   "metadata": {},
   "outputs": [
    {
     "data": {
      "text/plain": [
       "5"
      ]
     },
     "execution_count": 2,
     "metadata": {},
     "output_type": "execute_result"
    }
   ],
   "source": [
    "vowels = [\"a\",\"e\",\"i\",\"o\",\"u\"]\n",
    "len(vowels)"
   ]
  },
  {
   "cell_type": "code",
   "execution_count": null,
   "id": "6ef736f0",
   "metadata": {},
   "outputs": [],
   "source": [
    "[\"aa\",\"ae\",\"ai\",\"ao\",\"au\",\n",
    " \"ee\",\"ei\",\"eo\",\"eu\",\n",
    " \"ii\",\"io\",\"iu\",\n",
    " \"oo\",\"ou\",\n",
    " \"uu\"]"
   ]
  },
  {
   "cell_type": "code",
   "execution_count": 4,
   "id": "b5ea3813",
   "metadata": {},
   "outputs": [
    {
     "data": {
      "text/plain": [
       "15"
      ]
     },
     "execution_count": 4,
     "metadata": {},
     "output_type": "execute_result"
    }
   ],
   "source": [
    "5 + 4+ 3+ 2+ 1"
   ]
  },
  {
   "cell_type": "code",
   "execution_count": null,
   "id": "5172eabd",
   "metadata": {},
   "outputs": [],
   "source": [
    "a[\"aa\",\"ae\",\"ai\",\"ao\",\"au\",\"ee\",\"ei\",\"eo\",\"eu\",\"ii\",\"io\",\"iu\",\"oo\",\"ou\",\"uu\"]\n",
    "e[\"ee\",\"ei\",\"eo\",\"eu\",\"ii\",\"io\",\"iu\",\"oo\",\"ou\",\"uu\"]\n",
    "i[\"ii\",\"io\",\"iu\",\"oo\",\"ou\",\"uu\"]\n",
    "o[\"oo\",\"ou\",\"uu\"]\n",
    "u[\"uu\"] \n",
    "35"
   ]
  },
  {
   "cell_type": "code",
   "execution_count": null,
   "id": "1d1edd94",
   "metadata": {},
   "outputs": [],
   "source": [
    "aaa,aae,aai,aao,aau,aee,aii,aoo,auu,aei,aeo,aeu,aio,aiu,aou\n"
   ]
  }
 ],
 "metadata": {
  "kernelspec": {
   "display_name": "Python 3",
   "language": "python",
   "name": "python3"
  },
  "language_info": {
   "codemirror_mode": {
    "name": "ipython",
    "version": 3
   },
   "file_extension": ".py",
   "mimetype": "text/x-python",
   "name": "python",
   "nbconvert_exporter": "python",
   "pygments_lexer": "ipython3",
   "version": "3.7.4"
  }
 },
 "nbformat": 4,
 "nbformat_minor": 5
}
