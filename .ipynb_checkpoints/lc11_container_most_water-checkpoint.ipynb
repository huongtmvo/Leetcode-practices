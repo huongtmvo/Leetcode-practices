{
 "cells": [
  {
   "cell_type": "markdown",
   "id": "ec70553f",
   "metadata": {},
   "source": [
    "#### 11. Container With Most Water\n",
    "Given n non-negative integers a1, a2, ..., an , where each represents a point at coordinate (i, ai). n vertical lines are drawn such that the two endpoints of the line i is at (i, ai) and (i, 0). Find two lines, which, together with the x-axis forms a container, such that the container contains the most water.\n",
    "\n",
    "Notice that you may not slant the container.\n",
    "\n",
    "Example 1: \n",
    "Input: height = [1,8,6,2,5,4,8,3,7]\n",
    "Output: 49\n",
    "Explanation: The above vertical lines are represented by array [1,8,6,2,5,4,8,3,7]. In this case, the max area of water (blue section) the container can contain is 49.\n",
    "\n",
    "Example 2:\n",
    "Input: height = [1,1]\n",
    "Output: 1\n",
    "\n",
    "Example 3:\n",
    "Input: height = [4,3,2,1,4]\n",
    "Output: 16\n",
    "\n",
    "Example 4:\n",
    "Input: height = [1,2,1]\n",
    "Output: 2\n",
    " \n",
    "Constraints:\n",
    "n == height.length\n",
    "2 <= n <= 105\n",
    "0 <= height[i] <= 104\n"
   ]
  },
  {
   "cell_type": "code",
   "execution_count": 13,
   "id": "b358f625",
   "metadata": {},
   "outputs": [],
   "source": [
    "from typing import List\n",
    "class Solution:\n",
    "    def maxArea(self, height: List[int]) -> int:\n",
    "        i, j = 0, len(height) - 1\n",
    "        out = 0\n",
    "        while i < j:\n",
    "            out = max(out,(j-i)*(min(height[i],height[j])))\n",
    "            if height[i] < height[j]:\n",
    "                i += 1\n",
    "            else:\n",
    "                j -= 1\n",
    "        return out\n",
    "    \n",
    "    def maxArea2(self, height: List[int]) -> int:\n",
    "        # This solution is correct but two slow, O(n2) runtime\n",
    "        n = len(height)\n",
    "        output = 0\n",
    "        for i in range(n-1):\n",
    "            for j in range(i+1,n):\n",
    "                output = max(output,(j-i)*(min(height[i],height[j])))\n",
    "        return output"
   ]
  },
  {
   "cell_type": "markdown",
   "id": "62f9c782",
   "metadata": {},
   "source": [
    "Explanation: \n",
    "When height[i] < height[j]: \n",
    "    output = (j-j)(min(height[i],height[j]) = (j-i)height[i]\n",
    "    any area between (i,j-1),(i,j-2)... will be smaller than area(i,j).\n",
    "    therefore, no need to decrease j, but only to increase i.\n",
    "In the scenatio when height[i] > = height[j], we decrease j."
   ]
  },
  {
   "cell_type": "code",
   "execution_count": 14,
   "id": "125eefc1",
   "metadata": {},
   "outputs": [
    {
     "name": "stdout",
     "output_type": "stream",
     "text": [
      "49\n"
     ]
    }
   ],
   "source": [
    "height = [1,8,6,2,5,4,8,3,7]\n",
    "print(Solution().maxArea(height))"
   ]
  },
  {
   "cell_type": "code",
   "execution_count": 15,
   "id": "7d53b55c",
   "metadata": {},
   "outputs": [
    {
     "name": "stdout",
     "output_type": "stream",
     "text": [
      "16\n"
     ]
    }
   ],
   "source": [
    "height = [4,3,2,1,4]\n",
    "print(Solution().maxArea(height))"
   ]
  },
  {
   "cell_type": "code",
   "execution_count": 16,
   "id": "98aabefb",
   "metadata": {},
   "outputs": [
    {
     "name": "stdout",
     "output_type": "stream",
     "text": [
      "10\n"
     ]
    }
   ],
   "source": [
    "height = [1,2,5,1,6]\n",
    "print(Solution().maxArea(height))  "
   ]
  },
  {
   "cell_type": "code",
   "execution_count": null,
   "id": "c2d5dab2",
   "metadata": {},
   "outputs": [],
   "source": []
  }
 ],
 "metadata": {
  "kernelspec": {
   "display_name": "Python 3",
   "language": "python",
   "name": "python3"
  },
  "language_info": {
   "codemirror_mode": {
    "name": "ipython",
    "version": 3
   },
   "file_extension": ".py",
   "mimetype": "text/x-python",
   "name": "python",
   "nbconvert_exporter": "python",
   "pygments_lexer": "ipython3",
   "version": "3.7.4"
  }
 },
 "nbformat": 4,
 "nbformat_minor": 5
}
