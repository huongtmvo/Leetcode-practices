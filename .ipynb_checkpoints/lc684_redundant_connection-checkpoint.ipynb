{
 "cells": [
  {
   "cell_type": "markdown",
   "id": "dbf753ed",
   "metadata": {},
   "source": [
    "lc684. Redundant Connection\n",
    "\n",
    "https://leetcode.com/problems/redundant-connection/\n",
    "\n",
    "\n",
    "In this problem, a tree is an undirected graph that is connected and has no cycles.\n",
    "\n",
    "You are given a graph that started as a tree with n nodes labeled from 1 to n, with one additional edge added. The added edge has two different vertices chosen from 1 to n, and was not an edge that already existed. The graph is represented as an array edges of length n where edges[i] = [ai, bi] indicates that there is an edge between nodes ai and bi in the graph.\n",
    "\n",
    "Return an edge that can be removed so that the resulting graph is a tree of n nodes. If there are multiple answers, return the answer that occurs last in the input.\n",
    "\n",
    "Input: edges = [[1,2],[1,3],[2,3]]\n",
    "Output: [2,3]\n",
    "\n",
    "Input: edges = [[1,2],[2,3],[3,4],[1,4],[1,5]]\n",
    "Output: [1,4]\n",
    "\n",
    "Constraints:\n",
    "\n",
    "n == edges.length\n",
    "3 <= n <= 1000\n",
    "edges[i].length == 2\n",
    "1 <= ai < bi <= edges.length\n",
    "ai != bi\n",
    "There are no repeated edges.\n",
    "The given graph is connected."
   ]
  },
  {
   "cell_type": "code",
   "execution_count": 4,
   "id": "18e62fd1",
   "metadata": {},
   "outputs": [
    {
     "ename": "NameError",
     "evalue": "name 'List' is not defined",
     "output_type": "error",
     "traceback": [
      "\u001b[0;31m---------------------------------------------------------------------------\u001b[0m",
      "\u001b[0;31mNameError\u001b[0m                                 Traceback (most recent call last)",
      "\u001b[0;32m<ipython-input-4-b539b31a4c31>\u001b[0m in \u001b[0;36m<module>\u001b[0;34m\u001b[0m\n\u001b[0;32m----> 1\u001b[0;31m \u001b[0;32mclass\u001b[0m \u001b[0mSolution\u001b[0m\u001b[0;34m:\u001b[0m\u001b[0;34m\u001b[0m\u001b[0;34m\u001b[0m\u001b[0m\n\u001b[0m\u001b[1;32m      2\u001b[0m     \u001b[0;32mdef\u001b[0m \u001b[0mfindRedundantConnection\u001b[0m\u001b[0;34m(\u001b[0m\u001b[0mself\u001b[0m\u001b[0;34m,\u001b[0m \u001b[0medges\u001b[0m\u001b[0;34m:\u001b[0m \u001b[0mList\u001b[0m\u001b[0;34m[\u001b[0m\u001b[0mList\u001b[0m\u001b[0;34m[\u001b[0m\u001b[0mint\u001b[0m\u001b[0;34m]\u001b[0m\u001b[0;34m]\u001b[0m\u001b[0;34m)\u001b[0m \u001b[0;34m->\u001b[0m \u001b[0mList\u001b[0m\u001b[0;34m[\u001b[0m\u001b[0mint\u001b[0m\u001b[0;34m]\u001b[0m\u001b[0;34m:\u001b[0m\u001b[0;34m\u001b[0m\u001b[0;34m\u001b[0m\u001b[0m\n\u001b[1;32m      3\u001b[0m         \u001b[0mgraph\u001b[0m \u001b[0;34m=\u001b[0m \u001b[0;34m[\u001b[0m\u001b[0mset\u001b[0m\u001b[0;34m(\u001b[0m\u001b[0;34m)\u001b[0m \u001b[0;32mfor\u001b[0m \u001b[0m_\u001b[0m \u001b[0;32min\u001b[0m \u001b[0mrange\u001b[0m\u001b[0;34m(\u001b[0m\u001b[0mlen\u001b[0m\u001b[0;34m(\u001b[0m\u001b[0medges\u001b[0m\u001b[0;34m)\u001b[0m\u001b[0;34m)\u001b[0m\u001b[0;34m]\u001b[0m\u001b[0;34m\u001b[0m\u001b[0;34m\u001b[0m\u001b[0m\n\u001b[1;32m      4\u001b[0m         \u001b[0;32mfor\u001b[0m \u001b[0mu\u001b[0m\u001b[0;34m,\u001b[0m \u001b[0mv\u001b[0m \u001b[0;32min\u001b[0m \u001b[0medges\u001b[0m\u001b[0;34m:\u001b[0m\u001b[0;34m\u001b[0m\u001b[0;34m\u001b[0m\u001b[0m\n\u001b[1;32m      5\u001b[0m             \u001b[0mgraph\u001b[0m\u001b[0;34m[\u001b[0m\u001b[0mu\u001b[0m\u001b[0;34m]\u001b[0m\u001b[0;34m.\u001b[0m\u001b[0madd\u001b[0m\u001b[0;34m(\u001b[0m\u001b[0mv\u001b[0m\u001b[0;34m)\u001b[0m\u001b[0;34m\u001b[0m\u001b[0;34m\u001b[0m\u001b[0m\n",
      "\u001b[0;32m<ipython-input-4-b539b31a4c31>\u001b[0m in \u001b[0;36mSolution\u001b[0;34m()\u001b[0m\n\u001b[1;32m      1\u001b[0m \u001b[0;32mclass\u001b[0m \u001b[0mSolution\u001b[0m\u001b[0;34m:\u001b[0m\u001b[0;34m\u001b[0m\u001b[0;34m\u001b[0m\u001b[0m\n\u001b[0;32m----> 2\u001b[0;31m     \u001b[0;32mdef\u001b[0m \u001b[0mfindRedundantConnection\u001b[0m\u001b[0;34m(\u001b[0m\u001b[0mself\u001b[0m\u001b[0;34m,\u001b[0m \u001b[0medges\u001b[0m\u001b[0;34m:\u001b[0m \u001b[0mList\u001b[0m\u001b[0;34m[\u001b[0m\u001b[0mList\u001b[0m\u001b[0;34m[\u001b[0m\u001b[0mint\u001b[0m\u001b[0;34m]\u001b[0m\u001b[0;34m]\u001b[0m\u001b[0;34m)\u001b[0m \u001b[0;34m->\u001b[0m \u001b[0mList\u001b[0m\u001b[0;34m[\u001b[0m\u001b[0mint\u001b[0m\u001b[0;34m]\u001b[0m\u001b[0;34m:\u001b[0m\u001b[0;34m\u001b[0m\u001b[0;34m\u001b[0m\u001b[0m\n\u001b[0m\u001b[1;32m      3\u001b[0m         \u001b[0mgraph\u001b[0m \u001b[0;34m=\u001b[0m \u001b[0;34m[\u001b[0m\u001b[0mset\u001b[0m\u001b[0;34m(\u001b[0m\u001b[0;34m)\u001b[0m \u001b[0;32mfor\u001b[0m \u001b[0m_\u001b[0m \u001b[0;32min\u001b[0m \u001b[0mrange\u001b[0m\u001b[0;34m(\u001b[0m\u001b[0mlen\u001b[0m\u001b[0;34m(\u001b[0m\u001b[0medges\u001b[0m\u001b[0;34m)\u001b[0m\u001b[0;34m)\u001b[0m\u001b[0;34m]\u001b[0m\u001b[0;34m\u001b[0m\u001b[0;34m\u001b[0m\u001b[0m\n\u001b[1;32m      4\u001b[0m         \u001b[0;32mfor\u001b[0m \u001b[0mu\u001b[0m\u001b[0;34m,\u001b[0m \u001b[0mv\u001b[0m \u001b[0;32min\u001b[0m \u001b[0medges\u001b[0m\u001b[0;34m:\u001b[0m\u001b[0;34m\u001b[0m\u001b[0;34m\u001b[0m\u001b[0m\n\u001b[1;32m      5\u001b[0m             \u001b[0mgraph\u001b[0m\u001b[0;34m[\u001b[0m\u001b[0mu\u001b[0m\u001b[0;34m]\u001b[0m\u001b[0;34m.\u001b[0m\u001b[0madd\u001b[0m\u001b[0;34m(\u001b[0m\u001b[0mv\u001b[0m\u001b[0;34m)\u001b[0m\u001b[0;34m\u001b[0m\u001b[0;34m\u001b[0m\u001b[0m\n",
      "\u001b[0;31mNameError\u001b[0m: name 'List' is not defined"
     ]
    }
   ],
   "source": [
    "from typing import List\n",
    "class Solution:\n",
    "    def findRedundantConnection(self, edges: List[List[int]]) -> List[int]:\n",
    "        graph = [set() for _ in range(len(edges))]\n",
    "        for u, v in edges:\n",
    "            graph[u].add(v)\n",
    "            graph[v].add(u)\n",
    "        self.visited = set()\n",
    "        \n",
    "    def dfs(self, graph, s):\n",
    "        self.visited.add(s)\n",
    "        for u in graph[s]:\n",
    "            if u not in self.visited:\n",
    "                self.visited.add(u)\n",
    "                self.dfs(graph,u)     "
   ]
  },
  {
   "cell_type": "code",
   "execution_count": 12,
   "id": "728c9301",
   "metadata": {},
   "outputs": [],
   "source": [
    "from typing import List\n",
    "from collections import defaultdict\n",
    "class Solution:\n",
    "    def findRedundantConnection(self, edges: List[List[int]]) -> List[int]:\n",
    "        graph = defaultdict(set)\n",
    "        for u, v in edges:\n",
    "            graph[u].add(v)\n",
    "            graph[v].add(u)\n",
    "        \n",
    "        def dfs(source, target):\n",
    "            if source not in seen:\n",
    "                seen.add(source)\n",
    "                if source == target: return True\n",
    "                return any(dfs(neighbor, target) for neighbor in graph[source])\n",
    "            \n",
    "        for u, v in edges:\n",
    "            seen = set()\n",
    "            if dfs(u,v):\n",
    "                return [u,v]\n",
    "            "
   ]
  },
  {
   "cell_type": "code",
   "execution_count": 20,
   "id": "0c9da78c",
   "metadata": {},
   "outputs": [
    {
     "data": {
      "text/plain": [
       "(2, 3)"
      ]
     },
     "execution_count": 20,
     "metadata": {},
     "output_type": "execute_result"
    }
   ],
   "source": [
    "edges = [[1,2],[1,3],[2,3]]\n",
    "Solution2().findRedundantConnection(edges)"
   ]
  },
  {
   "cell_type": "code",
   "execution_count": 19,
   "id": "a44c4225",
   "metadata": {},
   "outputs": [
    {
     "data": {
      "text/plain": [
       "(1, 4)"
      ]
     },
     "execution_count": 19,
     "metadata": {},
     "output_type": "execute_result"
    }
   ],
   "source": [
    "edges = [[1,2],[2,3],[3,4],[1,4],[1,5]]\n",
    "Solution2().findRedundantConnection(edges)"
   ]
  },
  {
   "cell_type": "code",
   "execution_count": 18,
   "id": "60c02caa",
   "metadata": {},
   "outputs": [],
   "source": [
    "# For each edge (u, v), traverse the graph with a depth-first search to see if we can connect u to v. If we can, then it must be the duplicate edge.\n",
    "from collections import defaultdict\n",
    "class Solution2(object):\n",
    "    def findRedundantConnection(self, edges):\n",
    "        graph = defaultdict(set)\n",
    "\n",
    "        def dfs(source, target):\n",
    "            if source not in seen:\n",
    "                seen.add(source)\n",
    "                if source == target: return True\n",
    "                return any(dfs(nei, target) for nei in graph[source])\n",
    "\n",
    "        for u, v in edges:\n",
    "            seen = set()\n",
    "            if u in graph and v in graph and dfs(u, v):\n",
    "                return [u, v]\n",
    "            graph[u].add(v)\n",
    "            graph[v].add(u)          \n",
    "            "
   ]
  },
  {
   "cell_type": "code",
   "execution_count": null,
   "id": "94edf272",
   "metadata": {},
   "outputs": [],
   "source": []
  },
  {
   "cell_type": "markdown",
   "id": "c8cc334b",
   "metadata": {},
   "source": [
    "Complexity Analysis\n",
    "\n",
    "Time Complexity: O(N^2)O(N \n",
    "2\n",
    " ) where NN is the number of vertices (and also the number of edges) in the graph. In the worst case, for every edge we include, we have to search every previously-occurring edge of the graph.\n",
    "\n",
    "Space Complexity: O(N)O(N). The current construction of the graph has at most NN nodes."
   ]
  },
  {
   "cell_type": "markdown",
   "id": "a4e7250b",
   "metadata": {},
   "source": [
    "Approach #2: Union-Find [Accepted]\n",
    "Intuition and Algorithm\n",
    "\n",
    "If we are familiar with a Disjoint Set Union (DSU) data structure, we can use this in a straightforward manner to solve the problem: we simply find the first edge occurring in the graph that is already connected. The rest of this explanation will focus on the details of implementing DSU.\n",
    "\n",
    "A DSU data structure can be used to maintain knowledge of the connected components of a graph, and query for them quickly. In particular, we would like to support two operations:\n",
    "\n",
    "dsu.find(node x), which outputs a unique id so that two nodes have the same id if and only if they are in the same connected component, and:\n",
    "\n",
    "dsu.union(node x, node y), which draws an edge (x, y) in the graph, connecting the components with id find(x) and find(y) together.\n",
    "\n",
    "To achieve this, we keep track of parent, which remembers the id of a smaller node in the same connected component. If the node is it's own parent, we call this the leader of that connected component.\n",
    "\n",
    "A naive implementation of a DSU structure would look something like this:\n",
    "\n",
    "# parent initialized as (x -> x)\n",
    "function find(x):\n",
    "    while parent[x] != x: #While x isn't the leader\n",
    "        x = parent[x]\n",
    "    return x\n",
    "\n",
    "function union(x, y):\n",
    "    parent[find(x)] = find(y)\n",
    "    \n",
    "We use two techniques to improve the run-time complexity: path compression, and union-by-rank.\n",
    "\n",
    "Path compression involves changing the x = parent[x] in the find function to parent[x] = find(parent[x]). Basically, as we compute the correct leader for x, we should remember our calculation.\n",
    "\n",
    "Union-by-rank involves distributing the workload of find across leaders evenly. Whenever we dsu.union(x, y), we have two leaders xr, yr and we have to choose whether we want parent[x] = yr or parent[y] = xr. We choose the leader that has a higher following to pick up a new follower.\n",
    "Specifically, the meaning of rank is that there are less than 2 ^ rank[x] followers of x. This strategy can be shown to give us better bounds for how long the recursive loop in dsu.find could run for.    "
   ]
  },
  {
   "cell_type": "code",
   "execution_count": 2,
   "id": "e0ae051d",
   "metadata": {},
   "outputs": [],
   "source": [
    "class DSU(object):\n",
    "    def __init__(self):\n",
    "        self.par = range(1001)\n",
    "        self.rnk = [0] * 1001\n",
    "\n",
    "    def find(self, x):\n",
    "        if self.par[x] != x:\n",
    "            self.par[x] = self.find(self.par[x])\n",
    "        return self.par[x]\n",
    "\n",
    "    def union(self, x, y):\n",
    "        xr, yr = self.find(x), self.find(y)\n",
    "        if xr == yr:\n",
    "            return False\n",
    "        elif self.rnk[xr] < self.rnk[yr]:\n",
    "            self.par[xr] = yr\n",
    "        elif self.rnk[xr] > self.rnk[yr]:\n",
    "            self.par[yr] = xr\n",
    "        else:\n",
    "            self.par[yr] = xr\n",
    "            self.rnk[xr] += 1\n",
    "        return True\n",
    "    \n",
    "class Solution(object):\n",
    "def findRedundantConnection(self, edges):\n",
    "    dsu = DSU()\n",
    "    for edge in edges:\n",
    "        if not dsu.union(*edge):\n",
    "            return edge\n"
   ]
  },
  {
   "cell_type": "code",
   "execution_count": 3,
   "id": "d8f1af3e",
   "metadata": {},
   "outputs": [],
   "source": [
    "# Alternate Implementation of DSU without Union-By-Rank\n",
    "class DSU:\n",
    "    def __init__(self):\n",
    "        self.par = range(1001)\n",
    "    def find(self, x):\n",
    "        if self.par[x] != x:\n",
    "            self.par[x] = self.find(self.par[x])\n",
    "        return self.par[x]\n",
    "    def union(self, x, y):\n",
    "        self.par[self.find(x)] = self.find(y)"
   ]
  },
  {
   "cell_type": "markdown",
   "id": "e7d2508a",
   "metadata": {},
   "source": [
    "Complexity Analysis\n",
    "\n",
    "Time Complexity: O(N\\alpha(N)) \\approx O(N)O(Nα(N))≈O(N), where NN is the number of vertices (and also the number of edges) in the graph, and \\alphaα is the Inverse-Ackermann function. We make up to NN queries of dsu.union, which takes (amortized) O(\\alpha(N))O(α(N)) time. Outside the scope of this article, it can be shown why dsu.union has O(\\alpha(N))O(α(N)) complexity, what the Inverse-Ackermann function is, and why O(\\alpha(N))O(α(N)) is approximately O(1)O(1).\n",
    "\n",
    "Space Complexity: O(N)O(N). The current construction of the graph (embedded in our dsu structure) has at most NN nodes."
   ]
  },
  {
   "cell_type": "code",
   "execution_count": null,
   "id": "48b872b1",
   "metadata": {},
   "outputs": [],
   "source": []
  }
 ],
 "metadata": {
  "kernelspec": {
   "display_name": "Python 3",
   "language": "python",
   "name": "python3"
  },
  "language_info": {
   "codemirror_mode": {
    "name": "ipython",
    "version": 3
   },
   "file_extension": ".py",
   "mimetype": "text/x-python",
   "name": "python",
   "nbconvert_exporter": "python",
   "pygments_lexer": "ipython3",
   "version": "3.7.4"
  }
 },
 "nbformat": 4,
 "nbformat_minor": 5
}
