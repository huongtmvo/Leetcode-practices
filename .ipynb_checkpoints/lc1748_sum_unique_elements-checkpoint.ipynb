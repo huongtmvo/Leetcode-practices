{
 "cells": [
  {
   "cell_type": "markdown",
   "id": "a9e1f3e6",
   "metadata": {},
   "source": [
    "### 1748. Sum of Unique Elements\n",
    "You are given an integer array nums. The unique elements of an array are the elements that appear exactly once in the array.\n",
    "\n",
    "Return the sum of all the unique elements of nums.\n",
    "\n",
    "Input: nums = [1,2,3,2]\n",
    "Output: 4\n",
    "Explanation: The unique elements are [1,3], and the sum is 4.\n",
    "    \n",
    " \n",
    "Input: nums = [1,1,1,1,1]\n",
    "\n",
    "Output: 0\n",
    "\n",
    "Explanation: There are no unique elements, and the sum is 0.\n",
    "    \n",
    "Input: nums = [1,2,3,4,5]\n",
    "\n",
    "Output: 15\n",
    "\n",
    "Explanation: The unique elements are [1,2,3,4,5], and the sum is 15."
   ]
  },
  {
   "cell_type": "code",
   "execution_count": null,
   "id": "704b29a8",
   "metadata": {},
   "outputs": [],
   "source": [
    "class Solution:\n",
    "    def sumOfUnique(self, nums: List[int]) -> int:"
   ]
  }
 ],
 "metadata": {
  "kernelspec": {
   "display_name": "Python 3",
   "language": "python",
   "name": "python3"
  },
  "language_info": {
   "codemirror_mode": {
    "name": "ipython",
    "version": 3
   },
   "file_extension": ".py",
   "mimetype": "text/x-python",
   "name": "python",
   "nbconvert_exporter": "python",
   "pygments_lexer": "ipython3",
   "version": "3.7.4"
  }
 },
 "nbformat": 4,
 "nbformat_minor": 5
}
