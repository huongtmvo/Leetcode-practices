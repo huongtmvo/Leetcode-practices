{
 "cells": [
  {
   "cell_type": "markdown",
   "id": "0bda4765",
   "metadata": {},
   "source": [
    "https://leetcode.com/problems/coin-change/"
   ]
  },
  {
   "cell_type": "code",
   "execution_count": 72,
   "id": "f3475c47",
   "metadata": {},
   "outputs": [],
   "source": [
    "from typing import List\n",
    "class Solution:\n",
    "    def coinChange(self, coins: List[int], amount: int) -> int:\n",
    "        n = len(coins)\n",
    "        opt = [0] + [float('inf')] * amount\n",
    "        for a in range(1, amount + 1):\n",
    "            for c in coins:\n",
    "                if a >= c:\n",
    "                    opt[a] = min(opt[a], opt[a - c] + 1)\n",
    "        if opt[amount] == float('inf'):\n",
    "            return -1\n",
    "        else:\n",
    "            return opt[amount]\n"
   ]
  },
  {
   "cell_type": "code",
   "execution_count": 73,
   "id": "2bf00da7",
   "metadata": {},
   "outputs": [
    {
     "data": {
      "text/plain": [
       "3"
      ]
     },
     "execution_count": 73,
     "metadata": {},
     "output_type": "execute_result"
    }
   ],
   "source": [
    "coins = [1,2,5]\n",
    "amount = 11\n",
    "Solution().coinChange(coins,amount)"
   ]
  },
  {
   "cell_type": "code",
   "execution_count": 74,
   "id": "f88ba5fa",
   "metadata": {},
   "outputs": [
    {
     "data": {
      "text/plain": [
       "-1"
      ]
     },
     "execution_count": 74,
     "metadata": {},
     "output_type": "execute_result"
    }
   ],
   "source": [
    "coins = [2]; amount = 3\n",
    "Solution().coinChange(coins,amount)\n"
   ]
  },
  {
   "cell_type": "code",
   "execution_count": 75,
   "id": "fd84d8b5",
   "metadata": {},
   "outputs": [
    {
     "data": {
      "text/plain": [
       "0"
      ]
     },
     "execution_count": 75,
     "metadata": {},
     "output_type": "execute_result"
    }
   ],
   "source": [
    "coins = [1]; amount = 0\n",
    "Solution().coinChange(coins,amount)"
   ]
  },
  {
   "cell_type": "code",
   "execution_count": null,
   "id": "1e1cf53d",
   "metadata": {},
   "outputs": [],
   "source": [
    "# Another solution with neater codes:\n",
    "class Solution:\n",
    "    def coinChange(self, coins: List[int], amount: int) -> int:\n",
    "        MAX = float('inf')\n",
    "        dp = [0] + [MAX] * amount\n",
    "\n",
    "        for i in range(1, amount + 1):\n",
    "            dp[i] = min([dp[i - c] if i - c >= 0 else MAX for c in coins]) + 1\n",
    "\n",
    "        return [dp[amount], -1][dp[amount] == MAX]\n",
    "    "
   ]
  },
  {
   "cell_type": "code",
   "execution_count": 51,
   "id": "5f078ef9",
   "metadata": {},
   "outputs": [
    {
     "data": {
      "text/plain": [
       "3"
      ]
     },
     "execution_count": 51,
     "metadata": {},
     "output_type": "execute_result"
    }
   ],
   "source": [
    "coins = [1,2,5]\n",
    "amount = 11\n",
    "Solution().coinChange(coins,amount)"
   ]
  },
  {
   "cell_type": "code",
   "execution_count": null,
   "id": "7eaeec88",
   "metadata": {},
   "outputs": [],
   "source": []
  }
 ],
 "metadata": {
  "kernelspec": {
   "display_name": "Python 3",
   "language": "python",
   "name": "python3"
  },
  "language_info": {
   "codemirror_mode": {
    "name": "ipython",
    "version": 3
   },
   "file_extension": ".py",
   "mimetype": "text/x-python",
   "name": "python",
   "nbconvert_exporter": "python",
   "pygments_lexer": "ipython3",
   "version": "3.7.4"
  }
 },
 "nbformat": 4,
 "nbformat_minor": 5
}
