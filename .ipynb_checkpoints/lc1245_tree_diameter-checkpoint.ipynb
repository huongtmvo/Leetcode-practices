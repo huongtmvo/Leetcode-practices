{
 "cells": [
  {
   "cell_type": "markdown",
   "metadata": {
    "id": "c7sj1h5i-GxX"
   },
   "source": [
    "1245. Tree Diameter\n",
    "\n",
    "https://leetcode.com/problems/tree-diameter/"
   ]
  },
  {
   "cell_type": "markdown",
   "metadata": {
    "id": "_cbsWjKW-Nbl"
   },
   "source": [
    "Input: edges = [[0,1],[0,2]]\n",
    "Output: 2\n",
    "Explanation: The longest path of the tree is the path 1 - 0 - 2.\n",
    "\n",
    "Input: edges = [[0,1],[1,2],[2,3],[1,4],[4,5]]\n",
    "Output: 4\n",
    "Explanation: The longest path of the tree is the path 3 - 2 - 1 - 4 - 5.\n",
    "\n",
    "n == edges.length + 1\n",
    "1 <= n <= 104\n",
    "0 <= ai, bi < n\n",
    "ai != bi"
   ]
  },
  {
   "cell_type": "code",
   "execution_count": null,
   "metadata": {},
   "outputs": [],
   "source": [
    "# Find the farthest vertice A from a random vertice X\n",
    "# Find the furthest vertice B from A\n",
    "# AB is the longest distance"
   ]
  },
  {
   "cell_type": "code",
   "execution_count": 50,
   "metadata": {},
   "outputs": [],
   "source": [
    "from typing import List\n",
    "from collections import deque, defaultdict\n",
    "class Solution:\n",
    "    def bfs(self, graph, s):\n",
    "        # function to return the farthest node and farthest distance from the s node\n",
    "        dist = defaultdict()\n",
    "        for i in range(len(graph) + 1):\n",
    "            dist[i] = float('inf')\n",
    "        last_node = s\n",
    "        dist[s] = 0\n",
    "        q = deque([s])\n",
    "        while len(q) != 0:\n",
    "            u = q.popleft()\n",
    "#             print(u, dist[u])\n",
    "            for v in graph[u]:\n",
    "                if dist[v] == float('inf'):\n",
    "                    q.append(v)\n",
    "                    dist[v] = dist[u] + 1\n",
    "                    last_node = v\n",
    "        return last_node, dist[last_node]   \n",
    "    \n",
    "    def treeDiameter(self, edges: List[List[int]]) -> int:\n",
    "        n = len(edges) + 1\n",
    "        graph = [set() for _ in range(n)]\n",
    "        for u, v in edges:\n",
    "            graph[u].add(v)\n",
    "            graph[v].add(u)\n",
    "        \n",
    "        # Find the farthest node from node 0, called node1\n",
    "        node1, dist1 = self.bfs(graph, 0)\n",
    "        # Find the farthest node and farthest distance from node1\n",
    "        farthest_node, farthest_dist = self.bfs(graph, node1)\n",
    "        \n",
    "        return farthest_dist    "
   ]
  },
  {
   "cell_type": "code",
   "execution_count": 51,
   "metadata": {},
   "outputs": [
    {
     "data": {
      "text/plain": [
       "2"
      ]
     },
     "execution_count": 51,
     "metadata": {},
     "output_type": "execute_result"
    }
   ],
   "source": [
    "edges = [[0,1],[0,2]]\n",
    "Solution().treeDiameter(edges)"
   ]
  },
  {
   "cell_type": "code",
   "execution_count": 52,
   "metadata": {},
   "outputs": [
    {
     "data": {
      "text/plain": [
       "4"
      ]
     },
     "execution_count": 52,
     "metadata": {},
     "output_type": "execute_result"
    }
   ],
   "source": [
    "edges = [[0,1],[1,2],[2,3],[1,4],[4,5]]\n",
    "Solution().treeDiameter(edges)"
   ]
  },
  {
   "cell_type": "code",
   "execution_count": null,
   "metadata": {},
   "outputs": [],
   "source": []
  }
 ],
 "metadata": {
  "colab": {
   "authorship_tag": "ABX9TyMuWmKH6yW79I8zn9QRJZYq",
   "collapsed_sections": [],
   "name": "lc1245. Tree Diameter.ipynb",
   "provenance": []
  },
  "kernelspec": {
   "display_name": "Python 3",
   "language": "python",
   "name": "python3"
  },
  "language_info": {
   "codemirror_mode": {
    "name": "ipython",
    "version": 3
   },
   "file_extension": ".py",
   "mimetype": "text/x-python",
   "name": "python",
   "nbconvert_exporter": "python",
   "pygments_lexer": "ipython3",
   "version": "3.7.4"
  }
 },
 "nbformat": 4,
 "nbformat_minor": 1
}
