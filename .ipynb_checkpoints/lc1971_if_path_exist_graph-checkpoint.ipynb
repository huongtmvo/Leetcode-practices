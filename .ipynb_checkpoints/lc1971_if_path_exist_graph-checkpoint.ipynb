{
 "cells": [
  {
   "cell_type": "markdown",
   "id": "0dc927a2",
   "metadata": {},
   "source": [
    "1971. Find if Path Exists in Graph\n",
    "\n",
    "https://leetcode.com/problems/find-if-path-exists-in-graph/"
   ]
  },
  {
   "cell_type": "code",
   "execution_count": 19,
   "id": "119ad628",
   "metadata": {},
   "outputs": [],
   "source": [
    "from typing import List\n",
    "from collections import defaultdict, deque\n",
    "class Solution:\n",
    "    # BFS: \n",
    "    def validPath(self, n: int, edges: List[List[int]], source: int, destination: int) -> bool:\n",
    "        adj = defaultdict(list)\n",
    "        for n1, n2 in edges:\n",
    "            adj[n1].append(n2)\n",
    "            adj[n2].append(n1)\n",
    "            \n",
    "        q = deque([source])\n",
    "        visited = set([source])\n",
    "        while q:\n",
    "            node = q.popleft()            \n",
    "            if node == destination:\n",
    "                return True            \n",
    "            for u in adj[node]:\n",
    "                if u not in visited:\n",
    "                    visited.add(u)\n",
    "                    q.append(u)\n",
    "                \n",
    "        return False\n",
    "    \n",
    "    # DFS: Time O(N), Space: O(N)\n",
    "    def validPath1(self, n: int, edges: List[List[int]], source: int, destination: int) -> bool:\n",
    "        adj = [set() for _ in range(n)]\n",
    "        for edge in edges:\n",
    "            u, v = edge\n",
    "            adj[u].add(v)\n",
    "            adj[v].add(u)\n",
    "            \n",
    "        visited = set()    \n",
    "        def dfs(s):\n",
    "            visited.add(s)\n",
    "            for u in adj[s]:\n",
    "                if u not in visited:\n",
    "                    dfs(u)\n",
    "        \n",
    "        dfs(source)\n",
    "        if destination in visited:\n",
    "            return True\n",
    "        return False\n",
    "    \n",
    "    # DFS:\n",
    "    def validPath2(self, n: int, edges: List[List[int]], source: int, destination: int) -> bool:\n",
    "        adj = defaultdict(list)\n",
    "        for n1, n2 in edges:\n",
    "            adj[n1].append(n2)\n",
    "            adj[n2].append(n1)\n",
    "            \n",
    "        visited = set()   \n",
    "        def dfs(node, end):\n",
    "            if node == end:\n",
    "                return True\n",
    "            # if node in visited:\n",
    "            #     return False\n",
    "            visited.add(node)\n",
    "            for u in adj[node]:\n",
    "                if u not in visited: \n",
    "                    if dfs(u, end):\n",
    "                        return True\n",
    "            return False\n",
    "        return dfs(source, destination)"
   ]
  },
  {
   "cell_type": "code",
   "execution_count": 20,
   "id": "16502d1e",
   "metadata": {},
   "outputs": [
    {
     "data": {
      "text/plain": [
       "False"
      ]
     },
     "execution_count": 20,
     "metadata": {},
     "output_type": "execute_result"
    }
   ],
   "source": [
    "n = 6\n",
    "edges = [[0,1],[0,2],[3,5],[5,4],[4,3]]\n",
    "source = 0\n",
    "destination = 5\n",
    "Solution().validPath(n, edges, source, destination)"
   ]
  },
  {
   "cell_type": "code",
   "execution_count": 21,
   "id": "6b86298f",
   "metadata": {},
   "outputs": [
    {
     "data": {
      "text/plain": [
       "True"
      ]
     },
     "execution_count": 21,
     "metadata": {},
     "output_type": "execute_result"
    }
   ],
   "source": [
    "n = 3; edges = [[0,1],[1,2],[2,0]]; source = 0; destination = 2\n",
    "Solution().validPath(n, edges, source, destination)"
   ]
  },
  {
   "cell_type": "code",
   "execution_count": 4,
   "id": "c24c1e6d",
   "metadata": {},
   "outputs": [
    {
     "name": "stdout",
     "output_type": "stream",
     "text": [
      "0 1\n",
      "0 2\n",
      "3 5\n",
      "5 4\n",
      "4 3\n"
     ]
    }
   ],
   "source": [
    "edges = [[0,1],[0,2],[3,5],[5,4],[4,3]]\n",
    "for n1, n2 in edges:\n",
    "    print(n1,n2)"
   ]
  }
 ],
 "metadata": {
  "kernelspec": {
   "display_name": "Python 3",
   "language": "python",
   "name": "python3"
  },
  "language_info": {
   "codemirror_mode": {
    "name": "ipython",
    "version": 3
   },
   "file_extension": ".py",
   "mimetype": "text/x-python",
   "name": "python",
   "nbconvert_exporter": "python",
   "pygments_lexer": "ipython3",
   "version": "3.7.4"
  }
 },
 "nbformat": 4,
 "nbformat_minor": 5
}
