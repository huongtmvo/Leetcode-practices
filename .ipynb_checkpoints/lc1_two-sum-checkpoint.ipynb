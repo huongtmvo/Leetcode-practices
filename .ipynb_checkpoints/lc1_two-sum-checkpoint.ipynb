{
 "cells": [
  {
   "cell_type": "markdown",
   "id": "e3c51ec7",
   "metadata": {},
   "source": [
    "https://leetcode.com/problems/two-sum/"
   ]
  },
  {
   "cell_type": "code",
   "execution_count": 6,
   "id": "a595ec53",
   "metadata": {},
   "outputs": [],
   "source": [
    "from typing import List\n",
    "class Solution:\n",
    "    def twoSum(self, nums: List[int], target: int) -> List[int]:\n",
    "        dic = {}\n",
    "        for i in range(len(nums)):\n",
    "            complement = target - nums[i]\n",
    "            if complement in dic:\n",
    "                return dic[complement], i\n",
    "            dic[nums[i]] = i      "
   ]
  },
  {
   "cell_type": "code",
   "execution_count": 8,
   "id": "be5a854c",
   "metadata": {},
   "outputs": [
    {
     "name": "stdout",
     "output_type": "stream",
     "text": [
      "None\n"
     ]
    }
   ],
   "source": [
    "nums = [2,7,11,15]; target = 9\n",
    "print(Solution().twoSum(nums, target))"
   ]
  },
  {
   "cell_type": "code",
   "execution_count": null,
   "id": "46baee0f",
   "metadata": {},
   "outputs": [],
   "source": []
  }
 ],
 "metadata": {
  "kernelspec": {
   "display_name": "Python 3",
   "language": "python",
   "name": "python3"
  },
  "language_info": {
   "codemirror_mode": {
    "name": "ipython",
    "version": 3
   },
   "file_extension": ".py",
   "mimetype": "text/x-python",
   "name": "python",
   "nbconvert_exporter": "python",
   "pygments_lexer": "ipython3",
   "version": "3.7.4"
  }
 },
 "nbformat": 4,
 "nbformat_minor": 5
}
