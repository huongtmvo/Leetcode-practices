{
 "cells": [
  {
   "cell_type": "markdown",
   "id": "100dd727",
   "metadata": {},
   "source": [
    "### 1874. Minimize Product Sum of Two Arrays"
   ]
  },
  {
   "cell_type": "code",
   "execution_count": 3,
   "id": "30ae2cb1",
   "metadata": {},
   "outputs": [],
   "source": [
    "class Solution:\n",
    "    def minPairSum(self, nums1, nums2):\n",
    "        nums1.sort()\n",
    "        nums2.sort(reverse=True)\n",
    "        ans = 0\n",
    "        \n",
    "        for i in range(len(nums1)):\n",
    "            ans += nums1[i] * nums2[i]\n",
    "        return ans\n",
    "\n",
    "# Time: O(NlogN)\n",
    "# Space: O(1)"
   ]
  },
  {
   "cell_type": "code",
   "execution_count": 4,
   "id": "05bb3569",
   "metadata": {},
   "outputs": [
    {
     "data": {
      "text/plain": [
       "40"
      ]
     },
     "execution_count": 4,
     "metadata": {},
     "output_type": "execute_result"
    }
   ],
   "source": [
    "nums1 = [5,3,4,2]; nums2 = [4,2,2,5]\n",
    "Solution().minPairSum(nums1,nums2)"
   ]
  },
  {
   "cell_type": "code",
   "execution_count": 6,
   "id": "d3fea5a7",
   "metadata": {},
   "outputs": [
    {
     "data": {
      "text/plain": [
       "65"
      ]
     },
     "execution_count": 6,
     "metadata": {},
     "output_type": "execute_result"
    }
   ],
   "source": [
    "nums1 = [2,1,4,5,7]; nums2 = [3,2,4,8,6] \n",
    "Solution().minPairSum(nums1,nums2)"
   ]
  },
  {
   "cell_type": "code",
   "execution_count": 7,
   "id": "4920ff45",
   "metadata": {},
   "outputs": [
    {
     "data": {
      "text/plain": [
       "21"
      ]
     },
     "execution_count": 7,
     "metadata": {},
     "output_type": "execute_result"
    }
   ],
   "source": [
    "nums1 = [1,2,3,4]; nums2 = [5,2,3,1]\n",
    "Solution().minPairSum(nums1,nums2)"
   ]
  },
  {
   "cell_type": "code",
   "execution_count": null,
   "id": "db11761b",
   "metadata": {},
   "outputs": [],
   "source": []
  }
 ],
 "metadata": {
  "kernelspec": {
   "display_name": "Python 3",
   "language": "python",
   "name": "python3"
  },
  "language_info": {
   "codemirror_mode": {
    "name": "ipython",
    "version": 3
   },
   "file_extension": ".py",
   "mimetype": "text/x-python",
   "name": "python",
   "nbconvert_exporter": "python",
   "pygments_lexer": "ipython3",
   "version": "3.7.4"
  }
 },
 "nbformat": 4,
 "nbformat_minor": 5
}
