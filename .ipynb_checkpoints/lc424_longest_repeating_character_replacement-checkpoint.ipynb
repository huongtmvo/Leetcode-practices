{
 "cells": [
  {
   "cell_type": "markdown",
   "id": "7bf4bdca",
   "metadata": {},
   "source": [
    "https://leetcode.com/problems/longest-repeating-character-replacement/"
   ]
  },
  {
   "cell_type": "code",
   "execution_count": 26,
   "id": "5192c4e2",
   "metadata": {},
   "outputs": [],
   "source": [
    "from collections import Counter\n",
    "class Solution:\n",
    "    def characterReplacement(self, s: str, k: int) -> int:\n",
    "        # maxf to keep track of the characters with the most frequencies in a window\n",
    "        maxf = 0\n",
    "        \n",
    "        # pointer l for the start of the window\n",
    "        l = 0\n",
    "        res = 0\n",
    "        \n",
    "        # Use a dictionary to store the values\n",
    "        count = Counter()\n",
    "    \n",
    "        for r in range(len(s)):\n",
    "            count[s[r]] += 1\n",
    "            maxf = max(count[s[r]], maxf)\n",
    "            # size of window is r - l + 1\n",
    "            if r - l + 1 > maxf + k:\n",
    "                count[s[l]] -= 1\n",
    "                l += 1\n",
    "            res = max(res, r - l + 1)\n",
    "        return res       "
   ]
  },
  {
   "cell_type": "code",
   "execution_count": 27,
   "id": "e91645ee",
   "metadata": {},
   "outputs": [
    {
     "data": {
      "text/plain": [
       "4"
      ]
     },
     "execution_count": 27,
     "metadata": {},
     "output_type": "execute_result"
    }
   ],
   "source": [
    "s = \"AABABBA\"; k = 1\n",
    "Solution().characterReplacement(s,k)"
   ]
  }
 ],
 "metadata": {
  "kernelspec": {
   "display_name": "Python 3",
   "language": "python",
   "name": "python3"
  },
  "language_info": {
   "codemirror_mode": {
    "name": "ipython",
    "version": 3
   },
   "file_extension": ".py",
   "mimetype": "text/x-python",
   "name": "python",
   "nbconvert_exporter": "python",
   "pygments_lexer": "ipython3",
   "version": "3.7.4"
  }
 },
 "nbformat": 4,
 "nbformat_minor": 5
}
