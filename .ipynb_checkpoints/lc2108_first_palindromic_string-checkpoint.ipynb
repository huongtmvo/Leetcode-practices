{
 "cells": [
  {
   "cell_type": "markdown",
   "id": "52d018ae",
   "metadata": {},
   "source": [
    "https://leetcode.com/problems/find-first-palindromic-string-in-the-array/"
   ]
  },
  {
   "cell_type": "code",
   "execution_count": 17,
   "id": "2c348cc8",
   "metadata": {},
   "outputs": [],
   "source": [
    "from typing import List\n",
    "class Solution:\n",
    "    def firstPalindrome2(self, words: List[str]) -> str:\n",
    "        i = 0\n",
    "        while i < len(words):\n",
    "            if words[i] == words[i][::-1]:\n",
    "                return words[i]\n",
    "            i += 1\n",
    "        else:\n",
    "            return \"\"    \n",
    "    \n",
    "    def firstPalindrome(self, words: List[str]) -> str:\n",
    "        for word in words:\n",
    "            l = 0; r = len(words) - 1\n",
    "            flag = True\n",
    "            while l < r:\n",
    "                if word[l] == word[r]:\n",
    "                    l += 1\n",
    "                    r -= 1\n",
    "                else:\n",
    "                    flag = False\n",
    "                    break\n",
    "            if flag:\n",
    "                return word\n",
    "        "
   ]
  },
  {
   "cell_type": "code",
   "execution_count": 4,
   "id": "d5cdb7c4",
   "metadata": {},
   "outputs": [
    {
     "data": {
      "text/plain": [
       "True"
      ]
     },
     "execution_count": 4,
     "metadata": {},
     "output_type": "execute_result"
    }
   ],
   "source": [
    "s = 'abc'\n",
    "s[::-1] == 'cba'"
   ]
  },
  {
   "cell_type": "code",
   "execution_count": 18,
   "id": "db3716a9",
   "metadata": {},
   "outputs": [
    {
     "data": {
      "text/plain": [
       "'notapalindrome'"
      ]
     },
     "execution_count": 18,
     "metadata": {},
     "output_type": "execute_result"
    }
   ],
   "source": [
    "words = [\"notapalindrome\",\"racecar\"]\n",
    "Solution().firstPalindrome(words)"
   ]
  },
  {
   "cell_type": "code",
   "execution_count": null,
   "id": "4310c80d",
   "metadata": {},
   "outputs": [],
   "source": []
  }
 ],
 "metadata": {
  "kernelspec": {
   "display_name": "Python 3",
   "language": "python",
   "name": "python3"
  },
  "language_info": {
   "codemirror_mode": {
    "name": "ipython",
    "version": 3
   },
   "file_extension": ".py",
   "mimetype": "text/x-python",
   "name": "python",
   "nbconvert_exporter": "python",
   "pygments_lexer": "ipython3",
   "version": "3.7.4"
  }
 },
 "nbformat": 4,
 "nbformat_minor": 5
}
