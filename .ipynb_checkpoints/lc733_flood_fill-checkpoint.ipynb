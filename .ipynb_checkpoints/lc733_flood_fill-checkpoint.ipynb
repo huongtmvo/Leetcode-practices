{
 "cells": [
  {
   "cell_type": "code",
   "execution_count": null,
   "id": "5c4d9d65",
   "metadata": {},
   "outputs": [],
   "source": [
    "# Need to review graphs, ask Thong for help "
   ]
  },
  {
   "cell_type": "markdown",
   "id": "8e747bf3",
   "metadata": {},
   "source": [
    "### 733. Flood Fill\n",
    "\n",
    "An image is represented by an m x n integer grid image where image[i][j] represents the pixel value of the image.\n",
    "\n",
    "You are also given three integers sr, sc, and color. You should perform a flood fill on the image starting from the pixel image[sr][sc].\n",
    "\n",
    "To perform a flood fill, consider the starting pixel, plus any pixels connected 4-directionally to the starting pixel of the same color as the starting pixel, plus any pixels connected 4-directionally to those pixels (also with the same color), and so on. Replace the color of all of the aforementioned pixels with color.\n",
    "\n",
    "Return the modified image after performing the flood fill.\n",
    "\n",
    " \n",
    "\n",
    "Example 1:\n",
    "\n",
    "\n",
    "Input: image = [[1,1,1],[1,1,0],[1,0,1]], sr = 1, sc = 1, color = 2\n",
    "\n",
    "Output: [[2,2,2],[2,2,0],[2,0,1]]\n",
    "\n",
    "Explanation: From the center of the image with position (sr, sc) = (1, 1) (i.e., the red pixel), all pixels connected by a path of the same color as the starting pixel (i.e., the blue pixels) are colored with the new color.\n",
    "\n",
    "Note the bottom corner is not colored 2, because it is not 4-directionally connected to the starting pixel.\n",
    "\n",
    "Example 2:\n",
    "\n",
    "Input: image = [[0,0,0],[0,0,0]], sr = 0, sc = 0, color = 0\n",
    "\n",
    "Output: [[0,0,0],[0,0,0]]\n",
    "\n",
    "Explanation: The starting pixel is already colored 0, so no changes are made to the image.\n",
    " \n",
    "\n",
    "Constraints:\n",
    "\n",
    "m == image.length\n",
    "n == image[i].length\n",
    "1 <= m, n <= 50\n",
    "0 <= image[i][j], color < 216\n",
    "0 <= sr < m\n",
    "0 <= sc < n"
   ]
  },
  {
   "cell_type": "code",
   "execution_count": null,
   "id": "4bebb074",
   "metadata": {},
   "outputs": [],
   "source": [
    "class Solution:\n",
    "    def floodFill(self, image: List[List[int]], sr: int, sc: int, newColor: int) -> List[List[int]]:\n",
    "        \n",
    "        "
   ]
  }
 ],
 "metadata": {
  "kernelspec": {
   "display_name": "Python 3",
   "language": "python",
   "name": "python3"
  },
  "language_info": {
   "codemirror_mode": {
    "name": "ipython",
    "version": 3
   },
   "file_extension": ".py",
   "mimetype": "text/x-python",
   "name": "python",
   "nbconvert_exporter": "python",
   "pygments_lexer": "ipython3",
   "version": "3.7.4"
  }
 },
 "nbformat": 4,
 "nbformat_minor": 5
}
