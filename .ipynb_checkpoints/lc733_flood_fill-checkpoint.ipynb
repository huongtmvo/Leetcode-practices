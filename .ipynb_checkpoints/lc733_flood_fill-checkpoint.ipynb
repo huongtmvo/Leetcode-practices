{
 "cells": [
  {
   "cell_type": "code",
   "execution_count": null,
   "id": "f22ac664",
   "metadata": {},
   "outputs": [],
   "source": [
    "# Need to review graphs, ask Thong for help "
   ]
  },
  {
   "cell_type": "code",
   "execution_count": 24,
   "id": "4bebb074",
   "metadata": {},
   "outputs": [],
   "source": [
    "from typing import List\n",
    "from collections import deque\n",
    "\n",
    "class Solution:\n",
    "    def floodFill(self, image: List[List[int]], sr: int, sc: int, newColor: int) -> List[List[int]]:\n",
    "        if image[sr][sc] == newColor:\n",
    "            return image\n",
    "        self.image = image\n",
    "        self.newColor = newColor\n",
    "        self.visited = set()\n",
    "        self.dfs(sr, sc)\n",
    "        return image\n",
    "    \n",
    "    def dfs(self, sr, sc):\n",
    "        if self.image[sr][sc] != 1 or (sr, sc) in self.visited:\n",
    "            return\n",
    "        print(sr, sc)\n",
    "        self.visited.add((sr, sc))\n",
    "        self.image[sr][sc] = self.newColor\n",
    "        if sr-1 >= 0:\n",
    "            self.dfs(sr-1, sc)\n",
    "        if sr+1 < len(self.image):\n",
    "            self.dfs(sr+1, sc)\n",
    "        if sc-1 >= 0:\n",
    "            self.dfs(sr, sc-1)\n",
    "        if sc+1 < len(self.image[0]):\n",
    "            self.dfs(sr, sc+1)\n",
    "            \n",
    "    def dfs2(self, sr, sc):\n",
    "        if sr < 0 or sr >= len(self.image) or sc < 0 or sc >= len(self.image[0]) or self.image[sr][sc] != 1 or (sr, sc) in self.visited:\n",
    "            return\n",
    "        self.visited.add((sr, sc))\n",
    "        self.image[sr][sc] = self.newColor\n",
    "        for x, y in [(1, 0), (-1, 0), (0, 1), (0, -1)]:\n",
    "            self.dfs2(sr+x, sc+y)\n",
    "                \n",
    "    def floodFill234(self, image: List[List[int]], sr: int, sc: int, newColor: int) -> List[List[int]]:\n",
    "        if image[sr][sc] == newColor:\n",
    "            return image\n",
    "        n, m = len(image), len(image[0])\n",
    "        queue = deque([(sr, sc)])\n",
    "        visited = set()\n",
    "        while queue:\n",
    "            r, c = queue.popleft()\n",
    "            image[r][c] = newColor\n",
    "            visited.add((r, c))\n",
    "            print(r, c)\n",
    "            for x, y in [(1, 0), (-1, 0), (0, 1), (0, -1)]:\n",
    "                if 0<=r+x<n and 0<=c+y<m and image[r+x][c+y] == 1 and (r+x, c+y) not in visited:\n",
    "                    queue.append((r+x, c+y))\n",
    "                    \n",
    "        return image\n",
    "        \n",
    "        \n",
    "        "
   ]
  },
  {
   "cell_type": "code",
   "execution_count": 9,
   "id": "f2ca47e0",
   "metadata": {},
   "outputs": [
    {
     "name": "stdout",
     "output_type": "stream",
     "text": [
      "1 1\n",
      "0 1\n",
      "0 0\n",
      "1 0\n",
      "2 0\n",
      "0 2\n"
     ]
    },
    {
     "data": {
      "text/plain": [
       "[[2, 2, 2], [2, 2, 0], [2, 0, 1]]"
      ]
     },
     "execution_count": 9,
     "metadata": {},
     "output_type": "execute_result"
    }
   ],
   "source": [
    "image = [[1,1,1],[1,1,0],[1,0,1]]\n",
    "sr = 1\n",
    "sc = 1\n",
    "color = 2\n",
    "Solution().floodFill(image, sr, sc, color)"
   ]
  },
  {
   "cell_type": "code",
   "execution_count": 25,
   "id": "a550ba13",
   "metadata": {},
   "outputs": [
    {
     "name": "stdout",
     "output_type": "stream",
     "text": [
      "1 1\n",
      "0 1\n",
      "1 0\n",
      "0 2\n",
      "0 0\n",
      "2 0\n",
      "0 0\n"
     ]
    },
    {
     "data": {
      "text/plain": [
       "[[2, 2, 2], [2, 2, 0], [2, 0, 1]]"
      ]
     },
     "execution_count": 25,
     "metadata": {},
     "output_type": "execute_result"
    }
   ],
   "source": [
    "image = [[1,1,1],[1,1,0],[1,0,1]]\n",
    "sr = 1\n",
    "sc = 1\n",
    "color = 2\n",
    "Solution().floodFill234(image, sr, sc, color)"
   ]
  },
  {
   "cell_type": "code",
   "execution_count": null,
   "id": "6dff3f21",
   "metadata": {},
   "outputs": [],
   "source": []
  }
 ],
 "metadata": {
  "kernelspec": {
   "display_name": "Python 3",
   "language": "python",
   "name": "python3"
  },
  "language_info": {
   "codemirror_mode": {
    "name": "ipython",
    "version": 3
   },
   "file_extension": ".py",
   "mimetype": "text/x-python",
   "name": "python",
   "nbconvert_exporter": "python",
   "pygments_lexer": "ipython3",
   "version": "3.7.4"
  }
 },
 "nbformat": 4,
 "nbformat_minor": 5
}
