{
 "cells": [
  {
   "cell_type": "markdown",
   "id": "bd1693b8",
   "metadata": {},
   "source": [
    "1763. Longest Nice Substring"
   ]
  },
  {
   "cell_type": "markdown",
   "id": "8c3c3832",
   "metadata": {},
   "source": [
    "A string s is nice if, for every letter of the alphabet that s contains, it appears both in uppercase and lowercase. For example, \"abABB\" is nice because 'A' and 'a' appear, and 'B' and 'b' appear. However, \"abA\" is not because 'b' appears, but 'B' does not.\n",
    "\n",
    "Given a string s, return the longest substring of s that is nice. If there are multiple, return the substring of the earliest occurrence. If there are none, return an empty string."
   ]
  },
  {
   "cell_type": "markdown",
   "id": "68fe9e6a",
   "metadata": {},
   "source": [
    "Input: s = \"YazaAay\"\n",
    "Output: \"aAa\"\n",
    "Explanation: \"aAa\" is a nice string because 'A/a' is the only letter of the alphabet in s, and both 'A' and 'a' appear.\n",
    "\"aAa\" is the longest nice substring.\n",
    "\n",
    "\n",
    "Input: s = \"Bb\"\n",
    "Output: \"Bb\"\n",
    "Explanation: \"Bb\" is a nice string because both 'B' and 'b' appear. The whole string is a substring.q\n",
    "\n",
    "\n",
    "Input: s = \"c\"\n",
    "Output: \"\"\n",
    "Explanation: There are no nice substrings.\n",
    "\n",
    "\n",
    "1 <= s.length <= 100\n",
    "s consists of uppercase and lowercase English letters\n",
    "\n"
   ]
  },
  {
   "cell_type": "code",
   "execution_count": null,
   "id": "50d89559",
   "metadata": {},
   "outputs": [],
   "source": [
    "class Solution:\n",
    "    def longestNiceSubstring(self, s: str) -> str:"
   ]
  }
 ],
 "metadata": {
  "kernelspec": {
   "display_name": "Python 3",
   "language": "python",
   "name": "python3"
  },
  "language_info": {
   "codemirror_mode": {
    "name": "ipython",
    "version": 3
   },
   "file_extension": ".py",
   "mimetype": "text/x-python",
   "name": "python",
   "nbconvert_exporter": "python",
   "pygments_lexer": "ipython3",
   "version": "3.7.4"
  }
 },
 "nbformat": 4,
 "nbformat_minor": 5
}
