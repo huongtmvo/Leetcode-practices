{
 "cells": [
  {
   "cell_type": "markdown",
   "id": "811dc500",
   "metadata": {},
   "source": [
    "#### 1763. Longest Nice Substring"
   ]
  },
  {
   "cell_type": "code",
   "execution_count": 25,
   "id": "c854213e",
   "metadata": {},
   "outputs": [],
   "source": [
    "class Solution:\n",
    "    def longestNiceSubstring(self,s):\n",
    "        chars = set(s)\n",
    "        for i,c in enumerate(s):\n",
    "            if c.swapcase() not in chars:\n",
    "                s0 = self.longestNiceSubstring(s[:i])\n",
    "                s1 = self.longestNiceSubstring(s[i+1:])\n",
    "                return max(s0,s1,key=len)\n",
    "        return s\n",
    "    \n",
    "# Time: 3^N\n",
    "# Space: O(N) = length of stack"
   ]
  },
  {
   "cell_type": "code",
   "execution_count": 20,
   "id": "bb450ecf",
   "metadata": {},
   "outputs": [
    {
     "data": {
      "text/plain": [
       "'aAa'"
      ]
     },
     "execution_count": 20,
     "metadata": {},
     "output_type": "execute_result"
    }
   ],
   "source": [
    "s = \"YazaAay\"\n",
    "Solution().longestNiceSubstring(s)"
   ]
  },
  {
   "cell_type": "code",
   "execution_count": 21,
   "id": "3c33c071",
   "metadata": {},
   "outputs": [
    {
     "data": {
      "text/plain": [
       "'Bb'"
      ]
     },
     "execution_count": 21,
     "metadata": {},
     "output_type": "execute_result"
    }
   ],
   "source": [
    "s = \"Bb\"\n",
    "Solution().longestNiceSubstring(s)"
   ]
  },
  {
   "cell_type": "code",
   "execution_count": 22,
   "id": "4586c66a",
   "metadata": {},
   "outputs": [
    {
     "data": {
      "text/plain": [
       "''"
      ]
     },
     "execution_count": 22,
     "metadata": {},
     "output_type": "execute_result"
    }
   ],
   "source": [
    "s = \"c\"\n",
    "Solution().longestNiceSubstring(s)"
   ]
  },
  {
   "cell_type": "code",
   "execution_count": 23,
   "id": "a54fe41c",
   "metadata": {},
   "outputs": [
    {
     "data": {
      "text/plain": [
       "'a'"
      ]
     },
     "execution_count": 23,
     "metadata": {},
     "output_type": "execute_result"
    }
   ],
   "source": [
    "\"A\".swapcase()"
   ]
  },
  {
   "cell_type": "code",
   "execution_count": 24,
   "id": "b04d4f07",
   "metadata": {},
   "outputs": [
    {
     "data": {
      "text/plain": [
       "'A'"
      ]
     },
     "execution_count": 24,
     "metadata": {},
     "output_type": "execute_result"
    }
   ],
   "source": [
    "'a'.swapcase()"
   ]
  },
  {
   "cell_type": "code",
   "execution_count": 27,
   "id": "e4398371",
   "metadata": {},
   "outputs": [
    {
     "data": {
      "text/plain": [
       "['__add__',\n",
       " '__class__',\n",
       " '__contains__',\n",
       " '__delattr__',\n",
       " '__dir__',\n",
       " '__doc__',\n",
       " '__eq__',\n",
       " '__format__',\n",
       " '__ge__',\n",
       " '__getattribute__',\n",
       " '__getitem__',\n",
       " '__getnewargs__',\n",
       " '__gt__',\n",
       " '__hash__',\n",
       " '__init__',\n",
       " '__init_subclass__',\n",
       " '__iter__',\n",
       " '__le__',\n",
       " '__len__',\n",
       " '__lt__',\n",
       " '__mod__',\n",
       " '__mul__',\n",
       " '__ne__',\n",
       " '__new__',\n",
       " '__reduce__',\n",
       " '__reduce_ex__',\n",
       " '__repr__',\n",
       " '__rmod__',\n",
       " '__rmul__',\n",
       " '__setattr__',\n",
       " '__sizeof__',\n",
       " '__str__',\n",
       " '__subclasshook__',\n",
       " 'capitalize',\n",
       " 'casefold',\n",
       " 'center',\n",
       " 'count',\n",
       " 'encode',\n",
       " 'endswith',\n",
       " 'expandtabs',\n",
       " 'find',\n",
       " 'format',\n",
       " 'format_map',\n",
       " 'index',\n",
       " 'isalnum',\n",
       " 'isalpha',\n",
       " 'isascii',\n",
       " 'isdecimal',\n",
       " 'isdigit',\n",
       " 'isidentifier',\n",
       " 'islower',\n",
       " 'isnumeric',\n",
       " 'isprintable',\n",
       " 'isspace',\n",
       " 'istitle',\n",
       " 'isupper',\n",
       " 'join',\n",
       " 'ljust',\n",
       " 'lower',\n",
       " 'lstrip',\n",
       " 'maketrans',\n",
       " 'partition',\n",
       " 'replace',\n",
       " 'rfind',\n",
       " 'rindex',\n",
       " 'rjust',\n",
       " 'rpartition',\n",
       " 'rsplit',\n",
       " 'rstrip',\n",
       " 'split',\n",
       " 'splitlines',\n",
       " 'startswith',\n",
       " 'strip',\n",
       " 'swapcase',\n",
       " 'title',\n",
       " 'translate',\n",
       " 'upper',\n",
       " 'zfill']"
      ]
     },
     "execution_count": 27,
     "metadata": {},
     "output_type": "execute_result"
    }
   ],
   "source": [
    "dir(\"adc\")"
   ]
  },
  {
   "cell_type": "code",
   "execution_count": null,
   "id": "a7dec172",
   "metadata": {},
   "outputs": [],
   "source": []
  }
 ],
 "metadata": {
  "kernelspec": {
   "display_name": "Python 3",
   "language": "python",
   "name": "python3"
  },
  "language_info": {
   "codemirror_mode": {
    "name": "ipython",
    "version": 3
   },
   "file_extension": ".py",
   "mimetype": "text/x-python",
   "name": "python",
   "nbconvert_exporter": "python",
   "pygments_lexer": "ipython3",
   "version": "3.7.4"
  }
 },
 "nbformat": 4,
 "nbformat_minor": 5
}
