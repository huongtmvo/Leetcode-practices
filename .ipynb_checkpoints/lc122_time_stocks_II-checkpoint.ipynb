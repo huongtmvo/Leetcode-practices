{
 "cells": [
  {
   "cell_type": "markdown",
   "id": "0724b953",
   "metadata": {},
   "source": [
    "### 122. Best Time to Buy and Sell Stock II"
   ]
  },
  {
   "cell_type": "code",
   "execution_count": 3,
   "id": "2f3b37db",
   "metadata": {},
   "outputs": [],
   "source": [
    "from typing import List\n",
    "class Solution:\n",
    "    def maxProfit2(self, prices):\n",
    "        maxprofit = 0\n",
    "        for i in range(1, len(prices)):\n",
    "            if prices[i] > prices[i-1]:\n",
    "                maxprofit += prices[i] - prices[i-1]\n",
    "        return maxprofit\n",
    "    \n",
    "    # Time complexity : O(n) \n",
    "    # Space complexity: O(1)\n",
    "\n",
    "\n",
    "    # From leetcode.com, find the peaks and the valleys\n",
    "    def maxProfit(self, prices: List[int]) -> int:\n",
    "        i = 0\n",
    "        n = len(prices)\n",
    "        valley = prices[0]\n",
    "        peak = prices[0]\n",
    "        max_profit = 0\n",
    "        \n",
    "        while i < n - 1:\n",
    "            while i < n - 1 and prices[i] >= prices[i+1]:\n",
    "                i += 1\n",
    "            valley = prices[i]\n",
    "            while i < n - 1 and prices[i] <= prices[i+1]:\n",
    "                i += 1\n",
    "            peak = prices[i]\n",
    "            max_profit += peak - valley\n",
    "        return max_profit\n",
    "    \n",
    "    # Time complexity : O(n)\n",
    "    # Space complexity : O(1)"
   ]
  },
  {
   "cell_type": "code",
   "execution_count": 4,
   "id": "78787d2c",
   "metadata": {},
   "outputs": [
    {
     "data": {
      "text/plain": [
       "7"
      ]
     },
     "execution_count": 4,
     "metadata": {},
     "output_type": "execute_result"
    }
   ],
   "source": [
    "prices = [7,1,5,3,6,4]\n",
    "Solution().maxProfit(prices)"
   ]
  },
  {
   "cell_type": "code",
   "execution_count": 5,
   "id": "4447afeb",
   "metadata": {},
   "outputs": [
    {
     "data": {
      "text/plain": [
       "7"
      ]
     },
     "execution_count": 5,
     "metadata": {},
     "output_type": "execute_result"
    }
   ],
   "source": [
    "prices = [7,1,5,3,6,4]\n",
    "Solution().maxProfit2(prices)"
   ]
  },
  {
   "cell_type": "code",
   "execution_count": 6,
   "id": "8ae156e7",
   "metadata": {},
   "outputs": [
    {
     "data": {
      "text/plain": [
       "4"
      ]
     },
     "execution_count": 6,
     "metadata": {},
     "output_type": "execute_result"
    }
   ],
   "source": [
    "prices = [1,2,3,4,5]\n",
    "Solution().maxProfit(prices)    "
   ]
  },
  {
   "cell_type": "code",
   "execution_count": 7,
   "id": "12a0e7e0",
   "metadata": {},
   "outputs": [
    {
     "data": {
      "text/plain": [
       "4"
      ]
     },
     "execution_count": 7,
     "metadata": {},
     "output_type": "execute_result"
    }
   ],
   "source": [
    "prices = [1,2,3,4,5]\n",
    "Solution().maxProfit2(prices) "
   ]
  }
 ],
 "metadata": {
  "kernelspec": {
   "display_name": "Python 3",
   "language": "python",
   "name": "python3"
  },
  "language_info": {
   "codemirror_mode": {
    "name": "ipython",
    "version": 3
   },
   "file_extension": ".py",
   "mimetype": "text/x-python",
   "name": "python",
   "nbconvert_exporter": "python",
   "pygments_lexer": "ipython3",
   "version": "3.7.4"
  }
 },
 "nbformat": 4,
 "nbformat_minor": 5
}
