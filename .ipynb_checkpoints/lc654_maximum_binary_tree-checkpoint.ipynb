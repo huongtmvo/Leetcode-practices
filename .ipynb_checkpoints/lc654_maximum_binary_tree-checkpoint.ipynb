{
 "cells": [
  {
   "cell_type": "markdown",
   "id": "21615f23",
   "metadata": {},
   "source": [
    "https://leetcode.com/problems/maximum-binary-tree/"
   ]
  },
  {
   "cell_type": "code",
   "execution_count": 5,
   "id": "ef389fa1",
   "metadata": {},
   "outputs": [],
   "source": [
    "class TreeNode:\n",
    "    def __init__(self, val=0, left=None, right=None):\n",
    "        self.val = val\n",
    "        self.left = left\n",
    "        self.right = right"
   ]
  },
  {
   "cell_type": "code",
   "execution_count": 8,
   "id": "8600096c",
   "metadata": {},
   "outputs": [],
   "source": [
    "from typing import List, Optional\n",
    "class Solution:\n",
    "    def constructMaximumBinaryTree(self, nums: List[int]) -> Optional[TreeNode]:\n",
    "        if len(nums) == 0: return None\n",
    "        maximum = max(nums)\n",
    "        root = TreeNode(maximum)\n",
    "        root.left = self.constructMaximumBinaryTree(nums[ :nums.index(maximum)])\n",
    "        root.right = self.constructMaximumBinaryTree(nums[(nums.index(maximum) + 1):])\n",
    "        return root"
   ]
  },
  {
   "cell_type": "code",
   "execution_count": 4,
   "id": "fe0d5d7a",
   "metadata": {},
   "outputs": [
    {
     "data": {
      "text/plain": [
       "2"
      ]
     },
     "execution_count": 4,
     "metadata": {},
     "output_type": "execute_result"
    }
   ],
   "source": [
    "a.index(max(a))"
   ]
  }
 ],
 "metadata": {
  "kernelspec": {
   "display_name": "Python 3",
   "language": "python",
   "name": "python3"
  },
  "language_info": {
   "codemirror_mode": {
    "name": "ipython",
    "version": 3
   },
   "file_extension": ".py",
   "mimetype": "text/x-python",
   "name": "python",
   "nbconvert_exporter": "python",
   "pygments_lexer": "ipython3",
   "version": "3.7.4"
  }
 },
 "nbformat": 4,
 "nbformat_minor": 5
}
