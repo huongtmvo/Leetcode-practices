{
 "cells": [
  {
   "cell_type": "markdown",
   "id": "9e28b171",
   "metadata": {},
   "source": [
    "https://leetcode.com/problems/maximum-product-subarray/"
   ]
  },
  {
   "cell_type": "code",
   "execution_count": 4,
   "id": "2e4653aa",
   "metadata": {},
   "outputs": [],
   "source": [
    "from typing import List\n",
    "class Solution:\n",
    "    def maxProduct(self, nums: List[int]) -> int:\n",
    "        cur_max = 1 (# max ending at nums[i], including nums[i])\n",
    "        cur_min = 1\n",
    "        res = float('-inf')\n",
    "        for n in nums:\n",
    "            vals = (n, n * cur_max, n * cur_min)\n",
    "            cur_max, cur_min = max(vals), min(vals)\n",
    "            res = max(cur_max, res)\n",
    "        return res         "
   ]
  },
  {
   "cell_type": "code",
   "execution_count": 5,
   "id": "45948a3e",
   "metadata": {},
   "outputs": [
    {
     "data": {
      "text/plain": [
       "6"
      ]
     },
     "execution_count": 5,
     "metadata": {},
     "output_type": "execute_result"
    }
   ],
   "source": [
    "nums = [2,3,-2,4]\n",
    "Solution().maxProduct(nums)"
   ]
  },
  {
   "cell_type": "code",
   "execution_count": 6,
   "id": "b1c1a6e1",
   "metadata": {},
   "outputs": [
    {
     "data": {
      "text/plain": [
       "0"
      ]
     },
     "execution_count": 6,
     "metadata": {},
     "output_type": "execute_result"
    }
   ],
   "source": [
    "nums = [-2,0,-1]\n",
    "Solution().maxProduct(nums)"
   ]
  },
  {
   "cell_type": "code",
   "execution_count": null,
   "id": "388b10d7",
   "metadata": {},
   "outputs": [],
   "source": []
  }
 ],
 "metadata": {
  "kernelspec": {
   "display_name": "Python 3",
   "language": "python",
   "name": "python3"
  },
  "language_info": {
   "codemirror_mode": {
    "name": "ipython",
    "version": 3
   },
   "file_extension": ".py",
   "mimetype": "text/x-python",
   "name": "python",
   "nbconvert_exporter": "python",
   "pygments_lexer": "ipython3",
   "version": "3.7.4"
  }
 },
 "nbformat": 4,
 "nbformat_minor": 5
}
