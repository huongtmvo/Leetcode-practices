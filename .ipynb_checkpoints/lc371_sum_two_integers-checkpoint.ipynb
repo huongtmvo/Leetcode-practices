{
 "cells": [
  {
   "cell_type": "markdown",
   "id": "fe4c94f8",
   "metadata": {},
   "source": [
    "https://leetcode.com/problems/sum-of-two-integers/"
   ]
  },
  {
   "cell_type": "code",
   "execution_count": 44,
   "id": "feaf4f0c",
   "metadata": {},
   "outputs": [],
   "source": [
    "class Solution:\n",
    "    def getSum(self, a: int, b: int) -> int:\n",
    "        ar = list(str(a))[::-1]\n",
    "        br = list(str(b))[::-1]\n",
    "        ar = list(map(int,ar))\n",
    "        br = list(map(int,br))\n",
    "        ans = []\n",
    "        \n",
    "        la = len(ar)\n",
    "        lb = len(br)\n",
    "        \n",
    "        carry = 0\n",
    "        if la >= lb:\n",
    "            for i in range(lb):\n",
    "                remainder, carry = (ar[i] + br[i] + carry) % 10, (ar[i] + br[i]) //10\n",
    "                ans.append(remainder)\n",
    "            for j in range(lb, la):\n",
    "                remainder, carry = (ar[j] + carry) % 10, (ar[j] + carry) //10\n",
    "                ans.append(remainder)\n",
    "            if carry > 0:\n",
    "                ans.append(carry)\n",
    "        else:\n",
    "            for i in range(la):\n",
    "                remainder, carry = (ar[i] + br[i] + carry) % 10, (ar[i] + br[i]) //10\n",
    "                ans.append(remainder)\n",
    "            for j in range(la, lb):\n",
    "                remainder, carry = (br[j] + carry) % 10, (br[j] + carry) //10\n",
    "                ans.append(remainder)\n",
    "            if carry > 0:\n",
    "                ans.append(carry)\n",
    "        output = 0\n",
    "        for i in range(len(ans)):\n",
    "            output += ans[i]*10**(i)\n",
    "        return output\n",
    "           "
   ]
  },
  {
   "cell_type": "code",
   "execution_count": 45,
   "id": "aa917838",
   "metadata": {},
   "outputs": [
    {
     "data": {
      "text/plain": [
       "357"
      ]
     },
     "execution_count": 45,
     "metadata": {},
     "output_type": "execute_result"
    }
   ],
   "source": [
    "a = 234\n",
    "b = 123\n",
    "Solution().getSum(a,b)"
   ]
  },
  {
   "cell_type": "code",
   "execution_count": 46,
   "id": "a542aa4c",
   "metadata": {},
   "outputs": [
    {
     "data": {
      "text/plain": [
       "21"
      ]
     },
     "execution_count": 46,
     "metadata": {},
     "output_type": "execute_result"
    }
   ],
   "source": [
    "a = 10\n",
    "b = 11\n",
    "Solution().getSum(a,b)"
   ]
  },
  {
   "cell_type": "code",
   "execution_count": 50,
   "id": "cb92a70f",
   "metadata": {},
   "outputs": [],
   "source": [
    "a = 123\n",
    "ar = list(str(a))[::-1]"
   ]
  },
  {
   "cell_type": "code",
   "execution_count": 52,
   "id": "b8b40419",
   "metadata": {},
   "outputs": [
    {
     "data": {
      "text/plain": [
       "[3, 2, 1]"
      ]
     },
     "execution_count": 52,
     "metadata": {},
     "output_type": "execute_result"
    }
   ],
   "source": [
    "ar = list(map(int,ar))\n",
    "ar"
   ]
  },
  {
   "cell_type": "code",
   "execution_count": null,
   "id": "eea4b9b8",
   "metadata": {},
   "outputs": [],
   "source": []
  }
 ],
 "metadata": {
  "kernelspec": {
   "display_name": "Python 3",
   "language": "python",
   "name": "python3"
  },
  "language_info": {
   "codemirror_mode": {
    "name": "ipython",
    "version": 3
   },
   "file_extension": ".py",
   "mimetype": "text/x-python",
   "name": "python",
   "nbconvert_exporter": "python",
   "pygments_lexer": "ipython3",
   "version": "3.7.4"
  }
 },
 "nbformat": 4,
 "nbformat_minor": 5
}
