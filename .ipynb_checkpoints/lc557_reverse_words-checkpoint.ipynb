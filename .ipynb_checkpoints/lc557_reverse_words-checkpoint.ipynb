{
 "cells": [
  {
   "cell_type": "markdown",
   "id": "d027fc78",
   "metadata": {},
   "source": [
    "https://leetcode.com/problems/reverse-words-in-a-string-iii/"
   ]
  },
  {
   "cell_type": "code",
   "execution_count": 22,
   "id": "5e7c0431",
   "metadata": {},
   "outputs": [],
   "source": [
    "class Solution:\n",
    "    def reverseWords(self, s: str) -> str:\n",
    "        lst = s.split()\n",
    "        res = []\n",
    "        for w in lst:\n",
    "            res.append(w[::-1])\n",
    "        return(' '.join(res))"
   ]
  },
  {
   "cell_type": "code",
   "execution_count": 21,
   "id": "2d9c24b8",
   "metadata": {},
   "outputs": [
    {
     "data": {
      "text/plain": [
       "\"s'teL ekat edoCteeL tsetnoc\""
      ]
     },
     "execution_count": 21,
     "metadata": {},
     "output_type": "execute_result"
    }
   ],
   "source": [
    "s = \"Let's take LeetCode contest\"\n",
    "Solution().reverseWords(s)"
   ]
  },
  {
   "cell_type": "code",
   "execution_count": null,
   "id": "c303cd47",
   "metadata": {},
   "outputs": [],
   "source": []
  }
 ],
 "metadata": {
  "kernelspec": {
   "display_name": "Python 3",
   "language": "python",
   "name": "python3"
  },
  "language_info": {
   "codemirror_mode": {
    "name": "ipython",
    "version": 3
   },
   "file_extension": ".py",
   "mimetype": "text/x-python",
   "name": "python",
   "nbconvert_exporter": "python",
   "pygments_lexer": "ipython3",
   "version": "3.7.4"
  }
 },
 "nbformat": 4,
 "nbformat_minor": 5
}
