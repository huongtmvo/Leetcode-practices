{
 "cells": [
  {
   "cell_type": "markdown",
   "id": "9a7daf13",
   "metadata": {},
   "source": [
    "https://leetcode.com/problems/binary-tree-paths/"
   ]
  },
  {
   "cell_type": "code",
   "execution_count": 1,
   "id": "e39bfe65",
   "metadata": {},
   "outputs": [],
   "source": [
    "class TreeNode:\n",
    "    def __init__(self, val=0, left=None, right=None):\n",
    "        self.val = val\n",
    "        self.left = left\n",
    "        self.right = right"
   ]
  },
  {
   "cell_type": "code",
   "execution_count": null,
   "id": "7cafc391",
   "metadata": {},
   "outputs": [],
   "source": [
    "class Solution:\n",
    "    def binaryTreePaths(self, root: Optional[TreeNode]) -> List[str]:\n",
    "        def constructPath(root, path):\n",
    "            if root:\n",
    "                path += str(root.val)\n",
    "                if not root.left and not root.right:\n",
    "                    paths.append(path)\n",
    "                else:\n",
    "                    path += '->'\n",
    "                    constructPath(root.left, path)\n",
    "                    constructPath(root.right, path)\n",
    "\n",
    "        paths = []\n",
    "        constructPath(root, '')\n",
    "        return paths"
   ]
  },
  {
   "cell_type": "markdown",
   "id": "e1d77118",
   "metadata": {},
   "source": [
    "O(N) time complexity since visited each node once\n",
    "O(Height) space for recursive function, O(logN) space for paths (equal to the number of leaves).\n",
    "In general, if tree is balanced, would be O(logN)"
   ]
  },
  {
   "cell_type": "code",
   "execution_count": null,
   "id": "db496a58",
   "metadata": {},
   "outputs": [],
   "source": []
  }
 ],
 "metadata": {
  "kernelspec": {
   "display_name": "Python 3",
   "language": "python",
   "name": "python3"
  },
  "language_info": {
   "codemirror_mode": {
    "name": "ipython",
    "version": 3
   },
   "file_extension": ".py",
   "mimetype": "text/x-python",
   "name": "python",
   "nbconvert_exporter": "python",
   "pygments_lexer": "ipython3",
   "version": "3.7.4"
  }
 },
 "nbformat": 4,
 "nbformat_minor": 5
}
