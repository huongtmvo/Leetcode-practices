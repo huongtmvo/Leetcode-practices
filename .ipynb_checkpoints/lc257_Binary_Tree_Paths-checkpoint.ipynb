{
 "cells": [
  {
   "cell_type": "markdown",
   "id": "9a7daf13",
   "metadata": {},
   "source": [
    "https://leetcode.com/problems/binary-tree-paths/"
   ]
  },
  {
   "cell_type": "code",
   "execution_count": 1,
   "id": "e39bfe65",
   "metadata": {},
   "outputs": [],
   "source": [
    "class TreeNode:\n",
    "    def __init__(self, val=0, left=None, right=None):\n",
    "        self.val = val\n",
    "        self.left = left\n",
    "        self.right = right"
   ]
  },
  {
   "cell_type": "code",
   "execution_count": 4,
   "id": "7cafc391",
   "metadata": {},
   "outputs": [],
   "source": [
    "class Solution:\n",
    "    \n",
    "    # Solution1: Recursively \n",
    "    # Note: O(N) time complexity since visited each node once\n",
    "    # O(Height) space for recursive function, O(logN) space for paths (equal to the number of leaves).\n",
    "    # In general, if tree is balanced, would be O(logN)\n",
    "    def binaryTreePaths(self, root):\n",
    "        def constructPath(root, path):\n",
    "            if root:\n",
    "                path += str(root.val)\n",
    "                if not root.left and not root.right:\n",
    "                    paths.append(path)\n",
    "                else:\n",
    "                    path += '->'\n",
    "                    constructPath(root.left, path)\n",
    "                    constructPath(root.right, path)\n",
    "\n",
    "        paths = []\n",
    "        constructPath(root, '')\n",
    "        return paths\n",
    "    \n",
    "    # Solution2: Iteratively\n",
    "    def binaryTreePaths(self, root):\n",
    "        if not root:\n",
    "            return ''\n",
    "        paths = []\n",
    "        stack = [(root, str(root.val))]\n",
    "        while stack:\n",
    "            node, path = stack.pop()\n",
    "            if not node.left and not node.right:\n",
    "                paths.append(path)\n",
    "            if node.left:\n",
    "                stack.append((node.left, path + '->' + str(node.left.val)))\n",
    "            if node.right:\n",
    "                stack.append((node.right, path + '->' + str(node.right.val)))\n",
    "        return paths"
   ]
  },
  {
   "cell_type": "code",
   "execution_count": null,
   "id": "db496a58",
   "metadata": {},
   "outputs": [],
   "source": []
  }
 ],
 "metadata": {
  "kernelspec": {
   "display_name": "Python 3",
   "language": "python",
   "name": "python3"
  },
  "language_info": {
   "codemirror_mode": {
    "name": "ipython",
    "version": 3
   },
   "file_extension": ".py",
   "mimetype": "text/x-python",
   "name": "python",
   "nbconvert_exporter": "python",
   "pygments_lexer": "ipython3",
   "version": "3.7.4"
  }
 },
 "nbformat": 4,
 "nbformat_minor": 5
}
