{
 "cells": [
  {
   "cell_type": "markdown",
   "id": "21d4d28f",
   "metadata": {},
   "source": [
    "https://leetcode.com/problems/increasing-order-search-tree/"
   ]
  },
  {
   "cell_type": "code",
   "execution_count": null,
   "id": "06c46f52",
   "metadata": {},
   "outputs": [],
   "source": [
    " def increasingBST(self, root, tail = None):\n",
    "        if not root: return tail\n",
    "        res = self.increasingBST(root.left, root)\n",
    "        root.left = None\n",
    "        root.right = self.increasingBST(root.right, tail)\n",
    "        return res"
   ]
  },
  {
   "cell_type": "code",
   "execution_count": null,
   "id": "ee3cf7ce",
   "metadata": {},
   "outputs": [],
   "source": [
    "\n",
    "Recursively call function increasingBST(TreeNode root, TreeNode tail)\n",
    "tail is its next node in inorder,\n",
    "（the word next may be easier to understand, but it’s a keyword in python)\n",
    "\n",
    "If root == null, the head will be tail, so we return tail directly.\n",
    "\n",
    "we recursively call increasingBST(root.left, root),\n",
    "change left subtree into the linked list + current node.\n",
    "\n",
    "we recursively call increasingBST(root.right, tail),\n",
    "change right subtree into the linked list + tail.\n",
    "\n",
    "Now the result will be in a format of linked list, with right child is next node.\n",
    "Since it's single linked list, so we set root.left = null.\n",
    "Otherwise it will be TLE for Leetcode judgment to traverse over your tree.\n",
    "\n",
    "The result now is increasingBST(root.left) + root + increasingBST(root.right).\n",
    "\n",
    "One tip here, we should arrange the old tree, not create a new tree.\n",
    "The leetcode judgment comparer only the values,\n",
    "so it won't take it as wrong answer if you return a new tree,\n",
    "but it is wrong."
   ]
  },
  {
   "cell_type": "code",
   "execution_count": null,
   "id": "6ab87783",
   "metadata": {},
   "outputs": [],
   "source": [
    "# Keep going to the left of the tree by appending the nodes to the stack and once you reach the \n",
    "# leaf, then pop the stack and make the first popped node as root and then for rest of the nodes, \n",
    "# append it to the right of the current root and make the left for each node as None \n",
    "class Solution(object):\n",
    "    def increasingBST(self, root):\n",
    "        \"\"\"\n",
    "        :type root: TreeNode\n",
    "        :rtype: TreeNode\n",
    "        \"\"\"\n",
    "        if not root:\n",
    "            return None\n",
    "        stack = []\n",
    "        temp = x = root\n",
    "        i = 0\n",
    "        while stack or temp:\n",
    "            if temp:\n",
    "                stack.append(temp)\n",
    "                temp = temp.left\n",
    "            else:\n",
    "                node = stack.pop()\n",
    "                if i==0:\n",
    "                    root = x = node\n",
    "                    i+=1\n",
    "                else:\n",
    "                    x.right = node\n",
    "                    x = node\n",
    "                    x.left = None\n",
    "                temp = node.right\n",
    "        return root\t\n",
    "\t\t\n",
    "# If you like the solution, upvote it and do suggest if you have a better solution!!"
   ]
  }
 ],
 "metadata": {
  "kernelspec": {
   "display_name": "Python 3",
   "language": "python",
   "name": "python3"
  },
  "language_info": {
   "codemirror_mode": {
    "name": "ipython",
    "version": 3
   },
   "file_extension": ".py",
   "mimetype": "text/x-python",
   "name": "python",
   "nbconvert_exporter": "python",
   "pygments_lexer": "ipython3",
   "version": "3.7.4"
  }
 },
 "nbformat": 4,
 "nbformat_minor": 5
}
