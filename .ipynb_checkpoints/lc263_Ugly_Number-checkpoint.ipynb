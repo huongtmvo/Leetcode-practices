{
 "cells": [
  {
   "cell_type": "markdown",
   "id": "dd2fa9b2",
   "metadata": {},
   "source": [
    "https://leetcode.com/problems/ugly-number/"
   ]
  },
  {
   "cell_type": "code",
   "execution_count": 2,
   "id": "2f0ef5ca",
   "metadata": {},
   "outputs": [],
   "source": [
    "class Solution:\n",
    "    def isUgly(self, n: int) -> bool:\n",
    "        if n == 0:\n",
    "            return False\n",
    "        while n % 2 == 0:\n",
    "            n = n//2\n",
    "        while n % 3 == 0:\n",
    "            n = n //3\n",
    "        while n % 5 == 0:\n",
    "            n = n //5\n",
    "        return n == 1"
   ]
  },
  {
   "cell_type": "code",
   "execution_count": null,
   "id": "349edfae",
   "metadata": {},
   "outputs": [],
   "source": []
  }
 ],
 "metadata": {
  "kernelspec": {
   "display_name": "Python 3",
   "language": "python",
   "name": "python3"
  },
  "language_info": {
   "codemirror_mode": {
    "name": "ipython",
    "version": 3
   },
   "file_extension": ".py",
   "mimetype": "text/x-python",
   "name": "python",
   "nbconvert_exporter": "python",
   "pygments_lexer": "ipython3",
   "version": "3.7.4"
  }
 },
 "nbformat": 4,
 "nbformat_minor": 5
}
