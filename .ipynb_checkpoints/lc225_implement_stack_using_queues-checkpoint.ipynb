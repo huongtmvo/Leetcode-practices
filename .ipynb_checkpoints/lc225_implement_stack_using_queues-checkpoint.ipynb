{
 "cells": [
  {
   "cell_type": "markdown",
   "id": "729a5e4a",
   "metadata": {},
   "source": [
    "https://leetcode.com/problems/implement-stack-using-queues/"
   ]
  },
  {
   "cell_type": "code",
   "execution_count": null,
   "id": "8fa8c6fa",
   "metadata": {},
   "outputs": [],
   "source": [
    "class MyStack:\n",
    "    def __init__(self):\n",
    "        self.queue = collections.deque()\n",
    "    \n",
    "    def push(self, x):\n",
    "        self.queue.append(x)\n",
    "        for _ in range(len(self.queue) -1 ):\n",
    "            self.queue.append(self.queue.popleft())\n",
    "    \n",
    "    def pop(self):\n",
    "        return self.queue.popleft()\n",
    "    \n",
    "    def top(self):\n",
    "        return self.queue[0]\n",
    "    \n",
    "    def empty(self):\n",
    "        return not len(self.queue)"
   ]
  }
 ],
 "metadata": {
  "kernelspec": {
   "display_name": "Python 3",
   "language": "python",
   "name": "python3"
  },
  "language_info": {
   "codemirror_mode": {
    "name": "ipython",
    "version": 3
   },
   "file_extension": ".py",
   "mimetype": "text/x-python",
   "name": "python",
   "nbconvert_exporter": "python",
   "pygments_lexer": "ipython3",
   "version": "3.7.4"
  }
 },
 "nbformat": 4,
 "nbformat_minor": 5
}
