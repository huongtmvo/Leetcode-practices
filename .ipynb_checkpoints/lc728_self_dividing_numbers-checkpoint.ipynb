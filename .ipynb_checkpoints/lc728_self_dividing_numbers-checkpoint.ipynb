{
 "cells": [
  {
   "cell_type": "markdown",
   "id": "bf31d0b9",
   "metadata": {},
   "source": [
    "### 728. Self Dividing Numbers"
   ]
  },
  {
   "cell_type": "code",
   "execution_count": 23,
   "id": "8f961d35",
   "metadata": {},
   "outputs": [],
   "source": [
    "from typing import List\n",
    "class Solution:\n",
    "    def getDigits(self, num, digits):\n",
    "        while num > 9:\n",
    "            digits.append(num % 10)\n",
    "            num = num//10\n",
    "        else:\n",
    "            digits.append(num)\n",
    "        return digits\n",
    "    \n",
    "    def divisible(self, num, digits):\n",
    "        for d in digits:\n",
    "            if d == 0 or num % d != 0:\n",
    "                return False\n",
    "        return True\n",
    "    \n",
    "    def selfDividingNumbers(self, left: int, right: int) -> List[int]:\n",
    "        ans = []\n",
    "        for num in range(left, right + 1):\n",
    "            digits = Solution().getDigits(num, [])\n",
    "            if self.divisible(num, digits):\n",
    "                ans.append(num)\n",
    "        return ans    "
   ]
  },
  {
   "cell_type": "code",
   "execution_count": 24,
   "id": "fdb4e1be",
   "metadata": {},
   "outputs": [
    {
     "data": {
      "text/plain": [
       "[1, 2, 3, 4, 5, 6, 7, 8, 9, 11, 12, 15, 22]"
      ]
     },
     "execution_count": 24,
     "metadata": {},
     "output_type": "execute_result"
    }
   ],
   "source": [
    "left = 1; right = 22\n",
    "Solution().selfDividingNumbers(left, right)"
   ]
  },
  {
   "cell_type": "code",
   "execution_count": 25,
   "id": "1fc436e9",
   "metadata": {},
   "outputs": [
    {
     "data": {
      "text/plain": [
       "[48, 55, 66, 77]"
      ]
     },
     "execution_count": 25,
     "metadata": {},
     "output_type": "execute_result"
    }
   ],
   "source": [
    "left = 47; right = 85\n",
    "Solution().selfDividingNumbers(left, right)"
   ]
  },
  {
   "cell_type": "code",
   "execution_count": null,
   "id": "92e8a558",
   "metadata": {},
   "outputs": [],
   "source": []
  }
 ],
 "metadata": {
  "kernelspec": {
   "display_name": "Python 3",
   "language": "python",
   "name": "python3"
  },
  "language_info": {
   "codemirror_mode": {
    "name": "ipython",
    "version": 3
   },
   "file_extension": ".py",
   "mimetype": "text/x-python",
   "name": "python",
   "nbconvert_exporter": "python",
   "pygments_lexer": "ipython3",
   "version": "3.7.4"
  }
 },
 "nbformat": 4,
 "nbformat_minor": 5
}
