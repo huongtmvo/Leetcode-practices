{
 "cells": [
  {
   "cell_type": "markdown",
   "id": "9f32f10f",
   "metadata": {},
   "source": [
    "https://leetcode.com/problems/power-of-two/"
   ]
  },
  {
   "cell_type": "code",
   "execution_count": 33,
   "id": "16341390",
   "metadata": {},
   "outputs": [],
   "source": [
    "class Solution:\n",
    "    def isPowerOfTwo2(self, n: int) -> bool:\n",
    "        if n ==1:\n",
    "            return True\n",
    "        if n % 2 != 0:\n",
    "            return False\n",
    "        else:\n",
    "            return self.isPowerOfTwo(n//2)\n",
    "\n",
    "    def isPowerOfTwo(self, n: int) -> bool:\n",
    "        if n == 1:\n",
    "            return True\n",
    "        if n % 2 != 0:\n",
    "            return False\n",
    "\n",
    "        lookup = set([1])\n",
    "        res = 1\n",
    "        for i in range(1, 32):\n",
    "            res = res*2\n",
    "            lookup.add(res)\n",
    "\n",
    "        if n in lookup:\n",
    "            return True\n",
    "        return False"
   ]
  },
  {
   "cell_type": "code",
   "execution_count": 23,
   "id": "2b7d3ac5",
   "metadata": {},
   "outputs": [
    {
     "data": {
      "text/plain": [
       "True"
      ]
     },
     "execution_count": 23,
     "metadata": {},
     "output_type": "execute_result"
    }
   ],
   "source": [
    "Solution().isPowerOfTwo(8)"
   ]
  },
  {
   "cell_type": "code",
   "execution_count": 24,
   "id": "f163a4c9",
   "metadata": {},
   "outputs": [
    {
     "name": "stdout",
     "output_type": "stream",
     "text": [
      "False\n"
     ]
    }
   ],
   "source": [
    "print(Solution().isPowerOfTwo(3))"
   ]
  },
  {
   "cell_type": "code",
   "execution_count": 25,
   "id": "268daa13",
   "metadata": {},
   "outputs": [
    {
     "name": "stdout",
     "output_type": "stream",
     "text": [
      "False\n"
     ]
    }
   ],
   "source": [
    "print(Solution().isPowerOfTwo(15))"
   ]
  },
  {
   "cell_type": "code",
   "execution_count": 26,
   "id": "f8f93697",
   "metadata": {},
   "outputs": [
    {
     "name": "stdout",
     "output_type": "stream",
     "text": [
      "True\n"
     ]
    }
   ],
   "source": [
    "print(Solution().isPowerOfTwo(16))"
   ]
  },
  {
   "cell_type": "code",
   "execution_count": null,
   "id": "7e48ae89",
   "metadata": {},
   "outputs": [],
   "source": []
  }
 ],
 "metadata": {
  "kernelspec": {
   "display_name": "Python 3",
   "language": "python",
   "name": "python3"
  },
  "language_info": {
   "codemirror_mode": {
    "name": "ipython",
    "version": 3
   },
   "file_extension": ".py",
   "mimetype": "text/x-python",
   "name": "python",
   "nbconvert_exporter": "python",
   "pygments_lexer": "ipython3",
   "version": "3.7.4"
  }
 },
 "nbformat": 4,
 "nbformat_minor": 5
}
