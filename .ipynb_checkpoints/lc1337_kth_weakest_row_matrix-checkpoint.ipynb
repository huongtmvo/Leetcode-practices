{
 "cells": [
  {
   "cell_type": "markdown",
   "id": "55d90ca1",
   "metadata": {},
   "source": [
    "#### 1337. The K Weakest Rows in a Matrix"
   ]
  },
  {
   "cell_type": "markdown",
   "id": "10285e09",
   "metadata": {},
   "source": [
    "You are given an m x n binary matrix mat of 1's (representing soldiers) and 0's (representing civilians). The soldiers are positioned in front of the civilians. That is, all the 1's will appear to the left of all the 0's in each row.\n",
    "\n",
    "A row i is weaker than a row j if one of the following is true:\n",
    "\n",
    "The number of soldiers in row i is less than the number of soldiers in row j.\n",
    "Both rows have the same number of soldiers and i < j.\n",
    "Return the indices of the k weakest rows in the matrix ordered from weakest to strongest."
   ]
  },
  {
   "cell_type": "markdown",
   "id": "89b920b4",
   "metadata": {},
   "source": [
    "Input: mat = \n",
    "\n",
    "[[1,1,0,0,0],\n",
    "\n",
    " [1,1,1,1,0],\n",
    " \n",
    " [1,0,0,0,0],\n",
    " \n",
    " [1,1,0,0,0],\n",
    " \n",
    " [1,1,1,1,1]], \n",
    " \n",
    "k = 3\n",
    "Output: [2,0,3]\n",
    "Explanation: \n",
    "The number of soldiers in each row is: \n",
    "- Row 0: 2 \n",
    "- Row 1: 4 \n",
    "- Row 2: 1 \n",
    "- Row 3: 2 \n",
    "- Row 4: 5 \n",
    "The rows ordered from weakest to strongest are [2,0,3,1,4]."
   ]
  },
  {
   "cell_type": "markdown",
   "id": "7db92f3b",
   "metadata": {},
   "source": [
    "Input: mat = \n",
    "\n",
    "[[1,0,0,0],\n",
    "\n",
    " [1,1,1,1],\n",
    " \n",
    " [1,0,0,0],\n",
    " \n",
    " [1,0,0,0]], \n",
    " \n",
    "k = 2\n",
    "Output: [0,2]\n",
    "Explanation: \n",
    "The number of soldiers in each row is: \n",
    "- Row 0: 1 \n",
    "- Row 1: 4 \n",
    "- Row 2: 1 \n",
    "- Row 3: 1 \n",
    "The rows ordered from weakest to strongest are [0,2,3,1]."
   ]
  },
  {
   "cell_type": "markdown",
   "id": "84bd47cb",
   "metadata": {},
   "source": [
    "m == mat.length\n",
    "\n",
    "n == mat[i].length\n",
    "\n",
    "2 <= n, m <= 100\n",
    "\n",
    "1 <= k <= m\n",
    "\n",
    "matrix[i][j] is either 0 or 1."
   ]
  },
  {
   "cell_type": "code",
   "execution_count": 50,
   "id": "cf30a4d8",
   "metadata": {},
   "outputs": [],
   "source": [
    "from typing import List\n",
    "class Solution:\n",
    "    def kWeakestRows(self, mat: List[List[int]], k: int) -> List[int]:\n",
    "        counts = []\n",
    "        for r in range(len(mat)):\n",
    "            soldier = 0\n",
    "            for c in range(len(mat[0])):\n",
    "                if mat[r][c] == 1:\n",
    "                    soldier += 1\n",
    "            counts.append((r,soldier))\n",
    "        \n",
    "        counts.sort(key=lambda x: (x[1],x[0]))\n",
    "        return [i for i,_ in counts[:k]]\n",
    "\n",
    "# Time: O(NlogN) + O(MN)\n",
    "# Space: O(N)"
   ]
  },
  {
   "cell_type": "code",
   "execution_count": 51,
   "id": "d3fb7a76",
   "metadata": {},
   "outputs": [
    {
     "data": {
      "text/plain": [
       "[2, 0, 3]"
      ]
     },
     "execution_count": 51,
     "metadata": {},
     "output_type": "execute_result"
    }
   ],
   "source": [
    "mat = [[1,1,0,0,0], [1,1,1,1,0],[1,0,0,0,0],[1,1,0,0,0],[1,1,1,1,1]]; k = 3\n",
    "Solution().kWeakestRows(mat,k)"
   ]
  },
  {
   "cell_type": "code",
   "execution_count": 52,
   "id": "20dde50b",
   "metadata": {},
   "outputs": [
    {
     "data": {
      "text/plain": [
       "[0, 2]"
      ]
     },
     "execution_count": 52,
     "metadata": {},
     "output_type": "execute_result"
    }
   ],
   "source": [
    "mat = [[1,0,0,0],[1,1,1,1],[1,0,0,0],[1,0,0,0]]; k = 2\n",
    "Solution().kWeakestRows(mat,2)"
   ]
  },
  {
   "cell_type": "code",
   "execution_count": null,
   "id": "4de0c83c",
   "metadata": {},
   "outputs": [],
   "source": []
  }
 ],
 "metadata": {
  "kernelspec": {
   "display_name": "Python 3",
   "language": "python",
   "name": "python3"
  },
  "language_info": {
   "codemirror_mode": {
    "name": "ipython",
    "version": 3
   },
   "file_extension": ".py",
   "mimetype": "text/x-python",
   "name": "python",
   "nbconvert_exporter": "python",
   "pygments_lexer": "ipython3",
   "version": "3.7.4"
  }
 },
 "nbformat": 4,
 "nbformat_minor": 5
}
