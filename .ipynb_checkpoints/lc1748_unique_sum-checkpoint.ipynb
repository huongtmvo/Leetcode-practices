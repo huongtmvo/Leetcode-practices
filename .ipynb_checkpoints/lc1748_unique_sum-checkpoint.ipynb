{
 "cells": [
  {
   "cell_type": "markdown",
   "id": "f285a7bd",
   "metadata": {},
   "source": [
    "### 1748. Sum of Unique Elements"
   ]
  },
  {
   "cell_type": "code",
   "execution_count": 5,
   "id": "63789d6f",
   "metadata": {},
   "outputs": [],
   "source": [
    "from typing import List\n",
    "from collections import Counter\n",
    "class Solution:\n",
    "    def sumOfUnique(self, nums: List[int]) -> int:\n",
    "        counter = Counter(nums)\n",
    "        \n",
    "        total = 0\n",
    "        for k, v in counter.items():\n",
    "            if v == 1:\n",
    "                total += k\n",
    "        return total\n",
    "# Time: O(N)\n",
    "# Space : O(N)"
   ]
  },
  {
   "cell_type": "code",
   "execution_count": 6,
   "id": "68367c5b",
   "metadata": {},
   "outputs": [
    {
     "data": {
      "text/plain": [
       "4"
      ]
     },
     "execution_count": 6,
     "metadata": {},
     "output_type": "execute_result"
    }
   ],
   "source": [
    "nums = [1,2,3,2]\n",
    "Solution().sumOfUnique(nums)"
   ]
  },
  {
   "cell_type": "code",
   "execution_count": 7,
   "id": "52e60233",
   "metadata": {},
   "outputs": [
    {
     "data": {
      "text/plain": [
       "0"
      ]
     },
     "execution_count": 7,
     "metadata": {},
     "output_type": "execute_result"
    }
   ],
   "source": [
    "nums = [1,1,1,1,1]\n",
    "Solution().sumOfUnique(nums)"
   ]
  },
  {
   "cell_type": "code",
   "execution_count": 9,
   "id": "0ada9cf5",
   "metadata": {},
   "outputs": [
    {
     "data": {
      "text/plain": [
       "15"
      ]
     },
     "execution_count": 9,
     "metadata": {},
     "output_type": "execute_result"
    }
   ],
   "source": [
    "nums = [1,2,3,4,5] \n",
    "Solution().sumOfUnique(nums)"
   ]
  },
  {
   "cell_type": "code",
   "execution_count": 10,
   "id": "0a96cd94",
   "metadata": {},
   "outputs": [],
   "source": [
    "def sumOfUnique(nums):\n",
    "    return sum(k for k, v in collections.Counter(nums).items() if v == 1)"
   ]
  },
  {
   "cell_type": "code",
   "execution_count": 16,
   "id": "09731f57",
   "metadata": {},
   "outputs": [
    {
     "data": {
      "text/plain": [
       "5"
      ]
     },
     "execution_count": 16,
     "metadata": {},
     "output_type": "execute_result"
    }
   ],
   "source": [
    "import collections\n",
    "nums = [1,2,3,4,5] \n",
    "sum(v for k,v in collections.Counter(nums).items())"
   ]
  },
  {
   "cell_type": "code",
   "execution_count": null,
   "id": "02f019b5",
   "metadata": {},
   "outputs": [],
   "source": []
  }
 ],
 "metadata": {
  "kernelspec": {
   "display_name": "Python 3",
   "language": "python",
   "name": "python3"
  },
  "language_info": {
   "codemirror_mode": {
    "name": "ipython",
    "version": 3
   },
   "file_extension": ".py",
   "mimetype": "text/x-python",
   "name": "python",
   "nbconvert_exporter": "python",
   "pygments_lexer": "ipython3",
   "version": "3.7.4"
  }
 },
 "nbformat": 4,
 "nbformat_minor": 5
}
