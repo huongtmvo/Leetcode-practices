{
 "cells": [
  {
   "cell_type": "markdown",
   "id": "e16c3dd4",
   "metadata": {},
   "source": [
    " ### 1762. Buildings With an Ocean View\n",
    "\n",
    "There are n buildings in a line. You are given an integer array heights of size n that represents the heights of the buildings in the line.\n",
    "\n",
    "The ocean is to the right of the buildings. A building has an ocean view if the building can see the ocean without obstructions. Formally, a building has an ocean view if all the buildings to its right have a smaller height.\n",
    "\n",
    "Return a list of indices (0-indexed) of buildings that have an ocean view, sorted in increasing order.\n",
    "\n",
    " \n",
    "\n",
    "Example 1:\n",
    "\n",
    "Input: heights = [4,2,3,1]\n",
    "Output: [0,2,3]\n",
    "Explanation: Building 1 (0-indexed) does not have an ocean view because building 2 is taller.\n",
    "    \n",
    "Example 2:\n",
    "\n",
    "Input: heights = [4,3,2,1]\n",
    "Output: [0,1,2,3]\n",
    "Explanation: All the buildings have an ocean view.\n",
    "    \n",
    "Example 3:\n",
    "\n",
    "Input: heights = [1,3,2,4]\n",
    "Output: [3]\n",
    "Explanation: Only building 3 has an ocean view.\n",
    " \n",
    "\n",
    "Constraints:\n",
    "\n",
    "1 <= heights.length <= 105\n",
    "1 <= heights[i] <= 109"
   ]
  },
  {
   "cell_type": "code",
   "execution_count": null,
   "id": "894701d6",
   "metadata": {},
   "outputs": [],
   "source": [
    "class Solution:\n",
    "    def findBuildings(self, heights: List[int]) -> List[int]:"
   ]
  }
 ],
 "metadata": {
  "kernelspec": {
   "display_name": "Python 3",
   "language": "python",
   "name": "python3"
  },
  "language_info": {
   "codemirror_mode": {
    "name": "ipython",
    "version": 3
   },
   "file_extension": ".py",
   "mimetype": "text/x-python",
   "name": "python",
   "nbconvert_exporter": "python",
   "pygments_lexer": "ipython3",
   "version": "3.7.4"
  }
 },
 "nbformat": 4,
 "nbformat_minor": 5
}
