{
 "cells": [
  {
   "cell_type": "markdown",
   "id": "63afb137",
   "metadata": {},
   "source": [
    "https://leetcode.com/problems/tree-diameter/"
   ]
  },
  {
   "cell_type": "code",
   "execution_count": 1,
   "id": "755065ec",
   "metadata": {},
   "outputs": [],
   "source": [
    "class Tree:\n",
    "    def __init__(val, left=None, right=None):\n",
    "        self.val = val\n",
    "        self.left = left\n",
    "        self.right = right"
   ]
  },
  {
   "cell_type": "code",
   "execution_count": null,
   "id": "147dd8a8",
   "metadata": {},
   "outputs": [],
   "source": [
    "class Solution:\n",
    "    def treeDiameter(self, edges: List[List[int]], move: int = 0) -> int:\n",
    "        graph = collections.defaultdict(set)\n",
    "        for a, b in edges:\n",
    "            graph[a].add(b)\n",
    "            graph[b].add(a)\n",
    "        bfs = {(u, None) for u, nex in graph.items() if len(nex) == 1}\n",
    "        while bfs:\n",
    "            bfs, move = {(v, u) for u, pre in bfs for v in graph[u] if v != pre}, move + 1\n",
    "        return max(move - 1, 0)"
   ]
  },
  {
   "cell_type": "code",
   "execution_count": null,
   "id": "e0100f10",
   "metadata": {},
   "outputs": [],
   "source": [
    "class Solution:\n",
    "    diameter = 0\n",
    "    def treeDiameter(self, edges: List[List[int]], move: int = 0) -> int:\n",
    "        def dfs(node, pre):\n",
    "            d1 = d2 = 0\n",
    "            for nex in graph[node]:\n",
    "                if nex != pre:\n",
    "                    d = dfs(nex, node)\n",
    "                    if d > d1:\n",
    "                        d1, d2 = d, d1\n",
    "                    elif d > d2:\n",
    "                        d2 = d\n",
    "            self.diameter = max(self.diameter, d1 + d2)\n",
    "            return d1 + 1\n",
    "        graph = collections.defaultdict(set)\n",
    "        for a, b in edges:\n",
    "            graph[a].add(b)\n",
    "            graph[b].add(a)\n",
    "        dfs(0, None)\n",
    "        return self.diameter"
   ]
  },
  {
   "cell_type": "code",
   "execution_count": null,
   "id": "bde24570",
   "metadata": {},
   "outputs": [],
   "source": []
  },
  {
   "cell_type": "code",
   "execution_count": null,
   "id": "e1c90029",
   "metadata": {},
   "outputs": [],
   "source": [
    "from collections import defaultdict, deque\n",
    "class Solution(object):\n",
    "    def __init__(self):\n",
    "        self.graph = defaultdict(set)\n",
    "        \n",
    "    def treeDiameter(self, edges):\n",
    "        if not edges:\n",
    "            return 0\n",
    "        \n",
    "        self.generate_graph(edges)\n",
    "        node1, _ = self.bfs(edges[0][0])\n",
    "        _, diameter = self.bfs(node1)\n",
    "        return diameter\n",
    "        \n",
    "    def generate_graph(self, edges):\n",
    "        for u, v in edges:\n",
    "            self.graph[u].add(v)\n",
    "            self.graph[v].add(u)\n",
    "            \n",
    "    def bfs(self, node):\n",
    "        queue, dist, last_node, visited = deque([node]), 0, node, set()\n",
    "        while queue:\n",
    "            dist += 1\n",
    "            for _ in range(len(queue)):\n",
    "                node = queue.popleft()\n",
    "                for adj in self.graph[node]:\n",
    "                    if adj not in visited:\n",
    "                        visited.add(adj)\n",
    "                        queue.append(adj)\n",
    "                        last_node = adj\n",
    "        return last_node, dist-1"
   ]
  }
 ],
 "metadata": {
  "kernelspec": {
   "display_name": "Python 3",
   "language": "python",
   "name": "python3"
  },
  "language_info": {
   "codemirror_mode": {
    "name": "ipython",
    "version": 3
   },
   "file_extension": ".py",
   "mimetype": "text/x-python",
   "name": "python",
   "nbconvert_exporter": "python",
   "pygments_lexer": "ipython3",
   "version": "3.7.4"
  }
 },
 "nbformat": 4,
 "nbformat_minor": 5
}
