{
 "cells": [
  {
   "cell_type": "markdown",
   "id": "9efe6573",
   "metadata": {},
   "source": [
    "#### 359. Logger Rate Limiter"
   ]
  },
  {
   "cell_type": "code",
   "execution_count": 8,
   "id": "c6629329",
   "metadata": {},
   "outputs": [],
   "source": [
    "from collections import defaultdict\n",
    "class Logger:\n",
    "\n",
    "    def __init__(self):\n",
    "        self.dic = defaultdict(int)\n",
    "        \n",
    "    def shouldPrintMessage(self, timestamp: int, message: str) -> bool:\n",
    "        if timestamp >= self.dic[message]:\n",
    "            self.dic[message] = timestamp + 10\n",
    "            return True\n",
    "        else:\n",
    "            return False"
   ]
  },
  {
   "cell_type": "code",
   "execution_count": 9,
   "id": "04d41824",
   "metadata": {},
   "outputs": [
    {
     "data": {
      "text/plain": [
       "[True, True, False, False, False, True]"
      ]
     },
     "execution_count": 9,
     "metadata": {},
     "output_type": "execute_result"
    }
   ],
   "source": [
    "obj = Logger()\n",
    "res = []\n",
    "res.append(obj.shouldPrintMessage(1, \"foo\"))\n",
    "res.append(obj.shouldPrintMessage(2, \"bar\"))\n",
    "res.append(obj.shouldPrintMessage(3, \"foo\"))\n",
    "res.append(obj.shouldPrintMessage(8, \"bar\"))\n",
    "res.append(obj.shouldPrintMessage(10, \"foo\"))\n",
    "res.append(obj.shouldPrintMessage(11, \"foo\"))\n",
    "res"
   ]
  }
 ],
 "metadata": {
  "kernelspec": {
   "display_name": "Python 3",
   "language": "python",
   "name": "python3"
  },
  "language_info": {
   "codemirror_mode": {
    "name": "ipython",
    "version": 3
   },
   "file_extension": ".py",
   "mimetype": "text/x-python",
   "name": "python",
   "nbconvert_exporter": "python",
   "pygments_lexer": "ipython3",
   "version": "3.7.4"
  }
 },
 "nbformat": 4,
 "nbformat_minor": 5
}
