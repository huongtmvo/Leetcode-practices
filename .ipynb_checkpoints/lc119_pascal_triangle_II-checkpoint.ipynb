{
 "cells": [
  {
   "cell_type": "markdown",
   "id": "5b592440",
   "metadata": {},
   "source": [
    "119. Pascal's Triangle II"
   ]
  },
  {
   "cell_type": "markdown",
   "id": "765553bd",
   "metadata": {},
   "source": [
    "Given an integer rowIndex, return the rowIndexth (0-indexed) row of the Pascal's triangle.\n",
    "\n",
    "In Pascal's triangle, each number is the sum of the two numbers directly above it as shown:"
   ]
  },
  {
   "cell_type": "markdown",
   "id": "f192b5ee",
   "metadata": {},
   "source": [
    "Input: rowIndex = 3\n",
    "Output: [1,3,3,1]"
   ]
  },
  {
   "cell_type": "markdown",
   "id": "6cb43ff1",
   "metadata": {},
   "source": [
    "Input: rowIndex = 0\n",
    "Output: [1]"
   ]
  },
  {
   "cell_type": "markdown",
   "id": "925ffe4f",
   "metadata": {},
   "source": [
    "Input: rowIndex = 1\n",
    "Output: [1,1]"
   ]
  },
  {
   "cell_type": "markdown",
   "id": "653ef56f",
   "metadata": {},
   "source": [
    "0 <= rowIndex <= 33"
   ]
  },
  {
   "cell_type": "code",
   "execution_count": null,
   "id": "a9140567",
   "metadata": {},
   "outputs": [],
   "source": [
    "class Solution:\n",
    "    def getRow(self, rowIndex: int) -> List[int]:"
   ]
  }
 ],
 "metadata": {
  "kernelspec": {
   "display_name": "Python 3",
   "language": "python",
   "name": "python3"
  },
  "language_info": {
   "codemirror_mode": {
    "name": "ipython",
    "version": 3
   },
   "file_extension": ".py",
   "mimetype": "text/x-python",
   "name": "python",
   "nbconvert_exporter": "python",
   "pygments_lexer": "ipython3",
   "version": "3.7.4"
  }
 },
 "nbformat": 4,
 "nbformat_minor": 5
}
