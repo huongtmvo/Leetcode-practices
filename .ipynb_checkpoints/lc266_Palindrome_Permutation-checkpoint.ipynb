{
 "cells": [
  {
   "cell_type": "markdown",
   "id": "8f199162",
   "metadata": {},
   "source": [
    "https://leetcode.com/problems/palindrome-permutation/"
   ]
  },
  {
   "cell_type": "code",
   "execution_count": 2,
   "id": "adfa1a36",
   "metadata": {},
   "outputs": [],
   "source": [
    "class Solution:\n",
    "    def canPermutePalindrome(self, s: str) -> bool:\n",
    "        counter = Counter(s)\n",
    "        odd = 0\n",
    "        for k, v in counter.items():\n",
    "            if v % 2 != 0:\n",
    "                odd += 1\n",
    "        if odd > 1:\n",
    "            return False\n",
    "        return True"
   ]
  },
  {
   "cell_type": "code",
   "execution_count": null,
   "id": "5f83b570",
   "metadata": {},
   "outputs": [],
   "source": [
    "# Note: O(N) time complexity, O(1) space since maximum size of the dictionary is 26."
   ]
  }
 ],
 "metadata": {
  "kernelspec": {
   "display_name": "Python 3",
   "language": "python",
   "name": "python3"
  },
  "language_info": {
   "codemirror_mode": {
    "name": "ipython",
    "version": 3
   },
   "file_extension": ".py",
   "mimetype": "text/x-python",
   "name": "python",
   "nbconvert_exporter": "python",
   "pygments_lexer": "ipython3",
   "version": "3.7.4"
  }
 },
 "nbformat": 4,
 "nbformat_minor": 5
}
