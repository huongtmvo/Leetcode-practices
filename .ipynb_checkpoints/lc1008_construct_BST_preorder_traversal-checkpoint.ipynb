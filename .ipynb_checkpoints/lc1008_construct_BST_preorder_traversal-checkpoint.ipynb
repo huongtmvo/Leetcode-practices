{
 "cells": [
  {
   "cell_type": "code",
   "execution_count": null,
   "id": "649ad37a",
   "metadata": {},
   "outputs": [],
   "source": [
    "read the leetcode.com solutions"
   ]
  },
  {
   "cell_type": "code",
   "execution_count": null,
   "id": "3604168c",
   "metadata": {},
   "outputs": [],
   "source": [
    "ask Thong for help"
   ]
  },
  {
   "cell_type": "markdown",
   "id": "2246f972",
   "metadata": {},
   "source": [
    "### 1008. Construct Binary Search Tree from Preorder Traversal"
   ]
  },
  {
   "cell_type": "markdown",
   "id": "225d6d7a",
   "metadata": {},
   "source": [
    "Given an array of integers preorder, which represents the preorder traversal of a BST (i.e., binary search tree), construct the tree and return its root.\n",
    "\n",
    "It is guaranteed that there is always possible to find a binary search tree with the given requirements for the given test cases.\n",
    "\n",
    "A binary search tree is a binary tree where for every node, any descendant of Node.left has a value strictly less than Node.val, and any descendant of Node.right has a value strictly greater than Node.val.\n",
    "\n",
    "A preorder traversal of a binary tree displays the value of the node first, then traverses Node.left, then traverses Node.right.\n",
    "\n",
    "\n",
    "Example 1:\n",
    "\n",
    "\n",
    "Input: preorder = [8,5,1,7,10,12]\n",
    "    \n",
    "Output: [8,5,10,1,7,null,12]\n",
    "    \n",
    "Example 2:\n",
    "\n",
    "Input: preorder = [1,3]\n",
    "    \n",
    "Output: [1,null,3]\n",
    " \n",
    "\n",
    "Constraints:\n",
    "\n",
    "1 <= preorder.length <= 100\n",
    "1 <= preorder[i] <= 1000\n",
    "All the values of preorder are unique."
   ]
  },
  {
   "cell_type": "code",
   "execution_count": 6,
   "id": "c9d52c57",
   "metadata": {},
   "outputs": [],
   "source": [
    "from typing import List, Optional\n",
    "# Definition for a binary tree node.\n",
    "class TreeNode:\n",
    "    def __init__(self, val=0, left=None, right=None):\n",
    "        self.val = val\n",
    "        self.left = left\n",
    "        self.right = right\n",
    "\n",
    "class Solution:\n",
    "    def bstFromPreorder(self, preorder: List[int]) -> Optional[TreeNode]:\n",
    "        if not preorder: return None\n",
    "        root = TreeNode(preorder[0])\n",
    "        i = bisect.bisect(preorder, preorder[0])\n",
    "        root.left = self.bstFromPreorder(preorder[1:i])\n",
    "        root.right = self.bstFromPreorder(preorder[i:])\n",
    "        \n",
    "        return root"
   ]
  },
  {
   "cell_type": "code",
   "execution_count": 9,
   "id": "7f485ef8",
   "metadata": {},
   "outputs": [
    {
     "data": {
      "text/plain": [
       "<__main__.TreeNode at 0x7fa36dd7f2d0>"
      ]
     },
     "execution_count": 9,
     "metadata": {},
     "output_type": "execute_result"
    }
   ],
   "source": [
    "preorder = [8,5,1,7,10,12]\n",
    "Solution().bstFromPreorder(preorder)"
   ]
  },
  {
   "cell_type": "code",
   "execution_count": 3,
   "id": "fd15278e",
   "metadata": {},
   "outputs": [
    {
     "data": {
      "text/plain": [
       "4"
      ]
     },
     "execution_count": 3,
     "metadata": {},
     "output_type": "execute_result"
    }
   ],
   "source": [
    "preorder = [8,5,1,7,10,12]\n",
    "import bisect\n",
    "bisect.bisect(preorder, preorder[0])"
   ]
  },
  {
   "cell_type": "code",
   "execution_count": 10,
   "id": "bf23eccd",
   "metadata": {},
   "outputs": [
    {
     "data": {
      "text/plain": [
       "[1, 5, 7, 8, 10, 12]"
      ]
     },
     "execution_count": 10,
     "metadata": {},
     "output_type": "execute_result"
    }
   ],
   "source": [
    "sorted(preorder)"
   ]
  },
  {
   "cell_type": "code",
   "execution_count": null,
   "id": "b2913e67",
   "metadata": {},
   "outputs": [],
   "source": [
    "# Find the left part and right part, the left part < root.val and the right part > root.val\n",
    "# then recursively construct the tree.\n",
    "\n",
    "# Solution 1:\n",
    "# Binary search\n",
    "\n",
    "# Python, O(N^2)\n",
    "\n",
    "def bstFromPreorder(self, A):\n",
    "    if not A: return None\n",
    "    root = TreeNode(A[0])\n",
    "    i = bisect.bisect(A, A[0])\n",
    "    root.left = self.bstFromPreorder(A[1:i])\n",
    "    root.right = self.bstFromPreorder(A[i:])\n",
    "    return root\n"
   ]
  },
  {
   "cell_type": "code",
   "execution_count": null,
   "id": "e575c93e",
   "metadata": {},
   "outputs": [],
   "source": [
    "# Solution 2\n",
    "# Give the function a bound the maximum number it will handle.\n",
    "# The left recursion will take the elements smaller than node.val\n",
    "# The right recursion will take the remaining elements smaller than bound\n",
    "\n",
    "# Complexity\n",
    "# bstFromPreorder is called exactly N times.\n",
    "# It's same as a preorder traversal.\n",
    "# Time O(N)\n",
    "# Space O(H)\n",
    "\n",
    "i = 0\n",
    "def bstFromPreorder(self, A, bound=float('inf')):\n",
    "    if self.i == len(A) or A[self.i] > bound:\n",
    "        return None\n",
    "    root = TreeNode(A[self.i])\n",
    "    self.i += 1\n",
    "    root.left = self.bstFromPreorder(A, root.val)\n",
    "    root.right = self.bstFromPreorder(A, bound)\n",
    "    return root"
   ]
  },
  {
   "cell_type": "code",
   "execution_count": null,
   "id": "76b7415c",
   "metadata": {},
   "outputs": [],
   "source": [
    "# Some may don't like the global variable i.\n",
    "# Well, I first reused the function in python,\n",
    "# so I had to use it, making it a \"stateful\" function.\n",
    "\n",
    "# I didn't realize there would be people who care about it.\n",
    "# If it's really matters,\n",
    "# We can discard the usage of global function.\n",
    "\n",
    "\n",
    "def bstFromPreorder(self, A):\n",
    "        return self.buildTree(A[::-1], float('inf'))\n",
    "\n",
    "def buildTree(self, A, bound):\n",
    "        if not A or A[-1] > bound: return None\n",
    "        node = TreeNode(A.pop())\n",
    "        node.left = self.buildTree(A, node.val)\n",
    "        node.right = self.buildTree(A, bound)\n",
    "        return node"
   ]
  }
 ],
 "metadata": {
  "kernelspec": {
   "display_name": "Python 3",
   "language": "python",
   "name": "python3"
  },
  "language_info": {
   "codemirror_mode": {
    "name": "ipython",
    "version": 3
   },
   "file_extension": ".py",
   "mimetype": "text/x-python",
   "name": "python",
   "nbconvert_exporter": "python",
   "pygments_lexer": "ipython3",
   "version": "3.7.4"
  }
 },
 "nbformat": 4,
 "nbformat_minor": 5
}
