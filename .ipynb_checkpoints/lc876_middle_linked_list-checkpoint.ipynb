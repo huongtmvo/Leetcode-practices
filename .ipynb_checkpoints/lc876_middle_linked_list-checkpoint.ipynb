{
 "cells": [
  {
   "cell_type": "markdown",
   "id": "4f4e0396",
   "metadata": {},
   "source": [
    "https://leetcode.com/problems/middle-of-the-linked-list/"
   ]
  },
  {
   "cell_type": "code",
   "execution_count": 4,
   "id": "bd4c54a4",
   "metadata": {},
   "outputs": [],
   "source": [
    "from typing import Optional\n",
    "# Definition of a singly linked list\n",
    "class ListNode:\n",
    "    def __init__(self, val=0, next=None):\n",
    "        self.val = val \n",
    "        self.next = next\n",
    "class Solution:\n",
    "    def middleNode(self, head: Optional[ListNode]) -> Optional[ListNode]:\n",
    "        cur = head\n",
    "        count = 0\n",
    "        while cur:\n",
    "            cur = cur.next\n",
    "            count += 1\n",
    "        mid = count//2\n",
    "        \n",
    "        cur = head\n",
    "        count = 0\n",
    "        while count != mid:\n",
    "            cur = cur.next\n",
    "            count += 1\n",
    "        return cur\n",
    "\n",
    "    # Another solution using fast and slow method\n",
    "    def middleNode(self, head):\n",
    "        slow = fast = head\n",
    "        while fast and fast.next:\n",
    "            slow = slow.next\n",
    "            fast = fast.next.next\n",
    "        return slow"
   ]
  },
  {
   "cell_type": "code",
   "execution_count": null,
   "id": "f9357187",
   "metadata": {},
   "outputs": [],
   "source": [
    "    "
   ]
  }
 ],
 "metadata": {
  "kernelspec": {
   "display_name": "Python 3",
   "language": "python",
   "name": "python3"
  },
  "language_info": {
   "codemirror_mode": {
    "name": "ipython",
    "version": 3
   },
   "file_extension": ".py",
   "mimetype": "text/x-python",
   "name": "python",
   "nbconvert_exporter": "python",
   "pygments_lexer": "ipython3",
   "version": "3.7.4"
  }
 },
 "nbformat": 4,
 "nbformat_minor": 5
}
