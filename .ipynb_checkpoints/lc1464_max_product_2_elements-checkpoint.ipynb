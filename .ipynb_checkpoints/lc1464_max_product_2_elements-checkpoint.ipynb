{
 "cells": [
  {
   "cell_type": "markdown",
   "id": "3b79cae7",
   "metadata": {},
   "source": [
    "#### 1464. Maximum Product of Two Elements in an Array"
   ]
  },
  {
   "cell_type": "markdown",
   "id": "91aa53ec",
   "metadata": {},
   "source": [
    "Given the array of integers nums, you will choose two different indices i and j of that array. Return the maximum value of (nums[i]-1)*(nums[j]-1).\n",
    " \n",
    "\n",
    "Example 1:\n",
    "\n",
    "Input: nums = [3,4,5,2]\n",
    "Output: 12 \n",
    "Explanation: If you choose the indices i=1 and j=2 (indexed from 0), you will get the maximum value, that is, (nums[1]-1)*(nums[2]-1) = (4-1)*(5-1) = 3*4 = 12. \n",
    "\n",
    "\n",
    "Example 2:\n",
    "\n",
    "Input: nums = [1,5,4,5]\n",
    "Output: 16\n",
    "Explanation: Choosing the indices i=1 and j=3 (indexed from 0), you will get the maximum value of (5-1)*(5-1) = 16.\n",
    "\n",
    "\n",
    "Example 3:\n",
    "\n",
    "Input: nums = [3,7]\n",
    "Output: 12"
   ]
  },
  {
   "cell_type": "markdown",
   "id": "4d5da8cc",
   "metadata": {},
   "source": [
    "Constraints:\n",
    "\n",
    "2 <= nums.length <= 500\n",
    "1 <= nums[i] <= 10^3"
   ]
  },
  {
   "cell_type": "code",
   "execution_count": 31,
   "id": "02918b93",
   "metadata": {},
   "outputs": [],
   "source": [
    "from typing import List\n",
    "from heapq import heapify, heappop, heappush\n",
    "class Solution:\n",
    "    def maxProduct2(self, nums: List[int]) -> int:\n",
    "        nums.sort()\n",
    "        return max((nums[0]-1)*(nums[1]-1),(nums[-1]-1)*(nums[-2]-1))\n",
    "    \n",
    "    def maxProduct(self, nums: List[int]) -> int:\n",
    "        heapify(nums) \n",
    "        min1, min2 = heappop(nums), heappop(nums)\n",
    "        sum1 = (min1-1)*(min2-1)\n",
    "        \n",
    "        max1, max2 = min1, min2\n",
    "        if len(nums) == 1:\n",
    "            max1, max2 = min2, heappop(nums)\n",
    "        if len(nums) >= 2: \n",
    "            while len(nums) > 2:\n",
    "                heappop(nums)\n",
    "            max1, max2 = heappop(nums), heappop(nums)\n",
    "        sum2 = (max1-1)*(max2-1)\n",
    "        \n",
    "        return max(sum1,sum2)\n",
    "    \n",
    "    # Time: NlogN (heapify nums: O(N), heappop N times is Nlog(N))\n",
    "    # Space: O(1)   "
   ]
  },
  {
   "cell_type": "code",
   "execution_count": 32,
   "id": "2860230c",
   "metadata": {},
   "outputs": [
    {
     "data": {
      "text/plain": [
       "12"
      ]
     },
     "execution_count": 32,
     "metadata": {},
     "output_type": "execute_result"
    }
   ],
   "source": [
    "nums = [3,4,5,2] \n",
    "Solution().maxProduct2(nums)"
   ]
  },
  {
   "cell_type": "code",
   "execution_count": 33,
   "id": "419771e3",
   "metadata": {},
   "outputs": [
    {
     "data": {
      "text/plain": [
       "16"
      ]
     },
     "execution_count": 33,
     "metadata": {},
     "output_type": "execute_result"
    }
   ],
   "source": [
    "nums = [1,5,4,5]\n",
    "Solution().maxProduct2(nums)"
   ]
  },
  {
   "cell_type": "code",
   "execution_count": 34,
   "id": "58501f3a",
   "metadata": {},
   "outputs": [
    {
     "data": {
      "text/plain": [
       "12"
      ]
     },
     "execution_count": 34,
     "metadata": {},
     "output_type": "execute_result"
    }
   ],
   "source": [
    "nums = [3,7]\n",
    "Solution().maxProduct2(nums)"
   ]
  },
  {
   "cell_type": "code",
   "execution_count": 35,
   "id": "2cbf89d7",
   "metadata": {},
   "outputs": [
    {
     "data": {
      "text/plain": [
       "21"
      ]
     },
     "execution_count": 35,
     "metadata": {},
     "output_type": "execute_result"
    }
   ],
   "source": [
    "nums = [3,4,8]\n",
    "Solution().maxProduct2(nums)"
   ]
  },
  {
   "cell_type": "code",
   "execution_count": null,
   "id": "7e12e2e6",
   "metadata": {},
   "outputs": [],
   "source": []
  }
 ],
 "metadata": {
  "kernelspec": {
   "display_name": "Python 3",
   "language": "python",
   "name": "python3"
  },
  "language_info": {
   "codemirror_mode": {
    "name": "ipython",
    "version": 3
   },
   "file_extension": ".py",
   "mimetype": "text/x-python",
   "name": "python",
   "nbconvert_exporter": "python",
   "pygments_lexer": "ipython3",
   "version": "3.7.4"
  }
 },
 "nbformat": 4,
 "nbformat_minor": 5
}
