{
 "cells": [
  {
   "cell_type": "markdown",
   "id": "016f5027",
   "metadata": {},
   "source": [
    "https://leetcode.com/problems/symmetric-tree/"
   ]
  },
  {
   "cell_type": "code",
   "execution_count": 1,
   "id": "e578f8ed",
   "metadata": {},
   "outputs": [],
   "source": [
    "class TreeNode:\n",
    "    def __init__(self, val=0, left=None, right=None):\n",
    "        self.val = val\n",
    "        self.left = left\n",
    "        self.right = right"
   ]
  },
  {
   "cell_type": "code",
   "execution_count": 3,
   "id": "2015713f",
   "metadata": {},
   "outputs": [],
   "source": [
    "from typing import Optional\n",
    "class Solution:\n",
    "    # Solution1: Use recursive function\n",
    "    def isSymmetric(self, root: Optional[TreeNode]) -> bool:\n",
    "        if not root:\n",
    "            return True\n",
    "        return isMirror(root.left, root.right)\n",
    "    \n",
    "    def isMirror(self, l, r) -> bool:\n",
    "        if not l and not r:\n",
    "            return True\n",
    "        if not l or not r:\n",
    "            return False\n",
    "        \n",
    "        if l.val != r.val:\n",
    "            return False\n",
    "        else:\n",
    "            return self.isMirror(l.left, r.right) and self.isMirror(l.right, r.left)   \n",
    "        \n",
    "    # Another way of writing function isMirror shorter\n",
    "    def isMirror(self,l,r):\n",
    "        if l and r:\n",
    "            return l.val == r.val and self.isMirror(l.left, r.right) and self.isMirror(l.right, r.left)\n",
    "        return l == r\n",
    "    \n",
    "    # Solution 2: Iteratively by using stacks\n",
    "    def isSymmetric(self, root):\n",
    "        if not root:\n",
    "            return True\n",
    "        stack = [(root.left, root.right)]\n",
    "        while stack:\n",
    "            l, r = stack.pop()\n",
    "            if not l and not r:\n",
    "                continue\n",
    "            if not l or not r or (l.val != r.val):\n",
    "                return False\n",
    "            stack.append((l.left, r.right))\n",
    "            stack.append((l.right, r.left))\n",
    "        return True"
   ]
  },
  {
   "cell_type": "code",
   "execution_count": null,
   "id": "4563df0e",
   "metadata": {},
   "outputs": [],
   "source": []
  }
 ],
 "metadata": {
  "kernelspec": {
   "display_name": "Python 3",
   "language": "python",
   "name": "python3"
  },
  "language_info": {
   "codemirror_mode": {
    "name": "ipython",
    "version": 3
   },
   "file_extension": ".py",
   "mimetype": "text/x-python",
   "name": "python",
   "nbconvert_exporter": "python",
   "pygments_lexer": "ipython3",
   "version": "3.7.4"
  }
 },
 "nbformat": 4,
 "nbformat_minor": 5
}
