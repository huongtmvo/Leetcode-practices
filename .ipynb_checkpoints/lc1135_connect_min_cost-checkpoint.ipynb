{
 "cells": [
  {
   "cell_type": "markdown",
   "id": "1dfdd831",
   "metadata": {},
   "source": [
    "###  1135. Connecting Cities With Minimum Cost\n",
    "\n",
    "https://leetcode.com/problems/connecting-cities-with-minimum-cost/"
   ]
  },
  {
   "cell_type": "markdown",
   "id": "78541cf9",
   "metadata": {},
   "source": [
    "There are n cities labeled from 1 to n. You are given the integer n and an array connections where connections[i] = [xi, yi, costi] indicates that the cost of connecting city xi and city yi (bidirectional connection) is costi.\n",
    "\n",
    "Return the minimum cost to connect all the n cities such that there is at least one path between each pair of cities. If it is impossible to connect all the n cities, return -1,\n",
    "\n",
    "The cost is the sum of the connections' costs used.\n",
    "\n",
    "Input: n = 3, connections = [[1,2,5],[1,3,6],[2,3,1]]\n",
    "Output: 6\n",
    "Explanation: Choosing any 2 edges will connect all cities so we choose the minimum 2.\n",
    "\n",
    "\n",
    "Input: n = 4, connections = [[1,2,3],[3,4,4]]\n",
    "Output: -1\n",
    "Explanation: There is no way to connect all cities even if all edges are used.\n",
    "\n",
    "Constraints:\n",
    "\n",
    "1 <= n <= 104\n",
    "1 <= connections.length <= 104\n",
    "connections[i].length == 3\n",
    "1 <= xi, yi <= n\n",
    "xi != yi\n",
    "0 <= costi <= 105"
   ]
  },
  {
   "cell_type": "code",
   "execution_count": null,
   "id": "d9f6934f",
   "metadata": {},
   "outputs": [],
   "source": [
    "class Solution:\n",
    "    def minCost(self, n, connections):\n",
    "        connections.sort(key=lambda x: x[2])\n",
    "        "
   ]
  },
  {
   "cell_type": "code",
   "execution_count": 5,
   "id": "600e2ae2",
   "metadata": {},
   "outputs": [],
   "source": [
    "connections = [[1,2,5],[1,3,6],[2,3,1]] \n",
    "connections.sort(key=lambda x: x[2])"
   ]
  },
  {
   "cell_type": "code",
   "execution_count": 6,
   "id": "baa4ebb5",
   "metadata": {},
   "outputs": [
    {
     "data": {
      "text/plain": [
       "[[2, 3, 1], [1, 2, 5], [1, 3, 6]]"
      ]
     },
     "execution_count": 6,
     "metadata": {},
     "output_type": "execute_result"
    }
   ],
   "source": [
    "connections"
   ]
  },
  {
   "cell_type": "code",
   "execution_count": null,
   "id": "bf8f68f8",
   "metadata": {},
   "outputs": [],
   "source": []
  }
 ],
 "metadata": {
  "kernelspec": {
   "display_name": "Python 3",
   "language": "python",
   "name": "python3"
  },
  "language_info": {
   "codemirror_mode": {
    "name": "ipython",
    "version": 3
   },
   "file_extension": ".py",
   "mimetype": "text/x-python",
   "name": "python",
   "nbconvert_exporter": "python",
   "pygments_lexer": "ipython3",
   "version": "3.7.4"
  }
 },
 "nbformat": 4,
 "nbformat_minor": 5
}
