{
 "cells": [
  {
   "cell_type": "markdown",
   "id": "989002e9",
   "metadata": {},
   "source": [
    "https://leetcode.com/problems/closest-binary-search-tree-value/"
   ]
  },
  {
   "cell_type": "code",
   "execution_count": 1,
   "id": "b7fe7b89",
   "metadata": {},
   "outputs": [],
   "source": [
    "class TreeNode:\n",
    "    def __init__(self, val=0, left=None, right=None):\n",
    "        self.val = val\n",
    "        self.left = left\n",
    "        self.right = right"
   ]
  },
  {
   "cell_type": "code",
   "execution_count": 4,
   "id": "db03166b",
   "metadata": {},
   "outputs": [],
   "source": [
    "class Solution:\n",
    "    def closestValue(self, root, target: float) -> int:\n",
    "        \n",
    "        def inOrder(root):\n",
    "            if root:\n",
    "                inOrder(root.left)\n",
    "                res.append(root.val)\n",
    "                inOrder(root.right)\n",
    "        \n",
    "        res = []\n",
    "        inOrder(root)\n",
    "        \n",
    "        min_dis = float('inf')\n",
    "        ans = -1 \n",
    "        for i in range(len(res)):\n",
    "            if abs(res[i] - target) < min_dis:\n",
    "                ans = res[i]\n",
    "                min_dis = abs(res[i] - target)\n",
    "        return ans"
   ]
  },
  {
   "cell_type": "code",
   "execution_count": null,
   "id": "c94ef825",
   "metadata": {},
   "outputs": [],
   "source": [
    "# Note: O(N) time and O(N) space"
   ]
  }
 ],
 "metadata": {
  "kernelspec": {
   "display_name": "Python 3",
   "language": "python",
   "name": "python3"
  },
  "language_info": {
   "codemirror_mode": {
    "name": "ipython",
    "version": 3
   },
   "file_extension": ".py",
   "mimetype": "text/x-python",
   "name": "python",
   "nbconvert_exporter": "python",
   "pygments_lexer": "ipython3",
   "version": "3.7.4"
  }
 },
 "nbformat": 4,
 "nbformat_minor": 5
}
