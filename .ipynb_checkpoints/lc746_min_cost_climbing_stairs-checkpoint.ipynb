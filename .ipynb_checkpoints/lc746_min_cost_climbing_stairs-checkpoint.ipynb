{
 "cells": [
  {
   "cell_type": "markdown",
   "id": "3f59e45e",
   "metadata": {},
   "source": [
    "### 746. Min Cost Climbing Stairs"
   ]
  },
  {
   "cell_type": "markdown",
   "id": "b58b02de",
   "metadata": {},
   "source": [
    "https://leetcode.com/problems/min-cost-climbing-stairs/"
   ]
  },
  {
   "cell_type": "code",
   "execution_count": 9,
   "id": "755d41a8",
   "metadata": {},
   "outputs": [],
   "source": [
    "from typing import List\n",
    "class Solution:\n",
    "    # Dynamic programming, bottom up solution: O(N) time and O(N) space\n",
    "    def minCostClimbingStairs(self, cost: List[int]) -> int:\n",
    "        minCost = [0] * len(cost)\n",
    "        minCost[0] = cost[0]\n",
    "        minCost[1] = cost[1]\n",
    "        \n",
    "        for i in range(2, len(cost)):\n",
    "            minCost[i] = cost[i] + min(minCost[i-1],minCost[i-2])\n",
    "        return min(minCost[-1], minCost[-2])      \n",
    "\n",
    "\n",
    "    # Improved with O(1) extra space\n",
    "    def minCostClimbingStairs2(self, cost: List[int]) -> int:\n",
    "        prev, cur = cost[0], cost[1]\n",
    "        for i in range(2, len(cost)):\n",
    "            nxt = cost[i] + min(prev, cur)\n",
    "            prev, cur = cur, nxt\n",
    "        return min(prev, cur)\n",
    "\n",
    "    \n",
    "    # Top down solution: O(N) time, O(N) space\n",
    "    def minCostClimbingStairsTopDown(self, cost):\n",
    "        # append 0 for final step's cost for easier calculation\n",
    "        cost.append(0)\n",
    "        n = len(cost)\n",
    "        cache = {}\n",
    "        def top_down(i):\n",
    "            # base case\n",
    "            if i <= 1: cache[i] = cost[i]\n",
    "            if i in cache: return cache[i]\n",
    "            cache[i] = cost[i] + min(top_down(i-1), top_down(i-2)) \n",
    "            return cache[i]\n",
    "        \n",
    "        return top_down(n-1)"
   ]
  },
  {
   "cell_type": "code",
   "execution_count": 10,
   "id": "1a845880",
   "metadata": {},
   "outputs": [
    {
     "data": {
      "text/plain": [
       "6"
      ]
     },
     "execution_count": 10,
     "metadata": {},
     "output_type": "execute_result"
    }
   ],
   "source": [
    "cost = [1,100,1,1,1,100,1,1,100,1]\n",
    "Solution().minCostClimbingStairs2(cost)"
   ]
  },
  {
   "cell_type": "code",
   "execution_count": 5,
   "id": "6aeabcce",
   "metadata": {},
   "outputs": [
    {
     "data": {
      "text/plain": [
       "6"
      ]
     },
     "execution_count": 5,
     "metadata": {},
     "output_type": "execute_result"
    }
   ],
   "source": [
    "cost = [1,100,1,1,1,100,1,1,100,1]\n",
    "Solution().minCostClimbingStairsTopDown(cost)"
   ]
  },
  {
   "cell_type": "code",
   "execution_count": 11,
   "id": "16422fed",
   "metadata": {},
   "outputs": [
    {
     "data": {
      "text/plain": [
       "15"
      ]
     },
     "execution_count": 11,
     "metadata": {},
     "output_type": "execute_result"
    }
   ],
   "source": [
    "cost = [10,15,20]\n",
    "Solution().minCostClimbingStairs2(cost)"
   ]
  },
  {
   "cell_type": "code",
   "execution_count": 8,
   "id": "50644a30",
   "metadata": {},
   "outputs": [
    {
     "data": {
      "text/plain": [
       "15"
      ]
     },
     "execution_count": 8,
     "metadata": {},
     "output_type": "execute_result"
    }
   ],
   "source": [
    "cost = [10,15,20]\n",
    "Solution().minCostClimbingStairsTopDown(cost)"
   ]
  },
  {
   "cell_type": "code",
   "execution_count": null,
   "id": "a787c7c0",
   "metadata": {},
   "outputs": [],
   "source": []
  }
 ],
 "metadata": {
  "kernelspec": {
   "display_name": "Python 3",
   "language": "python",
   "name": "python3"
  },
  "language_info": {
   "codemirror_mode": {
    "name": "ipython",
    "version": 3
   },
   "file_extension": ".py",
   "mimetype": "text/x-python",
   "name": "python",
   "nbconvert_exporter": "python",
   "pygments_lexer": "ipython3",
   "version": "3.7.4"
  }
 },
 "nbformat": 4,
 "nbformat_minor": 5
}
