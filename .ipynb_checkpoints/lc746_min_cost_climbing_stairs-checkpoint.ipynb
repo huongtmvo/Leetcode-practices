{
 "cells": [
  {
   "cell_type": "markdown",
   "id": "3f59e45e",
   "metadata": {},
   "source": [
    "### 746. Min Cost Climbing Stairs"
   ]
  },
  {
   "cell_type": "markdown",
   "id": "b58b02de",
   "metadata": {},
   "source": [
    "Status: need a top down solution"
   ]
  },
  {
   "cell_type": "code",
   "execution_count": 26,
   "id": "755d41a8",
   "metadata": {},
   "outputs": [],
   "source": [
    "from typing import List\n",
    "class Solution:\n",
    "    # Dynamic programming, bottom up solution\n",
    "    def minCostClimbingStairs(self, cost: List[int]) -> int:\n",
    "        minCost = [0] * len(cost)\n",
    "        minCost[0] = cost[0]\n",
    "        minCost[1] = cost[1]\n",
    "        \n",
    "        for i in range(2, len(cost)):\n",
    "            minCost[i] = cost[i] + min(minCost[i-1],minCost[i-2])\n",
    "        return min(minCost[-1], minCost[-2])      \n",
    "    \n",
    "# Time: O(N)\n",
    "# Space: O(N)\n",
    "\n",
    "\n",
    "    "
   ]
  },
  {
   "cell_type": "code",
   "execution_count": 27,
   "id": "1a845880",
   "metadata": {},
   "outputs": [
    {
     "data": {
      "text/plain": [
       "6"
      ]
     },
     "execution_count": 27,
     "metadata": {},
     "output_type": "execute_result"
    }
   ],
   "source": [
    "cost = [1,100,1,1,1,100,1,1,100,1]\n",
    "Solution().minCostClimbingStairs(cost)"
   ]
  },
  {
   "cell_type": "code",
   "execution_count": 29,
   "id": "16422fed",
   "metadata": {},
   "outputs": [
    {
     "data": {
      "text/plain": [
       "15"
      ]
     },
     "execution_count": 29,
     "metadata": {},
     "output_type": "execute_result"
    }
   ],
   "source": [
    "cost = [10,15,20]\n",
    "Solution().minCostClimbingStairs(cost)"
   ]
  }
 ],
 "metadata": {
  "kernelspec": {
   "display_name": "Python 3",
   "language": "python",
   "name": "python3"
  },
  "language_info": {
   "codemirror_mode": {
    "name": "ipython",
    "version": 3
   },
   "file_extension": ".py",
   "mimetype": "text/x-python",
   "name": "python",
   "nbconvert_exporter": "python",
   "pygments_lexer": "ipython3",
   "version": "3.7.4"
  }
 },
 "nbformat": 4,
 "nbformat_minor": 5
}
