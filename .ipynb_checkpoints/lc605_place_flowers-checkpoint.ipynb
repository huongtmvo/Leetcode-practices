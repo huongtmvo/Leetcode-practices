{
 "cells": [
  {
   "cell_type": "markdown",
   "id": "38cd4fdb",
   "metadata": {},
   "source": [
    "### 605_can_place_flowers"
   ]
  },
  {
   "cell_type": "code",
   "execution_count": 15,
   "id": "c66045c4",
   "metadata": {},
   "outputs": [],
   "source": [
    "from typing import List\n",
    "class Solution:\n",
    "    def canPlaceFlowers(self, flowerbed: List[int], n: int) -> bool:\n",
    "        for i, x in enumerate(flowerbed):\n",
    "            if x == 0 and (i==0 or flowerbed[i-1]==0)  and (i==len(flowerbed)-1 or flowerbed[i+1] == 0):\n",
    "                n -= 1\n",
    "                flowerbed[i] = 1\n",
    "        return n <= 0"
   ]
  },
  {
   "cell_type": "code",
   "execution_count": 16,
   "id": "4f2f764b",
   "metadata": {},
   "outputs": [
    {
     "data": {
      "text/plain": [
       "True"
      ]
     },
     "execution_count": 16,
     "metadata": {},
     "output_type": "execute_result"
    }
   ],
   "source": [
    "flowerbed = [1,0,0,0,1]; n = 1\n",
    "Solution().canPlaceFlower(flowerbed, n)"
   ]
  },
  {
   "cell_type": "code",
   "execution_count": 17,
   "id": "53eba0e6",
   "metadata": {},
   "outputs": [
    {
     "data": {
      "text/plain": [
       "False"
      ]
     },
     "execution_count": 17,
     "metadata": {},
     "output_type": "execute_result"
    }
   ],
   "source": [
    "flowerbed = [1,0,0,0,1]; n = 2\n",
    "Solution().canPlaceFlowers(flowerbed, n)"
   ]
  }
 ],
 "metadata": {
  "kernelspec": {
   "display_name": "Python 3",
   "language": "python",
   "name": "python3"
  },
  "language_info": {
   "codemirror_mode": {
    "name": "ipython",
    "version": 3
   },
   "file_extension": ".py",
   "mimetype": "text/x-python",
   "name": "python",
   "nbconvert_exporter": "python",
   "pygments_lexer": "ipython3",
   "version": "3.7.4"
  }
 },
 "nbformat": 4,
 "nbformat_minor": 5
}
