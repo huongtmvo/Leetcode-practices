{
 "cells": [
  {
   "cell_type": "markdown",
   "metadata": {
    "id": "8KyB7a84sONE"
   },
   "source": [
    "463. Island Perimeter\n",
    "\n",
    "https://leetcode.com/problems/island-perimeter/"
   ]
  },
  {
   "cell_type": "code",
   "execution_count": 1,
   "metadata": {
    "id": "GpRzPfTev3XF"
   },
   "outputs": [],
   "source": [
    "from typing import List\n",
    "class Solution:\n",
    "    def islandPerimeter(self, grid: List[List[int]]) -> int:\n",
    "        rows = len(grid)\n",
    "        columns = len(grid[0])\n",
    "        res = 0\n",
    "        \n",
    "        for r in range(rows):\n",
    "            for c in range(columns):\n",
    "                if grid[r][c] == 1:\n",
    "                    res += 4\n",
    "                    \n",
    "                    # if the left cell is 1, substract the res by 2\n",
    "                    if c > 0 and grid[r][c-1] == 1:\n",
    "                        res -= 2\n",
    "                    \n",
    "                    # if the upper cell is 1, substract the result by 2\n",
    "                    if r > 0 and grid[r-1][c] == 1:\n",
    "                        res -= 2\n",
    "        return res"
   ]
  },
  {
   "cell_type": "code",
   "execution_count": 2,
   "metadata": {},
   "outputs": [
    {
     "data": {
      "text/plain": [
       "16"
      ]
     },
     "execution_count": 2,
     "metadata": {},
     "output_type": "execute_result"
    }
   ],
   "source": [
    "grid = [[0,1,0,0],[1,1,1,0],[0,1,0,0],[1,1,0,0]]\n",
    "Solution().islandPerimeter(grid)"
   ]
  },
  {
   "cell_type": "code",
   "execution_count": null,
   "metadata": {},
   "outputs": [],
   "source": []
  }
 ],
 "metadata": {
  "colab": {
   "authorship_tag": "ABX9TyN2Xy2bZhq1AJ9uBW6XnvZb",
   "collapsed_sections": [],
   "name": "lc463. IslandPerimeter.ipynb",
   "provenance": []
  },
  "kernelspec": {
   "display_name": "Python 3",
   "language": "python",
   "name": "python3"
  },
  "language_info": {
   "codemirror_mode": {
    "name": "ipython",
    "version": 3
   },
   "file_extension": ".py",
   "mimetype": "text/x-python",
   "name": "python",
   "nbconvert_exporter": "python",
   "pygments_lexer": "ipython3",
   "version": "3.7.4"
  }
 },
 "nbformat": 4,
 "nbformat_minor": 1
}
