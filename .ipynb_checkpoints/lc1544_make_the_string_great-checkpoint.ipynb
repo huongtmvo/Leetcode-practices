{
 "cells": [
  {
   "cell_type": "markdown",
   "id": "f7a29917",
   "metadata": {},
   "source": [
    "https://leetcode.com/problems/make-the-string-great/"
   ]
  },
  {
   "cell_type": "code",
   "execution_count": null,
   "id": "d00aa4fd",
   "metadata": {},
   "outputs": [],
   "source": [
    "class Solution:\n",
    "    def makeGood(self, s: str) -> str:\n",
    "        n = len(s)\n",
    "        stack = []\n",
    "        for i in range(n):\n",
    "            if stack and stack[-1] != s[i] and stack[-1].upper() == s[i].upper():\n",
    "                    stack.pop()\n",
    "            else:\n",
    "                stack.append(s[i])\n",
    "        return ''.join(stack)"
   ]
  }
 ],
 "metadata": {
  "kernelspec": {
   "display_name": "Python 3",
   "language": "python",
   "name": "python3"
  },
  "language_info": {
   "codemirror_mode": {
    "name": "ipython",
    "version": 3
   },
   "file_extension": ".py",
   "mimetype": "text/x-python",
   "name": "python",
   "nbconvert_exporter": "python",
   "pygments_lexer": "ipython3",
   "version": "3.7.4"
  }
 },
 "nbformat": 4,
 "nbformat_minor": 5
}
