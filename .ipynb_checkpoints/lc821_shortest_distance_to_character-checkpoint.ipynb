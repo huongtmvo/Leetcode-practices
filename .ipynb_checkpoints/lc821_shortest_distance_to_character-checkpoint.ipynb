{
 "cells": [
  {
   "cell_type": "markdown",
   "id": "9b4a6e1c",
   "metadata": {},
   "source": [
    "https://leetcode.com/problems/shortest-distance-to-a-character/"
   ]
  },
  {
   "cell_type": "code",
   "execution_count": null,
   "id": "a4b60ae5",
   "metadata": {},
   "outputs": [],
   "source": [
    "class Solution:\n",
    "    def shortestToChar(self, S, C):\n",
    "        c = []\n",
    "        for i, v in enumerate(S):\n",
    "            if v == C:\n",
    "                c.append(i)\n",
    "\n",
    "        r = []\n",
    "        for i in range(len(S)):\n",
    "            r.append(min([abs(t - i)for t in c]))\n",
    "        return r"
   ]
  },
  {
   "cell_type": "code",
   "execution_count": null,
   "id": "719002f5",
   "metadata": {},
   "outputs": [],
   "source": []
  }
 ],
 "metadata": {
  "kernelspec": {
   "display_name": "Python 3",
   "language": "python",
   "name": "python3"
  },
  "language_info": {
   "codemirror_mode": {
    "name": "ipython",
    "version": 3
   },
   "file_extension": ".py",
   "mimetype": "text/x-python",
   "name": "python",
   "nbconvert_exporter": "python",
   "pygments_lexer": "ipython3",
   "version": "3.7.4"
  }
 },
 "nbformat": 4,
 "nbformat_minor": 5
}
