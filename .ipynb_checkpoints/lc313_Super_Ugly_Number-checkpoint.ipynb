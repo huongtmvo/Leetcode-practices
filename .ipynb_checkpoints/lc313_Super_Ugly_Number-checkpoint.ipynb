{
 "cells": [
  {
   "cell_type": "markdown",
   "id": "ff3f7fd3",
   "metadata": {},
   "source": [
    "https://leetcode.com/problems/super-ugly-number/"
   ]
  },
  {
   "cell_type": "code",
   "execution_count": null,
   "id": "ef5a235e",
   "metadata": {},
   "outputs": [],
   "source": [
    "class Solution:\n",
    "    # Solution1: Running time is slow, need improvement\n",
    "    def nthSuperUglyNumber(self, n: int, primes: List[int]) -> int:\n",
    "        ugly = [1]\n",
    "        index = [0]*len(primes)\n",
    "        nums = [0]*len(primes)\n",
    "        \n",
    "        while n > 1:\n",
    "            for i in range(len(primes)):\n",
    "                nums[i] = primes[i]*ugly[index[i]]\n",
    "            n_min = min(nums)\n",
    "            ugly.append(n_min)\n",
    "            \n",
    "            for i in range(len(primes)):\n",
    "                if n_min == nums[i]:\n",
    "                    index[i] += 1\n",
    "            n -= 1\n",
    "        return ugly[-1]"
   ]
  }
 ],
 "metadata": {
  "kernelspec": {
   "display_name": "Python 3",
   "language": "python",
   "name": "python3"
  },
  "language_info": {
   "codemirror_mode": {
    "name": "ipython",
    "version": 3
   },
   "file_extension": ".py",
   "mimetype": "text/x-python",
   "name": "python",
   "nbconvert_exporter": "python",
   "pygments_lexer": "ipython3",
   "version": "3.7.4"
  }
 },
 "nbformat": 4,
 "nbformat_minor": 5
}
