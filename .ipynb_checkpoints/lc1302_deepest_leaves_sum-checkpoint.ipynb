{
 "cells": [
  {
   "cell_type": "markdown",
   "id": "d7bded0d",
   "metadata": {},
   "source": [
    "https://leetcode.com/problems/deepest-leaves-sum/"
   ]
  },
  {
   "cell_type": "code",
   "execution_count": null,
   "id": "e1c52516",
   "metadata": {},
   "outputs": [],
   "source": [
    "# Definition for a binary tree node.\n",
    "class TreeNode:\n",
    "    def __init__(self, val=0, left=None, right=None):\n",
    "        self.val = val\n",
    "        self.left = left\n",
    "        self.right = right\n",
    "        \n",
    "class Solution:\n",
    "    def deepestLeavesSum(self, root: Optional[TreeNode]) -> int: \n",
    "        def dfs1(node):\n",
    "            if not node: return 0\n",
    "            return max(dfs1(node.left), dfs1(node.right)) + 1\n",
    "        \n",
    "        def dfs2(node, d):\n",
    "            if not node: return\n",
    "            if d == depth: self.ans += node.val\n",
    "            dfs2(node.left, d+1)\n",
    "            dfs2(node.right, d+1)\n",
    "        \n",
    "        self.ans = 0\n",
    "        depth = dfs1(root)\n",
    "        dfs2(root, 1)\n",
    "        return self.ans"
   ]
  },
  {
   "cell_type": "code",
   "execution_count": null,
   "id": "d2abe7d5",
   "metadata": {},
   "outputs": [],
   "source": [
    "  def deepestLeavesSum(self, root):\n",
    "        q = [root]\n",
    "        while q:\n",
    "            pre, q = q, [child for p in q for child in [p.left, p.right] if child]\n",
    "        return sum(node.val for node in pre)"
   ]
  },
  {
   "cell_type": "code",
   "execution_count": null,
   "id": "6286b870",
   "metadata": {},
   "outputs": [],
   "source": [
    "class Solution:\n",
    "    def deepestLeavesSum(self, root):\n",
    "        def dfs1(node):\n",
    "            if not node: return 0\n",
    "            return max(dfs1(node.left), dfs1(node.right)) + 1\n",
    "        \n",
    "        def dfs2(node, d):\n",
    "            if not node: return\n",
    "            if d == depth: self.ans += node.val\n",
    "            dfs2(node.left, d+1)\n",
    "            dfs2(node.right, d+1)\n",
    "        \n",
    "        self.ans = 0\n",
    "        depth = dfs1(root)\n",
    "        dfs2(root, 1)\n",
    "        return self.ans"
   ]
  }
 ],
 "metadata": {
  "kernelspec": {
   "display_name": "Python 3",
   "language": "python",
   "name": "python3"
  },
  "language_info": {
   "codemirror_mode": {
    "name": "ipython",
    "version": 3
   },
   "file_extension": ".py",
   "mimetype": "text/x-python",
   "name": "python",
   "nbconvert_exporter": "python",
   "pygments_lexer": "ipython3",
   "version": "3.7.4"
  }
 },
 "nbformat": 4,
 "nbformat_minor": 5
}
