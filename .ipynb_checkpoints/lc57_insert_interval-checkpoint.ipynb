{
 "cells": [
  {
   "cell_type": "markdown",
   "id": "3a9e59bd",
   "metadata": {},
   "source": [
    "https://leetcode.com/problems/insert-interval/"
   ]
  },
  {
   "cell_type": "code",
   "execution_count": 2,
   "id": "8aba5803",
   "metadata": {},
   "outputs": [],
   "source": [
    "from typing import List\n",
    "class Solution:\n",
    "    def insert(self, intervals: List[List[int]], newInterval: List[int]) -> List[List[int]]:\n",
    "        intervals.append(newInterval)\n",
    "        intervals.sort(key = lambda x: x[0])\n",
    "        res = []\n",
    "        \n",
    "        for interval in intervals:\n",
    "            if res and interval[0] < intervals[-1][-1]:\n",
    "                intervals[-1][-1] = max(intervals[-1][-1], interval[-1])\n",
    "            else:\n",
    "                res.append(interval)\n",
    "        return res\n",
    "            "
   ]
  },
  {
   "cell_type": "code",
   "execution_count": 3,
   "id": "111a6da9",
   "metadata": {},
   "outputs": [
    {
     "data": {
      "text/plain": [
       "[[1, 2]]"
      ]
     },
     "execution_count": 3,
     "metadata": {},
     "output_type": "execute_result"
    }
   ],
   "source": [
    "intervals = [[1,2],[3,5],[6,7],[8,10],[12,16]]; newInterval = [4,8]\n",
    "Solution().insert(intervals,newInterval)"
   ]
  },
  {
   "cell_type": "code",
   "execution_count": null,
   "id": "7b17c41b",
   "metadata": {},
   "outputs": [],
   "source": []
  }
 ],
 "metadata": {
  "kernelspec": {
   "display_name": "Python 3",
   "language": "python",
   "name": "python3"
  },
  "language_info": {
   "codemirror_mode": {
    "name": "ipython",
    "version": 3
   },
   "file_extension": ".py",
   "mimetype": "text/x-python",
   "name": "python",
   "nbconvert_exporter": "python",
   "pygments_lexer": "ipython3",
   "version": "3.7.4"
  }
 },
 "nbformat": 4,
 "nbformat_minor": 5
}
