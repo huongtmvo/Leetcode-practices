{
 "cells": [
  {
   "cell_type": "markdown",
   "id": "e7c214ba",
   "metadata": {},
   "source": [
    "https://leetcode.com/problems/insert-interval/"
   ]
  },
  {
   "cell_type": "code",
   "execution_count": 8,
   "id": "eaf4e75a",
   "metadata": {},
   "outputs": [],
   "source": [
    "from typing import List\n",
    "class Solution:\n",
    "    def insert(self, intervals: List[List[int]], newInterval: List[int]) -> List[List[int]]:\n",
    "        intervals.append(newInterval)\n",
    "        intervals.sort(key = lambda x: x[0])\n",
    "        res = []\n",
    "        \n",
    "        for interval in intervals:\n",
    "            if res and interval[0] <= res[-1][-1]:\n",
    "                res[-1][-1] = max(res[-1][-1], interval[-1])\n",
    "            else:\n",
    "                res.append(interval)\n",
    "        return res"
   ]
  },
  {
   "cell_type": "code",
   "execution_count": 9,
   "id": "f4e4222e",
   "metadata": {},
   "outputs": [
    {
     "data": {
      "text/plain": [
       "[[1, 2], [3, 10], [12, 16]]"
      ]
     },
     "execution_count": 9,
     "metadata": {},
     "output_type": "execute_result"
    }
   ],
   "source": [
    "intervals = [[1,2],[3,5],[6,7],[8,10],[12,16]]; newInterval = [4,8]\n",
    "Solution().insert(intervals,newInterval)"
   ]
  },
  {
   "cell_type": "code",
   "execution_count": 10,
   "id": "c240d5c4",
   "metadata": {},
   "outputs": [
    {
     "data": {
      "text/plain": [
       "[[1, 5], [6, 9]]"
      ]
     },
     "execution_count": 10,
     "metadata": {},
     "output_type": "execute_result"
    }
   ],
   "source": [
    "intervals = [[1,3],[6,9]]; newInterval = [2,5]\n",
    "Solution().insert(intervals,newInterval)"
   ]
  },
  {
   "cell_type": "code",
   "execution_count": null,
   "id": "10056d77",
   "metadata": {},
   "outputs": [],
   "source": []
  }
 ],
 "metadata": {
  "kernelspec": {
   "display_name": "Python 3",
   "language": "python",
   "name": "python3"
  },
  "language_info": {
   "codemirror_mode": {
    "name": "ipython",
    "version": 3
   },
   "file_extension": ".py",
   "mimetype": "text/x-python",
   "name": "python",
   "nbconvert_exporter": "python",
   "pygments_lexer": "ipython3",
   "version": "3.7.4"
  }
 },
 "nbformat": 4,
 "nbformat_minor": 5
}
