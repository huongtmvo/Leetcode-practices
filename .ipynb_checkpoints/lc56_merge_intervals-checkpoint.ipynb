{
 "cells": [
  {
   "cell_type": "markdown",
   "id": "59bcc0e6",
   "metadata": {},
   "source": [
    "https://leetcode.com/problems/merge-intervals/"
   ]
  },
  {
   "cell_type": "code",
   "execution_count": 19,
   "id": "300d24c7",
   "metadata": {},
   "outputs": [],
   "source": [
    "from typing import List\n",
    "class Solution:\n",
    "    def merge(self, intervals: List[List[int]]) -> List[List[int]]:\n",
    "        res = []\n",
    "        intervals.sort(key = lambda x: x[0])\n",
    "        for interval in intervals:\n",
    "            if res and interval[0] <= res[-1][-1]:\n",
    "                res[-1][-1] = max(res[-1][-1], interval[-1])\n",
    "            else:\n",
    "                res.append(interval)\n",
    "        return res"
   ]
  },
  {
   "cell_type": "code",
   "execution_count": 20,
   "id": "c4a04436",
   "metadata": {},
   "outputs": [
    {
     "data": {
      "text/plain": [
       "[[1, 10], [15, 18]]"
      ]
     },
     "execution_count": 20,
     "metadata": {},
     "output_type": "execute_result"
    }
   ],
   "source": [
    "intervals = [[2,10],[2,6],[1,3],[8,10],[15,18]]\n",
    "Solution().merge(intervals)"
   ]
  },
  {
   "cell_type": "code",
   "execution_count": null,
   "id": "f3cd9f9e",
   "metadata": {},
   "outputs": [],
   "source": []
  }
 ],
 "metadata": {
  "kernelspec": {
   "display_name": "Python 3",
   "language": "python",
   "name": "python3"
  },
  "language_info": {
   "codemirror_mode": {
    "name": "ipython",
    "version": 3
   },
   "file_extension": ".py",
   "mimetype": "text/x-python",
   "name": "python",
   "nbconvert_exporter": "python",
   "pygments_lexer": "ipython3",
   "version": "3.7.4"
  }
 },
 "nbformat": 4,
 "nbformat_minor": 5
}
