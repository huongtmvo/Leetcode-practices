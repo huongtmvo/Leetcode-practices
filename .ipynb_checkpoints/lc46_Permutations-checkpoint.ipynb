{
 "cells": [
  {
   "cell_type": "code",
   "execution_count": null,
   "metadata": {},
   "outputs": [],
   "source": [
    "ready to push to Github"
   ]
  },
  {
   "cell_type": "markdown",
   "metadata": {
    "id": "z1b13lUysZ3h"
   },
   "source": [
    "46. Permutations\n",
    "\n",
    "https://leetcode.com/problems/permutations/"
   ]
  },
  {
   "cell_type": "code",
   "execution_count": 41,
   "metadata": {
    "executionInfo": {
     "elapsed": 159,
     "status": "ok",
     "timestamp": 1653463670332,
     "user": {
      "displayName": "Huong Vo",
      "userId": "06024641955657481731"
     },
     "user_tz": 420
    },
    "id": "pQeVhJgLrIc5"
   },
   "outputs": [],
   "source": [
    "from typing import List\n",
    "class Solution:\n",
    "    # Solution 1: use DFS with backtracking\n",
    "    def dfs(self, nums, path, res):\n",
    "        if not nums:\n",
    "            res.append(path)\n",
    "        for i in range(len(nums)):\n",
    "            self.dfs(nums[:i] + nums[i+1:], path + [nums[i]], res)\n",
    "\n",
    "    def permute(self, nums: List[int]) -> List[List[int]]:\n",
    "        res = []\n",
    "        self.dfs(nums, [], res)\n",
    "        return res\n",
    "\n",
    "\n",
    "    # Solution 2: \n",
    "    def permute2(self, nums):\n",
    "        def helper(i):\n",
    "            if i == 0:\n",
    "                return [[nums[i]]]\n",
    "            perms = helper(i-1)\n",
    "            res = []\n",
    "            for p in perms:\n",
    "                for j in range(i+1):\n",
    "                    new_p = list(p)\n",
    "                    new_p.insert(j, nums[i])\n",
    "                    res.append(new_p)\n",
    "            return res\n",
    "        return helper(len(nums) - 1)\n",
    "\n",
    "    # Solution 3: \n",
    "    def permute3(self, nums):\n",
    "        def backtrack(first = 0):\n",
    "            # if all numbers are used up\n",
    "            if first == n:  \n",
    "                output.append(nums[:])\n",
    "            for i in range(first, n):\n",
    "                # place i-th number first in the current permutation\n",
    "                nums[first], nums[i] = nums[i], nums[first]\n",
    "                # use next number to complete the permutations\n",
    "                backtrack(first + 1)\n",
    "                # backtracking \n",
    "                nums[first], nums[i] = nums[i], nums[first]\n",
    "        \n",
    "        n = len(nums)\n",
    "        output = []\n",
    "        backtrack()\n",
    "        return output"
   ]
  },
  {
   "cell_type": "code",
   "execution_count": 42,
   "metadata": {
    "colab": {
     "base_uri": "https://localhost:8080/"
    },
    "executionInfo": {
     "elapsed": 173,
     "status": "ok",
     "timestamp": 1653463676091,
     "user": {
      "displayName": "Huong Vo",
      "userId": "06024641955657481731"
     },
     "user_tz": 420
    },
    "id": "Vly6dlWavePX",
    "outputId": "79d05b9b-fb22-401c-ca4c-bb030ef8a0c9"
   },
   "outputs": [
    {
     "name": "stdout",
     "output_type": "stream",
     "text": [
      "0 []\n",
      "0 [1]\n",
      "0 [1, 2]\n",
      "1 [1]\n",
      "0 [1, 3]\n",
      "1 []\n",
      "0 [2]\n",
      "0 [2, 1]\n",
      "1 [2]\n",
      "0 [2, 3]\n",
      "2 []\n",
      "0 [3]\n",
      "0 [3, 1]\n",
      "1 [3]\n",
      "0 [3, 2]\n"
     ]
    },
    {
     "data": {
      "text/plain": [
       "[[1, 2, 3], [1, 3, 2], [2, 1, 3], [2, 3, 1], [3, 1, 2], [3, 2, 1]]"
      ]
     },
     "execution_count": 42,
     "metadata": {},
     "output_type": "execute_result"
    }
   ],
   "source": [
    "nums = [1,2,3]\n",
    "Solution().permute(nums)"
   ]
  },
  {
   "cell_type": "code",
   "execution_count": 13,
   "metadata": {
    "colab": {
     "base_uri": "https://localhost:8080/"
    },
    "executionInfo": {
     "elapsed": 160,
     "status": "ok",
     "timestamp": 1653461500173,
     "user": {
      "displayName": "Huong Vo",
      "userId": "06024641955657481731"
     },
     "user_tz": 420
    },
    "id": "JdgzUcvB-lJd",
    "outputId": "6f1999a6-4348-4508-e4ab-cd9e15b54e8c"
   },
   "outputs": [
    {
     "data": {
      "text/plain": [
       "[[0, 1], [1, 0]]"
      ]
     },
     "execution_count": 13,
     "metadata": {},
     "output_type": "execute_result"
    }
   ],
   "source": [
    "nums = [0,1]\n",
    "Solution().permute(nums)"
   ]
  },
  {
   "cell_type": "code",
   "execution_count": 14,
   "metadata": {
    "colab": {
     "base_uri": "https://localhost:8080/"
    },
    "executionInfo": {
     "elapsed": 140,
     "status": "ok",
     "timestamp": 1653461501236,
     "user": {
      "displayName": "Huong Vo",
      "userId": "06024641955657481731"
     },
     "user_tz": 420
    },
    "id": "Vw8KoiFm-xhs",
    "outputId": "7471530c-6180-4c59-d9e4-f88302a45548"
   },
   "outputs": [
    {
     "data": {
      "text/plain": [
       "[[1]]"
      ]
     },
     "execution_count": 14,
     "metadata": {},
     "output_type": "execute_result"
    }
   ],
   "source": [
    "nums = [1]\n",
    "Solution().permute2(nums)"
   ]
  }
 ],
 "metadata": {
  "colab": {
   "authorship_tag": "ABX9TyNdENlTRDq1hRYK+x7damVY",
   "collapsed_sections": [],
   "name": "lc46. Permutations.ipynb",
   "provenance": []
  },
  "kernelspec": {
   "display_name": "Python 3",
   "language": "python",
   "name": "python3"
  },
  "language_info": {
   "codemirror_mode": {
    "name": "ipython",
    "version": 3
   },
   "file_extension": ".py",
   "mimetype": "text/x-python",
   "name": "python",
   "nbconvert_exporter": "python",
   "pygments_lexer": "ipython3",
   "version": "3.7.4"
  }
 },
 "nbformat": 4,
 "nbformat_minor": 1
}
