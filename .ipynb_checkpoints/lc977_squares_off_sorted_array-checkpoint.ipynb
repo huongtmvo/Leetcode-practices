{
 "cells": [
  {
   "cell_type": "markdown",
   "id": "038275bc",
   "metadata": {},
   "source": [
    "https://leetcode.com/problems/squares-of-a-sorted-array/"
   ]
  },
  {
   "cell_type": "code",
   "execution_count": 18,
   "id": "46a58954",
   "metadata": {},
   "outputs": [],
   "source": [
    "from typing import List\n",
    "from collections import deque\n",
    "class Solution:\n",
    "    def sortedSquares2(self, nums: List[int]) -> List[int]:\n",
    "        l, r = 0, len(nums) - 1\n",
    "        ans = []\n",
    "        while l <= r:\n",
    "            left, right = abs(nums[l]), abs(nums[r])\n",
    "            if left > right:\n",
    "                ans.append(left**2)\n",
    "                l += 1\n",
    "            else:\n",
    "                ans.append(right**2)\n",
    "                r -= 1\n",
    "        return ans[::-1]\n",
    "    \n",
    "    # instead of using an array to hold answers, we can also use deque\n",
    "    def sortedSquares(self, nums: List[int]) -> List[int]:\n",
    "        l, r = 0, len(nums) - 1\n",
    "        ans = deque()\n",
    "        while l <= r:\n",
    "            left, right = abs(nums[l]), abs(nums[r])\n",
    "            if left > right:\n",
    "                ans.appendleft(left**2)\n",
    "                l += 1\n",
    "            else:\n",
    "                ans.appendleft(right**2)\n",
    "                r -= 1\n",
    "        return ans"
   ]
  },
  {
   "cell_type": "code",
   "execution_count": 19,
   "id": "dc481c5b",
   "metadata": {},
   "outputs": [
    {
     "data": {
      "text/plain": [
       "deque([4, 9, 9, 49, 121])"
      ]
     },
     "execution_count": 19,
     "metadata": {},
     "output_type": "execute_result"
    }
   ],
   "source": [
    "nums = [-7,-3,2,3,11]\n",
    "Solution().sortedSquares(nums)"
   ]
  },
  {
   "cell_type": "code",
   "execution_count": 30,
   "id": "47c3a006",
   "metadata": {},
   "outputs": [
    {
     "data": {
      "text/plain": [
       "deque([1, 4, 9, 16, 25])"
      ]
     },
     "execution_count": 30,
     "metadata": {},
     "output_type": "execute_result"
    }
   ],
   "source": [
    "nums = [-5,-4,-3,-2,-1]\n",
    "Solution().sortedSquares(nums)"
   ]
  },
  {
   "cell_type": "code",
   "execution_count": null,
   "id": "497711f3",
   "metadata": {},
   "outputs": [],
   "source": []
  }
 ],
 "metadata": {
  "kernelspec": {
   "display_name": "Python 3",
   "language": "python",
   "name": "python3"
  },
  "language_info": {
   "codemirror_mode": {
    "name": "ipython",
    "version": 3
   },
   "file_extension": ".py",
   "mimetype": "text/x-python",
   "name": "python",
   "nbconvert_exporter": "python",
   "pygments_lexer": "ipython3",
   "version": "3.7.4"
  }
 },
 "nbformat": 4,
 "nbformat_minor": 5
}
