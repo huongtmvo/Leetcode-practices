{
 "cells": [
  {
   "cell_type": "markdown",
   "id": "0230e824",
   "metadata": {},
   "source": [
    "https://leetcode.com/problems/the-kth-factor-of-n/"
   ]
  },
  {
   "cell_type": "code",
   "execution_count": 12,
   "id": "24e05c40",
   "metadata": {},
   "outputs": [],
   "source": [
    "class Solution:\n",
    "    \n",
    "    # Solution 1: This solution will only work for small n, since it is inefficient\n",
    "    def kthFactor(self, n: int, k: int) -> int:\n",
    "        factor = []\n",
    "        for i in range(1, n+1):\n",
    "            if n % i == 0:\n",
    "                factor.append(i)\n",
    "        \n",
    "        if len(factor) < k:\n",
    "            return - 1\n",
    "        return factor[k-1]\n",
    "    \n",
    "    # Solution 2: We only need to check divisor of n from 1 to sqrt(n). Since if a * b = n, a or b <= sqrt(n)\n",
    "    def kthFactor(self, n, k):\n",
    "        f1, f2 = [], []\n",
    "        for i in range(1, int(sqrt(n)) + 1):\n",
    "            if n % i == 0:\n",
    "                f1.append(i)\n",
    "                f2.append(n//i)\n",
    "        # If i^2 = n then we have to check the last number in f1 and last number in f2\n",
    "        if f1[-1] == f2[-1]:\n",
    "            f2.pop()\n",
    "        \n",
    "        f1.extend(f2[::-1])    \n",
    "        return -1 if len(f1) < k else f1[k-1]\n",
    "    \n",
    "    def kthFactor(self, n, k )\n",
    "        factors = []\n",
    "        for i in range(1, int(sqrt(n))+1):\n",
    "            if n % i == 0:\n",
    "                factors.append(i)\n",
    "                if i != n//i:\n",
    "                    factors.append(n//i)\n",
    "        factors.sort()\n",
    "        if len(factors) < k:\n",
    "            return -1\n",
    "        return factors[k-1]"
   ]
  },
  {
   "cell_type": "code",
   "execution_count": null,
   "id": "2e9c4bdb",
   "metadata": {},
   "outputs": [],
   "source": [
    "    "
   ]
  }
 ],
 "metadata": {
  "kernelspec": {
   "display_name": "Python 3",
   "language": "python",
   "name": "python3"
  },
  "language_info": {
   "codemirror_mode": {
    "name": "ipython",
    "version": 3
   },
   "file_extension": ".py",
   "mimetype": "text/x-python",
   "name": "python",
   "nbconvert_exporter": "python",
   "pygments_lexer": "ipython3",
   "version": "3.7.4"
  }
 },
 "nbformat": 4,
 "nbformat_minor": 5
}
