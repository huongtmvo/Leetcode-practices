{
 "cells": [
  {
   "cell_type": "markdown",
   "id": "7ec8ed39",
   "metadata": {},
   "source": [
    "### 950. Reveal Cards In Increasing Order"
   ]
  },
  {
   "cell_type": "markdown",
   "id": "5d35760f",
   "metadata": {},
   "source": [
    "You are given an integer array deck. There is a deck of cards where every card has a unique integer. The integer on the ith card is deck[i].\n",
    "\n",
    "You can order the deck in any order you want. Initially, all the cards start face down (unrevealed) in one deck.\n",
    "\n",
    "You will do the following steps repeatedly until all cards are revealed:\n",
    "\n",
    "Take the top card of the deck, reveal it, and take it out of the deck.\n",
    "If there are still cards in the deck then put the next top card of the deck at the bottom of the deck.\n",
    "If there are still unrevealed cards, go back to step 1. Otherwise, stop.\n",
    "Return an ordering of the deck that would reveal the cards in increasing order.\n",
    "\n",
    "Note that the first entry in the answer is considered to be the top of the deck.\n",
    "\n",
    " \n",
    "\n",
    "Example 1:\n",
    "\n",
    "Input: deck = [17,13,11,2,3,5,7]\n",
    "Output: [2,13,3,11,5,17,7]\n",
    "\n",
    "Explanation: \n",
    "\n",
    "We get the deck in the order [17,13,11,2,3,5,7] (this order does not matter), and reorder it.\n",
    "After reordering, the deck starts as [2,13,3,11,5,17,7], where 2 is the top of the deck.\n",
    "We reveal 2, and move 13 to the bottom.  The deck is now [3,11,5,17,7,13].\n",
    "We reveal 3, and move 11 to the bottom.  The deck is now [5,17,7,13,11].\n",
    "We reveal 5, and move 17 to the bottom.  The deck is now [7,13,11,17].\n",
    "We reveal 7, and move 13 to the bottom.  The deck is now [11,17,13].\n",
    "We reveal 11, and move 17 to the bottom.  The deck is now [13,17].\n",
    "We reveal 13, and move 17 to the bottom.  The deck is now [17].\n",
    "We reveal 17.\n",
    "Since all the cards revealed are in increasing order, the answer is correct.\n",
    "\n",
    "Example 2:\n",
    "\n",
    "Input: deck = [1,1000]\n",
    "Output: [1,1000]\n",
    " \n",
    "\n",
    "Constraints:\n",
    "\n",
    "1 <= deck.length <= 1000\n",
    "1 <= deck[i] <= 106\n",
    "All the values of deck are unique."
   ]
  },
  {
   "cell_type": "code",
   "execution_count": null,
   "id": "367e98d1",
   "metadata": {},
   "outputs": [],
   "source": [
    "class Solution:\n",
    "    def deckRevealedIncreasing(self, deck: List[int]) -> List[int]:\n",
    "        "
   ]
  },
  {
   "cell_type": "code",
   "execution_count": null,
   "id": "f1da9521",
   "metadata": {},
   "outputs": [],
   "source": [
    "deck = [17,13,11,2,3,5,7]\n"
   ]
  },
  {
   "cell_type": "code",
   "execution_count": null,
   "id": "7927652e",
   "metadata": {},
   "outputs": [],
   "source": [
    "deck = [1,1000]\n"
   ]
  }
 ],
 "metadata": {
  "kernelspec": {
   "display_name": "Python 3",
   "language": "python",
   "name": "python3"
  },
  "language_info": {
   "codemirror_mode": {
    "name": "ipython",
    "version": 3
   },
   "file_extension": ".py",
   "mimetype": "text/x-python",
   "name": "python",
   "nbconvert_exporter": "python",
   "pygments_lexer": "ipython3",
   "version": "3.7.4"
  }
 },
 "nbformat": 4,
 "nbformat_minor": 5
}
