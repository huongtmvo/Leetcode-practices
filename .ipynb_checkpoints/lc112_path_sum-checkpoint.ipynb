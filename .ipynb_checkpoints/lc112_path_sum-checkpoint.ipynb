{
 "cells": [
  {
   "cell_type": "markdown",
   "id": "2e614702",
   "metadata": {},
   "source": [
    "https://leetcode.com/problems/path-sum/"
   ]
  },
  {
   "cell_type": "code",
   "execution_count": 1,
   "id": "827af41d",
   "metadata": {},
   "outputs": [],
   "source": [
    "class TreeNode:\n",
    "    def __init__(self, val=0, left=None, right=None):\n",
    "        self.val = val\n",
    "        self.left = left\n",
    "        self.right = right"
   ]
  },
  {
   "cell_type": "code",
   "execution_count": 4,
   "id": "6afe853f",
   "metadata": {},
   "outputs": [],
   "source": [
    "from typing import Optional\n",
    "class Solution: \n",
    "    # Solution 1: \n",
    "     def hasPathSum(self, root: Optional[TreeNode], targetSum: int) -> bool:\n",
    "        if not root:\n",
    "            return False\n",
    "        targetSum -= root.val\n",
    "        if not root.left and not root.right:\n",
    "            return targetSum == 0\n",
    "        return self.hasPathSum(root.left, targetSum) or self.hasPathSum(root.right, targetSum)\n",
    "# Note: visit each node once-> O(N) time complexity\n",
    "# O(Height) space complexity (worst case is O(N) and best case is O(logN))\n",
    "    \n",
    "    \n",
    "    # Solution 2: \n",
    "    def hasPathSum(self, root, targetSum):\n",
    "        if not root:\n",
    "            return False\n",
    "        stack = [(root, targetSum - root.val)]\n",
    "        while stack: \n",
    "            node, cur_sum = stack.pop()\n",
    "            if not node.left and not node.right and cur_sum == 0:\n",
    "                return True\n",
    "            if node.left:\n",
    "                stack.append((node.left, cur_sum - node.left.val))\n",
    "            if node.right:\n",
    "                stack.append((node.right, cur_sum - node.right.val))\n",
    "        return False\n",
    "            "
   ]
  }
 ],
 "metadata": {
  "kernelspec": {
   "display_name": "Python 3",
   "language": "python",
   "name": "python3"
  },
  "language_info": {
   "codemirror_mode": {
    "name": "ipython",
    "version": 3
   },
   "file_extension": ".py",
   "mimetype": "text/x-python",
   "name": "python",
   "nbconvert_exporter": "python",
   "pygments_lexer": "ipython3",
   "version": "3.7.4"
  }
 },
 "nbformat": 4,
 "nbformat_minor": 5
}
