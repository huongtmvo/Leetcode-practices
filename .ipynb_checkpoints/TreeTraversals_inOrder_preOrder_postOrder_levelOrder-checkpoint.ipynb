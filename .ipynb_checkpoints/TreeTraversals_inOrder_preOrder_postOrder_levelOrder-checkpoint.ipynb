{
 "cells": [
  {
   "cell_type": "code",
   "execution_count": 3,
   "id": "eb1678f6",
   "metadata": {},
   "outputs": [],
   "source": [
    "class TreeNode:\n",
    "    def __init__(self, val=0, left=None, right=None):\n",
    "        self.val = val\n",
    "        self.left = left\n",
    "        self.right = right"
   ]
  },
  {
   "cell_type": "code",
   "execution_count": 7,
   "id": "e2633402",
   "metadata": {},
   "outputs": [],
   "source": [
    "root= TreeNode(1, TreeNode(3,TreeNode(2),TreeNode(6)), TreeNode(4,TreeNode(5), TreeNode(7)))"
   ]
  },
  {
   "cell_type": "code",
   "execution_count": 8,
   "id": "d2b033b5",
   "metadata": {},
   "outputs": [],
   "source": [
    "# In order traversal using recursive function\n",
    "def inOrder(root, res):\n",
    "    if root:\n",
    "        inOrder(root.left, res)\n",
    "        res.append(root.val)\n",
    "        inOrder(root.right, res)\n",
    "def inOrderTraversal1(root):\n",
    "    res = []\n",
    "    inOrder(root, res)\n",
    "    return res\n",
    "\n",
    "# in order traversal using stacks\n",
    "def inOrderTraversal2(root):\n",
    "    res, stack = [], []\n",
    "    while True:\n",
    "        while root:\n",
    "            stack.append(root)\n",
    "            root = root.left\n",
    "        if len(stack) == 0:\n",
    "            return res\n",
    "        node = stack.pop()\n",
    "        if node:\n",
    "            res.append(node.val)\n",
    "            root = node.right\n",
    "# O(N) running time and O(N) space"
   ]
  },
  {
   "cell_type": "code",
   "execution_count": 9,
   "id": "d094c809",
   "metadata": {},
   "outputs": [
    {
     "data": {
      "text/plain": [
       "[2, 3, 6, 1, 5, 4, 7]"
      ]
     },
     "execution_count": 9,
     "metadata": {},
     "output_type": "execute_result"
    }
   ],
   "source": [
    "inOrderTraversal1(root)"
   ]
  },
  {
   "cell_type": "code",
   "execution_count": 10,
   "id": "e4b67ba6",
   "metadata": {},
   "outputs": [
    {
     "data": {
      "text/plain": [
       "[2, 3, 6, 1, 5, 4, 7]"
      ]
     },
     "execution_count": 10,
     "metadata": {},
     "output_type": "execute_result"
    }
   ],
   "source": [
    "inOrderTraversal2(root)"
   ]
  },
  {
   "cell_type": "code",
   "execution_count": 15,
   "id": "b78412b3",
   "metadata": {},
   "outputs": [],
   "source": [
    "# Preorder traversal using recursive function\n",
    "def preOrder(root, res):\n",
    "    if root:\n",
    "        res.append(root.val)\n",
    "        preOrder(root.left, res)\n",
    "        preOrder(root.right, res)\n",
    "    \n",
    "def preOrderTraversal1(root):\n",
    "    res = []\n",
    "    preOrder(root, res)\n",
    "    return res \n",
    "\n",
    "# PreOrder Traversal using stacks\n",
    "def preOrderTraversal2(root):\n",
    "    res, stack = [], [root]\n",
    "    while stack:\n",
    "        node = stack.pop()\n",
    "        if node:\n",
    "            res.append(node.val)\n",
    "            stack.append(node.right)\n",
    "            stack.append(node.left)\n",
    "    return res"
   ]
  },
  {
   "cell_type": "code",
   "execution_count": 13,
   "id": "b0b92c99",
   "metadata": {},
   "outputs": [
    {
     "data": {
      "text/plain": [
       "[1, 3, 2, 6, 4, 5, 7]"
      ]
     },
     "execution_count": 13,
     "metadata": {},
     "output_type": "execute_result"
    }
   ],
   "source": [
    "preOrderTraversal1(root)"
   ]
  },
  {
   "cell_type": "code",
   "execution_count": 16,
   "id": "dbd3b4e3",
   "metadata": {},
   "outputs": [
    {
     "data": {
      "text/plain": [
       "[1, 3, 2, 6, 4, 5, 7]"
      ]
     },
     "execution_count": 16,
     "metadata": {},
     "output_type": "execute_result"
    }
   ],
   "source": [
    "preOrderTraversal2(root)"
   ]
  },
  {
   "cell_type": "code",
   "execution_count": 24,
   "id": "e18294ab",
   "metadata": {},
   "outputs": [],
   "source": [
    "# PostOrderTraversal using recursive function:\n",
    "def postOrder(root, res):\n",
    "    if root:\n",
    "        postOrder(root.left, res)\n",
    "        postOrder(root.right, res)\n",
    "        res.append(root.val)\n",
    "def postOrderTraversal1(root):\n",
    "    res = []\n",
    "    postOrder(root, res)\n",
    "    return res\n",
    "   \n",
    "# Post Order Traversal usings stacks\n",
    "# Solution2; Use stacks, similar to preOrder solution but append left before right to the stack and then reverse\n",
    "def postOrderTraversal2(root):\n",
    "    res, stack = [], [root]\n",
    "    while stack:\n",
    "        node = stack.pop()\n",
    "        if node:\n",
    "            res.append(node.val)\n",
    "            stack.append(node.left)\n",
    "            stack.append(node.right)\n",
    "    return res[::-1]"
   ]
  },
  {
   "cell_type": "code",
   "execution_count": 21,
   "id": "ae87f089",
   "metadata": {},
   "outputs": [
    {
     "data": {
      "text/plain": [
       "[2, 6, 3, 5, 7, 4, 1]"
      ]
     },
     "execution_count": 21,
     "metadata": {},
     "output_type": "execute_result"
    }
   ],
   "source": [
    "postOrderTraversal1(root)"
   ]
  },
  {
   "cell_type": "code",
   "execution_count": 25,
   "id": "70e7c491",
   "metadata": {},
   "outputs": [
    {
     "data": {
      "text/plain": [
       "[2, 6, 3, 5, 7, 4, 1]"
      ]
     },
     "execution_count": 25,
     "metadata": {},
     "output_type": "execute_result"
    }
   ],
   "source": [
    "postOrderTraversal2(root)"
   ]
  },
  {
   "cell_type": "code",
   "execution_count": 33,
   "id": "9b3a9ed7",
   "metadata": {},
   "outputs": [],
   "source": [
    "# LeverOrder Traversal\n",
    "from collections import deque\n",
    "def levelOrderTraversal(root):\n",
    "    q = deque()\n",
    "    res = []\n",
    "    \n",
    "    if root:\n",
    "        q.append(root)\n",
    "    while q:\n",
    "        level = []\n",
    "        for i in range(len(q)):\n",
    "            node = q.popleft()\n",
    "            if node: \n",
    "                level.append(node.val)\n",
    "            if node.left:\n",
    "                q.append(node.left)\n",
    "            if node.right:\n",
    "                q.append(node.right)\n",
    "        res.append(level)\n",
    "    return res"
   ]
  },
  {
   "cell_type": "code",
   "execution_count": 34,
   "id": "f8433d4b",
   "metadata": {},
   "outputs": [
    {
     "data": {
      "text/plain": [
       "[[1], [3, 4], [2, 6, 5, 7]]"
      ]
     },
     "execution_count": 34,
     "metadata": {},
     "output_type": "execute_result"
    }
   ],
   "source": [
    "\n",
    "def inOrder(root, m):\n",
    "    if root:\n",
    "        inOrder(root.left)\n",
    "        # res.append(root.val)\n",
    "        print(root.val)\n",
    "        if root.val > m[0]:\n",
    "            m[0] = root.val\n",
    "        inOrder(root.right)\n",
    "        \n",
    "def inOrderTraversal1(root):\n",
    "    m = [-float('inf')]\n",
    "    inOrder(root, m)\n",
    "    return m\n",
    "\n",
    "\n",
    "\n",
    "class TEST:\n",
    "    def inOrder(self, root):\n",
    "        if root:\n",
    "            inOrder(root.left)\n",
    "            # res.append(root.val)\n",
    "            print(root.val)\n",
    "            if root.val > self.m:\n",
    "                self.m = root.val\n",
    "            inOrder(root.right)\n",
    "\n",
    "    def inOrderTraversal1(self, root):\n",
    "        self.m = -float('inf')\n",
    "        inOrder(root)\n",
    "        return m\n",
    "    \n",
    "    \n",
    "    \n",
    "def inOrderTraversal1(root):\n",
    "    m = -float('inf')\n",
    "    def inOrder(root):\n",
    "        if root:\n",
    "            inOrder(root.left)\n",
    "            # res.append(root.val)\n",
    "            print(root.val)\n",
    "            if root.val > m:\n",
    "                m = root.val\n",
    "            inOrder(root.right)\n",
    "        \n",
    "    inOrder(root)\n",
    "    return m\n",
    "    "
   ]
  }
 ],
 "metadata": {
  "kernelspec": {
   "display_name": "Python 3",
   "language": "python",
   "name": "python3"
  },
  "language_info": {
   "codemirror_mode": {
    "name": "ipython",
    "version": 3
   },
   "file_extension": ".py",
   "mimetype": "text/x-python",
   "name": "python",
   "nbconvert_exporter": "python",
   "pygments_lexer": "ipython3",
   "version": "3.7.4"
  }
 },
 "nbformat": 4,
 "nbformat_minor": 5
}
