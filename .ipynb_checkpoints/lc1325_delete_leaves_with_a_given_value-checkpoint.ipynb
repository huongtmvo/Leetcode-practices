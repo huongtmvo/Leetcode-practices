{
 "cells": [
  {
   "cell_type": "markdown",
   "id": "93564f7a",
   "metadata": {},
   "source": [
    "https://leetcode.com/problems/delete-leaves-with-a-given-value/"
   ]
  },
  {
   "cell_type": "code",
   "execution_count": null,
   "id": "f38b05fc",
   "metadata": {},
   "outputs": [],
   "source": [
    "# Definition for a binary tree node.\n",
    "class TreeNode:\n",
    "    def __init__(self, val=0, left=None, right=None):\n",
    "        self.val = val\n",
    "        self.left = left\n",
    "        self.right = right"
   ]
  },
  {
   "cell_type": "code",
   "execution_count": null,
   "id": "5590a9ef",
   "metadata": {},
   "outputs": [],
   "source": [
    "class Solution:\n",
    "    def removeLeafNodes(self, root: TreeNode, target: int) -> TreeNode:\n",
    "        if root:\n",
    "            root.left = self.removeLeafNodes(root.left, target)\n",
    "            root.right = self.removeLeafNodes(root.right, target) \n",
    "            if root.val == target and not root.left and not root.right:\n",
    "                root = None\n",
    "        return root "
   ]
  }
 ],
 "metadata": {
  "kernelspec": {
   "display_name": "Python 3",
   "language": "python",
   "name": "python3"
  },
  "language_info": {
   "codemirror_mode": {
    "name": "ipython",
    "version": 3
   },
   "file_extension": ".py",
   "mimetype": "text/x-python",
   "name": "python",
   "nbconvert_exporter": "python",
   "pygments_lexer": "ipython3",
   "version": "3.7.4"
  }
 },
 "nbformat": 4,
 "nbformat_minor": 5
}
