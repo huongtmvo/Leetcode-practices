{
 "cells": [
  {
   "cell_type": "markdown",
   "id": "096d0dd8",
   "metadata": {},
   "source": [
    "https://leetcode.com/problems/binary-search-tree-to-greater-sum-tree/"
   ]
  },
  {
   "cell_type": "code",
   "execution_count": null,
   "id": "8820d8ef",
   "metadata": {},
   "outputs": [],
   "source": [
    "class TreeNode:\n",
    "    def __init__(self, val=0, left=None, right=None):\n",
    "        self.val = val\n",
    "        self.left = left\n",
    "        self.right = right"
   ]
  },
  {
   "cell_type": "code",
   "execution_count": null,
   "id": "f8d24a80",
   "metadata": {},
   "outputs": [],
   "source": [
    "class Solution(object):\n",
    "    def bstToGst(self, root):\n",
    "        self.cur = 0\n",
    "        \n",
    "        def dfs(node):\n",
    "            if not node:\n",
    "                return\n",
    "            dfs(node.right)\n",
    "            self.cur += node.val\n",
    "            node.val = self.cur\n",
    "            dfs(node.left)\n",
    "            \n",
    "        dfs(root)\n",
    "        return root"
   ]
  }
 ],
 "metadata": {
  "kernelspec": {
   "display_name": "Python 3",
   "language": "python",
   "name": "python3"
  },
  "language_info": {
   "codemirror_mode": {
    "name": "ipython",
    "version": 3
   },
   "file_extension": ".py",
   "mimetype": "text/x-python",
   "name": "python",
   "nbconvert_exporter": "python",
   "pygments_lexer": "ipython3",
   "version": "3.7.4"
  }
 },
 "nbformat": 4,
 "nbformat_minor": 5
}
