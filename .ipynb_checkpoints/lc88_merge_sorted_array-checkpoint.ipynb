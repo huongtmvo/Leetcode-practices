{
 "cells": [
  {
   "cell_type": "markdown",
   "id": "b4d59e40",
   "metadata": {},
   "source": [
    "### 88. Merge Sorted Array"
   ]
  },
  {
   "cell_type": "code",
   "execution_count": 12,
   "id": "bfa3c658",
   "metadata": {},
   "outputs": [],
   "source": [
    "from typing import List\n",
    "class Solution:\n",
    "    # Solution 1: Migrate nums2 to nums1 and then sort it\n",
    "    # Time: O((N+M)log(N+M))\n",
    "    # Space: O(1)\n",
    "    def merge(self, nums1: List[int], m: int, nums2: List[int], n: int) -> None:\n",
    "        \"\"\"\n",
    "        Do not return anything, modify nums1 in-place instead.\n",
    "        \"\"\"\n",
    "        idx = 0\n",
    "        for i in range(m, m+n):\n",
    "            nums1[i] = nums2[idx]\n",
    "            idx += 1\n",
    "        nums1.sort()\n",
    "        return nums1\n",
    "   \n",
    "    # Solution 2: Faster\n",
    "    # Time: O(N+M)\n",
    "    # Space: O(1)\n",
    "    def merge2(self, nums1: List[int], m: int, nums2: List[int], n: int) -> None:\n",
    "        while m > 0 and n > 0:\n",
    "            if nums1[m-1] >= nums2[n-1]:\n",
    "                nums1[m+n-1] = nums1[m-1]\n",
    "                m -= 1\n",
    "            else:\n",
    "                nums1[m+n-1] = nums2[n-1]\n",
    "                n -= 1\n",
    "            print(nums1)\n",
    "        if n > 0:\n",
    "            nums1[:n] = nums2[:n]\n",
    "        return nums1\n",
    "                "
   ]
  },
  {
   "cell_type": "code",
   "execution_count": 10,
   "id": "e22da9a4",
   "metadata": {},
   "outputs": [
    {
     "data": {
      "text/plain": [
       "[1, 2, 2, 3, 5, 6]"
      ]
     },
     "execution_count": 10,
     "metadata": {},
     "output_type": "execute_result"
    }
   ],
   "source": [
    "nums1 = [1,2,3,0,0,0]; m = 3; nums2 = [2,5,6]; n = 3\n",
    "Solution().merge2(nums1, m, nums2, n)"
   ]
  },
  {
   "cell_type": "code",
   "execution_count": 15,
   "id": "770c664e",
   "metadata": {},
   "outputs": [
    {
     "name": "stdout",
     "output_type": "stream",
     "text": [
      "[2, 4, 7, 0, 7]\n",
      "[2, 4, 7, 6, 7]\n",
      "[2, 4, 4, 6, 7]\n",
      "[2, 2, 4, 6, 7]\n"
     ]
    },
    {
     "data": {
      "text/plain": [
       "[1, 2, 4, 6, 7]"
      ]
     },
     "execution_count": 15,
     "metadata": {},
     "output_type": "execute_result"
    }
   ],
   "source": [
    "nums1 = [2,4,7,0,0]; m = 3; nums2 = [1,6]; n = 2\n",
    "Solution().merge2(nums1, m, nums2 ,n)"
   ]
  },
  {
   "cell_type": "code",
   "execution_count": 16,
   "id": "8625d456",
   "metadata": {},
   "outputs": [
    {
     "name": "stdout",
     "output_type": "stream",
     "text": [
      "[2, 4, 7, 0, 7]\n",
      "[2, 4, 7, 6, 7]\n",
      "[2, 4, 5, 6, 7]\n"
     ]
    },
    {
     "data": {
      "text/plain": [
       "[2, 4, 5, 6, 7]"
      ]
     },
     "execution_count": 16,
     "metadata": {},
     "output_type": "execute_result"
    }
   ],
   "source": [
    "nums1 = [2,4,7,0,0]; m = 3; nums2 = [5,6]; n = 2\n",
    "Solution().merge2(nums1, m, nums2, n)"
   ]
  }
 ],
 "metadata": {
  "kernelspec": {
   "display_name": "Python 3",
   "language": "python",
   "name": "python3"
  },
  "language_info": {
   "codemirror_mode": {
    "name": "ipython",
    "version": 3
   },
   "file_extension": ".py",
   "mimetype": "text/x-python",
   "name": "python",
   "nbconvert_exporter": "python",
   "pygments_lexer": "ipython3",
   "version": "3.7.4"
  }
 },
 "nbformat": 4,
 "nbformat_minor": 5
}
