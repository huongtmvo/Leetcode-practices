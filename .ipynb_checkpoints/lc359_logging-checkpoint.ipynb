{
 "cells": [
  {
   "cell_type": "markdown",
   "id": "8fa8711d",
   "metadata": {},
   "source": [
    "359. Logger Rate Limiter"
   ]
  },
  {
   "cell_type": "markdown",
   "id": "f7cb3163",
   "metadata": {},
   "source": [
    "Design a logger system that receives a stream of messages along with their timestamps. Each unique message should only be printed at most every 10 seconds (i.e. a message printed at timestamp t will prevent other identical messages from being printed until timestamp t + 10).\n",
    "\n",
    "All messages will come in chronological order. Several messages may arrive at the same timestamp.\n",
    "\n",
    "Implement the Logger class:\n",
    "\n",
    "Logger() Initializes the logger object.\n",
    "bool shouldPrintMessage(int timestamp, string message) Returns true if the message should be printed in the given timestamp, otherwise returns false.\n"
   ]
  },
  {
   "cell_type": "markdown",
   "id": "c0609fe6",
   "metadata": {},
   "source": [
    "Input:\n",
    "\n",
    "[\"Logger\", \"shouldPrintMessage\", \"shouldPrintMessage\", \"shouldPrintMessage\", \"shouldPrintMessage\", \"shouldPrintMessage\", \"shouldPrintMessage\"]\n",
    "[[], [1, \"foo\"], [2, \"bar\"], [3, \"foo\"], [8, \"bar\"], [10, \"foo\"], [11, \"foo\"]]\n",
    "\n",
    "Output:\n",
    "\n",
    "[null, true, true, false, false, false, true]\n",
    "\n",
    "Explanation:\n",
    "\n",
    "Logger logger = new Logger();\n",
    "\n",
    "logger.shouldPrintMessage(1, \"foo\");  // return true, next allowed timestamp for \"foo\" is 1 + 10 = 11\n",
    "\n",
    "logger.shouldPrintMessage(2, \"bar\");  // return true, next allowed timestamp for \"bar\" is 2 + 10 = 12\n",
    "\n",
    "logger.shouldPrintMessage(3, \"foo\");  // 3 < 11, return false\n",
    "\n",
    "logger.shouldPrintMessage(8, \"bar\");  // 8 < 12, return false\n",
    "\n",
    "logger.shouldPrintMessage(10, \"foo\"); // 10 < 11, return false\n",
    "\n",
    "logger.shouldPrintMessage(11, \"foo\"); // 11 >= 11, return true, next allowed timestamp for \"foo\" is 11 + 10 = 21"
   ]
  },
  {
   "cell_type": "markdown",
   "id": "2bc1cfc1",
   "metadata": {},
   "source": [
    "Constraints:\n",
    "\n",
    "0 <= timestamp <= 109\n",
    "\n",
    "Every timestamp will be passed in non-decreasing order (chronological order).\n",
    "\n",
    "1 <= message.length <= 30\n",
    "\n",
    "At most 104 calls will be made to shouldPrintMessage."
   ]
  },
  {
   "cell_type": "code",
   "execution_count": 1,
   "id": "1a9f938e",
   "metadata": {},
   "outputs": [
    {
     "ename": "IndentationError",
     "evalue": "expected an indented block (<ipython-input-1-2fa7019735db>, line 6)",
     "output_type": "error",
     "traceback": [
      "\u001b[0;36m  File \u001b[0;32m\"<ipython-input-1-2fa7019735db>\"\u001b[0;36m, line \u001b[0;32m6\u001b[0m\n\u001b[0;31m    def shouldPrintMessage(self, timestamp: int, message: str) -> bool:\u001b[0m\n\u001b[0m      ^\u001b[0m\n\u001b[0;31mIndentationError\u001b[0m\u001b[0;31m:\u001b[0m expected an indented block\n"
     ]
    }
   ],
   "source": [
    "class Logger:\n",
    "\n",
    "    def __init__(self):\n",
    "        \n",
    "\n",
    "    def shouldPrintMessage(self, timestamp: int, message: str) -> bool:\n",
    "        \n",
    "\n",
    "\n",
    "# Your Logger object will be instantiated and called as such:\n",
    "# obj = Logger()\n",
    "# param_1 = obj.shouldPrintMessage(timestamp,message)"
   ]
  },
  {
   "cell_type": "code",
   "execution_count": null,
   "id": "15b0b13d",
   "metadata": {},
   "outputs": [],
   "source": []
  }
 ],
 "metadata": {
  "kernelspec": {
   "display_name": "Python 3",
   "language": "python",
   "name": "python3"
  },
  "language_info": {
   "codemirror_mode": {
    "name": "ipython",
    "version": 3
   },
   "file_extension": ".py",
   "mimetype": "text/x-python",
   "name": "python",
   "nbconvert_exporter": "python",
   "pygments_lexer": "ipython3",
   "version": "3.7.4"
  }
 },
 "nbformat": 4,
 "nbformat_minor": 5
}
