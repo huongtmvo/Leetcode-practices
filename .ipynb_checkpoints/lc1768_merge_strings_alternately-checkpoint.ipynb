{
 "cells": [
  {
   "cell_type": "markdown",
   "id": "239197f1",
   "metadata": {},
   "source": [
    "https://leetcode.com/problems/merge-strings-alternately/"
   ]
  },
  {
   "cell_type": "code",
   "execution_count": 27,
   "id": "b5d13f13",
   "metadata": {},
   "outputs": [],
   "source": [
    "class Solution:\n",
    "    def mergeAlternately2(self, word1: str, word2: str) -> str:\n",
    "        res = []\n",
    "        n = min(len(word1), len(word2))\n",
    "    \n",
    "        for i in range(n):\n",
    "            res.append(word1[i])\n",
    "            res.append(word2[i])\n",
    "        return ''.join(res) + word1[n:len(word1)] + word2[n:len(word2)]\n",
    "            \n",
    "#         if len(word1) > n:\n",
    "#             res.extend(word1[n:len(word1)])\n",
    "#         else:\n",
    "#             res.extend(word2[n:len(word2)])  \n",
    "#         return ''.join(res)\n",
    "    def mergeAlternately1(self, word1: str, word2: str) -> str:\n",
    "        n = min(len(word1), len(word2))\n",
    "        return ''.join([x+y for x,y in zip(word1,word2)]) + word1[n:len(word1)] + word2[n:len(word2)]\n",
    "    \n",
    "    from itertools import zip_longest\n",
    "    def mergeAlternately(self, word1: str, word2: str) -> str:\n",
    "        return ''.join([x+y for x,y in zip_longest(word1, word2, fillvalue='')])\n"
   ]
  },
  {
   "cell_type": "code",
   "execution_count": 28,
   "id": "e32ef72d",
   "metadata": {},
   "outputs": [
    {
     "data": {
      "text/plain": [
       "'apbqrs'"
      ]
     },
     "execution_count": 28,
     "metadata": {},
     "output_type": "execute_result"
    }
   ],
   "source": [
    "word1 = \"ab\"; word2 = \"pqrs\"\n",
    "Solution().mergeAlternately(word1,word2)"
   ]
  },
  {
   "cell_type": "code",
   "execution_count": 29,
   "id": "2f33b497",
   "metadata": {},
   "outputs": [
    {
     "data": {
      "text/plain": [
       "'apbq'"
      ]
     },
     "execution_count": 29,
     "metadata": {},
     "output_type": "execute_result"
    }
   ],
   "source": [
    "''.join([x + y for x, y in zip(\"ab\", \"pqrs\")])"
   ]
  },
  {
   "cell_type": "code",
   "execution_count": 30,
   "id": "21d2e336",
   "metadata": {},
   "outputs": [
    {
     "data": {
      "text/plain": [
       "[('a', 'p'), ('b', 'q')]"
      ]
     },
     "execution_count": 30,
     "metadata": {},
     "output_type": "execute_result"
    }
   ],
   "source": [
    "list(zip(word1,word2))"
   ]
  },
  {
   "cell_type": "code",
   "execution_count": 31,
   "id": "4d07530d",
   "metadata": {},
   "outputs": [
    {
     "data": {
      "text/plain": [
       "[('a', 'p'), ('b', 'q'), ('z', 'r'), ('z', 's')]"
      ]
     },
     "execution_count": 31,
     "metadata": {},
     "output_type": "execute_result"
    }
   ],
   "source": [
    "from itertools import zip_longest\n",
    "list(zip_longest(word1,word2,fillvalue = 'z'))"
   ]
  },
  {
   "cell_type": "code",
   "execution_count": 32,
   "id": "6f4c5f7a",
   "metadata": {},
   "outputs": [
    {
     "name": "stdout",
     "output_type": "stream",
     "text": [
      "3.7.4 (v3.7.4:e09359112e, Jul  8 2019, 14:54:52) \n",
      "[Clang 6.0 (clang-600.0.57)]\n"
     ]
    }
   ],
   "source": [
    "import sys\n",
    "print(sys.version)"
   ]
  },
  {
   "cell_type": "code",
   "execution_count": 33,
   "id": "a326493d",
   "metadata": {},
   "outputs": [
    {
     "data": {
      "text/plain": [
       "itertools.zip_longest"
      ]
     },
     "execution_count": 33,
     "metadata": {},
     "output_type": "execute_result"
    }
   ],
   "source": [
    "from itertools import zip_longest\n",
    "zip_longest"
   ]
  },
  {
   "cell_type": "code",
   "execution_count": null,
   "id": "603e6c90",
   "metadata": {},
   "outputs": [],
   "source": []
  }
 ],
 "metadata": {
  "kernelspec": {
   "display_name": "Python 3",
   "language": "python",
   "name": "python3"
  },
  "language_info": {
   "codemirror_mode": {
    "name": "ipython",
    "version": 3
   },
   "file_extension": ".py",
   "mimetype": "text/x-python",
   "name": "python",
   "nbconvert_exporter": "python",
   "pygments_lexer": "ipython3",
   "version": "3.7.4"
  }
 },
 "nbformat": 4,
 "nbformat_minor": 5
}
