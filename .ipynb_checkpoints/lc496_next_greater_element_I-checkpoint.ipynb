{
 "cells": [
  {
   "cell_type": "markdown",
   "id": "b654b055",
   "metadata": {},
   "source": [
    "### 496. Next Greater Element I\n",
    "\n",
    "The next greater element of some element x in an array is the first greater element that is to the right of x in the same array.\n",
    "\n",
    "You are given two distinct 0-indexed integer arrays nums1 and nums2, where nums1 is a subset of nums2.\n",
    "\n",
    "For each 0 <= i < nums1.length, find the index j such that nums1[i] == nums2[j] and determine the next greater element of nums2[j] in nums2. If there is no next greater element, then the answer for this query is -1.\n",
    "\n",
    "Return an array ans of length nums1.length such that ans[i] is the next greater element as described above.\n",
    "\n",
    " \n",
    "\n",
    "Example 1:\n",
    "\n",
    "Input: nums1 = [4,1,2], nums2 = [1,3,4,2]\n",
    "Output: [-1,3,-1]\n",
    "Explanation: The next greater element for each value of nums1 is as follows:\n",
    "- 4 is underlined in nums2 = [1,3,4,2]. There is no next greater element, so the answer is -1.\n",
    "- 1 is underlined in nums2 = [1,3,4,2]. The next greater element is 3.\n",
    "- 2 is underlined in nums2 = [1,3,4,2]. There is no next greater element, so the answer is -1.\n",
    "\n",
    "Example 2:\n",
    "\n",
    "Input: nums1 = [2,4], nums2 = [1,2,3,4]\n",
    "Output: [3,-1]\n",
    "Explanation: The next greater element for each value of nums1 is as follows:\n",
    "- 2 is underlined in nums2 = [1,2,3,4]. The next greater element is 3.\n",
    "- 4 is underlined in nums2 = [1,2,3,4]. There is no next greater element, so the answer is -1.\n",
    " \n",
    "\n",
    "Constraints:\n",
    "\n",
    "1 <= nums1.length <= nums2.length <= 1000\n",
    "0 <= nums1[i], nums2[i] <= 104\n",
    "All integers in nums1 and nums2 are unique.\n",
    "All the integers of nums1 also appear in nums2.\n",
    " \n",
    "\n",
    "Follow up: Could you find an O(nums1.length + nums2.length) solution?"
   ]
  },
  {
   "cell_type": "code",
   "execution_count": 31,
   "id": "821788d7",
   "metadata": {},
   "outputs": [],
   "source": [
    "from typing import List\n",
    "class Solution:\n",
    "    # Solution 1: record the index of numbers in nums1 in nums2\n",
    "    # Find the next greater element in nums2 using created index\n",
    "    # Comment: Work but slow\n",
    "    # Complexity: \n",
    "    # Time: O(N*M)\n",
    "    # Space: O(N)\n",
    "    def nextGreaterElement(self, nums1: List[int], nums2: List[int]) -> List[int]:\n",
    "        index = []\n",
    "        for num in nums1: \n",
    "            for j in range(len(nums2)):\n",
    "                if num == nums2[j]:\n",
    "                    index.append(j)\n",
    "                    break\n",
    "        ans = []\n",
    "        for i in index:\n",
    "            for j in range(i+1, len(nums2)):\n",
    "                if nums2[j] > nums2[i]:\n",
    "                    ans.append(nums2[j])\n",
    "                    break    # When this break, it goes to the next i and break the j for loop\n",
    "            else:\n",
    "                ans.append(-1)   \n",
    "#             print(i, ans)\n",
    "        return ans     \n",
    "    \n",
    "\n",
    "    \n",
    "    # Solution 2: Use Stacks\n",
    "    def nextGreaterElement(self, nums1, nums2):\n",
    "        \n",
    "        \n",
    "    "
   ]
  },
  {
   "cell_type": "code",
   "execution_count": 32,
   "id": "4af09aa5",
   "metadata": {},
   "outputs": [
    {
     "data": {
      "text/plain": [
       "[-1, 3, -1]"
      ]
     },
     "execution_count": 32,
     "metadata": {},
     "output_type": "execute_result"
    }
   ],
   "source": [
    "nums1 = [4,1,2]; nums2 = [1,3,4,2]\n",
    "Solution().nextGreaterElement(nums1, nums2)"
   ]
  },
  {
   "cell_type": "code",
   "execution_count": 20,
   "id": "74994ea3",
   "metadata": {},
   "outputs": [
    {
     "data": {
      "text/plain": [
       "[3, -1]"
      ]
     },
     "execution_count": 20,
     "metadata": {},
     "output_type": "execute_result"
    }
   ],
   "source": [
    "nums1 = [2,4]; nums2 = [1,2,3,4]\n",
    "Solution().nextGreaterElement(nums1, nums2)"
   ]
  },
  {
   "cell_type": "code",
   "execution_count": null,
   "id": "1c20cf2f",
   "metadata": {},
   "outputs": [],
   "source": [
    "# Sizes of both arrays are small enough, so we just can do brute-force solution in O(m * n), \n",
    "# where n is size of nums2 and m is size of nums1.\n",
    "\n",
    "# If we want to solve this problem in O(n) time, it is not so simple. \n",
    "# The idea is to traverse nums2 and keep stack with decreasing order of elements. When we try to add element,\n",
    "# if it is less than last element of stack, we just add it. \n",
    "# If it is more than the last element, we extract it from stack and also put it \n",
    "# inside dic: correspondence between numbers and its next greater element: \n",
    "# we need it, because we have also nums1, which we need to traverse after. \n",
    "# Next, when we traverse nums1 we can use function .get(num, -1), \n",
    "# which will return answer for num if it is inside dictionary and -1 if it was not found.\n",
    "\n",
    "# Complexity\n",
    "# Time and space complexity is O(n + m).\n",
    "\n",
    "Code\n",
    "class Solution:\n",
    "    def nextGreaterElement(self, nums1, nums2):\n",
    "        dic, stack = {}, []\n",
    "        \n",
    "        for num in nums2[::-1]:\n",
    "            while stack and num > stack[-1]:\n",
    "                stack.pop()\n",
    "            if stack:\n",
    "                dic[num] = stack[-1]\n",
    "            stack.append(num)\n",
    "            \n",
    "        return [dic.get(num, -1) for num in nums1]"
   ]
  },
  {
   "cell_type": "code",
   "execution_count": 3,
   "id": "9f6194cd",
   "metadata": {},
   "outputs": [],
   "source": [
    "def nextGreaterElement(self, nums1: List[int], nums2: List[int]) -> List[int]:\n",
    "\tif not nums2:\n",
    "\t\treturn None\n",
    "\n",
    "\tmapping = {}\n",
    "\tresult = []\n",
    "\tstack = []\n",
    "\tstack.append(nums2[0])\n",
    "\n",
    "\tfor i in range(1, len(nums2)):\n",
    "\t\twhile stack and nums2[i] > stack[-1]:       # if stack is not empty, then compare it's last element with nums2[i]\n",
    "\t\t\tmapping[stack[-1]] = nums2[i]           # if the new element is greater than stack's top element, then add this to dictionary \n",
    "\t\t\tstack.pop()                             # since we found a pair for the top element, remove it.\n",
    "\t\tstack.append(nums2[i])                      # add the element nums2[i] to the stack because we need to find a number greater than this\n",
    "\n",
    "\tfor element in stack:                           # if there are elements in the stack for which we didn't find a greater number, map them to -1\n",
    "\t\tmapping[element] = -1\n",
    "\n",
    "\tfor i in range(len(nums1)):\n",
    "\t\tresult.append(mapping[nums1[i]])\n",
    "\treturn result"
   ]
  },
  {
   "cell_type": "code",
   "execution_count": null,
   "id": "7f41b2e9",
   "metadata": {},
   "outputs": [],
   "source": []
  }
 ],
 "metadata": {
  "kernelspec": {
   "display_name": "Python 3",
   "language": "python",
   "name": "python3"
  },
  "language_info": {
   "codemirror_mode": {
    "name": "ipython",
    "version": 3
   },
   "file_extension": ".py",
   "mimetype": "text/x-python",
   "name": "python",
   "nbconvert_exporter": "python",
   "pygments_lexer": "ipython3",
   "version": "3.7.4"
  }
 },
 "nbformat": 4,
 "nbformat_minor": 5
}
