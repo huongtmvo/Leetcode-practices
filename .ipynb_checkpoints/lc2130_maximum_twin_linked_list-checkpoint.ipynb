{
 "cells": [
  {
   "cell_type": "code",
   "execution_count": null,
   "id": "d9861635",
   "metadata": {},
   "outputs": [],
   "source": [
    "ready to push"
   ]
  },
  {
   "cell_type": "markdown",
   "id": "174d2f47",
   "metadata": {},
   "source": [
    "#### 2130. Maximum Twin Sum of a Linked List"
   ]
  },
  {
   "cell_type": "code",
   "execution_count": 12,
   "id": "9fa1a9a4",
   "metadata": {},
   "outputs": [],
   "source": [
    "# Definition for singly-linked list.\n",
    "class ListNode:\n",
    "    def __init__(self, val=0, next=None):\n",
    "        self.val = val\n",
    "        self.next = next\n",
    "        \n",
    "class Solution:\n",
    "    # Solution 1: add the node values to a list and then use 2 pointers to find maxSum\n",
    "    def pairSum(self, head) -> int:\n",
    "        cur = head\n",
    "        values = []\n",
    "        while cur: \n",
    "            values.append(cur.val)\n",
    "            cur = cur.next\n",
    "        \n",
    "        l, r = 0, len(values) - 1\n",
    "        maxSum = 0 \n",
    "        while l < r: \n",
    "            maxSum = max(maxSum, values[l] + values[r])\n",
    "            l += 1\n",
    "            r -= 1\n",
    "        return maxSum\n",
    "    # Complexity Analysis: \n",
    "    # Time: O(N)\n",
    "    # Space: O(N)\n",
    "\n",
    "\n",
    "class Solution2: \n",
    "    # Solution 2 with O(1) space by kryuki \n",
    "    # Reverse the second half of the linkedlist and added first and second linkedlist by nodes\n",
    "    def reverse(self, head):\n",
    "        prev, cur = None, head\n",
    "        while cur: \n",
    "            nxt = cur.next\n",
    "            cur.next = prev\n",
    "            prev = cur\n",
    "            cur = nxt\n",
    "        return prev\n",
    "    \n",
    "    # Find the second half of the linkedlist\n",
    "    def pairSum(self, head):\n",
    "        slow, fast = head, head\n",
    "        while fast:\n",
    "            slow = slow.next\n",
    "            fast = fast.next.next\n",
    "        first = head\n",
    "        second = self.reverse(slow) # slow is the head of the second part of linked list\n",
    "        \n",
    "        maxSum = 0\n",
    "        while second: \n",
    "            maxSum = max(maxSum, first.val + second.val)\n",
    "            second = second.next\n",
    "            first = first.next\n",
    "        return maxSum  \n",
    "    # Complexity analysis\n",
    "    # Time: O(N)\n",
    "    # Space: O(1)"
   ]
  },
  {
   "cell_type": "code",
   "execution_count": null,
   "id": "11ab0394",
   "metadata": {},
   "outputs": [],
   "source": [
    "[1,2,3,4,5,6,7]\n",
    "slow = [1,2,3,4,5]\n",
    "fast = [1,3,5,7,None]\n",
    "\n",
    "[1,2,3,4,5,6,7,8]\n",
    "slow = [1,2,3,4,5]\n",
    "fast = [1,3,5,7,None]"
   ]
  },
  {
   "cell_type": "code",
   "execution_count": 6,
   "id": "b1475d1e",
   "metadata": {},
   "outputs": [
    {
     "data": {
      "text/plain": [
       "6"
      ]
     },
     "execution_count": 6,
     "metadata": {},
     "output_type": "execute_result"
    }
   ],
   "source": [
    "head = ListNode(5, ListNode(4, ListNode(2, ListNode(1))))\n",
    "Solution().pairSum(head)"
   ]
  },
  {
   "cell_type": "code",
   "execution_count": 7,
   "id": "2596ecb3",
   "metadata": {},
   "outputs": [
    {
     "data": {
      "text/plain": [
       "7"
      ]
     },
     "execution_count": 7,
     "metadata": {},
     "output_type": "execute_result"
    }
   ],
   "source": [
    "head = ListNode(4, ListNode(2, ListNode(2, ListNode(3))))\n",
    "Solution().pairSum(head)"
   ]
  },
  {
   "cell_type": "code",
   "execution_count": 9,
   "id": "e19fda73",
   "metadata": {},
   "outputs": [
    {
     "data": {
      "text/plain": [
       "100001"
      ]
     },
     "execution_count": 9,
     "metadata": {},
     "output_type": "execute_result"
    }
   ],
   "source": [
    "head = ListNode(1, ListNode(100000))\n",
    "Solution().pairSum(head)"
   ]
  }
 ],
 "metadata": {
  "kernelspec": {
   "display_name": "Python 3",
   "language": "python",
   "name": "python3"
  },
  "language_info": {
   "codemirror_mode": {
    "name": "ipython",
    "version": 3
   },
   "file_extension": ".py",
   "mimetype": "text/x-python",
   "name": "python",
   "nbconvert_exporter": "python",
   "pygments_lexer": "ipython3",
   "version": "3.7.4"
  }
 },
 "nbformat": 4,
 "nbformat_minor": 5
}
