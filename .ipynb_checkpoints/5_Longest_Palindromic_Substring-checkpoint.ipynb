{
 "cells": [
  {
   "cell_type": "markdown",
   "id": "2e353b0b",
   "metadata": {},
   "source": [
    "https://leetcode.com/problems/longest-palindromic-substring/"
   ]
  },
  {
   "cell_type": "code",
   "execution_count": 11,
   "id": "c8735752",
   "metadata": {},
   "outputs": [],
   "source": [
    "# Expand from the center to find the longest palindromic substring\n",
    "\n",
    "# Write a function to calculate the length of the palindromic substring if expanding from the center\n",
    "def expandAroundCenter(s, left, right):\n",
    "    while left >= 0 and right < len(s) and s[left] == s[right]:\n",
    "        left -= 1\n",
    "        right += 1\n",
    "    return right - left - 1\n",
    "\n",
    "def longestPalindrome(s):\n",
    "    if len(s) == 0:\n",
    "        return \"\"\n",
    "    start, end = 0, 0\n",
    "    for i in range(len(s)):\n",
    "        len1 = expandAroundCenter(s, i, i) # when the center is 1 letter\n",
    "        len2 = expandAroundCenter(s, i, i+1) # when the center is 2 letters\n",
    "        length = max(len1, len2)\n",
    "        if length > end - start:\n",
    "            end = i + length//2\n",
    "            start = i - (length-1)//2\n",
    "    return s[start:end+1]"
   ]
  },
  {
   "cell_type": "markdown",
   "id": "d62adee5",
   "metadata": {},
   "source": [
    "Running time complexity O(N2) with O(1) extra space"
   ]
  },
  {
   "cell_type": "code",
   "execution_count": null,
   "id": "ab9a60e7",
   "metadata": {},
   "outputs": [],
   "source": []
  }
 ],
 "metadata": {
  "kernelspec": {
   "display_name": "Python 3",
   "language": "python",
   "name": "python3"
  },
  "language_info": {
   "codemirror_mode": {
    "name": "ipython",
    "version": 3
   },
   "file_extension": ".py",
   "mimetype": "text/x-python",
   "name": "python",
   "nbconvert_exporter": "python",
   "pygments_lexer": "ipython3",
   "version": "3.7.4"
  }
 },
 "nbformat": 4,
 "nbformat_minor": 5
}
