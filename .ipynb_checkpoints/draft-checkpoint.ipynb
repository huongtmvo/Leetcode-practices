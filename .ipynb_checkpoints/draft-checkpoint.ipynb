{
 "cells": [
  {
   "cell_type": "code",
   "execution_count": 56,
   "id": "79422674",
   "metadata": {},
   "outputs": [
    {
     "data": {
      "text/plain": [
       "[(1, 2), (1, 2), (3, 4), (5, 6)]"
      ]
     },
     "execution_count": 56,
     "metadata": {},
     "output_type": "execute_result"
    }
   ],
   "source": [
    "dominoes = [(1,2),(2,1),(3,4),(5,6)]\n",
    "res = []\n",
    "for a,b in dominoes:\n",
    "    key = a,b] if a < b else [b,a\n",
    "    res.append(key)\n",
    "res"
   ]
  },
  {
   "cell_type": "code",
   "execution_count": 57,
   "id": "ac64313b",
   "metadata": {},
   "outputs": [
    {
     "data": {
      "text/plain": [
       "[3, 2]"
      ]
     },
     "execution_count": 57,
     "metadata": {},
     "output_type": "execute_result"
    }
   ],
   "source": [
    "# mutable\n",
    "a = [1,2]\n",
    "a[0] = 3\n",
    "a"
   ]
  },
  {
   "cell_type": "code",
   "execution_count": 76,
   "id": "eb02e445",
   "metadata": {},
   "outputs": [
    {
     "data": {
      "text/plain": [
       "'131.30'"
      ]
     },
     "execution_count": 76,
     "metadata": {},
     "output_type": "execute_result"
    }
   ],
   "source": [
    "a = 131.3\n",
    "s = f\"{a:.2f}\"\n",
    "s = \"{:.2f}\".format(a)\n",
    "s"
   ]
  },
  {
   "cell_type": "code",
   "execution_count": 62,
   "id": "05614caa",
   "metadata": {},
   "outputs": [
    {
     "name": "stdout",
     "output_type": "stream",
     "text": [
      "12 PM\n"
     ]
    }
   ],
   "source": [
    "# \n",
    "hour = 23 \n",
    "def convert(hour):\n",
    "    if hour >= 12:\n",
    "        print(hour - 12, \"PM\")\n",
    "    else:\n",
    "        print(hour, \"AM\")\n",
    "convert(23)"
   ]
  },
  {
   "cell_type": "code",
   "execution_count": 18,
   "id": "38ac5b1c",
   "metadata": {},
   "outputs": [],
   "source": [
    "class TreeNode:\n",
    "    def __init__(self, val=0, left=None, right=None):\n",
    "        self.val = val\n",
    "        self.left = left\n",
    "        self.right = right"
   ]
  },
  {
   "cell_type": "code",
   "execution_count": 38,
   "id": "6572e979",
   "metadata": {},
   "outputs": [],
   "source": [
    "root= TreeNode(1, TreeNode(0,TreeNode(1),TreeNode(0)), TreeNode(1,TreeNode(1), TreeNode(0)))"
   ]
  },
  {
   "cell_type": "code",
   "execution_count": 31,
   "id": "082c24b8",
   "metadata": {},
   "outputs": [],
   "source": [
    "def dfs(root, path=[]):\n",
    "    if root is None:\n",
    "        return\n",
    "    path.append(root.val)\n",
    "    if root.left is None and root.right is None:\n",
    "        print(root.val, path)\n",
    "\n",
    "    dfs(root.left)\n",
    "    dfs(root.right)\n",
    "    path.pop()"
   ]
  },
  {
   "cell_type": "code",
   "execution_count": null,
   "id": "22a9c2f1",
   "metadata": {},
   "outputs": [],
   "source": [
    "def dfs(root, path=[], res = []):\n",
    "    if root is None:\n",
    "        return\n",
    "    last = 0 if not path else path[-1]\n",
    "    path.append(last * 2 + root.val)\n",
    "    if root.left is None and root.right is None:\n",
    "        res.append(path[-1])\n",
    "\n",
    "    dfs(root.left, path, res)\n",
    "    dfs(root.right, path, res)\n",
    "    path.pop()"
   ]
  },
  {
   "cell_type": "code",
   "execution_count": 52,
   "id": "6aca3878",
   "metadata": {},
   "outputs": [],
   "source": [
    "def dfs(root, path=[0], res = []):\n",
    "    if root is None:\n",
    "        return\n",
    "    path.append(path[-1] << 1 | root.val)\n",
    "    if root.left is None and root.right is None:\n",
    "        res.append(path[-1])\n",
    "\n",
    "    dfs(root.left, path, res)\n",
    "    dfs(root.right, path, res)\n",
    "    path.pop()"
   ]
  },
  {
   "cell_type": "code",
   "execution_count": 54,
   "id": "6ccce945",
   "metadata": {},
   "outputs": [],
   "source": [
    "path = [0]\n",
    "res = []\n",
    "dfs(root, path, res)"
   ]
  },
  {
   "cell_type": "code",
   "execution_count": 55,
   "id": "e66587e9",
   "metadata": {},
   "outputs": [
    {
     "data": {
      "text/plain": [
       "[5, 4, 7, 6]"
      ]
     },
     "execution_count": 55,
     "metadata": {},
     "output_type": "execute_result"
    }
   ],
   "source": [
    "res"
   ]
  },
  {
   "cell_type": "code",
   "execution_count": 77,
   "id": "ba3c02e9",
   "metadata": {},
   "outputs": [
    {
     "data": {
      "text/plain": [
       "{'A', 'B', 'C'}"
      ]
     },
     "execution_count": 77,
     "metadata": {},
     "output_type": "execute_result"
    }
   ],
   "source": [
    "s = 'ABCABC'\n",
    "set(s)"
   ]
  },
  {
   "cell_type": "code",
   "execution_count": 82,
   "id": "75fb6e5c",
   "metadata": {},
   "outputs": [],
   "source": [
    "s = 'huong, vo thi Mai mai'\n",
    "words = s.lower().split()"
   ]
  },
  {
   "cell_type": "code",
   "execution_count": 83,
   "id": "1daeec1d",
   "metadata": {},
   "outputs": [
    {
     "data": {
      "text/plain": [
       "Counter({'huong,': 1, 'vo': 1, 'thi': 1, 'mai': 2})"
      ]
     },
     "execution_count": 83,
     "metadata": {},
     "output_type": "execute_result"
    }
   ],
   "source": [
    "from collections import Counter\n",
    "dic = Counter(words)\n",
    "dic"
   ]
  },
  {
   "cell_type": "code",
   "execution_count": 86,
   "id": "2081205b",
   "metadata": {},
   "outputs": [
    {
     "data": {
      "text/plain": [
       "' uong, vo t i Mai mai'"
      ]
     },
     "execution_count": 86,
     "metadata": {},
     "output_type": "execute_result"
    }
   ],
   "source": [
    "s = s.replace('h',' ')\n",
    "s"
   ]
  },
  {
   "cell_type": "code",
   "execution_count": 116,
   "id": "baa17b16",
   "metadata": {},
   "outputs": [],
   "source": [
    "dsyn = {'a': ['a','b'], 'b':['a','b'],'c': ['c', 'd'], 'd': ['c', 'd']}\n",
    "s = 'a c b d'\n",
    "\n",
    "def combination(s, dsyn):\n",
    "    words = s.split() # ['a', 'b', 'c', 'd']\n",
    "    res = []\n",
    "    def backtracking(i, path):\n",
    "        if i == len(words):\n",
    "            res.append(path)\n",
    "            return\n",
    "        if words[i] in dsyn:\n",
    "            for w in dsyn[words[i]]:\n",
    "                new_path = list(path) # ['a', 'b']\n",
    "                new_path.append(w) #  ['a', 'b', 'c']  ['a', 'b', 'c', 'd']\n",
    "                backtracking(i+1, new_path)\n",
    "        else:\n",
    "            path.append(words[i])\n",
    "            backtracking(i+1, path)\n",
    "    backtracking(0, [])\n",
    "    return res"
   ]
  },
  {
   "cell_type": "code",
   "execution_count": 117,
   "id": "802a7d9b",
   "metadata": {},
   "outputs": [
    {
     "data": {
      "text/plain": [
       "[['a', 'c', 'a', 'c'],\n",
       " ['a', 'c', 'a', 'd'],\n",
       " ['a', 'c', 'b', 'c'],\n",
       " ['a', 'c', 'b', 'd'],\n",
       " ['a', 'd', 'a', 'c'],\n",
       " ['a', 'd', 'a', 'd'],\n",
       " ['a', 'd', 'b', 'c'],\n",
       " ['a', 'd', 'b', 'd'],\n",
       " ['b', 'c', 'a', 'c'],\n",
       " ['b', 'c', 'a', 'd'],\n",
       " ['b', 'c', 'b', 'c'],\n",
       " ['b', 'c', 'b', 'd'],\n",
       " ['b', 'd', 'a', 'c'],\n",
       " ['b', 'd', 'a', 'd'],\n",
       " ['b', 'd', 'b', 'c'],\n",
       " ['b', 'd', 'b', 'd']]"
      ]
     },
     "execution_count": 117,
     "metadata": {},
     "output_type": "execute_result"
    }
   ],
   "source": [
    "combination(s, dsyn)"
   ]
  },
  {
   "cell_type": "code",
   "execution_count": 118,
   "id": "28d5f7b8",
   "metadata": {},
   "outputs": [
    {
     "data": {
      "text/plain": [
       "16"
      ]
     },
     "execution_count": 118,
     "metadata": {},
     "output_type": "execute_result"
    }
   ],
   "source": [
    "len(combination(s, dsyn))"
   ]
  },
  {
   "cell_type": "code",
   "execution_count": 119,
   "id": "1f66bc3c",
   "metadata": {},
   "outputs": [],
   "source": [
    "from collections import defaultdict"
   ]
  },
  {
   "cell_type": "code",
   "execution_count": 128,
   "id": "9f4715af",
   "metadata": {},
   "outputs": [],
   "source": [
    "g = defaultdict(dict)"
   ]
  },
  {
   "cell_type": "code",
   "execution_count": 129,
   "id": "167bffe0",
   "metadata": {},
   "outputs": [
    {
     "data": {
      "text/plain": [
       "defaultdict(dict, {})"
      ]
     },
     "execution_count": 129,
     "metadata": {},
     "output_type": "execute_result"
    }
   ],
   "source": [
    "g"
   ]
  },
  {
   "cell_type": "code",
   "execution_count": null,
   "id": "bb6c0d1d",
   "metadata": {},
   "outputs": [],
   "source": []
  },
  {
   "cell_type": "code",
   "execution_count": 130,
   "id": "9a866517",
   "metadata": {},
   "outputs": [],
   "source": [
    "g['happy']['joy'] = 1"
   ]
  },
  {
   "cell_type": "code",
   "execution_count": 131,
   "id": "a4b9347f",
   "metadata": {},
   "outputs": [
    {
     "data": {
      "text/plain": [
       "defaultdict(dict, {'happy': {'joy': 1}})"
      ]
     },
     "execution_count": 131,
     "metadata": {},
     "output_type": "execute_result"
    }
   ],
   "source": [
    "g"
   ]
  },
  {
   "cell_type": "code",
   "execution_count": 132,
   "id": "8711cae3",
   "metadata": {},
   "outputs": [
    {
     "ename": "NameError",
     "evalue": "name 'List' is not defined",
     "output_type": "error",
     "traceback": [
      "\u001b[0;31m---------------------------------------------------------------------------\u001b[0m",
      "\u001b[0;31mNameError\u001b[0m                                 Traceback (most recent call last)",
      "\u001b[0;32m<ipython-input-132-ab40618b9151>\u001b[0m in \u001b[0;36m<module>\u001b[0;34m\u001b[0m\n\u001b[0;32m----> 1\u001b[0;31m \u001b[0;32mclass\u001b[0m \u001b[0mSolution\u001b[0m\u001b[0;34m:\u001b[0m\u001b[0;34m\u001b[0m\u001b[0;34m\u001b[0m\u001b[0m\n\u001b[0m\u001b[1;32m      2\u001b[0m     \u001b[0;32mdef\u001b[0m \u001b[0mgenerateSentences\u001b[0m\u001b[0;34m(\u001b[0m\u001b[0mself\u001b[0m\u001b[0;34m,\u001b[0m \u001b[0msynonyms\u001b[0m\u001b[0;34m:\u001b[0m \u001b[0mList\u001b[0m\u001b[0;34m[\u001b[0m\u001b[0mList\u001b[0m\u001b[0;34m[\u001b[0m\u001b[0mstr\u001b[0m\u001b[0;34m]\u001b[0m\u001b[0;34m]\u001b[0m\u001b[0;34m,\u001b[0m \u001b[0mtext\u001b[0m\u001b[0;34m:\u001b[0m \u001b[0mstr\u001b[0m\u001b[0;34m)\u001b[0m \u001b[0;34m->\u001b[0m \u001b[0mList\u001b[0m\u001b[0;34m[\u001b[0m\u001b[0mstr\u001b[0m\u001b[0;34m]\u001b[0m\u001b[0;34m:\u001b[0m\u001b[0;34m\u001b[0m\u001b[0;34m\u001b[0m\u001b[0m\n\u001b[1;32m      3\u001b[0m         \u001b[0mgraph\u001b[0m\u001b[0;34m=\u001b[0m\u001b[0mcollections\u001b[0m\u001b[0;34m.\u001b[0m\u001b[0mdefaultdict\u001b[0m\u001b[0;34m(\u001b[0m\u001b[0mdict\u001b[0m\u001b[0;34m)\u001b[0m\u001b[0;34m\u001b[0m\u001b[0;34m\u001b[0m\u001b[0m\n\u001b[1;32m      4\u001b[0m         \u001b[0mbfs\u001b[0m\u001b[0;34m=\u001b[0m\u001b[0mcollections\u001b[0m\u001b[0;34m.\u001b[0m\u001b[0mdeque\u001b[0m\u001b[0;34m(\u001b[0m\u001b[0;34m)\u001b[0m\u001b[0;34m\u001b[0m\u001b[0;34m\u001b[0m\u001b[0m\n\u001b[1;32m      5\u001b[0m         \u001b[0mans\u001b[0m\u001b[0;34m=\u001b[0m\u001b[0mset\u001b[0m\u001b[0;34m(\u001b[0m\u001b[0;34m)\u001b[0m\u001b[0;34m\u001b[0m\u001b[0;34m\u001b[0m\u001b[0m\n",
      "\u001b[0;32m<ipython-input-132-ab40618b9151>\u001b[0m in \u001b[0;36mSolution\u001b[0;34m()\u001b[0m\n\u001b[1;32m      1\u001b[0m \u001b[0;32mclass\u001b[0m \u001b[0mSolution\u001b[0m\u001b[0;34m:\u001b[0m\u001b[0;34m\u001b[0m\u001b[0;34m\u001b[0m\u001b[0m\n\u001b[0;32m----> 2\u001b[0;31m     \u001b[0;32mdef\u001b[0m \u001b[0mgenerateSentences\u001b[0m\u001b[0;34m(\u001b[0m\u001b[0mself\u001b[0m\u001b[0;34m,\u001b[0m \u001b[0msynonyms\u001b[0m\u001b[0;34m:\u001b[0m \u001b[0mList\u001b[0m\u001b[0;34m[\u001b[0m\u001b[0mList\u001b[0m\u001b[0;34m[\u001b[0m\u001b[0mstr\u001b[0m\u001b[0;34m]\u001b[0m\u001b[0;34m]\u001b[0m\u001b[0;34m,\u001b[0m \u001b[0mtext\u001b[0m\u001b[0;34m:\u001b[0m \u001b[0mstr\u001b[0m\u001b[0;34m)\u001b[0m \u001b[0;34m->\u001b[0m \u001b[0mList\u001b[0m\u001b[0;34m[\u001b[0m\u001b[0mstr\u001b[0m\u001b[0;34m]\u001b[0m\u001b[0;34m:\u001b[0m\u001b[0;34m\u001b[0m\u001b[0;34m\u001b[0m\u001b[0m\n\u001b[0m\u001b[1;32m      3\u001b[0m         \u001b[0mgraph\u001b[0m\u001b[0;34m=\u001b[0m\u001b[0mcollections\u001b[0m\u001b[0;34m.\u001b[0m\u001b[0mdefaultdict\u001b[0m\u001b[0;34m(\u001b[0m\u001b[0mdict\u001b[0m\u001b[0;34m)\u001b[0m\u001b[0;34m\u001b[0m\u001b[0;34m\u001b[0m\u001b[0m\n\u001b[1;32m      4\u001b[0m         \u001b[0mbfs\u001b[0m\u001b[0;34m=\u001b[0m\u001b[0mcollections\u001b[0m\u001b[0;34m.\u001b[0m\u001b[0mdeque\u001b[0m\u001b[0;34m(\u001b[0m\u001b[0;34m)\u001b[0m\u001b[0;34m\u001b[0m\u001b[0;34m\u001b[0m\u001b[0m\n\u001b[1;32m      5\u001b[0m         \u001b[0mans\u001b[0m\u001b[0;34m=\u001b[0m\u001b[0mset\u001b[0m\u001b[0;34m(\u001b[0m\u001b[0;34m)\u001b[0m\u001b[0;34m\u001b[0m\u001b[0;34m\u001b[0m\u001b[0m\n",
      "\u001b[0;31mNameError\u001b[0m: name 'List' is not defined"
     ]
    }
   ],
   "source": [
    "class Solution:\n",
    "    def generateSentences(self, synonyms: List[List[str]], text: str) -> List[str]:\n",
    "        graph=collections.defaultdict(dict)\n",
    "        bfs=collections.deque()\n",
    "        ans=set()\n",
    "        bfs.append(text)\n",
    "        for k,v in synonyms:\n",
    "            graph[k][v]=1\n",
    "            graph[v][k]=1\n",
    "        while bfs:\n",
    "            curT=bfs.popleft()\n",
    "            ans.add(curT)\n",
    "            words=curT.split()\n",
    "            for i,w in enumerate(words):\n",
    "                if w in graph.keys():\n",
    "                    for newW in graph[w]:\n",
    "                        newsent=' '.join(words[:i]+[newW]+words[i+1:])\n",
    "                        if newsent not in ans:\n",
    "                            bfs.append(newsent)\n",
    "        return sorted(list(ans))"
   ]
  },
  {
   "cell_type": "code",
   "execution_count": null,
   "id": "88b40061",
   "metadata": {},
   "outputs": [],
   "source": []
  }
 ],
 "metadata": {
  "kernelspec": {
   "display_name": "Python 3",
   "language": "python",
   "name": "python3"
  },
  "language_info": {
   "codemirror_mode": {
    "name": "ipython",
    "version": 3
   },
   "file_extension": ".py",
   "mimetype": "text/x-python",
   "name": "python",
   "nbconvert_exporter": "python",
   "pygments_lexer": "ipython3",
   "version": "3.7.4"
  }
 },
 "nbformat": 4,
 "nbformat_minor": 5
}
