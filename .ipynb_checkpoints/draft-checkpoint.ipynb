{
 "cells": [
  {
   "cell_type": "code",
   "execution_count": 1,
   "id": "0741bf82",
   "metadata": {},
   "outputs": [],
   "source": [
    "class Solution:\n",
    "    def dfs(self, nums, path, res):\n",
    "        if not nums: \n",
    "            res.append(path)\n",
    "        for i in range(len(nums)):\n",
    "            self.dfs(nums[:i] + nums[i+1:], path + res[i], res)\n",
    "    \n",
    "    def permuate(self, nums):\n",
    "        path = []\n",
    "        res = []\n",
    "        self.dfs(nums, path, res)"
   ]
  },
  {
   "cell_type": "code",
   "execution_count": 2,
   "id": "75bb94bd",
   "metadata": {},
   "outputs": [],
   "source": [
    "class TreeNode:\n",
    "    def __init__(self, val=0, left=None, right=None):\n",
    "        self.val = val\n",
    "        self.left = left\n",
    "        self.right = right\n",
    "     \n",
    "    def isSameTree(self, root1, root2):\n",
    "        if root1 and root2:\n",
    "            return root1.val == root2.val and self.isSameTree(root1.left, root2.left) and self.isSameTree(root1.right, root2.right)\n",
    "        return root1 is root2\n",
    "    \n",
    "    def isSubTree(self, root, subroot):\n",
    "        if not subroot: return True\n",
    "        if not root: return False\n",
    "        if self.isSameTree(root, subroot):\n",
    "            return True\n",
    "        return self.isSubTree(root.left, subroot) or self.isSubTree(root.right, subroot)\n",
    "    "
   ]
  },
  {
   "cell_type": "code",
   "execution_count": null,
   "id": "54fe00a8",
   "metadata": {},
   "outputs": [],
   "source": [
    " def isSubtree(self, root: Optional[TreeNode], subRoot: Optional[TreeNode]) -> bool:\n",
    "        if not root: \n",
    "            return False\n",
    "        if self.isSametree(root, subRoot):\n",
    "            return True\n",
    "        return self.isSubtree(root.left, subRoot) or self.isSubtree(root.right, subRoot)"
   ]
  }
 ],
 "metadata": {
  "kernelspec": {
   "display_name": "Python 3",
   "language": "python",
   "name": "python3"
  },
  "language_info": {
   "codemirror_mode": {
    "name": "ipython",
    "version": 3
   },
   "file_extension": ".py",
   "mimetype": "text/x-python",
   "name": "python",
   "nbconvert_exporter": "python",
   "pygments_lexer": "ipython3",
   "version": "3.7.4"
  }
 },
 "nbformat": 4,
 "nbformat_minor": 5
}
