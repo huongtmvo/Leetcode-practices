{
 "cells": [
  {
   "cell_type": "code",
   "execution_count": 1,
   "id": "f45ceddc",
   "metadata": {},
   "outputs": [],
   "source": [
    "nums = [1,2,3,4,3]"
   ]
  },
  {
   "cell_type": "code",
   "execution_count": 2,
   "id": "45c3b88b",
   "metadata": {},
   "outputs": [],
   "source": [
    "def findnextGreaterElements(nums):\n",
    "    n = len(nums)\n",
    "    ans = [-1] * n\n",
    "    for i in range(n):\n",
    "        for j in range(i+1, i+n):\n",
    "            if nums[j%n] > nums[i]:\n",
    "                ans[i] = nums[j%n]\n",
    "                break\n",
    "    return ans           "
   ]
  },
  {
   "cell_type": "code",
   "execution_count": 3,
   "id": "e74f4e03",
   "metadata": {},
   "outputs": [
    {
     "data": {
      "text/plain": [
       "[2, 3, 4, -1, 4]"
      ]
     },
     "execution_count": 3,
     "metadata": {},
     "output_type": "execute_result"
    }
   ],
   "source": [
    "findnextGreaterElements(nums)"
   ]
  },
  {
   "cell_type": "code",
   "execution_count": 5,
   "id": "05857726",
   "metadata": {},
   "outputs": [],
   "source": [
    "def findnextGreaterElements2(nums):\n",
    "    n = len(nums)\n",
    "    ans = [-1] * n\n",
    "    for i in range(n-1):\n",
    "        for j in range(i+1, n):\n",
    "            if nums[j] > nums[i]:\n",
    "                ans[i] = nums[j]\n",
    "                break\n",
    "    return ans "
   ]
  },
  {
   "cell_type": "code",
   "execution_count": 6,
   "id": "dc295694",
   "metadata": {},
   "outputs": [
    {
     "data": {
      "text/plain": [
       "[2, 3, 4, -1, -1]"
      ]
     },
     "execution_count": 6,
     "metadata": {},
     "output_type": "execute_result"
    }
   ],
   "source": [
    "findnextGreaterElements2(nums)"
   ]
  },
  {
   "cell_type": "code",
   "execution_count": null,
   "id": "fa5396a5",
   "metadata": {},
   "outputs": [],
   "source": []
  }
 ],
 "metadata": {
  "kernelspec": {
   "display_name": "Python 3",
   "language": "python",
   "name": "python3"
  },
  "language_info": {
   "codemirror_mode": {
    "name": "ipython",
    "version": 3
   },
   "file_extension": ".py",
   "mimetype": "text/x-python",
   "name": "python",
   "nbconvert_exporter": "python",
   "pygments_lexer": "ipython3",
   "version": "3.7.4"
  }
 },
 "nbformat": 4,
 "nbformat_minor": 5
}
