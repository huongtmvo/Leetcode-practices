{
 "cells": [
  {
   "cell_type": "markdown",
   "id": "d3df89ca",
   "metadata": {},
   "source": [
    "997. Find the Town Judge\n",
    "\n",
    "https://leetcode.com/problems/find-the-town-judge/\n"
   ]
  },
  {
   "cell_type": "markdown",
   "id": "73f0acbf",
   "metadata": {},
   "source": [
    "In a town, there are n people labeled from 1 to n. There is a rumor that one of these people is secretly the town judge.\n",
    "\n",
    "If the town judge exists, then:\n",
    "\n",
    "The town judge trusts nobody.\n",
    "Everybody (except for the town judge) trusts the town judge.\n",
    "There is exactly one person that satisfies properties 1 and 2."
   ]
  },
  {
   "cell_type": "code",
   "execution_count": 24,
   "id": "897c8a59",
   "metadata": {},
   "outputs": [],
   "source": [
    "class Solution:\n",
    "    def findJudge(self, n: int, trust: List[List[int]]) -> int:\n",
    "        adj = [set() for _ in range(n)]\n",
    "        for edge in trust:\n",
    "            u, v = edge\n",
    "            adj[u-1].add(v-1)\n",
    "\n",
    "        candidate = -1\n",
    "        for node in range(n):\n",
    "            if len(adj[node]) == 0:\n",
    "                candidate = node\n",
    "        \n",
    "        for i in range(n):\n",
    "            if i != candidate and candidate not in adj[i]:\n",
    "                return -1\n",
    "        return candidate + 1"
   ]
  },
  {
   "cell_type": "code",
   "execution_count": 25,
   "id": "fc1054d0",
   "metadata": {},
   "outputs": [
    {
     "data": {
      "text/plain": [
       "2"
      ]
     },
     "execution_count": 25,
     "metadata": {},
     "output_type": "execute_result"
    }
   ],
   "source": [
    "n = 2; trust = [[1,2]]\n",
    "Solution().findJudge(n, trust)"
   ]
  },
  {
   "cell_type": "code",
   "execution_count": 26,
   "id": "81ab13ac",
   "metadata": {},
   "outputs": [
    {
     "data": {
      "text/plain": [
       "3"
      ]
     },
     "execution_count": 26,
     "metadata": {},
     "output_type": "execute_result"
    }
   ],
   "source": [
    "n = 3; trust = [[1,3],[2,3]] \n",
    "Solution().findJudge(n, trust)"
   ]
  },
  {
   "cell_type": "code",
   "execution_count": null,
   "id": "88ac2778",
   "metadata": {},
   "outputs": [],
   "source": [
    "# Time: O(E+V)\n",
    "# Space : O(|V||E|)"
   ]
  }
 ],
 "metadata": {
  "kernelspec": {
   "display_name": "Python 3",
   "language": "python",
   "name": "python3"
  },
  "language_info": {
   "codemirror_mode": {
    "name": "ipython",
    "version": 3
   },
   "file_extension": ".py",
   "mimetype": "text/x-python",
   "name": "python",
   "nbconvert_exporter": "python",
   "pygments_lexer": "ipython3",
   "version": "3.7.4"
  }
 },
 "nbformat": 4,
 "nbformat_minor": 5
}
