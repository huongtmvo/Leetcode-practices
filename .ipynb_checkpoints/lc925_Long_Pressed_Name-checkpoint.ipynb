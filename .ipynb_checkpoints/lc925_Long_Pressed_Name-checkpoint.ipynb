{
 "cells": [
  {
   "cell_type": "markdown",
   "id": "d7788f19",
   "metadata": {},
   "source": [
    "https://leetcode.com/problems/long-pressed-name/"
   ]
  },
  {
   "cell_type": "code",
   "execution_count": null,
   "id": "293b265d",
   "metadata": {},
   "outputs": [],
   "source": [
    "# Using 2 pointers, increasing both pointers if there is a match. \n",
    "# If there is not a match or the character in typed[j] != typed[j-1] then False\n",
    "# True if and only if i == len(name) so that we go through every character in name as well. \n",
    "\n",
    "class Solution:  \n",
    "    def isLongPressedName(self, name, typed):\n",
    "        i = 0\n",
    "        for j in range(len(typed)):\n",
    "            if i < len(name) and name[i] == typed[j]:\n",
    "                i += 1\n",
    "            elif j == 0 or typed[j] != typed[j - 1]:\n",
    "                return False\n",
    "        return i == len(name)"
   ]
  }
 ],
 "metadata": {
  "kernelspec": {
   "display_name": "Python 3",
   "language": "python",
   "name": "python3"
  },
  "language_info": {
   "codemirror_mode": {
    "name": "ipython",
    "version": 3
   },
   "file_extension": ".py",
   "mimetype": "text/x-python",
   "name": "python",
   "nbconvert_exporter": "python",
   "pygments_lexer": "ipython3",
   "version": "3.7.4"
  }
 },
 "nbformat": 4,
 "nbformat_minor": 5
}
