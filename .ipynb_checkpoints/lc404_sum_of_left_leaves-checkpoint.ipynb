{
 "cells": [
  {
   "cell_type": "markdown",
   "id": "d0600d17",
   "metadata": {},
   "source": [
    "https://leetcode.com/problems/sum-of-left-leaves/"
   ]
  },
  {
   "cell_type": "code",
   "execution_count": 1,
   "id": "a28977d8",
   "metadata": {},
   "outputs": [],
   "source": [
    "class TreeNode:\n",
    "    def __init__(self, val=0, left=None, right=None):\n",
    "        self.val = val\n",
    "        self.left = left\n",
    "        self.right = right\n",
    "    \n",
    "class Solution:\n",
    "    def sumOfLeftLeaves(self, root: Optional[TreeNode]) -> int:\n",
    "        if not root:\n",
    "            return 0\n",
    "        if root.left and not root.left.left and not root.left.right:\n",
    "            return root.left.val + self.sumOfLeftLeaves(root.right)\n",
    "        return self.sumOfLeftLeaves(root.left) + self.sumOfLeftLeaves(root.right)\n",
    "        "
   ]
  }
 ],
 "metadata": {
  "kernelspec": {
   "display_name": "Python 3",
   "language": "python",
   "name": "python3"
  },
  "language_info": {
   "codemirror_mode": {
    "name": "ipython",
    "version": 3
   },
   "file_extension": ".py",
   "mimetype": "text/x-python",
   "name": "python",
   "nbconvert_exporter": "python",
   "pygments_lexer": "ipython3",
   "version": "3.7.4"
  }
 },
 "nbformat": 4,
 "nbformat_minor": 5
}
