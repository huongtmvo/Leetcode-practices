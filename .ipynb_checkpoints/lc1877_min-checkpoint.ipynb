{
 "cells": [
  {
   "cell_type": "markdown",
   "id": "8f4a83b8",
   "metadata": {},
   "source": [
    "1877. Minimize Maximum Pair Sum in Array\n"
   ]
  },
  {
   "cell_type": "markdown",
   "id": "fef94284",
   "metadata": {},
   "source": [
    "The pair sum of a pair (a,b) is equal to a + b. The maximum pair sum is the largest pair sum in a list of pairs.\n",
    "\n",
    "For example, if we have pairs (1,5), (2,3), and (4,4), the maximum pair sum would be max(1+5, 2+3, 4+4) = max(6, 5, 8) = 8.\n",
    "Given an array nums of even length n, pair up the elements of nums into n / 2 pairs such that:\n",
    "\n",
    "Each element of nums is in exactly one pair, and\n",
    "The maximum pair sum is minimized.\n",
    "Return the minimized maximum pair sum after optimally pairing up the elements.\n",
    "\n",
    " \n",
    "\n",
    "Example 1:\n",
    "\n",
    "Input: nums = [3,5,2,3]\n",
    "Output: 7\n",
    "Explanation: The elements can be paired up into pairs (3,3) and (5,2).\n",
    "The maximum pair sum is max(3+3, 5+2) = max(6, 7) = 7.\n",
    "Example 2:\n",
    "\n",
    "Input: nums = [3,5,4,2,4,6]\n",
    "Output: 8\n",
    "Explanation: The elements can be paired up into pairs (3,5), (4,4), and (6,2).\n",
    "The maximum pair sum is max(3+5, 4+4, 6+2) = max(8, 8, 8) = 8.\n",
    " \n",
    "\n",
    "Constraints:\n",
    "\n",
    "n == nums.length\n",
    "2 <= n <= 105\n",
    "n is even.\n",
    "1 <= nums[i] <= 105"
   ]
  },
  {
   "cell_type": "code",
   "execution_count": null,
   "id": "140912c6",
   "metadata": {},
   "outputs": [],
   "source": [
    "class Solution:\n",
    "    def minPairSum(self, nums: List[int]) -> int:"
   ]
  }
 ],
 "metadata": {
  "kernelspec": {
   "display_name": "Python 3",
   "language": "python",
   "name": "python3"
  },
  "language_info": {
   "codemirror_mode": {
    "name": "ipython",
    "version": 3
   },
   "file_extension": ".py",
   "mimetype": "text/x-python",
   "name": "python",
   "nbconvert_exporter": "python",
   "pygments_lexer": "ipython3",
   "version": "3.7.4"
  }
 },
 "nbformat": 4,
 "nbformat_minor": 5
}
