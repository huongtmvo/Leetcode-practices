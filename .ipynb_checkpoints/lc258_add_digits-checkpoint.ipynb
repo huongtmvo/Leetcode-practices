{
 "cells": [
  {
   "cell_type": "markdown",
   "id": "75532bda",
   "metadata": {},
   "source": [
    "## 258: add digits"
   ]
  },
  {
   "cell_type": "code",
   "execution_count": 55,
   "id": "52ef86e0",
   "metadata": {},
   "outputs": [],
   "source": [
    "class Solution:\n",
    "    def findDigits(self, num, digits = []):\n",
    "        while num > 9: \n",
    "            d = num % 10\n",
    "            digits.append(d)\n",
    "            num = num//10\n",
    "        else:\n",
    "            digits.append(num)\n",
    "        return digits        \n",
    "        \n",
    "    def addDigits(self, num: int) -> int:\n",
    "        while num > 9: \n",
    "            digits = self.findDigits(num,[])\n",
    "            num = sum(digits)\n",
    "        else:\n",
    "            return num"
   ]
  },
  {
   "cell_type": "code",
   "execution_count": 56,
   "id": "bc3dbf13",
   "metadata": {},
   "outputs": [
    {
     "name": "stdout",
     "output_type": "stream",
     "text": [
      "2\n"
     ]
    }
   ],
   "source": [
    "num = 38\n",
    "print(Solution().addDigits(num))"
   ]
  },
  {
   "cell_type": "code",
   "execution_count": 57,
   "id": "df47160a",
   "metadata": {},
   "outputs": [
    {
     "name": "stdout",
     "output_type": "stream",
     "text": [
      "2\n"
     ]
    }
   ],
   "source": [
    "num = 11\n",
    "print(Solution().addDigits(num))"
   ]
  },
  {
   "cell_type": "code",
   "execution_count": 58,
   "id": "8142f5dd",
   "metadata": {},
   "outputs": [
    {
     "name": "stdout",
     "output_type": "stream",
     "text": [
      "5\n"
     ]
    }
   ],
   "source": [
    "num = 23\n",
    "print(Solution().addDigits(num))"
   ]
  }
 ],
 "metadata": {
  "kernelspec": {
   "display_name": "Python 3",
   "language": "python",
   "name": "python3"
  },
  "language_info": {
   "codemirror_mode": {
    "name": "ipython",
    "version": 3
   },
   "file_extension": ".py",
   "mimetype": "text/x-python",
   "name": "python",
   "nbconvert_exporter": "python",
   "pygments_lexer": "ipython3",
   "version": "3.7.4"
  }
 },
 "nbformat": 4,
 "nbformat_minor": 5
}
