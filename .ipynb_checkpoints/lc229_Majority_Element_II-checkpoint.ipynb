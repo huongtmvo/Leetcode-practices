{
 "cells": [
  {
   "cell_type": "markdown",
   "id": "85a28fd0",
   "metadata": {},
   "source": [
    "https://leetcode.com/problems/majority-element-ii/"
   ]
  },
  {
   "cell_type": "code",
   "execution_count": null,
   "id": "c1ace08b",
   "metadata": {},
   "outputs": [],
   "source": [
    "class Solution:\n",
    "    def majorityElement2(self, nums: List[int]) -> List[int]:\n",
    "        from collections import Counter\n",
    "        lookup = Counter(nums)\n",
    "        ans = []\n",
    "        for k, v in lookup.items():\n",
    "            if v > len(nums)/3:\n",
    "                ans.append(k)\n",
    "        return ans\n",
    "    \n",
    "    # Boyer-Moore Majority Vote algorithm to get O(N) running time and O(1) extra space\n",
    "    # Because the ceiling is n>3, there are at most 2 numbers that meet the requirements\n",
    "\n",
    "    def majorityElement(self, nums):\n",
    "        if len(nums) == 0:\n",
    "            return []\n",
    "        \n",
    "        count1, count2, candidate1, candidate2 = 0, 0, 0, 1\n",
    "        for number in nums:\n",
    "            if number == candidate1:\n",
    "                count1 += 1\n",
    "            elif number == candidate2:\n",
    "                count2 += 1\n",
    "            elif count1 == 0:\n",
    "                candidate1, count1 = number, 1\n",
    "            elif count2 == 0:\n",
    "                candidate2, count2 = number, 1\n",
    "            else:\n",
    "                count1, count2 = count1 - 1, count2 - 1\n",
    "                \n",
    "        return [number for number in (candidate1, candidate2)\n",
    "                        if nums.count(number) > len(nums) // 3]\n",
    "\n",
    "    # Run 3 times along nums"
   ]
  }
 ],
 "metadata": {
  "kernelspec": {
   "display_name": "Python 3",
   "language": "python",
   "name": "python3"
  },
  "language_info": {
   "codemirror_mode": {
    "name": "ipython",
    "version": 3
   },
   "file_extension": ".py",
   "mimetype": "text/x-python",
   "name": "python",
   "nbconvert_exporter": "python",
   "pygments_lexer": "ipython3",
   "version": "3.7.4"
  }
 },
 "nbformat": 4,
 "nbformat_minor": 5
}
