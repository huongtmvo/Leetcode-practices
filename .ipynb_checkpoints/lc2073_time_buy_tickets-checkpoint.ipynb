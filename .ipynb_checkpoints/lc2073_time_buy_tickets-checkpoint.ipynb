{
 "cells": [
  {
   "cell_type": "markdown",
   "id": "16e7bda0",
   "metadata": {},
   "source": [
    "### 2073. Time Needed to Buy Tickets"
   ]
  },
  {
   "cell_type": "code",
   "execution_count": 29,
   "id": "2b484515",
   "metadata": {},
   "outputs": [],
   "source": [
    "from collections import deque\n",
    "from typing import List\n",
    "class Solution:\n",
    "    def timeRequiredToBuy(self, tickets: List[int], k: int) -> int:\n",
    "        queue = deque(tickets)\n",
    "        seconds = 0 \n",
    "       \n",
    "        while queue[k] != 0:\n",
    "            for i in range(len(tickets)):\n",
    "                cur = queue.popleft()\n",
    "                if cur > 0: \n",
    "                    seconds += 1\n",
    "                    cur -= 1\n",
    "                    if i == k and cur == 0:\n",
    "                        return seconds\n",
    "                queue.append(cur)\n",
    "        return seconds  \n",
    "\n",
    "# Complexity analysis: \n",
    "# Running time: O(N*tickets[k])\n",
    "# Space: O(N)"
   ]
  },
  {
   "cell_type": "code",
   "execution_count": 30,
   "id": "e417cca6",
   "metadata": {},
   "outputs": [
    {
     "data": {
      "text/plain": [
       "6"
      ]
     },
     "execution_count": 30,
     "metadata": {},
     "output_type": "execute_result"
    }
   ],
   "source": [
    "tickets = [2,3,2]; k = 2\n",
    "Solution().timeRequiredToBuy(tickets,k)"
   ]
  },
  {
   "cell_type": "code",
   "execution_count": 31,
   "id": "4dd2d7f5",
   "metadata": {},
   "outputs": [
    {
     "data": {
      "text/plain": [
       "8"
      ]
     },
     "execution_count": 31,
     "metadata": {},
     "output_type": "execute_result"
    }
   ],
   "source": [
    "tickets = [5,1,1,1]; k = 0\n",
    "Solution().timeRequiredToBuy(tickets,k)"
   ]
  },
  {
   "cell_type": "code",
   "execution_count": 32,
   "id": "f6140bdc",
   "metadata": {},
   "outputs": [
    {
     "data": {
      "text/plain": [
       "154"
      ]
     },
     "execution_count": 32,
     "metadata": {},
     "output_type": "execute_result"
    }
   ],
   "source": [
    "tickets = [84,49,5,24,70,77,87,8]; k = 3\n",
    "Solution().timeRequiredToBuy(tickets,k)"
   ]
  },
  {
   "cell_type": "code",
   "execution_count": null,
   "id": "f1ee9d30",
   "metadata": {},
   "outputs": [],
   "source": []
  }
 ],
 "metadata": {
  "kernelspec": {
   "display_name": "Python 3",
   "language": "python",
   "name": "python3"
  },
  "language_info": {
   "codemirror_mode": {
    "name": "ipython",
    "version": 3
   },
   "file_extension": ".py",
   "mimetype": "text/x-python",
   "name": "python",
   "nbconvert_exporter": "python",
   "pygments_lexer": "ipython3",
   "version": "3.7.4"
  }
 },
 "nbformat": 4,
 "nbformat_minor": 5
}
