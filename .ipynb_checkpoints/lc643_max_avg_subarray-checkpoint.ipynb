{
 "cells": [
  {
   "cell_type": "markdown",
   "id": "5d05d477",
   "metadata": {},
   "source": [
    "643. Maximum Average Subarray I"
   ]
  },
  {
   "cell_type": "markdown",
   "id": "7948ed46",
   "metadata": {},
   "source": [
    "You are given an integer array nums consisting of n elements, and an integer k.\n",
    "\n",
    "Find a contiguous subarray whose length is equal to k that has the maximum average value and return this value. Any answer with a calculation error less than 10-5 will be accepted.\n",
    "\n"
   ]
  },
  {
   "cell_type": "markdown",
   "id": "d81a3e62",
   "metadata": {},
   "source": [
    "Input: nums = [1,12,-5,-6,50,3], k = 4\n",
    "Output: 12.75000\n",
    "Explanation: Maximum average is (12 - 5 - 6 + 50) / 4 = 51 / 4 = 12.75"
   ]
  },
  {
   "cell_type": "markdown",
   "id": "1eb27929",
   "metadata": {},
   "source": [
    "Input: nums = [5], k = 1\n",
    "Output: 5.00000"
   ]
  },
  {
   "cell_type": "markdown",
   "id": "16e67fb2",
   "metadata": {},
   "source": [
    "n == nums.length\n",
    "1 <= k <= n <= 105\n",
    "-104 <= nums[i] <= 104"
   ]
  },
  {
   "cell_type": "code",
   "execution_count": null,
   "id": "15f2ea63",
   "metadata": {},
   "outputs": [],
   "source": [
    "class Solution:\n",
    "    def findMaxAverage(self, nums: List[int], k: int) -> float:\n",
    "        "
   ]
  }
 ],
 "metadata": {
  "kernelspec": {
   "display_name": "Python 3",
   "language": "python",
   "name": "python3"
  },
  "language_info": {
   "codemirror_mode": {
    "name": "ipython",
    "version": 3
   },
   "file_extension": ".py",
   "mimetype": "text/x-python",
   "name": "python",
   "nbconvert_exporter": "python",
   "pygments_lexer": "ipython3",
   "version": "3.7.4"
  }
 },
 "nbformat": 4,
 "nbformat_minor": 5
}
