{
 "cells": [
  {
   "cell_type": "markdown",
   "id": "d81fcdfd",
   "metadata": {},
   "source": [
    "643. Maximum Average Subarray I"
   ]
  },
  {
   "cell_type": "code",
   "execution_count": 31,
   "id": "eb317f92",
   "metadata": {},
   "outputs": [],
   "source": [
    "from typing import List\n",
    "class Solution:\n",
    "    def findMaxAverage(self, nums: List[int], k: int) -> float:\n",
    "        # Calculate array sums, in which sums[i] is the sum of the numbers from 0 to i\n",
    "        if len(nums) < 1: return 0\n",
    "        if k > len(nums): return 0\n",
    "        \n",
    "        sums = [0]*(len(nums))\n",
    "        sums[0] = nums[0]\n",
    "        for i in range(1,len(nums)):\n",
    "            sums[i] = sums[i-1] + nums[i]\n",
    "        \n",
    "        ans = sums[k-1]/k\n",
    "        for i in range(k,len(nums)):\n",
    "            ans = max(ans, (sums[i]-sums[i-k])/k)\n",
    "        return ans\n",
    "# Time: O(N)\n",
    "# Space : O(N)"
   ]
  },
  {
   "cell_type": "code",
   "execution_count": 32,
   "id": "8e2a2c56",
   "metadata": {},
   "outputs": [
    {
     "data": {
      "text/plain": [
       "12.75"
      ]
     },
     "execution_count": 32,
     "metadata": {},
     "output_type": "execute_result"
    }
   ],
   "source": [
    "nums = [1,12,-5,-6,50,3]; k = 4\n",
    "Solution().findMaxAverage(nums,k)"
   ]
  },
  {
   "cell_type": "code",
   "execution_count": null,
   "id": "e2e223a4",
   "metadata": {},
   "outputs": [],
   "source": [
    "class Solution2:\n",
    "    def findMaxAverage(self, nums, k):\n",
    "        # find the sum of the first k elements of nums (the first window):\n",
    "        total = 0\n",
    "        for i in range(k):\n",
    "            total += nums[i]\n",
    "        res = total\n",
    "        \n",
    "        # for each window of k elements, the new window total=nums[i]-nums[i-k]\n",
    "        # find the max window\n",
    "        for i in range(k, len(nums)):\n",
    "            total += nums[i] - nums[i-k]\n",
    "            res = max(res, total)\n",
    "        return res/k\n",
    "    \n",
    "# Time O(N)\n",
    "# Space O(1)"
   ]
  }
 ],
 "metadata": {
  "kernelspec": {
   "display_name": "Python 3",
   "language": "python",
   "name": "python3"
  },
  "language_info": {
   "codemirror_mode": {
    "name": "ipython",
    "version": 3
   },
   "file_extension": ".py",
   "mimetype": "text/x-python",
   "name": "python",
   "nbconvert_exporter": "python",
   "pygments_lexer": "ipython3",
   "version": "3.7.4"
  }
 },
 "nbformat": 4,
 "nbformat_minor": 5
}
