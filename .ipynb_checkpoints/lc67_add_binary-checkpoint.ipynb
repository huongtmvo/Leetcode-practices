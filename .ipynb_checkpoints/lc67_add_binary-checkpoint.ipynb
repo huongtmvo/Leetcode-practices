{
 "cells": [
  {
   "cell_type": "markdown",
   "id": "733b156a",
   "metadata": {},
   "source": [
    "https://leetcode.com/problems/add-binary/"
   ]
  },
  {
   "cell_type": "code",
   "execution_count": 13,
   "id": "bd47356e",
   "metadata": {},
   "outputs": [],
   "source": [
    "class Solution:\n",
    "    def addBinary(self, a: str, b: str) -> str:\n",
    "        a = list(a)\n",
    "        b = list(b)\n",
    "        carry = 0\n",
    "        res = []\n",
    "        \n",
    "        while a or b or carry:\n",
    "            if a: \n",
    "                carry += int(a.pop())\n",
    "            if b: \n",
    "                carry += int(b.pop())\n",
    "            res.append(str(carry % 2))\n",
    "            carry //= 2\n",
    "        return ''.join(res[::-1]) "
   ]
  },
  {
   "cell_type": "code",
   "execution_count": 14,
   "id": "14dcc5b7",
   "metadata": {},
   "outputs": [
    {
     "data": {
      "text/plain": [
       "'100'"
      ]
     },
     "execution_count": 14,
     "metadata": {},
     "output_type": "execute_result"
    }
   ],
   "source": [
    "a = '11'\n",
    "b = '1'\n",
    "Solution().addBinary(a,b)"
   ]
  },
  {
   "cell_type": "code",
   "execution_count": null,
   "id": "c36cde33",
   "metadata": {},
   "outputs": [],
   "source": []
  }
 ],
 "metadata": {
  "kernelspec": {
   "display_name": "Python 3",
   "language": "python",
   "name": "python3"
  },
  "language_info": {
   "codemirror_mode": {
    "name": "ipython",
    "version": 3
   },
   "file_extension": ".py",
   "mimetype": "text/x-python",
   "name": "python",
   "nbconvert_exporter": "python",
   "pygments_lexer": "ipython3",
   "version": "3.7.4"
  }
 },
 "nbformat": 4,
 "nbformat_minor": 5
}
