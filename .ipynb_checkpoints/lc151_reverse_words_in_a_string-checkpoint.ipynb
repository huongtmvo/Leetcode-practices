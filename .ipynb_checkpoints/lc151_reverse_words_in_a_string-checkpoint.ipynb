{
 "cells": [
  {
   "cell_type": "markdown",
   "id": "1d311b6c",
   "metadata": {},
   "source": [
    "https://leetcode.com/problems/reverse-words-in-a-string/"
   ]
  },
  {
   "cell_type": "code",
   "execution_count": 19,
   "id": "640aa7c6",
   "metadata": {},
   "outputs": [],
   "source": [
    "class Solution:\n",
    "    def reverseWords(self, s: str) -> str:\n",
    "        ls = s.split()\n",
    "        res = []\n",
    "        for item in ls[:: -1]:\n",
    "            res.append(item)\n",
    "        return ' '.join(res)"
   ]
  },
  {
   "cell_type": "code",
   "execution_count": 20,
   "id": "e09d4407",
   "metadata": {},
   "outputs": [
    {
     "data": {
      "text/plain": [
       "'abd  dsds'"
      ]
     },
     "execution_count": 20,
     "metadata": {},
     "output_type": "execute_result"
    }
   ],
   "source": [
    "s = \"    abd  dsds   \"\n",
    "s.strip()\n",
    "# Strip() function can be used to remove leading and trailing white spaces"
   ]
  },
  {
   "cell_type": "code",
   "execution_count": null,
   "id": "b65be1d2",
   "metadata": {},
   "outputs": [],
   "source": []
  }
 ],
 "metadata": {
  "kernelspec": {
   "display_name": "Python 3",
   "language": "python",
   "name": "python3"
  },
  "language_info": {
   "codemirror_mode": {
    "name": "ipython",
    "version": 3
   },
   "file_extension": ".py",
   "mimetype": "text/x-python",
   "name": "python",
   "nbconvert_exporter": "python",
   "pygments_lexer": "ipython3",
   "version": "3.7.4"
  }
 },
 "nbformat": 4,
 "nbformat_minor": 5
}
