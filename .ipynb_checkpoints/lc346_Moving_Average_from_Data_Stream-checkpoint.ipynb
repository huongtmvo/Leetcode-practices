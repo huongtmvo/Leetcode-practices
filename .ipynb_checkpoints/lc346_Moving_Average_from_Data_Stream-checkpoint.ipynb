{
 "cells": [
  {
   "cell_type": "markdown",
   "id": "415fb264",
   "metadata": {},
   "source": [
    "https://leetcode.com/problems/moving-average-from-data-stream/"
   ]
  },
  {
   "cell_type": "code",
   "execution_count": 1,
   "id": "4151627e",
   "metadata": {},
   "outputs": [],
   "source": [
    "class MovingAverage:\n",
    "    def __init__(self, size):\n",
    "        self.size = size\n",
    "        self.queue = deque()\n",
    "        \n",
    "    def next(self,val):\n",
    "        if len(self.queue) < self.size:\n",
    "            self.queue.append(val)\n",
    "        else:\n",
    "            self.queue.popleft()\n",
    "            self.queue.append(val)\n",
    "        return sum(self.queue)/len(self.queue)\n",
    "        "
   ]
  },
  {
   "cell_type": "code",
   "execution_count": null,
   "id": "32d3170b",
   "metadata": {},
   "outputs": [],
   "source": []
  }
 ],
 "metadata": {
  "kernelspec": {
   "display_name": "Python 3",
   "language": "python",
   "name": "python3"
  },
  "language_info": {
   "codemirror_mode": {
    "name": "ipython",
    "version": 3
   },
   "file_extension": ".py",
   "mimetype": "text/x-python",
   "name": "python",
   "nbconvert_exporter": "python",
   "pygments_lexer": "ipython3",
   "version": "3.7.4"
  }
 },
 "nbformat": 4,
 "nbformat_minor": 5
}
