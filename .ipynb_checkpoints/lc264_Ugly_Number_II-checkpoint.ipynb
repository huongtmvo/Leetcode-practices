{
 "cells": [
  {
   "cell_type": "markdown",
   "id": "59cc1ae8",
   "metadata": {},
   "source": [
    "https://leetcode.com/problems/ugly-number-ii/"
   ]
  },
  {
   "cell_type": "code",
   "execution_count": null,
   "id": "d91b1d04",
   "metadata": {},
   "outputs": [],
   "source": [
    "class Solution:\n",
    "    def nthUglyNumber(self, n: int) -> int:\n",
    "        ugly = [1]\n",
    "        \n",
    "        i2, i3, i5 = 0, 0, 0\n",
    "        while n > 1:\n",
    "            n2, n3, n5 = 2*ugly[i2], 3*ugly[i3], 5*ugly[i5]\n",
    "            n_min = min(n2,n3,n5)\n",
    "            ugly.append(n_min)\n",
    "            \n",
    "            if n_min == n2: i2 += 1\n",
    "            if n_min == n3: i3 += 1\n",
    "            if n_min == n5: i5 += 1\n",
    "            n -= 1\n",
    "        return ugly[-1]"
   ]
  }
 ],
 "metadata": {
  "kernelspec": {
   "display_name": "Python 3",
   "language": "python",
   "name": "python3"
  },
  "language_info": {
   "codemirror_mode": {
    "name": "ipython",
    "version": 3
   },
   "file_extension": ".py",
   "mimetype": "text/x-python",
   "name": "python",
   "nbconvert_exporter": "python",
   "pygments_lexer": "ipython3",
   "version": "3.7.4"
  }
 },
 "nbformat": 4,
 "nbformat_minor": 5
}
