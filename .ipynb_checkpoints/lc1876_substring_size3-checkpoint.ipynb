{
 "cells": [
  {
   "cell_type": "markdown",
   "id": "03213f48",
   "metadata": {},
   "source": [
    "1876. Substrings of Size Three with Distinct Characters"
   ]
  },
  {
   "cell_type": "markdown",
   "id": "77e5422f",
   "metadata": {},
   "source": [
    "A string is good if there are no repeated characters.\n",
    "\n",
    "Given a string s​​​​​, return the number of good substrings of length three in s​​​​​​.\n",
    "\n",
    "Note that if there are multiple occurrences of the same substring, every occurrence should be counted.\n",
    "\n",
    "A substring is a contiguous sequence of characters in a string."
   ]
  },
  {
   "cell_type": "markdown",
   "id": "677904d9",
   "metadata": {},
   "source": [
    "Input: s = \"xyzzaz\"\n",
    "\n",
    "Output: 1\n",
    "\n",
    "Explanation: There are 4 substrings of size 3: \"xyz\", \"yzz\", \"zza\", and \"zaz\". \n",
    "\n",
    "The only good substring of length 3 is \"xyz\"."
   ]
  },
  {
   "cell_type": "markdown",
   "id": "08243679",
   "metadata": {},
   "source": [
    "Input: s = \"aababcabc\"\n",
    "\n",
    "Output: 4\n",
    "\n",
    "Explanation: There are 7 substrings of size 3: \"aab\", \"aba\", \"bab\", \"abc\", \"bca\", \"cab\", and \"abc\".\n",
    "\n",
    "The good substrings are \"abc\", \"bca\", \"cab\", and \"abc\"."
   ]
  },
  {
   "cell_type": "markdown",
   "id": "34d85a38",
   "metadata": {},
   "source": [
    "1 <= s.length <= 100\n",
    "\n",
    "s​​​​​​ consists of lowercase English letters."
   ]
  },
  {
   "cell_type": "code",
   "execution_count": null,
   "id": "43d8db56",
   "metadata": {},
   "outputs": [],
   "source": [
    "class Solution:\n",
    "    def countGoodSubstrings(self, s: str) -> int:\n",
    "        "
   ]
  }
 ],
 "metadata": {
  "kernelspec": {
   "display_name": "Python 3",
   "language": "python",
   "name": "python3"
  },
  "language_info": {
   "codemirror_mode": {
    "name": "ipython",
    "version": 3
   },
   "file_extension": ".py",
   "mimetype": "text/x-python",
   "name": "python",
   "nbconvert_exporter": "python",
   "pygments_lexer": "ipython3",
   "version": "3.7.4"
  }
 },
 "nbformat": 4,
 "nbformat_minor": 5
}
