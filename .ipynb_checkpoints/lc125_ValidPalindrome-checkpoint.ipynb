{
 "cells": [
  {
   "cell_type": "markdown",
   "id": "71ec8393",
   "metadata": {},
   "source": [
    "https://leetcode.com/problems/valid-palindrome/"
   ]
  },
  {
   "cell_type": "code",
   "execution_count": 1,
   "id": "0371115f",
   "metadata": {},
   "outputs": [],
   "source": [
    "class Solution:\n",
    "    def isPalindrome2(self, s: str) -> bool:\n",
    "        s = s.lower()\n",
    "        lst = []\n",
    "        for c in s:\n",
    "            if c.isalnum():\n",
    "                lst.append(c)\n",
    "        if len(lst) <= 1:\n",
    "            return True\n",
    "        for i in range(((len(lst) -1 ) //2 ) + 1):\n",
    "            if lst[i] != lst[len(lst) - 1 -  i]:\n",
    "                return False\n",
    "        return True\n",
    "    \n",
    "    def isPalindrome(self, s: str) -> bool:\n",
    "        l, r = 0, len(s) - 1\n",
    "        while l < r:\n",
    "            if not s[l].isalnum():\n",
    "                l += 1\n",
    "            elif not s[r].isalnum():\n",
    "                r -= 1\n",
    "            elif s[l].lower() != s[r].lower():\n",
    "                return False\n",
    "            else:\n",
    "                l += 1\n",
    "                r -= 1\n",
    "        return True\n",
    "    "
   ]
  },
  {
   "cell_type": "code",
   "execution_count": 2,
   "id": "54f1ce59",
   "metadata": {},
   "outputs": [
    {
     "data": {
      "text/plain": [
       "True"
      ]
     },
     "execution_count": 2,
     "metadata": {},
     "output_type": "execute_result"
    }
   ],
   "source": [
    "s = \"A man, a plan, a canal: Panama\"\n",
    "Solution().isPalindrome(s)"
   ]
  },
  {
   "cell_type": "code",
   "execution_count": null,
   "id": "610923ae",
   "metadata": {},
   "outputs": [],
   "source": []
  }
 ],
 "metadata": {
  "kernelspec": {
   "display_name": "Python 3",
   "language": "python",
   "name": "python3"
  },
  "language_info": {
   "codemirror_mode": {
    "name": "ipython",
    "version": 3
   },
   "file_extension": ".py",
   "mimetype": "text/x-python",
   "name": "python",
   "nbconvert_exporter": "python",
   "pygments_lexer": "ipython3",
   "version": "3.7.4"
  }
 },
 "nbformat": 4,
 "nbformat_minor": 5
}
