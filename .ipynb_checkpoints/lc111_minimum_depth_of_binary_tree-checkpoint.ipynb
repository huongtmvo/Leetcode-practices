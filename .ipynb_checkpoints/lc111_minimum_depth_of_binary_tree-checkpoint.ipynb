{
 "cells": [
  {
   "cell_type": "markdown",
   "id": "3da23586",
   "metadata": {},
   "source": [
    "https://leetcode.com/problems/minimum-depth-of-binary-tree/"
   ]
  },
  {
   "cell_type": "code",
   "execution_count": 4,
   "id": "7d963d9f",
   "metadata": {},
   "outputs": [],
   "source": [
    "class TreeNode:\n",
    "    def __init__(self,val=0,left=None,right=None):\n",
    "                 self.val = val\n",
    "                 self.left = left\n",
    "                 self.right = right            "
   ]
  },
  {
   "cell_type": "code",
   "execution_count": 7,
   "id": "f15ad8ed",
   "metadata": {},
   "outputs": [],
   "source": [
    "from typing import Optional\n",
    "class Solution:\n",
    "    def minDepth(self, root: Optional[TreeNode]) -> int:\n",
    "        if not root: return 0\n",
    "        if not root.left and not root.right: return 1\n",
    "        \n",
    "        min_left, min_right = float('inf'), float('inf')\n",
    "        if root.left:\n",
    "            min_left = self.minDepth(root.left) + 1\n",
    "        if root.right:\n",
    "            min_right = self.minDepth(root.right) + 1\n",
    "        \n",
    "        return min(min_left, min_right)\n",
    "    \n",
    "    # Solution 2: similar algorithm but with different implementation\n",
    "    def minDepth(self, root:Optional[TreeNode]) -> int:\n",
    "        if not root: return 0\n",
    "        if not root.left or not root.right: \n",
    "            return self.minDepth(root.left) + self.minDepth(root.right) + 1\n",
    "        return min(self.minDepth(root.left), self.minDepth(root.right)) + 1"
   ]
  }
 ],
 "metadata": {
  "kernelspec": {
   "display_name": "Python 3",
   "language": "python",
   "name": "python3"
  },
  "language_info": {
   "codemirror_mode": {
    "name": "ipython",
    "version": 3
   },
   "file_extension": ".py",
   "mimetype": "text/x-python",
   "name": "python",
   "nbconvert_exporter": "python",
   "pygments_lexer": "ipython3",
   "version": "3.7.4"
  }
 },
 "nbformat": 4,
 "nbformat_minor": 5
}
