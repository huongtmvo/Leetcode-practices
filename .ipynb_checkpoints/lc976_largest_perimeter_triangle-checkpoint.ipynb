{
 "cells": [
  {
   "cell_type": "markdown",
   "id": "f37eda17",
   "metadata": {},
   "source": [
    "https://leetcode.com/problems/largest-perimeter-triangle/"
   ]
  },
  {
   "cell_type": "code",
   "execution_count": 4,
   "id": "d77cd4ab",
   "metadata": {},
   "outputs": [],
   "source": [
    "from typing import List\n",
    "class Solution:\n",
    "    def largestPerimeter(self, nums: List[int]) -> int:\n",
    "        nums.sort(reverse = True)\n",
    "        for i in range(len(nums) - 2):\n",
    "            if nums[i] < nums[i+1] + nums[i+2]:\n",
    "                return nums[i] + nums[i+1] + nums[i+2]\n",
    "        return 0 "
   ]
  },
  {
   "cell_type": "code",
   "execution_count": 5,
   "id": "2c89cd5a",
   "metadata": {},
   "outputs": [
    {
     "data": {
      "text/plain": [
       "13"
      ]
     },
     "execution_count": 5,
     "metadata": {},
     "output_type": "execute_result"
    }
   ],
   "source": [
    "nums = [6,4,2,3,1]\n",
    "Solution().largestPerimeter(nums)"
   ]
  },
  {
   "cell_type": "code",
   "execution_count": 6,
   "id": "7c72b08b",
   "metadata": {},
   "outputs": [
    {
     "data": {
      "text/plain": [
       "0"
      ]
     },
     "execution_count": 6,
     "metadata": {},
     "output_type": "execute_result"
    }
   ],
   "source": [
    "nums = [6,4,2,1,0]\n",
    "Solution().largestPerimeter(nums)"
   ]
  },
  {
   "cell_type": "code",
   "execution_count": null,
   "id": "d4d2e44d",
   "metadata": {},
   "outputs": [],
   "source": []
  }
 ],
 "metadata": {
  "kernelspec": {
   "display_name": "Python 3",
   "language": "python",
   "name": "python3"
  },
  "language_info": {
   "codemirror_mode": {
    "name": "ipython",
    "version": 3
   },
   "file_extension": ".py",
   "mimetype": "text/x-python",
   "name": "python",
   "nbconvert_exporter": "python",
   "pygments_lexer": "ipython3",
   "version": "3.7.4"
  }
 },
 "nbformat": 4,
 "nbformat_minor": 5
}
