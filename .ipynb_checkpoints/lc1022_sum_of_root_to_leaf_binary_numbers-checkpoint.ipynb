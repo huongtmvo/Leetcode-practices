{
 "cells": [
  {
   "cell_type": "markdown",
   "id": "9017f8a6",
   "metadata": {},
   "source": [
    "https://leetcode.com/problems/sum-of-root-to-leaf-binary-numbers/"
   ]
  },
  {
   "cell_type": "code",
   "execution_count": null,
   "id": "9cb7b13b",
   "metadata": {},
   "outputs": [],
   "source": [
    "def sumRootToLeaf(self, root, val=0):\n",
    "    if not root: return 0\n",
    "    val = val * 2 + root.val\n",
    "    if root.left == root.right: return val\n",
    "    return self.sumRootToLeaf(root.left, val) + self.sumRootToLeaf(root.right, val)"
   ]
  },
  {
   "cell_type": "code",
   "execution_count": null,
   "id": "32c84215",
   "metadata": {},
   "outputs": [],
   "source": [
    "# Definition for a binary tree node.\n",
    "# class TreeNode(object):\n",
    "#     def __init__(self, x):\n",
    "#         self.val = x\n",
    "#         self.left = None\n",
    "#         self.right = None\n",
    "\n",
    "class Solution(object):\n",
    "    def sumRootToLeaf(self, root):\n",
    "        \"\"\"\n",
    "        :type root: TreeNode\n",
    "        :rtype: int\n",
    "        \"\"\"\n",
    "        \n",
    "        # Logic 1: Recursive traverse - 100 pass 63% faster\n",
    "        \n",
    "        # Collect all the path in binary in a list\n",
    "        self.path_to_leaf = []\n",
    "        # Track total binary sum and return result\n",
    "        self.total_binary_sum = 0\n",
    "        \n",
    "        # Traverse tree function\n",
    "        def traverse(node, path):\n",
    "            # If not leaf node, record the path left or right\n",
    "            if node.left:\n",
    "                traverse(node.left, path+str(node.val))\n",
    "            if node.right:\n",
    "                traverse(node.right, path+str(node.val))\n",
    "            \n",
    "            # Leaf node detect and record path\n",
    "            if not node.left and not node.right:\n",
    "                path += str(node.val)\n",
    "                self.path_to_leaf.append(path)\n",
    "                self.total_binary_sum += int(path, 2)\n",
    "        \n",
    "        traverse(root, \"\")\n",
    "        print(self.path_to_leaf)\n",
    "        return self.total_binary_sum\n",
    "        # Logic 2: Iterative method - 100 pass 83 percent faster\n",
    "        # * Each element of the list has the node and the path to it\n",
    "        \n",
    "        stack = [[root, \"\"]] # iteration to keep track\n",
    "        result = 0 # result holder\n",
    "        \n",
    "        # Traverse nodes by stacking them\n",
    "        while stack:\n",
    "            # current node and path tracking\n",
    "            current, path = stack.pop(0)\n",
    "            \n",
    "            # traverse with path \n",
    "            if current.left:\n",
    "                stack.append([current.left, path+str(current.val)])\n",
    "            if current.right:\n",
    "                stack.append([current.right, path+str(current.val)])\n",
    "            \n",
    "            # leaf node condition when we update result\n",
    "            if not current.left and not current.right:\n",
    "                path += str(current.val)\n",
    "                result += int(path, 2)\n",
    "                \n",
    "        return result"
   ]
  }
 ],
 "metadata": {
  "kernelspec": {
   "display_name": "Python 3",
   "language": "python",
   "name": "python3"
  },
  "language_info": {
   "codemirror_mode": {
    "name": "ipython",
    "version": 3
   },
   "file_extension": ".py",
   "mimetype": "text/x-python",
   "name": "python",
   "nbconvert_exporter": "python",
   "pygments_lexer": "ipython3",
   "version": "3.7.4"
  }
 },
 "nbformat": 4,
 "nbformat_minor": 5
}
