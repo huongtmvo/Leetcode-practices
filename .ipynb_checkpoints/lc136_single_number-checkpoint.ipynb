{
 "cells": [
  {
   "cell_type": "markdown",
   "id": "86c0001d",
   "metadata": {},
   "source": [
    "https://leetcode.com/problems/single-number/"
   ]
  },
  {
   "cell_type": "code",
   "execution_count": 32,
   "id": "b65e4ae3",
   "metadata": {},
   "outputs": [],
   "source": [
    "from typing import List\n",
    "class Solution:\n",
    "    def singleNumber1(self, nums: List[int]) -> int:\n",
    "        return 2*sum(set(nums)) - sum(nums)\n",
    "    \n",
    "     def singleNumber2(self, nums):\n",
    "        res = 0\n",
    "        for num in nums:\n",
    "            res ^= num\n",
    "        return res\n",
    "    \n",
    "    #use extra space\n",
    "    from collections import Counter\n",
    "    def singleNumber(self, nums: List[int]) -> int:\n",
    "        counter = Counter(nums)\n",
    "        for k,v in counter.items():\n",
    "            if v == 1:\n",
    "                return k"
   ]
  },
  {
   "cell_type": "code",
   "execution_count": 33,
   "id": "095ec20f",
   "metadata": {},
   "outputs": [
    {
     "data": {
      "text/plain": [
       "4"
      ]
     },
     "execution_count": 33,
     "metadata": {},
     "output_type": "execute_result"
    }
   ],
   "source": [
    "nums = [4,1,2,1,2]\n",
    "Solution().singleNumber2(nums)"
   ]
  },
  {
   "cell_type": "code",
   "execution_count": 34,
   "id": "7ddde450",
   "metadata": {},
   "outputs": [
    {
     "data": {
      "text/plain": [
       "1"
      ]
     },
     "execution_count": 34,
     "metadata": {},
     "output_type": "execute_result"
    }
   ],
   "source": [
    "nums = [2,2,1]\n",
    "Solution().singleNumber2(nums)"
   ]
  }
 ],
 "metadata": {
  "kernelspec": {
   "display_name": "Python 3",
   "language": "python",
   "name": "python3"
  },
  "language_info": {
   "codemirror_mode": {
    "name": "ipython",
    "version": 3
   },
   "file_extension": ".py",
   "mimetype": "text/x-python",
   "name": "python",
   "nbconvert_exporter": "python",
   "pygments_lexer": "ipython3",
   "version": "3.7.4"
  }
 },
 "nbformat": 4,
 "nbformat_minor": 5
}
