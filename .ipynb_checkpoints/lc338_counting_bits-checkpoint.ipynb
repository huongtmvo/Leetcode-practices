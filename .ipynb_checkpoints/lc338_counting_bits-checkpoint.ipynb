{
 "cells": [
  {
   "cell_type": "markdown",
   "id": "4fcaa659",
   "metadata": {},
   "source": [
    "### 338. Counting Bits"
   ]
  },
  {
   "cell_type": "code",
   "execution_count": 20,
   "id": "a6fa279e",
   "metadata": {},
   "outputs": [],
   "source": [
    "from typing import List\n",
    "class Solution:\n",
    "    # Solution: Use built-in function bin() to format decimal number to binary number\n",
    "    # Time: O(N)\n",
    "    # Space: O(N)\n",
    "    def countBits(self, n: int) -> List[int]:\n",
    "        res = []\n",
    "        for i in range(n+1):\n",
    "            binary_num = bin(i)[2:]\n",
    "            ones = [x for x in binary_num if x == '1']\n",
    "            res.append(len(ones))\n",
    "        return res"
   ]
  },
  {
   "cell_type": "code",
   "execution_count": 21,
   "id": "8f460008",
   "metadata": {},
   "outputs": [
    {
     "data": {
      "text/plain": [
       "[0, 1, 1, 2, 1, 2]"
      ]
     },
     "execution_count": 21,
     "metadata": {},
     "output_type": "execute_result"
    }
   ],
   "source": [
    "n = 5\n",
    "Solution().countBits(n)"
   ]
  },
  {
   "cell_type": "code",
   "execution_count": 22,
   "id": "b5d0c042",
   "metadata": {},
   "outputs": [
    {
     "data": {
      "text/plain": [
       "[0, 1, 1]"
      ]
     },
     "execution_count": 22,
     "metadata": {},
     "output_type": "execute_result"
    }
   ],
   "source": [
    "n = 2\n",
    "Solution().countBits(n)"
   ]
  }
 ],
 "metadata": {
  "kernelspec": {
   "display_name": "Python 3",
   "language": "python",
   "name": "python3"
  },
  "language_info": {
   "codemirror_mode": {
    "name": "ipython",
    "version": 3
   },
   "file_extension": ".py",
   "mimetype": "text/x-python",
   "name": "python",
   "nbconvert_exporter": "python",
   "pygments_lexer": "ipython3",
   "version": "3.7.4"
  }
 },
 "nbformat": 4,
 "nbformat_minor": 5
}
