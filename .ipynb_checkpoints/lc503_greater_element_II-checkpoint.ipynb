{
 "cells": [
  {
   "cell_type": "markdown",
   "id": "afb0dc3f",
   "metadata": {},
   "source": [
    "### 503. Next Greater Element II\n",
    "\n",
    "Given a circular integer array nums (i.e., the next element of nums[nums.length - 1] is nums[0]), return the next greater number for every element in nums.\n"
   ]
  },
  {
   "cell_type": "code",
   "execution_count": 64,
   "id": "4a79e6e7",
   "metadata": {},
   "outputs": [],
   "source": [
    "from typing import List\n",
    "class Solution(object):\n",
    "    # Solution 1: Brute force\n",
    "    # Time: O(N^2)\n",
    "    # Space: O(N)\n",
    "    def nextGreaterElements3(self, nums: List[int]) -> List[int]:\n",
    "        n = len(nums)\n",
    "        ans = [-1] * n\n",
    "        for i in range(n):\n",
    "            for j in range(i+1, i + n): # search for the next n-1 numbers\n",
    "                if nums[j % n] > nums[i]:\n",
    "                    ans[i] = nums[j % n]\n",
    "                    break\n",
    "        return ans  \n",
    "    \n",
    "    # Solution 2: Use stacks\n",
    "    # Time: O(N)\n",
    "    # Space: O(N)\n",
    "    def nextGreaterElements(self, nums):\n",
    "        n = len(nums)\n",
    "        ans = [-1] * n\n",
    "        stack = nums[::-1]\n",
    "        for i in range(n - 1, -1, -1):\n",
    "            while stack and stack[-1] <= nums[i]:\n",
    "                stack.pop()\n",
    "            if stack:\n",
    "                ans[i] = stack[-1]\n",
    "            stack.append(nums[i])\n",
    "        return ans\n",
    "    \n",
    "    def nextGreaterElements2(self, nums: List[int]) -> List[int]:\n",
    "        stack = []\n",
    "        n = len(nums)\n",
    "        ans = [-1] * n\n",
    "        for i in range(2*n-1, -1, -1):\n",
    "            while stack and stack[-1] <= nums[i%n]:\n",
    "                stack.pop()\n",
    "            if stack and i < n:\n",
    "                ans[i] = stack[-1]\n",
    "            stack.append(nums[i%n])\n",
    "        return ans  "
   ]
  },
  {
   "cell_type": "code",
   "execution_count": 65,
   "id": "c372ddd2",
   "metadata": {},
   "outputs": [
    {
     "data": {
      "text/plain": [
       "[2, -1, 2]"
      ]
     },
     "execution_count": 65,
     "metadata": {},
     "output_type": "execute_result"
    }
   ],
   "source": [
    "nums = [1,2,1] \n",
    "Solution().nextGreaterElements3(nums)"
   ]
  },
  {
   "cell_type": "code",
   "execution_count": 66,
   "id": "7f4c61f3",
   "metadata": {},
   "outputs": [
    {
     "data": {
      "text/plain": [
       "[2, 3, 4, -1, 4]"
      ]
     },
     "execution_count": 66,
     "metadata": {},
     "output_type": "execute_result"
    }
   ],
   "source": [
    "nums = [1,2,3,4,3]\n",
    "Solution().nextGreaterElements3(nums)"
   ]
  }
 ],
 "metadata": {
  "kernelspec": {
   "display_name": "Python 3",
   "language": "python",
   "name": "python3"
  },
  "language_info": {
   "codemirror_mode": {
    "name": "ipython",
    "version": 3
   },
   "file_extension": ".py",
   "mimetype": "text/x-python",
   "name": "python",
   "nbconvert_exporter": "python",
   "pygments_lexer": "ipython3",
   "version": "3.7.4"
  }
 },
 "nbformat": 4,
 "nbformat_minor": 5
}
