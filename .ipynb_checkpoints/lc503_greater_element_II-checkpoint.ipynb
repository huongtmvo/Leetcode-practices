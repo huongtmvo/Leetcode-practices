{
 "cells": [
  {
   "cell_type": "markdown",
   "id": "25c70618",
   "metadata": {},
   "source": [
    "### 503. Next Greater Element II\n",
    "\n",
    "Given a circular integer array nums (i.e., the next element of nums[nums.length - 1] is nums[0]), return the next greater number for every element in nums.\n"
   ]
  },
  {
   "cell_type": "code",
   "execution_count": 90,
   "id": "88ed8e3b",
   "metadata": {},
   "outputs": [],
   "source": [
    "from typing import List\n",
    "class Solution(object):\n",
    "    # Solution 1: Brute force\n",
    "    # Time: O(N^2)\n",
    "    # Space: O(N)\n",
    "    def nextGreaterElements1(self, nums: List[int]) -> List[int]:\n",
    "        n = len(nums)\n",
    "        ans = [-1] * n\n",
    "        for i in range(n):\n",
    "            for j in range(i+1, i + n): # search for the next n-1 numbers\n",
    "                if nums[j % n] > nums[i]:\n",
    "                    ans[i] = nums[j % n]\n",
    "                    break\n",
    "        return ans  \n",
    "    \n",
    "    # Solution 2: Use stacks\n",
    "    # Time: O(N)\n",
    "    # Space: O(N)\n",
    "    def nextGreaterElements2(self, nums):\n",
    "        n = len(nums)\n",
    "        ans = [-1] * n\n",
    "        stack = nums[::-1]\n",
    "        for i in range(n - 1, -1, -1):\n",
    "            while stack and stack[-1] <= nums[i]:\n",
    "                stack.pop()\n",
    "            if stack:\n",
    "                ans[i] = stack[-1]\n",
    "            stack.append(nums[i])\n",
    "#             print('stack', stack)\n",
    "        return ans\n",
    "    \n",
    "    def nextGreaterElements3(self, nums: List[int]) -> List[int]:\n",
    "        stack = []\n",
    "        n = len(nums)\n",
    "        ans = [-1] * n\n",
    "        for i in range(2*n-1, -1, -1):\n",
    "            while stack and stack[-1] <= nums[i%n]:\n",
    "                stack.pop()\n",
    "            if stack and i < n:\n",
    "                ans[i] = stack[-1]\n",
    "            stack.append(nums[i%n])\n",
    "        return ans  \n",
    "    "
   ]
  },
  {
   "cell_type": "code",
   "execution_count": 91,
   "id": "b5519e4c",
   "metadata": {},
   "outputs": [
    {
     "data": {
      "text/plain": [
       "[120, 11, 120, 120, 123, 123, -1, 100, 100, 100]"
      ]
     },
     "execution_count": 91,
     "metadata": {},
     "output_type": "execute_result"
    }
   ],
   "source": [
    "nums = [100,1,11,1,120,111,123,1,-1,-100]\n",
    "Solution().nextGreaterElements1(nums)"
   ]
  },
  {
   "cell_type": "code",
   "execution_count": 92,
   "id": "16a9429e",
   "metadata": {},
   "outputs": [
    {
     "data": {
      "text/plain": [
       "[2, -1, 2]"
      ]
     },
     "execution_count": 92,
     "metadata": {},
     "output_type": "execute_result"
    }
   ],
   "source": [
    "nums = [1,2,1] \n",
    "Solution().nextGreaterElements1(nums)"
   ]
  },
  {
   "cell_type": "code",
   "execution_count": 93,
   "id": "6a943431",
   "metadata": {},
   "outputs": [
    {
     "data": {
      "text/plain": [
       "[2, 3, 4, -1, 4]"
      ]
     },
     "execution_count": 93,
     "metadata": {},
     "output_type": "execute_result"
    }
   ],
   "source": [
    "nums = [1,2,3,4,3]\n",
    "Solution().nextGreaterElements2(nums)"
   ]
  },
  {
   "cell_type": "code",
   "execution_count": null,
   "id": "f422f757",
   "metadata": {},
   "outputs": [],
   "source": []
  }
 ],
 "metadata": {
  "kernelspec": {
   "display_name": "Python 3",
   "language": "python",
   "name": "python3"
  },
  "language_info": {
   "codemirror_mode": {
    "name": "ipython",
    "version": 3
   },
   "file_extension": ".py",
   "mimetype": "text/x-python",
   "name": "python",
   "nbconvert_exporter": "python",
   "pygments_lexer": "ipython3",
   "version": "3.7.4"
  }
 },
 "nbformat": 4,
 "nbformat_minor": 5
}
