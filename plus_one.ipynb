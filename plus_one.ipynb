{
 "cells": [
  {
   "cell_type": "markdown",
   "id": "080a9a0d",
   "metadata": {},
   "source": [
    "#### Plus One\n",
    "\n",
    "You are given a large integer represented as an integer array digits, where each digits[i] is the ith digit of the integer. The digits are ordered from most significant to least significant in left-to-right order. The large integer does not contain any leading 0's.\n",
    "\n",
    "Increment the large integer by one and return the resulting array of digits.\n",
    "\n",
    "Example 1:\n",
    "Input: digits = [1,2,3]\n",
    "Output: [1,2,4]\n",
    "Explanation: The array represents the integer 123.\n",
    "Incrementing by one gives 123 + 1 = 124.\n",
    "Thus, the result should be [1,2,4].\n",
    "\n",
    "Example 2:\n",
    "Input: digits = [4,3,2,1]\n",
    "Output: [4,3,2,2]\n",
    "Explanation: The array represents the integer 4321.\n",
    "Incrementing by one gives 4321 + 1 = 4322.\n",
    "Thus, the result should be [4,3,2,2].\n",
    "\n",
    "Example 3:\n",
    "Input: digits = [0]\n",
    "Output: [1]\n",
    "Explanation: The array represents the integer 0.\n",
    "Incrementing by one gives 0 + 1 = 1.\n",
    "Thus, the result should be [1].\n",
    "\n",
    "Example 4:\n",
    "Input: digits = [9]\n",
    "Output: [1,0]\n",
    "Explanation: The array represents the integer 9.\n",
    "Incrementing by one gives 9 + 1 = 10.\n",
    "Thus, the result should be [1,0].\n",
    " "
   ]
  },
  {
   "cell_type": "markdown",
   "id": "df9f9ab2",
   "metadata": {},
   "source": [
    "#### Solution"
   ]
  },
  {
   "cell_type": "code",
   "execution_count": 34,
   "id": "a7e4c661",
   "metadata": {},
   "outputs": [],
   "source": [
    "class Solution:\n",
    "    def plusOne(self, digits):\n",
    "        n = len(digits)\n",
    "        new_list = []\n",
    "        digit, carry = (digits[-1] + 1) % 10, (digits[-1] + 1)//10\n",
    "        new_list.append(digit)\n",
    "        for i in range(n-2,-1,-1):\n",
    "            digit, carry = (digits[i] + carry) % 10, (digits[i] + carry)//10\n",
    "            new_list.append(digit)\n",
    "        if carry > 0:\n",
    "            new_list.append(carry)\n",
    "            \n",
    "        final_list = []\n",
    "        for i in range(len(new_list)-1,-1,-1):\n",
    "            final_list.append(new_list[i])\n",
    "        return final_list\n",
    "    \n",
    "sol = Solution()   "
   ]
  },
  {
   "cell_type": "code",
   "execution_count": 35,
   "id": "a20a7961",
   "metadata": {},
   "outputs": [
    {
     "data": {
      "text/plain": [
       "[1, 2, 4]"
      ]
     },
     "execution_count": 35,
     "metadata": {},
     "output_type": "execute_result"
    }
   ],
   "source": [
    "digits = [1,2,3]\n",
    "sol.plusOne(digits)"
   ]
  },
  {
   "cell_type": "code",
   "execution_count": 36,
   "id": "28ec55cb",
   "metadata": {},
   "outputs": [
    {
     "data": {
      "text/plain": [
       "[4, 3, 2, 2]"
      ]
     },
     "execution_count": 36,
     "metadata": {},
     "output_type": "execute_result"
    }
   ],
   "source": [
    "digits = [4,3,2,1]\n",
    "sol.plusOne(digits)"
   ]
  },
  {
   "cell_type": "code",
   "execution_count": 37,
   "id": "aca6f936",
   "metadata": {},
   "outputs": [
    {
     "data": {
      "text/plain": [
       "[1, 0]"
      ]
     },
     "execution_count": 37,
     "metadata": {},
     "output_type": "execute_result"
    }
   ],
   "source": [
    "digits = [9] \n",
    "sol.plusOne(digits)"
   ]
  },
  {
   "cell_type": "code",
   "execution_count": 6,
   "id": "66e23d6a",
   "metadata": {},
   "outputs": [
    {
     "data": {
      "text/plain": [
       "[3, 2, 1, 0]"
      ]
     },
     "execution_count": 6,
     "metadata": {},
     "output_type": "execute_result"
    }
   ],
   "source": [
    "list(range(3,-1,-1))"
   ]
  },
  {
   "cell_type": "code",
   "execution_count": null,
   "id": "60fc98eb",
   "metadata": {},
   "outputs": [],
   "source": []
  }
 ],
 "metadata": {
  "kernelspec": {
   "display_name": "Python 3",
   "language": "python",
   "name": "python3"
  },
  "language_info": {
   "codemirror_mode": {
    "name": "ipython",
    "version": 3
   },
   "file_extension": ".py",
   "mimetype": "text/x-python",
   "name": "python",
   "nbconvert_exporter": "python",
   "pygments_lexer": "ipython3",
   "version": "3.7.4"
  }
 },
 "nbformat": 4,
 "nbformat_minor": 5
}
