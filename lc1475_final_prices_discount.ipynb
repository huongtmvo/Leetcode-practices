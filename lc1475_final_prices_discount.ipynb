{
 "cells": [
  {
   "cell_type": "markdown",
   "id": "1e81df46",
   "metadata": {},
   "source": [
    "### 1475. Final Prices With a Special Discount in a Shop"
   ]
  },
  {
   "cell_type": "code",
   "execution_count": 14,
   "id": "8546f3a1",
   "metadata": {},
   "outputs": [],
   "source": [
    "from typing import List\n",
    "class Solution:\n",
    "    \n",
    "    # Solution 1: Brute force, work but slow\n",
    "    def finalPrices1(self, prices: List[int]) -> List[int]:\n",
    "        for i in range(len(prices)):\n",
    "            for j in range(1, len(prices)):\n",
    "                if prices[j] <= prices[i] and j > i:\n",
    "                    prices[i] -= prices[j]\n",
    "                    break\n",
    "        return prices\n",
    "    \n",
    "    # Complexity analysis:\n",
    "    # Time: O(N^2)\n",
    "    # Space: O(1)\n",
    "    \n",
    "    \n",
    "    # Solution 2: Using stack\n",
    "    # Monotonic Increasing Stack\n",
    "    # Find the next smaller element in the array\n",
    "    # Time: O(N)\n",
    "    # Space: O(1)\n",
    "    def finalPrices(self, prices):\n",
    "        stack = []\n",
    "        for i, num in enumerate(prices):\n",
    "            while stack and prices[stack[-1]] >= num:\n",
    "                popIndex = stack.pop()\n",
    "                prices[popIndex] -= num\n",
    "            stack.append(i)\n",
    "#             print(i, stack)\n",
    "        return prices   \n"
   ]
  },
  {
   "cell_type": "code",
   "execution_count": 15,
   "id": "be404081",
   "metadata": {},
   "outputs": [
    {
     "data": {
      "text/plain": [
       "[4, 2, 4, 2, 3]"
      ]
     },
     "execution_count": 15,
     "metadata": {},
     "output_type": "execute_result"
    }
   ],
   "source": [
    "prices = [8,4,6,2,3]\n",
    "Solution().finalPrices(prices)"
   ]
  },
  {
   "cell_type": "code",
   "execution_count": 16,
   "id": "3a73e92e",
   "metadata": {},
   "outputs": [
    {
     "data": {
      "text/plain": [
       "[1, 2, 3, 4, 5]"
      ]
     },
     "execution_count": 16,
     "metadata": {},
     "output_type": "execute_result"
    }
   ],
   "source": [
    "prices = [1,2,3,4,5]\n",
    "Solution().finalPrices(prices)"
   ]
  },
  {
   "cell_type": "code",
   "execution_count": 17,
   "id": "2cb3f0eb",
   "metadata": {},
   "outputs": [
    {
     "data": {
      "text/plain": [
       "[9, 0, 1, 6]"
      ]
     },
     "execution_count": 17,
     "metadata": {},
     "output_type": "execute_result"
    }
   ],
   "source": [
    "prices = [10,1,1,6]\n",
    "Solution().finalPrices(prices)"
   ]
  }
 ],
 "metadata": {
  "kernelspec": {
   "display_name": "Python 3",
   "language": "python",
   "name": "python3"
  },
  "language_info": {
   "codemirror_mode": {
    "name": "ipython",
    "version": 3
   },
   "file_extension": ".py",
   "mimetype": "text/x-python",
   "name": "python",
   "nbconvert_exporter": "python",
   "pygments_lexer": "ipython3",
   "version": "3.7.4"
  }
 },
 "nbformat": 4,
 "nbformat_minor": 5
}
