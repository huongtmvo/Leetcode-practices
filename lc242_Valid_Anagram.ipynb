{
 "cells": [
  {
   "cell_type": "markdown",
   "id": "f9f07ac1",
   "metadata": {},
   "source": [
    "https://leetcode.com/problems/valid-anagram/"
   ]
  },
  {
   "cell_type": "code",
   "execution_count": 3,
   "id": "c2c032c8",
   "metadata": {},
   "outputs": [],
   "source": [
    "class Solution:\n",
    "    def isAnagram(self, s: str, t: str) -> bool:\n",
    "        if len(s) != len(t):\n",
    "            return False\n",
    "        \n",
    "        count_s = Counter(s)\n",
    "        count_t = Counter(t)\n",
    "        \n",
    "        for k, v in count_s.items():\n",
    "            if k not in count_t or count_s[k] != count_t[k]:\n",
    "                return False\n",
    "        return True"
   ]
  },
  {
   "cell_type": "markdown",
   "id": "2d2cc346",
   "metadata": {},
   "source": [
    "Time complexity: O(N)\n",
    "Space complexity; O(1) because the size of counter is max at 26, no matter how big length is "
   ]
  },
  {
   "cell_type": "code",
   "execution_count": null,
   "id": "f6eb824a",
   "metadata": {},
   "outputs": [],
   "source": []
  }
 ],
 "metadata": {
  "kernelspec": {
   "display_name": "Python 3",
   "language": "python",
   "name": "python3"
  },
  "language_info": {
   "codemirror_mode": {
    "name": "ipython",
    "version": 3
   },
   "file_extension": ".py",
   "mimetype": "text/x-python",
   "name": "python",
   "nbconvert_exporter": "python",
   "pygments_lexer": "ipython3",
   "version": "3.7.4"
  }
 },
 "nbformat": 4,
 "nbformat_minor": 5
}
