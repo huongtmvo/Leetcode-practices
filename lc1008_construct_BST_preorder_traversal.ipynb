{
 "cells": [
  {
   "cell_type": "markdown",
   "id": "aaf0c07a",
   "metadata": {},
   "source": [
    "### 1008. Construct Binary Search Tree from Preorder Traversal"
   ]
  },
  {
   "cell_type": "code",
   "execution_count": 3,
   "id": "03d6e84b",
   "metadata": {},
   "outputs": [],
   "source": [
    "import bisect\n",
    "class TreeNode:\n",
    "    def __init__(self, val=0, left=None, right=None):\n",
    "        self.val = val\n",
    "        self.left = left\n",
    "        self.right = right\n",
    "\n",
    "class Solution:\n",
    "    def bstFromPreorder(self, preorder):\n",
    "        if not preorder: return None\n",
    "        root = TreeNode(preorder[0])\n",
    "        idx = bisect.bisect(preorder, preorder[0]) # find position of the root in the tree\n",
    "        root.left = self.bstFromPreorder(preorder[1:idx])\n",
    "        root.right = self.bstFromPreorder(preorder[idx:])\n",
    "        return root\n",
    "# Time: Nlog(N)\n",
    "# Space: O(H)"
   ]
  }
 ],
 "metadata": {
  "kernelspec": {
   "display_name": "Python 3",
   "language": "python",
   "name": "python3"
  },
  "language_info": {
   "codemirror_mode": {
    "name": "ipython",
    "version": 3
   },
   "file_extension": ".py",
   "mimetype": "text/x-python",
   "name": "python",
   "nbconvert_exporter": "python",
   "pygments_lexer": "ipython3",
   "version": "3.7.4"
  }
 },
 "nbformat": 4,
 "nbformat_minor": 5
}
