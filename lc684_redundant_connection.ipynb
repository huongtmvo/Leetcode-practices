{
 "cells": [
  {
   "cell_type": "markdown",
   "id": "dbf753ed",
   "metadata": {},
   "source": [
    "lc684. Redundant Connection\n",
    "\n",
    "https://leetcode.com/problems/redundant-connection/\n",
    "\n",
    "Based on leetcode.com's solutions"
   ]
  },
  {
   "cell_type": "markdown",
   "id": "c9655dbc",
   "metadata": {},
   "source": [
    "**Solution 1**: DFS\n",
    "\n",
    "For each edge(u,v), run a depth first search to travere the graph to see if u is connected to v (based on other edges).\n",
    "\n",
    "If it is, then (u,v) must be the duplicated edge"
   ]
  },
  {
   "cell_type": "code",
   "execution_count": 31,
   "id": "60c02caa",
   "metadata": {},
   "outputs": [],
   "source": [
    "from collections import defaultdict\n",
    "from typing import List\n",
    "class Solution2(object):\n",
    "    def findRedundantConnection(self, edges: List[List[int]]) -> List[int]:\n",
    "        graph = defaultdict(set)\n",
    "\n",
    "        def dfs(source, target):\n",
    "            if source not in seen:\n",
    "                seen.add(source)\n",
    "                if source == target: return True\n",
    "                return any(dfs(nei, target) for nei in graph[source])\n",
    "            \n",
    "        # Return the duplicate edge that appears last in the input\n",
    "        for u, v in edges:\n",
    "            seen = set()\n",
    "            if u in graph and v in graph and dfs(u, v):\n",
    "                return [u, v]\n",
    "            graph[u].add(v)\n",
    "            graph[v].add(u)          \n",
    "\n",
    "# Time complexity: O(N^2), in the worst case, for every edge, have to search every other edge in graph\n",
    "# Space complexity: O(N)"
   ]
  },
  {
   "cell_type": "code",
   "execution_count": 62,
   "id": "4a98757a",
   "metadata": {},
   "outputs": [
    {
     "data": {
      "text/plain": [
       "[2, 3]"
      ]
     },
     "execution_count": 62,
     "metadata": {},
     "output_type": "execute_result"
    }
   ],
   "source": [
    "edges = [[1,2],[1,3],[2,3]]\n",
    "Solution2().findRedundantConnection(edges)"
   ]
  },
  {
   "cell_type": "code",
   "execution_count": 63,
   "id": "d7978dde",
   "metadata": {},
   "outputs": [
    {
     "data": {
      "text/plain": [
       "[1, 4]"
      ]
     },
     "execution_count": 63,
     "metadata": {},
     "output_type": "execute_result"
    }
   ],
   "source": [
    "edges = [[1,2],[2,3],[3,4],[1,4],[1,5]]\n",
    "Solution2().findRedundantConnection(edges)"
   ]
  },
  {
   "cell_type": "markdown",
   "id": "dd7f758e",
   "metadata": {},
   "source": [
    "**Solution 2**: Union-Find, using DisjointSet data structure\n",
    "\n",
    "if find(x) = find(y), then the edge is the redundant edge\n",
    "\n",
    "Two techniques to improve the run-time complexity: \n",
    "\n",
    "- path compression\n",
    "- union-by-rank."
   ]
  },
  {
   "cell_type": "code",
   "execution_count": 54,
   "id": "1333beef",
   "metadata": {},
   "outputs": [],
   "source": [
    "class DisjointSet:\n",
    "    def __init__(self):\n",
    "        self.parent = [i for i in range(1001)]\n",
    "        self.rank = [0] * 1001\n",
    "    \n",
    "    # Find with path compression\n",
    "    def find(self,x):\n",
    "        if x != self.parent[x]:\n",
    "            self.parent[x] = self.find(self.parent[x])\n",
    "        return self.parent[x]\n",
    "    \n",
    "    # Union by rank\n",
    "    def union(self, x, y):\n",
    "        rx = self.find(x)\n",
    "        ry = self.find(y)\n",
    "        \n",
    "        if rx == ry:\n",
    "            return False\n",
    "        if self.rank[rx] > self.rank[ry]:\n",
    "            self.parent[ry] = rx\n",
    "        else:\n",
    "            self.parent[rx] = ry\n",
    "            if self.rank[rx] == self.rank[ry]:\n",
    "                self.rank[ry] += 1\n",
    "        return True\n",
    "\n",
    "class Solution2:\n",
    "    def findRedundantConnection(self, edges):\n",
    "        djs = DisjointSet()\n",
    "        for edge in edges:\n",
    "            x, y = edge\n",
    "            if not djs.union(x,y):\n",
    "                return edge\n",
    "            \n",
    "    # Same funciton, with the use of list unpacking *\n",
    "    def findRedundantConnection2(self, edges):\n",
    "        dsu = DisjointSet()\n",
    "        for edge in edges:\n",
    "            if not dsu.union(*edge):\n",
    "                return edge\n",
    "# Time complexity: O(N)\n",
    "# Space complexity: O(N)"
   ]
  },
  {
   "cell_type": "code",
   "execution_count": 61,
   "id": "ea7ec0e1",
   "metadata": {},
   "outputs": [
    {
     "data": {
      "text/plain": [
       "[1, 4]"
      ]
     },
     "execution_count": 61,
     "metadata": {},
     "output_type": "execute_result"
    }
   ],
   "source": [
    "edges2 = [[1,2],[2,3],[3,4],[1,4],[1,5]]\n",
    "Solution2().findRedundantConnection(edges2)"
   ]
  },
  {
   "cell_type": "code",
   "execution_count": 56,
   "id": "204472d0",
   "metadata": {},
   "outputs": [
    {
     "data": {
      "text/plain": [
       "[2, 3]"
      ]
     },
     "execution_count": 56,
     "metadata": {},
     "output_type": "execute_result"
    }
   ],
   "source": [
    "edges3 = [[1,2],[1,3],[2,3]]\n",
    "Solution2().findRedundantConnection(edges3)"
   ]
  }
 ],
 "metadata": {
  "kernelspec": {
   "display_name": "Python 3",
   "language": "python",
   "name": "python3"
  },
  "language_info": {
   "codemirror_mode": {
    "name": "ipython",
    "version": 3
   },
   "file_extension": ".py",
   "mimetype": "text/x-python",
   "name": "python",
   "nbconvert_exporter": "python",
   "pygments_lexer": "ipython3",
   "version": "3.7.4"
  }
 },
 "nbformat": 4,
 "nbformat_minor": 5
}
