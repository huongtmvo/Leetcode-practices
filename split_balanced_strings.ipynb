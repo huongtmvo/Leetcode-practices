{
 "cells": [
  {
   "cell_type": "markdown",
   "id": "f0048985",
   "metadata": {},
   "source": [
    "#### Split a String in Balanced Strings\n",
    "Balanced strings are those that have an equal quantity of 'L' and 'R' characters.\n",
    "\n",
    "Given a balanced string s, split it in the maximum amount of balanced strings.\n",
    "\n",
    "Return the maximum amount of split balanced strings.\n",
    "\n",
    "Example 1:\n",
    "Input: s = \"RLRRLLRLRL\"\n",
    "Output: 4\n",
    "Explanation: s can be split into \"RL\", \"RRLL\", \"RL\", \"RL\", each substring contains same number of 'L' and 'R'.\n",
    "\n",
    "Example 2:\n",
    "Input: s = \"RLLLLRRRLR\"\n",
    "Output: 3\n",
    "Explanation: s can be split into \"RL\", \"LLLRRR\", \"LR\", each substring contains same number of 'L' and 'R'.\n",
    "\n",
    "Example 3:\n",
    "Input: s = \"LLLLRRRR\"\n",
    "Output: 1\n",
    "Explanation: s can be split into \"LLLLRRRR\".\n",
    "\n",
    "Example 4:\n",
    "Input: s = \"RLRRRLLRLL\"\n",
    "Output: 2\n",
    "Explanation: s can be split into \"RL\", \"RRRLLRLL\", since each substring contains an equal number of 'L' and 'R'\n",
    " \n",
    "Constraints:\n",
    "1 <= s.length <= 1000\n",
    "\n",
    "s[i] is either 'L' or 'R'.\n",
    "\n",
    "s is a balanced string."
   ]
  },
  {
   "cell_type": "code",
   "execution_count": 56,
   "id": "0c38c7bd",
   "metadata": {},
   "outputs": [],
   "source": [
    "class Solution:\n",
    "    def balancedStringSplit3(self, s: str) -> int:\n",
    "        stack = [s[0]]\n",
    "        count = 0\n",
    "        i = 1\n",
    "        while i < len(s):\n",
    "            if s[i] != stack[-1]:\n",
    "                stack.pop()\n",
    "            else: \n",
    "                stack.append(s[i])\n",
    "            if not stack:\n",
    "                count += 1\n",
    "                if i < len(s) - 1:\n",
    "                    i += 1\n",
    "                    stack.append(s[i])\n",
    "            i += 1\n",
    "        return count\n",
    "    \n",
    "    def balancedStringSplit2(self, s: str) -> int:\n",
    "        stack = []  \n",
    "        count = 0\n",
    "        for c in s:\n",
    "            if not stack:\n",
    "                count += 1\n",
    "                stack.append(c)\n",
    "            elif stack[-1] != c:\n",
    "                stack.pop()\n",
    "            else:\n",
    "                stack.append(c)\n",
    "        return count\n",
    " \n",
    "    def balancedStringSplit(self, s: str) -> int:\n",
    "        res = cnt = 0         \n",
    "        for c in s:\n",
    "            cnt += 1 if c == 'L' else -1            \n",
    "            if cnt == 0:\n",
    "                res += 1\n",
    "        return res  "
   ]
  },
  {
   "cell_type": "code",
   "execution_count": 57,
   "id": "28bde44b",
   "metadata": {},
   "outputs": [
    {
     "data": {
      "text/plain": [
       "4"
      ]
     },
     "execution_count": 57,
     "metadata": {},
     "output_type": "execute_result"
    }
   ],
   "source": [
    "s = \"RLRRLLRLRL\"\n",
    "Solution().balancedStringSplit(s)"
   ]
  },
  {
   "cell_type": "code",
   "execution_count": 58,
   "id": "b53a1e60",
   "metadata": {},
   "outputs": [
    {
     "data": {
      "text/plain": [
       "3"
      ]
     },
     "execution_count": 58,
     "metadata": {},
     "output_type": "execute_result"
    }
   ],
   "source": [
    "s = \"RLLLLRRRLR\"\n",
    "sol.balancedStringSplit2(s)"
   ]
  },
  {
   "cell_type": "code",
   "execution_count": 15,
   "id": "5a681b58",
   "metadata": {},
   "outputs": [],
   "source": [
    "listA = [1]\n",
    "if not listA:\n",
    "    print('empty')"
   ]
  }
 ],
 "metadata": {
  "kernelspec": {
   "display_name": "Python 3",
   "language": "python",
   "name": "python3"
  },
  "language_info": {
   "codemirror_mode": {
    "name": "ipython",
    "version": 3
   },
   "file_extension": ".py",
   "mimetype": "text/x-python",
   "name": "python",
   "nbconvert_exporter": "python",
   "pygments_lexer": "ipython3",
   "version": "3.7.4"
  }
 },
 "nbformat": 4,
 "nbformat_minor": 5
}
