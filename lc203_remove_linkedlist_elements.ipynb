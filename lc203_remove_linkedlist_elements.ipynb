{
 "cells": [
  {
   "cell_type": "markdown",
   "id": "6e2f0c22",
   "metadata": {},
   "source": [
    "https://leetcode.com/problems/remove-linked-list-elements/"
   ]
  },
  {
   "cell_type": "code",
   "execution_count": 5,
   "id": "e2cd964d",
   "metadata": {},
   "outputs": [],
   "source": [
    "from typing import Optional\n",
    "# Definition for singly-linked list.\n",
    "class ListNode:\n",
    "    def __init__(self, val=0, next=None):\n",
    "        self.val = val\n",
    "        self.next = next\n",
    "class Solution:\n",
    "    def removeElements(self, head: Optional[ListNode], val: int) -> Optional[ListNode]:\n",
    "        cur = head\n",
    "        prev = None\n",
    "        while cur:\n",
    "            if cur.val != val:\n",
    "                prev = cur\n",
    "                cur = cur.next\n",
    "            else:\n",
    "                if cur == head:\n",
    "                    head = cur.next\n",
    "                    cur = head\n",
    "                else:\n",
    "                    cur = cur.next\n",
    "                    prev.next = cur\n",
    "        return head\n",
    "\n",
    "    def removeElements(self, head: Optional[ListNode], val: int) -> Optional[ListNode]:\n",
    "        while head and head.val == val:\n",
    "            head = head.next\n",
    "        cur = head \n",
    "        while cur and cur.next:\n",
    "            if cur.next.val == val:\n",
    "                cur.next = cur.next.next\n",
    "            else:\n",
    "                cur = cur.next\n",
    "        return head\n",
    "            "
   ]
  }
 ],
 "metadata": {
  "kernelspec": {
   "display_name": "Python 3",
   "language": "python",
   "name": "python3"
  },
  "language_info": {
   "codemirror_mode": {
    "name": "ipython",
    "version": 3
   },
   "file_extension": ".py",
   "mimetype": "text/x-python",
   "name": "python",
   "nbconvert_exporter": "python",
   "pygments_lexer": "ipython3",
   "version": "3.7.4"
  }
 },
 "nbformat": 4,
 "nbformat_minor": 5
}
