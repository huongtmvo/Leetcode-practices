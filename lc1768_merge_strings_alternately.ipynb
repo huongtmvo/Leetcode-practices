{
 "cells": [
  {
   "cell_type": "markdown",
   "id": "239197f1",
   "metadata": {},
   "source": [
    "https://leetcode.com/problems/merge-strings-alternately/"
   ]
  },
  {
   "cell_type": "code",
   "execution_count": 1,
   "id": "b5d13f13",
   "metadata": {},
   "outputs": [],
   "source": [
    "class Solution:\n",
    "    def mergeAlternately(self, word1: str, word2: str) -> str:\n",
    "        res = []\n",
    "        word1, word2 = list(word1), list(word2)\n",
    "        n = min(len(word1), len(word2))\n",
    "    \n",
    "        for i in range(n):\n",
    "            res.append(word1[i])\n",
    "            res.append(word2[i])\n",
    "            \n",
    "        if len(word1) > n:\n",
    "            res.extend(word1[n:len(word1)])\n",
    "        else:\n",
    "            res.extend(word2[n:len(word2)])  \n",
    "        \n",
    "        return ''.join(res)"
   ]
  },
  {
   "cell_type": "code",
   "execution_count": 4,
   "id": "e32ef72d",
   "metadata": {},
   "outputs": [
    {
     "data": {
      "text/plain": [
       "'apbqrs'"
      ]
     },
     "execution_count": 4,
     "metadata": {},
     "output_type": "execute_result"
    }
   ],
   "source": [
    "word1 = \"ab\"; word2 = \"pqrs\"\n",
    "Solution().mergeAlternately(word1,word2)"
   ]
  },
  {
   "cell_type": "code",
   "execution_count": null,
   "id": "54343bc9",
   "metadata": {},
   "outputs": [],
   "source": []
  }
 ],
 "metadata": {
  "kernelspec": {
   "display_name": "Python 3",
   "language": "python",
   "name": "python3"
  },
  "language_info": {
   "codemirror_mode": {
    "name": "ipython",
    "version": 3
   },
   "file_extension": ".py",
   "mimetype": "text/x-python",
   "name": "python",
   "nbconvert_exporter": "python",
   "pygments_lexer": "ipython3",
   "version": "3.7.4"
  }
 },
 "nbformat": 4,
 "nbformat_minor": 5
}
