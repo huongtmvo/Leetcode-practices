{
 "cells": [
  {
   "cell_type": "markdown",
   "id": "45e54e99",
   "metadata": {},
   "source": [
    "https://leetcode.com/problems/two-sum-iv-input-is-a-bst/"
   ]
  },
  {
   "cell_type": "code",
   "execution_count": 1,
   "id": "67f6fc61",
   "metadata": {},
   "outputs": [],
   "source": [
    "class TreeNode:\n",
    "    def __init__(self, val=0, left=None, right=None):\n",
    "        self.val = val\n",
    "        self.left = left\n",
    "        self.right = right"
   ]
  },
  {
   "cell_type": "code",
   "execution_count": 14,
   "id": "6ff50688",
   "metadata": {},
   "outputs": [],
   "source": [
    "# Solution 1: use Inorder to traverse and then dictionary to find if there are 2 numbers added up to k\n",
    "from typing import Optional\n",
    "class Solution:\n",
    "    def findTarget(self, root: Optional[TreeNode], k: int) -> bool:\n",
    "        self.res = []\n",
    "        self.inOrder(root)\n",
    "        \n",
    "        dic = {}\n",
    "        for i in range(len(self.res)):\n",
    "            complement = k - self.res[i]\n",
    "            if complement in dic:\n",
    "                return True\n",
    "            dic[self.res[i]] = i \n",
    "        return False\n",
    "            \n",
    "    def inOrder(self, root):\n",
    "        if root: \n",
    "            self.inOrder(root.left)\n",
    "            self.res.append(root.val)\n",
    "            self.inOrder(root.right)\n",
    "            "
   ]
  },
  {
   "cell_type": "code",
   "execution_count": 15,
   "id": "79ec3d86",
   "metadata": {},
   "outputs": [],
   "source": [
    "root = TreeNode(5, TreeNode(3, TreeNode(2), TreeNode(4)), TreeNode(6, None, TreeNode(7)))"
   ]
  },
  {
   "cell_type": "code",
   "execution_count": 17,
   "id": "addd2667",
   "metadata": {},
   "outputs": [
    {
     "data": {
      "text/plain": [
       "True"
      ]
     },
     "execution_count": 17,
     "metadata": {},
     "output_type": "execute_result"
    }
   ],
   "source": [
    "Solution().findTarget(root, 9)"
   ]
  },
  {
   "cell_type": "code",
   "execution_count": 18,
   "id": "1150c44d",
   "metadata": {},
   "outputs": [],
   "source": [
    "# Solution2: Use a set to save all the nodes. Faster\n",
    "\n",
    "class Solution2(object):\n",
    "    def findTarget(self, root, k):\n",
    "        if not root:\n",
    "            return False\n",
    "\n",
    "        return self._findTarget(root, set(), k)\n",
    "    \n",
    "    def _findTarget(self, node, nodes, k):\n",
    "        if not node:\n",
    "            return False\n",
    "\n",
    "        complement = k - node.val\n",
    "        if complement in nodes:\n",
    "            return True\n",
    "\n",
    "        nodes.add(node.val)\n",
    "\n",
    "        return self._findTarget(node.left, nodes, k) or self._findTarget(node.right, nodes, k)"
   ]
  },
  {
   "cell_type": "code",
   "execution_count": 19,
   "id": "048e862d",
   "metadata": {},
   "outputs": [
    {
     "data": {
      "text/plain": [
       "True"
      ]
     },
     "execution_count": 19,
     "metadata": {},
     "output_type": "execute_result"
    }
   ],
   "source": [
    "Solution2().findTarget(root,9)"
   ]
  }
 ],
 "metadata": {
  "kernelspec": {
   "display_name": "Python 3",
   "language": "python",
   "name": "python3"
  },
  "language_info": {
   "codemirror_mode": {
    "name": "ipython",
    "version": 3
   },
   "file_extension": ".py",
   "mimetype": "text/x-python",
   "name": "python",
   "nbconvert_exporter": "python",
   "pygments_lexer": "ipython3",
   "version": "3.7.4"
  }
 },
 "nbformat": 4,
 "nbformat_minor": 5
}
