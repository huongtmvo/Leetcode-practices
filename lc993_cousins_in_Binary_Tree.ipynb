{
 "cells": [
  {
   "cell_type": "markdown",
   "id": "3687f8b7",
   "metadata": {},
   "source": [
    "https://leetcode.com/problems/cousins-in-binary-tree/"
   ]
  },
  {
   "cell_type": "code",
   "execution_count": 1,
   "id": "7313dc30",
   "metadata": {},
   "outputs": [],
   "source": [
    "class TreeNode:\n",
    "    def __init__(self, val=0, left=None, right=None):\n",
    "        self.val = val\n",
    "        self.left = left\n",
    "        self.right = right"
   ]
  },
  {
   "cell_type": "code",
   "execution_count": 28,
   "id": "4eb062e8",
   "metadata": {},
   "outputs": [],
   "source": [
    "from typing import Optional\n",
    "class Solution:\n",
    "    def isCousins(self, root: Optional[TreeNode], x: int, y: int) -> bool:\n",
    "        res = []\n",
    "        \n",
    "        def dfs(node, parent, depth):\n",
    "            if not node: \n",
    "                return\n",
    "            if node.val == x or node.val == y:\n",
    "                res.append((parent, depth))\n",
    "            dfs(node.left, node, depth+1)\n",
    "            dfs(node.right, node, depth+1)\n",
    "            \n",
    "        dfs(root, None, 0)\n",
    "        nodex, nodey = res\n",
    "        \n",
    "        if nodex[0] != nodey[0] and nodex[1] == nodey[1]:\n",
    "            return True\n",
    "        return False\n",
    "                "
   ]
  },
  {
   "cell_type": "code",
   "execution_count": 31,
   "id": "e062c81c",
   "metadata": {},
   "outputs": [],
   "source": [
    "tree = TreeNode(1,TreeNode(2,TreeNode(3),TreeNode(4)),TreeNode(5,TreeNode(6,TreeNode(7))))"
   ]
  },
  {
   "cell_type": "code",
   "execution_count": 32,
   "id": "d66474d2",
   "metadata": {},
   "outputs": [
    {
     "data": {
      "text/plain": [
       "False"
      ]
     },
     "execution_count": 32,
     "metadata": {},
     "output_type": "execute_result"
    }
   ],
   "source": [
    "Solution().isCousins(tree, 3, 4)"
   ]
  },
  {
   "cell_type": "code",
   "execution_count": null,
   "id": "40bb7802",
   "metadata": {},
   "outputs": [],
   "source": []
  }
 ],
 "metadata": {
  "kernelspec": {
   "display_name": "Python 3",
   "language": "python",
   "name": "python3"
  },
  "language_info": {
   "codemirror_mode": {
    "name": "ipython",
    "version": 3
   },
   "file_extension": ".py",
   "mimetype": "text/x-python",
   "name": "python",
   "nbconvert_exporter": "python",
   "pygments_lexer": "ipython3",
   "version": "3.7.4"
  }
 },
 "nbformat": 4,
 "nbformat_minor": 5
}
