{
 "cells": [
  {
   "cell_type": "markdown",
   "id": "18d50220",
   "metadata": {},
   "source": [
    "https://leetcode.com/problems/median-of-two-sorted-arrays/"
   ]
  },
  {
   "cell_type": "code",
   "execution_count": null,
   "id": "3c7bd64d",
   "metadata": {},
   "outputs": [],
   "source": [
    "# Solution with O(m+n) running time\n",
    "class Solution:\n",
    "    def findMedianSortedArrays(self, nums1: List[int], nums2: List[int]) -> float:\n",
    "        merge_array = []\n",
    "        \n",
    "        i, j = 0, 0\n",
    "        while i < len(nums1) and j < len(nums2):\n",
    "            if nums1[i] <= nums2[j]:\n",
    "                merge_array.append(nums1[i])\n",
    "                i += 1\n",
    "            else:\n",
    "                merge_array.append(nums2[j])\n",
    "                j += 1\n",
    "        while i < len(nums1):\n",
    "            merge_array.extend(nums1[i:])\n",
    "        while j < len(nums2):\n",
    "            merge_array.extend(nums2[j:])\n",
    "         \n",
    "        middle = (len(nums1) + len(nums2)) //2\n",
    "        \n",
    "        return merge_array[middle]\n",
    "                "
   ]
  }
 ],
 "metadata": {
  "kernelspec": {
   "display_name": "Python 3",
   "language": "python",
   "name": "python3"
  },
  "language_info": {
   "codemirror_mode": {
    "name": "ipython",
    "version": 3
   },
   "file_extension": ".py",
   "mimetype": "text/x-python",
   "name": "python",
   "nbconvert_exporter": "python",
   "pygments_lexer": "ipython3",
   "version": "3.7.4"
  }
 },
 "nbformat": 4,
 "nbformat_minor": 5
}
