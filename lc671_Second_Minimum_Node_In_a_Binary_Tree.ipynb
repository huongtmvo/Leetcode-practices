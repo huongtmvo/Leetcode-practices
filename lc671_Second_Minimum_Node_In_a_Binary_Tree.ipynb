{
 "cells": [
  {
   "cell_type": "markdown",
   "id": "3293f5f0",
   "metadata": {},
   "source": [
    "https://leetcode.com/problems/second-minimum-node-in-a-binary-tree/"
   ]
  },
  {
   "cell_type": "code",
   "execution_count": 1,
   "id": "24c9fb0e",
   "metadata": {},
   "outputs": [],
   "source": [
    "class TreeNode:\n",
    "    def __init__(self, val=0, left=None, right=None):\n",
    "        self.val = val\n",
    "        self.left = left\n",
    "        self.right = right"
   ]
  },
  {
   "cell_type": "code",
   "execution_count": 4,
   "id": "28625561",
   "metadata": {},
   "outputs": [],
   "source": [
    "from typing import Optional\n",
    "class Solution:\n",
    "    # Solution1: Dfs then sort the array of nodes, and find the second minimum node\n",
    "    def findSecondMinimumValue(self, root: Optional[TreeNode]) -> int:\n",
    "        def inOrder(root):\n",
    "            if root:\n",
    "                inOrder(root.left)\n",
    "                res.append(root.val)\n",
    "                inOrder(root.right)\n",
    "        \n",
    "        res = []\n",
    "        inOrder(root)\n",
    "        \n",
    "        res.sort()\n",
    "        if len(res) == 1:\n",
    "            return -1\n",
    "        for i in range(1, len(res)):\n",
    "            if res[i] != res[0]:\n",
    "                return res[i]\n",
    "        return -1 \n",
    "        # Note: running time: nlogn, space: O(n)\n",
    "    \n",
    "    # Solution2: Instead of using sort, which takes nlog(n) time complexity, use set and compare each node\n",
    "    def findSecondMinimumValue(self, root: Optional[TreeNode]) -> int:\n",
    "        def inOrder(root):\n",
    "            if root:\n",
    "                inOrder(root.left)\n",
    "                res.append(root.val)\n",
    "                inOrder(root.right)\n",
    "        \n",
    "        res = []\n",
    "        inOrder(root)\n",
    "        \n",
    "        uniques = set(res)\n",
    "        ans = float('inf')\n",
    "        minq = root.val # For this problem, the root always has the minimum value\n",
    "        for v in uniques:\n",
    "            if min1 < v < ans:\n",
    "                ans = v\n",
    "        return ans if ans < float('inf') else -1 \n",
    "        # Note: O(N) running time and O(N) space"
   ]
  }
 ],
 "metadata": {
  "kernelspec": {
   "display_name": "Python 3",
   "language": "python",
   "name": "python3"
  },
  "language_info": {
   "codemirror_mode": {
    "name": "ipython",
    "version": 3
   },
   "file_extension": ".py",
   "mimetype": "text/x-python",
   "name": "python",
   "nbconvert_exporter": "python",
   "pygments_lexer": "ipython3",
   "version": "3.7.4"
  }
 },
 "nbformat": 4,
 "nbformat_minor": 5
}
