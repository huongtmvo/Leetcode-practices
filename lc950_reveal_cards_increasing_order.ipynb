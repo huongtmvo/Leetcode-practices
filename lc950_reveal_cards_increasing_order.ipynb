{
 "cells": [
  {
   "cell_type": "markdown",
   "id": "7ec8ed39",
   "metadata": {},
   "source": [
    "### 950. Reveal Cards In Increasing Order"
   ]
  },
  {
   "cell_type": "code",
   "execution_count": null,
   "id": "4fe04151",
   "metadata": {},
   "outputs": [],
   "source": [
    "class Solution:\n",
    "    def deckRevealedIncreasing(self, deck: List[int]) -> List[int]:\n",
    "        deck.sort()\n",
    "        queue = deque()\n",
    "        for _ in range(len(deck)): \n",
    "            if len(queue) >= 2: \n",
    "                queue.appendleft(queue.pop())\n",
    "            element = deck.pop()\n",
    "            queue.appendleft(element)\n",
    "        return queue  "
   ]
  },
  {
   "cell_type": "code",
   "execution_count": 40,
   "id": "2b8b7c5c",
   "metadata": {},
   "outputs": [
    {
     "data": {
      "text/plain": [
       "deque([2, 13, 3, 11, 5, 17, 7])"
      ]
     },
     "execution_count": 40,
     "metadata": {},
     "output_type": "execute_result"
    }
   ],
   "source": [
    "deck = [17,13,11,2,3,5,7]\n",
    "Solution().deckRevealedIncreasing(deck)"
   ]
  },
  {
   "cell_type": "code",
   "execution_count": 41,
   "id": "381cdbb8",
   "metadata": {},
   "outputs": [
    {
     "data": {
      "text/plain": [
       "deque([1, 1000])"
      ]
     },
     "execution_count": 41,
     "metadata": {},
     "output_type": "execute_result"
    }
   ],
   "source": [
    "deck = [1,1000]\n",
    "Solution().deckRevealedIncreasing(deck)"
   ]
  }
 ],
 "metadata": {
  "kernelspec": {
   "display_name": "Python 3",
   "language": "python",
   "name": "python3"
  },
  "language_info": {
   "codemirror_mode": {
    "name": "ipython",
    "version": 3
   },
   "file_extension": ".py",
   "mimetype": "text/x-python",
   "name": "python",
   "nbconvert_exporter": "python",
   "pygments_lexer": "ipython3",
   "version": "3.7.4"
  }
 },
 "nbformat": 4,
 "nbformat_minor": 5
}
