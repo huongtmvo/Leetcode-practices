{
 "cells": [
  {
   "cell_type": "markdown",
   "id": "766b93c6",
   "metadata": {},
   "source": [
    "### 942. DI String Match"
   ]
  },
  {
   "cell_type": "code",
   "execution_count": 29,
   "id": "fdf30de1",
   "metadata": {},
   "outputs": [],
   "source": [
    "# Idea: If it is \"I\", append the mininum to the output; \n",
    "# if it is \"D\",append the maximum to the output\n",
    "\n",
    "from typing import List\n",
    "class Solution:\n",
    "    def diStringMatch(self, s: str) -> List[int]:\n",
    "        n = len(s)\n",
    "        nums = [x for x in range(n+1)]\n",
    "        \n",
    "        out = []\n",
    "        l, r = 0, n\n",
    "        for letter in s:\n",
    "            if letter == \"I\":\n",
    "                out.append(nums[l])\n",
    "                l += 1\n",
    "            elif letter == \"D\":\n",
    "                out.append(nums[r])\n",
    "                r -= 1\n",
    "                \n",
    "        # append the last number       \n",
    "        out.append(nums[l])   \n",
    "        return out    \n",
    "\n",
    "# Time complexity: O(N)\n",
    "# Space complexity: O(N) "
   ]
  },
  {
   "cell_type": "code",
   "execution_count": 30,
   "id": "324f2613",
   "metadata": {},
   "outputs": [
    {
     "data": {
      "text/plain": [
       "[0, 4, 1, 3, 2]"
      ]
     },
     "execution_count": 30,
     "metadata": {},
     "output_type": "execute_result"
    }
   ],
   "source": [
    "s = \"IDID\"\n",
    "Solution().diStringMatch(s)"
   ]
  },
  {
   "cell_type": "code",
   "execution_count": 32,
   "id": "d3342cec",
   "metadata": {},
   "outputs": [
    {
     "data": {
      "text/plain": [
       "[0, 1, 2, 3]"
      ]
     },
     "execution_count": 32,
     "metadata": {},
     "output_type": "execute_result"
    }
   ],
   "source": [
    "s = \"III\"\n",
    "Solution().diStringMatch(s)"
   ]
  },
  {
   "cell_type": "code",
   "execution_count": 33,
   "id": "82db0a20",
   "metadata": {},
   "outputs": [
    {
     "data": {
      "text/plain": [
       "[3, 2, 0, 1]"
      ]
     },
     "execution_count": 33,
     "metadata": {},
     "output_type": "execute_result"
    }
   ],
   "source": [
    "s = \"DDI\"\n",
    "Solution().diStringMatch(s)"
   ]
  },
  {
   "cell_type": "code",
   "execution_count": null,
   "id": "d3b8e8f5",
   "metadata": {},
   "outputs": [],
   "source": []
  }
 ],
 "metadata": {
  "kernelspec": {
   "display_name": "Python 3",
   "language": "python",
   "name": "python3"
  },
  "language_info": {
   "codemirror_mode": {
    "name": "ipython",
    "version": 3
   },
   "file_extension": ".py",
   "mimetype": "text/x-python",
   "name": "python",
   "nbconvert_exporter": "python",
   "pygments_lexer": "ipython3",
   "version": "3.7.4"
  }
 },
 "nbformat": 4,
 "nbformat_minor": 5
}
