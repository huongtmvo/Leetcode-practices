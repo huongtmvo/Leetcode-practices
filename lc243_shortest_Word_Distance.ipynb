{
 "cells": [
  {
   "cell_type": "markdown",
   "id": "fee18911",
   "metadata": {},
   "source": [
    "https://leetcode.com/problems/shortest-word-distance/"
   ]
  },
  {
   "cell_type": "code",
   "execution_count": 2,
   "id": "3808cb68",
   "metadata": {},
   "outputs": [],
   "source": [
    "from typing import List\n",
    "class Solution:\n",
    "    # Solution1: find all the indices of word1 and word2 and then calculate the min Distance\n",
    "    # Time complexity: O(N), Space complexity: O(N) as the worst case \n",
    "    def shortestDistance(self, wordsDict: List[str], word1: str, word2: str) -> int:    \n",
    "        lst1, lst2 = [], []\n",
    "        for i in range(len(wordsDict)):\n",
    "            if wordsDict[i] == word1:\n",
    "                lst1.append(i)\n",
    "            elif wordsDict[i] == word2:\n",
    "                lst2.append(i)\n",
    "        \n",
    "        minDis = float('inf')\n",
    "        for i in lst1:\n",
    "            for j in lst2:\n",
    "                minDis = min(minDis, abs(i-j))\n",
    "        return minDis\n",
    "    \n",
    "    # Solution2: Find and store the most recent occurence of word1 and word2 and calculate the distance\n",
    "    # Time complexity: O(N), space: O(1)\n",
    "    def shortestDistance(self, wordsDict: List[str], word1: str, word2: str) -> int:\n",
    "        i1, i2 = -1, -1\n",
    "        minDis = len(wordsDict)\n",
    "        for i in range(len(wordsDict)):\n",
    "            if wordsDict[i] == word1:\n",
    "                i1 = i\n",
    "            elif wordsDict[i] == word2:\n",
    "                i2 = i\n",
    "            if i1 != -1 and i2 != -1:\n",
    "                minDis = min(minDis, abs(i1-i2))\n",
    "        return minDis"
   ]
  },
  {
   "cell_type": "code",
   "execution_count": null,
   "id": "459eddf5",
   "metadata": {},
   "outputs": [],
   "source": []
  }
 ],
 "metadata": {
  "kernelspec": {
   "display_name": "Python 3",
   "language": "python",
   "name": "python3"
  },
  "language_info": {
   "codemirror_mode": {
    "name": "ipython",
    "version": 3
   },
   "file_extension": ".py",
   "mimetype": "text/x-python",
   "name": "python",
   "nbconvert_exporter": "python",
   "pygments_lexer": "ipython3",
   "version": "3.7.4"
  }
 },
 "nbformat": 4,
 "nbformat_minor": 5
}
