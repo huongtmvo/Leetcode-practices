{
 "cells": [
  {
   "cell_type": "markdown",
   "id": "9017f8a6",
   "metadata": {},
   "source": [
    "https://leetcode.com/problems/sum-of-root-to-leaf-binary-numbers/"
   ]
  },
  {
   "cell_type": "code",
   "execution_count": 3,
   "id": "e48d1e2f",
   "metadata": {},
   "outputs": [],
   "source": [
    "class TreeNode:\n",
    "    def __init__(self,val=0,left=None,right=None):\n",
    "        self.val = val\n",
    "        self.left = left\n",
    "        self.right = right"
   ]
  },
  {
   "cell_type": "code",
   "execution_count": 11,
   "id": "9cb7b13b",
   "metadata": {},
   "outputs": [],
   "source": [
    "class Solution:\n",
    "    # Solution 1: Recursive\n",
    "    def sumRootToLeaf(self, root, ans=0):\n",
    "        if not root: \n",
    "            return 0\n",
    "        ans = ans * 2 + root.val\n",
    "        if root.left == root.right: \n",
    "            return ans\n",
    "        return self.sumRootToLeaf(root.left, ans) + self.sumRootToLeaf(root.right, ans)"
   ]
  },
  {
   "cell_type": "markdown",
   "id": "48897769",
   "metadata": {},
   "source": [
    "Complexity analysis\n",
    "\n",
    "- Time: O(N)\n",
    "- Space: O(H) for stack using in recursive function"
   ]
  },
  {
   "cell_type": "code",
   "execution_count": null,
   "id": "9e75bd73",
   "metadata": {},
   "outputs": [],
   "source": []
  }
 ],
 "metadata": {
  "kernelspec": {
   "display_name": "Python 3",
   "language": "python",
   "name": "python3"
  },
  "language_info": {
   "codemirror_mode": {
    "name": "ipython",
    "version": 3
   },
   "file_extension": ".py",
   "mimetype": "text/x-python",
   "name": "python",
   "nbconvert_exporter": "python",
   "pygments_lexer": "ipython3",
   "version": "3.7.4"
  }
 },
 "nbformat": 4,
 "nbformat_minor": 5
}
