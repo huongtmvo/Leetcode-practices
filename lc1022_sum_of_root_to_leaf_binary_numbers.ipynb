{
 "cells": [
  {
   "cell_type": "markdown",
   "id": "9017f8a6",
   "metadata": {},
   "source": [
    "https://leetcode.com/problems/sum-of-root-to-leaf-binary-numbers/"
   ]
  },
  {
   "cell_type": "code",
   "execution_count": 3,
   "id": "e48d1e2f",
   "metadata": {},
   "outputs": [],
   "source": [
    "class TreeNode:\n",
    "    def __init__(self,val=0,left=None,right=None):\n",
    "        self.val = val\n",
    "        self.left = left\n",
    "        self.right = right"
   ]
  },
  {
   "cell_type": "code",
   "execution_count": 4,
   "id": "9cb7b13b",
   "metadata": {},
   "outputs": [],
   "source": [
    "class Solution:\n",
    "    # Solution 1: Recursive\n",
    "    def sumRootToLeaf(self, root, val=0):\n",
    "        if not root: \n",
    "            return 0\n",
    "        val = val * 2 + root.val\n",
    "        if root.left == root.right: \n",
    "            return val\n",
    "        return self.sumRootToLeaf(root.left, val) + self.sumRootToLeaf(root.right, val)"
   ]
  },
  {
   "cell_type": "code",
   "execution_count": 5,
   "id": "77b403a6",
   "metadata": {},
   "outputs": [],
   "source": [
    "class Solution:\n",
    "    # Iterative:\n",
    "    def sumRootToLeaf(self, root: TreeNode) -> int:\n",
    "        root_to_leaf = 0\n",
    "        stack = [(root, 0) ]\n",
    "        \n",
    "        while stack:\n",
    "            root, curr_number = stack.pop()\n",
    "            if root is not None:\n",
    "                curr_number = (curr_number << 1) | root.val\n",
    "                # if it's a leaf, update root-to-leaf sum\n",
    "                if root.left is None and root.right is None:\n",
    "                    root_to_leaf += curr_number\n",
    "                else:\n",
    "                    stack.append((root.right, curr_number))\n",
    "                    stack.append((root.left, curr_number))\n",
    "                        \n",
    "        return root_to_leaf"
   ]
  },
  {
   "cell_type": "code",
   "execution_count": 6,
   "id": "0452d6fc",
   "metadata": {},
   "outputs": [],
   "source": [
    "class Solution:\n",
    "    # Recursive:\n",
    "    def sumRootToLeaf(self, root: TreeNode) -> int:\n",
    "        def preorder(r, curr_number):\n",
    "            nonlocal root_to_leaf\n",
    "            if r:\n",
    "                curr_number = (curr_number << 1) | r.val\n",
    "                # if it's a leaf, update root-to-leaf sum\n",
    "                if not (r.left or r.right):\n",
    "                    root_to_leaf += curr_number\n",
    "                    \n",
    "                preorder(r.left, curr_number)\n",
    "                preorder(r.right, curr_number) \n",
    "        \n",
    "        root_to_leaf = 0\n",
    "        preorder(root, 0)\n",
    "        return root_to_leaf"
   ]
  },
  {
   "cell_type": "code",
   "execution_count": null,
   "id": "480c1fe6",
   "metadata": {},
   "outputs": [],
   "source": []
  }
 ],
 "metadata": {
  "kernelspec": {
   "display_name": "Python 3",
   "language": "python",
   "name": "python3"
  },
  "language_info": {
   "codemirror_mode": {
    "name": "ipython",
    "version": 3
   },
   "file_extension": ".py",
   "mimetype": "text/x-python",
   "name": "python",
   "nbconvert_exporter": "python",
   "pygments_lexer": "ipython3",
   "version": "3.7.4"
  }
 },
 "nbformat": 4,
 "nbformat_minor": 5
}
