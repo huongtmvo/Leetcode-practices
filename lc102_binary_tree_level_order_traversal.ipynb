{
 "cells": [
  {
   "cell_type": "markdown",
   "id": "bb4bd013",
   "metadata": {},
   "source": [
    "https://leetcode.com/problems/binary-tree-level-order-traversal/"
   ]
  },
  {
   "cell_type": "code",
   "execution_count": 1,
   "id": "7a905dd5",
   "metadata": {},
   "outputs": [],
   "source": [
    "from collections import deque\n",
    "class Solution(object):\n",
    "    def levelOrder(self, root):\n",
    "        q, result = deque(), []\n",
    "        if root:\n",
    "            q.append(root)\n",
    "        while len(q):\n",
    "            level = []\n",
    "            for _ in range(len(q)):\n",
    "                x = q.popleft()\n",
    "                level.append(x.val)\n",
    "                if x.left:\n",
    "                    q.append(x.left)\n",
    "                if x.right:\n",
    "                    q.append(x.right)\n",
    "            result.append(level)\n",
    "        return result"
   ]
  },
  {
   "cell_type": "code",
   "execution_count": null,
   "id": "935b42ab",
   "metadata": {},
   "outputs": [],
   "source": [
    "# Time complexity: O(N)\n",
    "# Space complexity: O(N) (store results)"
   ]
  }
 ],
 "metadata": {
  "kernelspec": {
   "display_name": "Python 3",
   "language": "python",
   "name": "python3"
  },
  "language_info": {
   "codemirror_mode": {
    "name": "ipython",
    "version": 3
   },
   "file_extension": ".py",
   "mimetype": "text/x-python",
   "name": "python",
   "nbconvert_exporter": "python",
   "pygments_lexer": "ipython3",
   "version": "3.7.4"
  }
 },
 "nbformat": 4,
 "nbformat_minor": 5
}
