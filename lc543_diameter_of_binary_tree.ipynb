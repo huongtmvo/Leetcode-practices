{
 "cells": [
  {
   "cell_type": "markdown",
   "id": "1277adce",
   "metadata": {},
   "source": [
    "https://leetcode.com/problems/diameter-of-binary-tree/"
   ]
  },
  {
   "cell_type": "code",
   "execution_count": null,
   "id": "df440fca",
   "metadata": {},
   "outputs": [],
   "source": [
    "class Solution(object):\n",
    "    def diameterOfBinaryTree(self, root):\n",
    "        self.ans = 0\n",
    "        \n",
    "        def depth(node):\n",
    "            if not node: return 0\n",
    "            left, right = depth(node.left), depth(node.right)\n",
    "            self.ans = max(self.ans, left+right)\n",
    "            return 1 + max(left, right)\n",
    "            \n",
    "        depth(root)\n",
    "        return self.ans"
   ]
  }
 ],
 "metadata": {
  "kernelspec": {
   "display_name": "Python 3",
   "language": "python",
   "name": "python3"
  },
  "language_info": {
   "codemirror_mode": {
    "name": "ipython",
    "version": 3
   },
   "file_extension": ".py",
   "mimetype": "text/x-python",
   "name": "python",
   "nbconvert_exporter": "python",
   "pygments_lexer": "ipython3",
   "version": "3.7.4"
  }
 },
 "nbformat": 4,
 "nbformat_minor": 5
}
