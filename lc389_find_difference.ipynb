{
 "cells": [
  {
   "cell_type": "markdown",
   "id": "427d386e",
   "metadata": {},
   "source": [
    "### 389_Find the difference"
   ]
  },
  {
   "cell_type": "code",
   "execution_count": 2,
   "id": "2ddc139f",
   "metadata": {},
   "outputs": [],
   "source": [
    "from collections import Counter\n",
    "class Solution:\n",
    "    def findTheDifference(self, s: str, t: str) -> str:\n",
    "        counters = Counter(s)\n",
    "        countert = Counter(t)\n",
    "        \n",
    "        for character in countert:\n",
    "            if character not in counters:\n",
    "                return character\n",
    "            else:\n",
    "                if counters[character] != countert[character]:\n",
    "                    return character   \n",
    "# Complexity: \n",
    "# Time: O(N)\n",
    "# Space: O(N)"
   ]
  },
  {
   "cell_type": "code",
   "execution_count": 3,
   "id": "9c245b86",
   "metadata": {},
   "outputs": [
    {
     "data": {
      "text/plain": [
       "'e'"
      ]
     },
     "execution_count": 3,
     "metadata": {},
     "output_type": "execute_result"
    }
   ],
   "source": [
    "s = \"abcd\"; t = \"abcde\" \n",
    "Solution().findTheDifference(s, t)"
   ]
  },
  {
   "cell_type": "code",
   "execution_count": 4,
   "id": "8f507e28",
   "metadata": {},
   "outputs": [
    {
     "data": {
      "text/plain": [
       "'y'"
      ]
     },
     "execution_count": 4,
     "metadata": {},
     "output_type": "execute_result"
    }
   ],
   "source": [
    "s = \"\"; t = \"y\"\n",
    "Solution().findTheDifference(s, t)"
   ]
  }
 ],
 "metadata": {
  "kernelspec": {
   "display_name": "Python 3",
   "language": "python",
   "name": "python3"
  },
  "language_info": {
   "codemirror_mode": {
    "name": "ipython",
    "version": 3
   },
   "file_extension": ".py",
   "mimetype": "text/x-python",
   "name": "python",
   "nbconvert_exporter": "python",
   "pygments_lexer": "ipython3",
   "version": "3.7.4"
  }
 },
 "nbformat": 4,
 "nbformat_minor": 5
}
