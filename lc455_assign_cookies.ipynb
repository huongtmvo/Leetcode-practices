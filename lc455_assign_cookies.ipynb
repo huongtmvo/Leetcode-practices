{
 "cells": [
  {
   "cell_type": "markdown",
   "id": "d6ae7d1e",
   "metadata": {},
   "source": [
    "### 455. Assign Cookies"
   ]
  },
  {
   "cell_type": "code",
   "execution_count": 6,
   "id": "390d4355",
   "metadata": {},
   "outputs": [],
   "source": [
    "from typing import List\n",
    "class Solution:\n",
    "    def findContentChildren(self, g: List[int], s: List[int]) -> int:\n",
    "        g.sort()\n",
    "        s.sort()\n",
    "        \n",
    "        res = 0\n",
    "        i, j = 0, 0 \n",
    "        while i < len(g) and j < len(s):\n",
    "            if g[i] <= s[j]: \n",
    "                res += 1\n",
    "                i += 1\n",
    "            j += 1    \n",
    "        return res  \n",
    "# Time: O(NlogN)\n",
    "# Space: O(N)"
   ]
  },
  {
   "cell_type": "code",
   "execution_count": 7,
   "id": "0d91828f",
   "metadata": {},
   "outputs": [
    {
     "data": {
      "text/plain": [
       "1"
      ]
     },
     "execution_count": 7,
     "metadata": {},
     "output_type": "execute_result"
    }
   ],
   "source": [
    "g = [1,2,3]; s = [1,1]\n",
    "Solution().findContentChildren(g,s)"
   ]
  },
  {
   "cell_type": "code",
   "execution_count": 8,
   "id": "ea5524ac",
   "metadata": {},
   "outputs": [
    {
     "data": {
      "text/plain": [
       "2"
      ]
     },
     "execution_count": 8,
     "metadata": {},
     "output_type": "execute_result"
    }
   ],
   "source": [
    "g = [1,2]; s = [1,2,3]\n",
    "Solution().findContentChildren(g,s)"
   ]
  },
  {
   "cell_type": "code",
   "execution_count": 9,
   "id": "f619a1dd",
   "metadata": {},
   "outputs": [
    {
     "data": {
      "text/plain": [
       "2"
      ]
     },
     "execution_count": 9,
     "metadata": {},
     "output_type": "execute_result"
    }
   ],
   "source": [
    "g = [10,9,8,7]; s = [5,6,7,8]\n",
    "Solution().findContentChildren(g,s)"
   ]
  },
  {
   "cell_type": "code",
   "execution_count": null,
   "id": "9d32ef03",
   "metadata": {},
   "outputs": [],
   "source": []
  }
 ],
 "metadata": {
  "kernelspec": {
   "display_name": "Python 3",
   "language": "python",
   "name": "python3"
  },
  "language_info": {
   "codemirror_mode": {
    "name": "ipython",
    "version": 3
   },
   "file_extension": ".py",
   "mimetype": "text/x-python",
   "name": "python",
   "nbconvert_exporter": "python",
   "pygments_lexer": "ipython3",
   "version": "3.7.4"
  }
 },
 "nbformat": 4,
 "nbformat_minor": 5
}
