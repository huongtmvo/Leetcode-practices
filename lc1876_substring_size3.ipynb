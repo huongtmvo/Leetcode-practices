{
 "cells": [
  {
   "cell_type": "markdown",
   "id": "89f0f785",
   "metadata": {},
   "source": [
    "#### 1876. Substrings of Size Three with Distinct Characters"
   ]
  },
  {
   "cell_type": "code",
   "execution_count": 20,
   "id": "9517c2ba",
   "metadata": {},
   "outputs": [],
   "source": [
    "class Solution:\n",
    "    def countGoodSubstrings(self, s: str) -> int:\n",
    "        if len(s) < 3: return 0\n",
    "        a = s[0]\n",
    "        b = s[1]\n",
    "        c = s[2]\n",
    "        res = 0\n",
    "        if a != b and b!= c and c!= a: # or if a != b != c != a:\n",
    "                res += 1\n",
    "        for i in range(3, len(s)):\n",
    "            a = b\n",
    "            b = c\n",
    "            c = s[i]  \n",
    "            if a != b and b!= c and c!= a:\n",
    "                res += 1\n",
    "        return res\n",
    "# Time complexity: O(N)\n",
    "# Space complexity: O(1)\n",
    "\n",
    "    def countGoodSubstrings2(self, s: str) -> int:\n",
    "        res = 0\n",
    "        for i in range(len(s) - 2):\n",
    "            if len(set(s[i:i+3])) == 3:\n",
    "                res += 1\n",
    "        return res\n",
    "# Time complexity: O(N)\n",
    "# Space complexity: O(1)"
   ]
  },
  {
   "cell_type": "code",
   "execution_count": 21,
   "id": "9d6c6133",
   "metadata": {},
   "outputs": [
    {
     "data": {
      "text/plain": [
       "1"
      ]
     },
     "execution_count": 21,
     "metadata": {},
     "output_type": "execute_result"
    }
   ],
   "source": [
    "s = \"xyzzaz\"\n",
    "Solution().countGoodSubstrings2(s)"
   ]
  },
  {
   "cell_type": "code",
   "execution_count": 22,
   "id": "dc9490db",
   "metadata": {},
   "outputs": [
    {
     "data": {
      "text/plain": [
       "4"
      ]
     },
     "execution_count": 22,
     "metadata": {},
     "output_type": "execute_result"
    }
   ],
   "source": [
    "s = \"aababcabc\"\n",
    "Solution().countGoodSubstrings2(s)"
   ]
  },
  {
   "cell_type": "code",
   "execution_count": 25,
   "id": "a44c5860",
   "metadata": {},
   "outputs": [
    {
     "data": {
      "text/plain": [
       "[]"
      ]
     },
     "execution_count": 25,
     "metadata": {},
     "output_type": "execute_result"
    }
   ],
   "source": [
    "list(range(-2))"
   ]
  },
  {
   "cell_type": "code",
   "execution_count": null,
   "id": "dcb9c8d4",
   "metadata": {},
   "outputs": [],
   "source": []
  }
 ],
 "metadata": {
  "kernelspec": {
   "display_name": "Python 3",
   "language": "python",
   "name": "python3"
  },
  "language_info": {
   "codemirror_mode": {
    "name": "ipython",
    "version": 3
   },
   "file_extension": ".py",
   "mimetype": "text/x-python",
   "name": "python",
   "nbconvert_exporter": "python",
   "pygments_lexer": "ipython3",
   "version": "3.7.4"
  }
 },
 "nbformat": 4,
 "nbformat_minor": 5
}
