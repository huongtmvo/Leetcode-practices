{
 "cells": [
  {
   "cell_type": "markdown",
   "id": "3ef812cb",
   "metadata": {},
   "source": [
    "https://leetcode.com/problems/count-the-number-of-consistent-strings/"
   ]
  },
  {
   "cell_type": "code",
   "execution_count": 2,
   "id": "f2dc008a",
   "metadata": {},
   "outputs": [],
   "source": [
    "from typing import List\n",
    "class Solution:\n",
    "    def countConsistentStrings(self, allowed: str, words: List[str]) -> int:\n",
    "        allowed = set(allowed)\n",
    "        count = 0\n",
    "        for string in words:\n",
    "            for c in string:\n",
    "                if c not in allowed:\n",
    "                    break\n",
    "            else:\n",
    "                count += 1\n",
    "        return count"
   ]
  },
  {
   "cell_type": "code",
   "execution_count": 3,
   "id": "a0389746",
   "metadata": {},
   "outputs": [
    {
     "data": {
      "text/plain": [
       "7"
      ]
     },
     "execution_count": 3,
     "metadata": {},
     "output_type": "execute_result"
    }
   ],
   "source": [
    "allowed = \"abc\"; words = [\"a\",\"b\",\"c\",\"ab\",\"ac\",\"bc\",\"abc\"]\n",
    "Solution().countConsistentStrings(allowed,words)"
   ]
  },
  {
   "cell_type": "code",
   "execution_count": 4,
   "id": "0c6152c8",
   "metadata": {},
   "outputs": [
    {
     "data": {
      "text/plain": [
       "4"
      ]
     },
     "execution_count": 4,
     "metadata": {},
     "output_type": "execute_result"
    }
   ],
   "source": [
    "allowed = \"cad\"; words = [\"cc\",\"acd\",\"b\",\"ba\",\"bac\",\"bad\",\"ac\",\"d\"]\n",
    "Solution().countConsistentStrings(allowed,words)"
   ]
  },
  {
   "cell_type": "code",
   "execution_count": null,
   "id": "49e42d61",
   "metadata": {},
   "outputs": [],
   "source": []
  }
 ],
 "metadata": {
  "kernelspec": {
   "display_name": "Python 3",
   "language": "python",
   "name": "python3"
  },
  "language_info": {
   "codemirror_mode": {
    "name": "ipython",
    "version": 3
   },
   "file_extension": ".py",
   "mimetype": "text/x-python",
   "name": "python",
   "nbconvert_exporter": "python",
   "pygments_lexer": "ipython3",
   "version": "3.7.4"
  }
 },
 "nbformat": 4,
 "nbformat_minor": 5
}
