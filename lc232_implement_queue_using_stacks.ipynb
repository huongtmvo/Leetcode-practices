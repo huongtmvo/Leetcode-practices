{
 "cells": [
  {
   "cell_type": "markdown",
   "id": "8dc4eefc",
   "metadata": {},
   "source": [
    "https://leetcode.com/problems/implement-queue-using-stacks/"
   ]
  },
  {
   "cell_type": "code",
   "execution_count": null,
   "id": "8bdd7f40",
   "metadata": {},
   "outputs": [],
   "source": [
    "class MyQueue:\n",
    "    def __init__(self):\n",
    "        self.input, self.output = [], []\n",
    "    \n",
    "    def push(self, x):\n",
    "        self.input.append(x)\n",
    "        \n",
    "    def pop(self):\n",
    "        self.peek()\n",
    "        return self.output.pop()\n",
    "        \n",
    "    def peek(self):\n",
    "        if self.output == []:\n",
    "            while self.input != []:\n",
    "                self.output.append(self.input.pop())\n",
    "        return self.output[-1]\n",
    "    \n",
    "    def empty(self):\n",
    "        return (not self.input) and (not self.output)           "
   ]
  },
  {
   "cell_type": "code",
   "execution_count": 1,
   "id": "9b9b0fdc",
   "metadata": {},
   "outputs": [
    {
     "data": {
      "text/plain": [
       "4"
      ]
     },
     "execution_count": 1,
     "metadata": {},
     "output_type": "execute_result"
    }
   ],
   "source": [
    "a = [1,2,3,4]\n",
    "a.pop()"
   ]
  },
  {
   "cell_type": "code",
   "execution_count": 2,
   "id": "bf9c1836",
   "metadata": {},
   "outputs": [
    {
     "data": {
      "text/plain": [
       "[1, 2, 3]"
      ]
     },
     "execution_count": 2,
     "metadata": {},
     "output_type": "execute_result"
    }
   ],
   "source": [
    "a"
   ]
  },
  {
   "cell_type": "code",
   "execution_count": 3,
   "id": "1d93b135",
   "metadata": {},
   "outputs": [
    {
     "data": {
      "text/plain": [
       "3"
      ]
     },
     "execution_count": 3,
     "metadata": {},
     "output_type": "execute_result"
    }
   ],
   "source": [
    "a.pop()"
   ]
  },
  {
   "cell_type": "code",
   "execution_count": null,
   "id": "de31364c",
   "metadata": {},
   "outputs": [],
   "source": []
  }
 ],
 "metadata": {
  "kernelspec": {
   "display_name": "Python 3",
   "language": "python",
   "name": "python3"
  },
  "language_info": {
   "codemirror_mode": {
    "name": "ipython",
    "version": 3
   },
   "file_extension": ".py",
   "mimetype": "text/x-python",
   "name": "python",
   "nbconvert_exporter": "python",
   "pygments_lexer": "ipython3",
   "version": "3.7.4"
  }
 },
 "nbformat": 4,
 "nbformat_minor": 5
}
