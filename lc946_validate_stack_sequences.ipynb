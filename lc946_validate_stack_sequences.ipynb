{
 "cells": [
  {
   "cell_type": "markdown",
   "id": "0e440585",
   "metadata": {},
   "source": [
    "https://leetcode.com/problems/validate-stack-sequences/"
   ]
  },
  {
   "cell_type": "code",
   "execution_count": null,
   "id": "93a1a684",
   "metadata": {},
   "outputs": [],
   "source": [
    "class Solution:\n",
    "    def validateStackSequences(self, pushed: List[int], popped: List[int]) -> bool:\n",
    "        stack = []\n",
    "        i = 0 \n",
    "        for x in pushed:\n",
    "            stack.append(x)\n",
    "            while stack and stack[-1] == popped[i]:\n",
    "                stack.pop()\n",
    "                i += 1\n",
    "        return True if not stack else False"
   ]
  }
 ],
 "metadata": {
  "kernelspec": {
   "display_name": "Python 3",
   "language": "python",
   "name": "python3"
  },
  "language_info": {
   "codemirror_mode": {
    "name": "ipython",
    "version": 3
   },
   "file_extension": ".py",
   "mimetype": "text/x-python",
   "name": "python",
   "nbconvert_exporter": "python",
   "pygments_lexer": "ipython3",
   "version": "3.7.4"
  }
 },
 "nbformat": 4,
 "nbformat_minor": 5
}
