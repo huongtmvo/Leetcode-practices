{
 "cells": [
  {
   "cell_type": "markdown",
   "id": "f6b78aa1",
   "metadata": {},
   "source": [
    "https://leetcode.com/problems/number-of-equivalent-domino-pairs/"
   ]
  },
  {
   "cell_type": "code",
   "execution_count": 10,
   "id": "7af6678e",
   "metadata": {},
   "outputs": [],
   "source": [
    "from typing import List\n",
    "class Solution:\n",
    "    def numEquivDominoPairs(self, dominoes: List[List[int]]) -> int:\n",
    "        dic = defaultdic(int)\n",
    "        for a,b in dominoes:\n",
    "            key = (a,b) if a < b else (b,a)\n",
    "            dic[key] += 1\n",
    "            \n",
    "        ans = 0\n",
    "        for k, v in dic.items():\n",
    "            if v >= 2:\n",
    "                ans += v*(v-1)//2\n",
    "        return ans          "
   ]
  },
  {
   "cell_type": "code",
   "execution_count": 11,
   "id": "0b77ef92",
   "metadata": {},
   "outputs": [
    {
     "name": "stdout",
     "output_type": "stream",
     "text": [
      "1 2\n",
      "2 1\n",
      "3 4\n",
      "5 6\n"
     ]
    }
   ],
   "source": [
    "dominoes = [[1,2],[2,1],[3,4],[5,6]]\n",
    "for a,b in dominoes:\n",
    "    print(a,b)"
   ]
  },
  {
   "cell_type": "code",
   "execution_count": null,
   "id": "c5c19de7",
   "metadata": {},
   "outputs": [],
   "source": []
  }
 ],
 "metadata": {
  "kernelspec": {
   "display_name": "Python 3",
   "language": "python",
   "name": "python3"
  },
  "language_info": {
   "codemirror_mode": {
    "name": "ipython",
    "version": 3
   },
   "file_extension": ".py",
   "mimetype": "text/x-python",
   "name": "python",
   "nbconvert_exporter": "python",
   "pygments_lexer": "ipython3",
   "version": "3.7.4"
  }
 },
 "nbformat": 4,
 "nbformat_minor": 5
}
