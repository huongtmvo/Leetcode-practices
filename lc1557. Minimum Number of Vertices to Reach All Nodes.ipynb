{
 "cells": [
  {
   "cell_type": "markdown",
   "id": "0WNKojmm8fg3",
   "metadata": {
    "id": "0WNKojmm8fg3"
   },
   "source": [
    "1557. Minimum Number of Vertices to Reach All Nodes\n",
    "\n",
    "https://leetcode.com/problems/minimum-number-of-vertices-to-reach-all-nodes/"
   ]
  },
  {
   "cell_type": "code",
   "execution_count": 15,
   "id": "dcce9704",
   "metadata": {},
   "outputs": [],
   "source": [
    "class Solution:\n",
    "    # Solution 1: \n",
    "    # If there are vertices which cannot be reached from other nodes, they'll in the result\n",
    "    # Time: O(E)\n",
    "    # Space: O(N)\n",
    "    def findSmallestSetOfVertices(self, n, edges):\n",
    "            return list(set(range(n)) - set(j for i, j in edges))\n",
    "    \n",
    "    # Same solution, different way of writing\n",
    "    def findSmallestSetOfVertices2(self, n, edges):\n",
    "        vertices = set(range(n))\n",
    "        for u, v in edges:\n",
    "            if v in vertices:\n",
    "                vertices.remove(v)\n",
    "        return list(vertices)"
   ]
  },
  {
   "cell_type": "code",
   "execution_count": 16,
   "id": "3ed024e9",
   "metadata": {},
   "outputs": [
    {
     "data": {
      "text/plain": [
       "[0, 3]"
      ]
     },
     "execution_count": 16,
     "metadata": {},
     "output_type": "execute_result"
    }
   ],
   "source": [
    "n = 6; edges = [[0,1],[0,2],[2,5],[3,4],[4,2]]\n",
    "Solution().findSmallestSetOfVertices2(n, edges)\n"
   ]
  }
 ],
 "metadata": {
  "colab": {
   "collapsed_sections": [],
   "name": "lc1557. Minimum Number of Vertices to Reach All Nodes.ipynb",
   "provenance": []
  },
  "kernelspec": {
   "display_name": "Python 3",
   "language": "python",
   "name": "python3"
  },
  "language_info": {
   "codemirror_mode": {
    "name": "ipython",
    "version": 3
   },
   "file_extension": ".py",
   "mimetype": "text/x-python",
   "name": "python",
   "nbconvert_exporter": "python",
   "pygments_lexer": "ipython3",
   "version": "3.7.4"
  }
 },
 "nbformat": 4,
 "nbformat_minor": 5
}
