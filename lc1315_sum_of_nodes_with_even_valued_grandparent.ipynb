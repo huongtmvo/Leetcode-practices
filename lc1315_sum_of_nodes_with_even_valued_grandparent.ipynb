{
 "cells": [
  {
   "cell_type": "markdown",
   "id": "dbb2ae9d",
   "metadata": {},
   "source": [
    "https://leetcode.com/problems/sum-of-nodes-with-even-valued-grandparent/"
   ]
  },
  {
   "cell_type": "code",
   "execution_count": 1,
   "id": "6ef64361",
   "metadata": {},
   "outputs": [],
   "source": [
    "class TreeNode:\n",
    "    def __init__(self, val=0, left=None, right=None):\n",
    "        self.val = val\n",
    "        self.left = left\n",
    "        self.right = right"
   ]
  },
  {
   "cell_type": "code",
   "execution_count": 2,
   "id": "33441d84",
   "metadata": {},
   "outputs": [],
   "source": [
    "class Solution:\n",
    "    def sumEvenGrandparent(self, root: TreeNode) -> int:\n",
    "        def dfs(node, parent, grandparent):\n",
    "            if not node:\n",
    "                return\n",
    "            if parent and grandparent and grandparent.val%2==0:\n",
    "                self.ans += node.val\n",
    "            dfs(node.left, node, parent)\n",
    "            dfs(node.right, node, parent)\n",
    "        \n",
    "        self.ans = 0\n",
    "        dfs(root, None, None)\n",
    "        return self.ans"
   ]
  },
  {
   "cell_type": "code",
   "execution_count": 3,
   "id": "c062e7aa",
   "metadata": {},
   "outputs": [],
   "source": [
    "root = TreeNode(6, TreeNode(7, TreeNode(2, TreeNode(9)), TreeNode(7, TreeNode(1), TreeNode(4))), TreeNode(8, TreeNode(1), TreeNode(3, TreeNode(), TreeNode(5))))"
   ]
  },
  {
   "cell_type": "code",
   "execution_count": 4,
   "id": "37395c35",
   "metadata": {},
   "outputs": [
    {
     "data": {
      "text/plain": [
       "18"
      ]
     },
     "execution_count": 4,
     "metadata": {},
     "output_type": "execute_result"
    }
   ],
   "source": [
    "Solution().sumEvenGrandparent(root)"
   ]
  }
 ],
 "metadata": {
  "kernelspec": {
   "display_name": "Python 3",
   "language": "python",
   "name": "python3"
  },
  "language_info": {
   "codemirror_mode": {
    "name": "ipython",
    "version": 3
   },
   "file_extension": ".py",
   "mimetype": "text/x-python",
   "name": "python",
   "nbconvert_exporter": "python",
   "pygments_lexer": "ipython3",
   "version": "3.7.4"
  }
 },
 "nbformat": 4,
 "nbformat_minor": 5
}
