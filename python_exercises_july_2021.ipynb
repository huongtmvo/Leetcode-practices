{
 "cells": [
  {
   "cell_type": "code",
   "execution_count": null,
   "metadata": {
    "id": "oVA7l6UAlX2l"
   },
   "outputs": [],
   "source": []
  },
  {
   "cell_type": "markdown",
   "metadata": {
    "id": "2pDTEZf0leDR"
   },
   "source": [
    "# 1. Maximum Subarray\n",
    "\n",
    "Given an integer array `nums`, find the contiguous subarray (containing at least one number) which has the largest sum and return its sum.\n",
    "\n",
    "\n",
    "Example 1:\n",
    "```\n",
    "Input: nums = [-2,1,-3,4,-1,2,1,-5,4]\n",
    "Output: 6\n",
    "Explanation: [4,-1,2,1] has the largest sum = 6.\n",
    "```\n",
    "\n",
    "Example 2:\n",
    "```\n",
    "Input: nums = [1]\n",
    "Output: 1\n",
    "```\n",
    "\n",
    "Example 3: \n",
    "```\n",
    "Input: nums = [5,4,-1,7,8]\n",
    "Output: 23\n",
    "```"
   ]
  },
  {
   "cell_type": "code",
   "execution_count": null,
   "metadata": {
    "colab": {
     "base_uri": "https://localhost:8080/"
    },
    "executionInfo": {
     "elapsed": 5,
     "status": "ok",
     "timestamp": 1626108102625,
     "user": {
      "displayName": "Thong Le",
      "photoUrl": "https://lh3.googleusercontent.com/a-/AOh14GgNNhfcPfzfRGdB5EDPF74PraconDWTjdP0ECxD=s64",
      "userId": "10936187029906353269"
     },
     "user_tz": 420
    },
    "id": "r1_YQLoml-VE",
    "outputId": "b67c7b83-8da7-49d6-daa4-5a7615f548bd"
   },
   "outputs": [
    {
     "data": {
      "text/plain": [
       "-1"
      ]
     },
     "execution_count": 1,
     "metadata": {
      "tags": []
     },
     "output_type": "execute_result"
    }
   ],
   "source": [
    "def maxSubArray(nums):\n",
    "  return -1\n",
    "\n",
    "nums = [-2,1,-3,4,-1,2,1,-5,4]\n",
    "maxSubArray(nums)"
   ]
  },
  {
   "cell_type": "code",
   "execution_count": null,
   "metadata": {
    "colab": {
     "base_uri": "https://localhost:8080/"
    },
    "executionInfo": {
     "elapsed": 132,
     "status": "ok",
     "timestamp": 1626329972158,
     "user": {
      "displayName": "Helen Vo",
      "photoUrl": "",
      "userId": "06024641955657481731"
     },
     "user_tz": 420
    },
    "id": "4-6OjRnDmHZF",
    "outputId": "d16803ae-f4ac-45de-c080-baa34f9f4151"
   },
   "outputs": [
    {
     "data": {
      "text/plain": [
       "23"
      ]
     },
     "execution_count": 4,
     "metadata": {
      "tags": []
     },
     "output_type": "execute_result"
    }
   ],
   "source": [
    "nums = [5,4,-1,7,8]\n",
    "[5,9,8,15,23]\n",
    "\n",
    "def maxSubArray1(nums):\n",
    "  n = len(nums)\n",
    "  max = -1 \n",
    "  for i in range(n):\n",
    "    for j in range(i+1, n):\n",
    "      sum = 0\n",
    "      for k in range (i, j+1):\n",
    "         sum += nums[k]\n",
    "      if sum > max: \n",
    "         max = sum\n",
    "  return max\n",
    "maxSubArray1(nums)     \n",
    "\n",
    "def maxSubArray2(nums):\n",
    "  n = len(nums)\n",
    "  for i in range(1, n):\n",
    "    nums[i] = nums[i] + nums[i-1]\n",
    "\n",
    "2 for loops for i, j\n",
    "      sum = nums[j]-nums[i]  # O(n^2)\n",
    "\n",
    "\n"
   ]
  },
  {
   "cell_type": "markdown",
   "metadata": {
    "id": "4dyYzPrrmI9M"
   },
   "source": [
    "# 2. Plus One\n",
    "\n",
    "Given a non-empty array of decimal digits representing a non-negative integer, increment one to the integer.\n",
    "\n",
    "The digits are stored such that the most significant digit is at the head of the list, and each element in the array contains a single digit.\n",
    "\n",
    "You may assume the integer does not contain any leading zero, except the number 0 itself.\n",
    "\n",
    "Example 1:\n",
    "```\n",
    "Input: digits = [1,2,3]\n",
    "Output: [1,2,4]\n",
    "Explanation: The array represents the integer 123.\n",
    "```\n",
    "\n",
    "Example 2:\n",
    "```\n",
    "Input: digits = [4,3,2,1]\n",
    "Output: [4,3,2,2]\n",
    "Explanation: The array represents the integer 4321.\n",
    "```\n",
    "\n",
    "Example 3: \n",
    "```\n",
    "Input: digits = [0]\n",
    "Output: [1]\n",
    "```"
   ]
  },
  {
   "cell_type": "code",
   "execution_count": null,
   "metadata": {
    "colab": {
     "base_uri": "https://localhost:8080/"
    },
    "executionInfo": {
     "elapsed": 142,
     "status": "ok",
     "timestamp": 1626296394438,
     "user": {
      "displayName": "Helen Vo",
      "photoUrl": "",
      "userId": "06024641955657481731"
     },
     "user_tz": 420
    },
    "id": "ktXLc-Iq0R_3",
    "outputId": "58654b39-7f88-4b46-db89-2bbfe9d49891"
   },
   "outputs": [
    {
     "data": {
      "text/plain": [
       "[5, 4, 3, 2, 1]"
      ]
     },
     "execution_count": 5,
     "metadata": {
      "tags": []
     },
     "output_type": "execute_result"
    }
   ],
   "source": [
    "list(range(6-1, 0, -1))\n",
    "# range (a, b, 1) a -> b-1"
   ]
  },
  {
   "cell_type": "code",
   "execution_count": null,
   "metadata": {
    "colab": {
     "base_uri": "https://localhost:8080/"
    },
    "executionInfo": {
     "elapsed": 135,
     "status": "ok",
     "timestamp": 1626296583397,
     "user": {
      "displayName": "Helen Vo",
      "photoUrl": "",
      "userId": "06024641955657481731"
     },
     "user_tz": 420
    },
    "id": "7-zIMuvZ1Cdd",
    "outputId": "650a9446-8cc5-46db-e06e-5aa96ef70e46"
   },
   "outputs": [
    {
     "data": {
      "text/plain": [
       "[-1, 0, 0]"
      ]
     },
     "execution_count": 8,
     "metadata": {
      "tags": []
     },
     "output_type": "execute_result"
    }
   ],
   "source": [
    "a = [0,0]\n",
    "a.insert(0, -1)\n",
    "a"
   ]
  },
  {
   "cell_type": "code",
   "execution_count": null,
   "metadata": {
    "id": "KDgx17FwdFIN"
   },
   "outputs": [],
   "source": [
    "from typing import List\n",
    "def plusOne(digits: List[int]) -> List[int]:\n",
    "        n = len(digits)\n",
    "        carry = 0\n",
    "        for i in range(n-1, -1, -1):\n",
    "            if i == n-1:\n",
    "                digits[i] += 1\n",
    "            digits[i] += carry\n",
    "            if digits[i] == 10:\n",
    "                digits[i] = 0\n",
    "                carry = 1\n",
    "            else:\n",
    "                carry = 0\n",
    "        if carry > 0:\n",
    "            digits.insert(0, 1)\n",
    "        return digits"
   ]
  },
  {
   "cell_type": "code",
   "execution_count": null,
   "metadata": {
    "id": "F-jRAJXMmpbh"
   },
   "outputs": [],
   "source": [
    "def plusOne2(digits: List[int]) -> List[int]:\n",
    "        n = len(digits)\n",
    "        carry = 1\n",
    "        for i in range(n-1, -1, -1):\n",
    "            digits[i], carry = (digits[i] + carry) % 10, (digits[i] + carry) // 10\n",
    "        if carry > 0:\n",
    "            digits.insert(0, 1)\n",
    "        return digits"
   ]
  },
  {
   "cell_type": "code",
   "execution_count": null,
   "metadata": {
    "colab": {
     "base_uri": "https://localhost:8080/"
    },
    "executionInfo": {
     "elapsed": 131,
     "status": "ok",
     "timestamp": 1626379839378,
     "user": {
      "displayName": "Helen Vo",
      "photoUrl": "",
      "userId": "06024641955657481731"
     },
     "user_tz": 420
    },
    "id": "rNvAVsE0dOCH",
    "outputId": "cca86d85-9076-463f-fbd7-990eba851403"
   },
   "outputs": [
    {
     "data": {
      "text/plain": [
       "[1]"
      ]
     },
     "execution_count": 8,
     "metadata": {
      "tags": []
     },
     "output_type": "execute_result"
    }
   ],
   "source": [
    "digits = [0]\n",
    "plusOne2(digits)"
   ]
  },
  {
   "cell_type": "markdown",
   "metadata": {
    "id": "ZpK8nZ0Vmqek"
   },
   "source": [
    "# 3. Best Time to Buy and Sell Stock\n",
    "\n",
    "You are given an array prices where `prices[i]` is the price of a given stock on the `ith` day.\n",
    "\n",
    "Find the maximum profit you can achieve. You may complete as many transactions as you like (i.e., buy one and sell one share of the stock multiple times).\n",
    "\n",
    "**Note**: You may not engage in multiple transactions simultaneously (i.e., you must sell the stock before you buy again).\n",
    "\n",
    "Example 1:\n",
    "\n",
    "```\n",
    "Input: prices = [7,1,5,3,6,4]\n",
    "Output: 7\n",
    "Explanation: Buy on day 2 (price = 1) and sell on day 3 (price = 5), profit = 5-1 = 4.\n",
    "Then buy on day 4 (price = 3) and sell on day 5 (price = 6), profit = 6-3 = 3.\n",
    "```\n",
    "\n",
    "Example 2:\n",
    "\n",
    "```\n",
    "Input: prices = [1,2,3,4,5]\n",
    "Output: 4\n",
    "Explanation: Buy on day 1 (price = 1) and sell on day 5 (price = 5), profit = 5-1 = 4.\n",
    "Note that you cannot buy on day 1, buy on day 2 and sell them later, as you are engaging multiple transactions at the same time. You must sell before buying again.\n",
    "```\n",
    "\n",
    "Example 3: \n",
    "\n",
    "```\n",
    "Input: prices = [7,6,4,3,1]\n",
    "Output: 0\n",
    "Explanation: In this case, no transaction is done, i.e., max profit = 0.\n",
    "```"
   ]
  },
  {
   "cell_type": "code",
   "execution_count": 20,
   "metadata": {
    "executionInfo": {
     "elapsed": 138,
     "status": "ok",
     "timestamp": 1626720790106,
     "user": {
      "displayName": "Helen Vo",
      "photoUrl": "",
      "userId": "06024641955657481731"
     },
     "user_tz": 420
    },
    "id": "V4EAa2PGnGwF"
   },
   "outputs": [],
   "source": [
    "def maxProfit(prices):\n",
    "  n = len(prices)\n",
    "  maxList = prices\n",
    "  for i in range (0,n-1):\n",
    "    maxList[i] = max(prices[i+1:n]) - prices[i]\n",
    "  return max(maxList)"
   ]
  },
  {
   "cell_type": "code",
   "execution_count": 21,
   "metadata": {
    "colab": {
     "base_uri": "https://localhost:8080/"
    },
    "executionInfo": {
     "elapsed": 155,
     "status": "ok",
     "timestamp": 1626720833312,
     "user": {
      "displayName": "Helen Vo",
      "photoUrl": "",
      "userId": "06024641955657481731"
     },
     "user_tz": 420
    },
    "id": "-VuNnyrbnKg4",
    "outputId": "e227b277-0aba-46b6-bf88-335a4fb7bf02"
   },
   "outputs": [
    {
     "data": {
      "text/plain": [
       "5"
      ]
     },
     "execution_count": 21,
     "metadata": {
      "tags": []
     },
     "output_type": "execute_result"
    }
   ],
   "source": [
    "prices = [7,1,5,3,6,4]\n",
    "maxProfit(prices)"
   ]
  },
  {
   "cell_type": "code",
   "execution_count": 22,
   "metadata": {
    "colab": {
     "base_uri": "https://localhost:8080/"
    },
    "executionInfo": {
     "elapsed": 162,
     "status": "ok",
     "timestamp": 1626720836260,
     "user": {
      "displayName": "Helen Vo",
      "photoUrl": "",
      "userId": "06024641955657481731"
     },
     "user_tz": 420
    },
    "id": "3f3JRQQbGBEu",
    "outputId": "2a8a52d7-9544-4832-8169-7f9fa2689cdd"
   },
   "outputs": [
    {
     "name": "stdout",
     "output_type": "stream",
     "text": [
      "7\n",
      "7\n"
     ]
    }
   ],
   "source": [
    "prices = [7,1,5,3,6,4]\n",
    "print(max(prices))\n",
    "print(max(prices[0:4]))"
   ]
  },
  {
   "cell_type": "code",
   "execution_count": 24,
   "metadata": {
    "colab": {
     "base_uri": "https://localhost:8080/"
    },
    "executionInfo": {
     "elapsed": 156,
     "status": "ok",
     "timestamp": 1626720991211,
     "user": {
      "displayName": "Helen Vo",
      "photoUrl": "",
      "userId": "06024641955657481731"
     },
     "user_tz": 420
    },
    "id": "RatfNBlaHxw5",
    "outputId": "a5f26a2c-4b30-43d5-cbde-a0a7e0ca2844"
   },
   "outputs": [
    {
     "name": "stdout",
     "output_type": "stream",
     "text": [
      "[(0, 7), (1, 1), (2, 5), (3, 3), (4, 6), (5, 4)]\n"
     ]
    }
   ],
   "source": [
    "def maxProfit(prices):\n",
    "  n = len(prices)\n",
    "  pass\n",
    "\n"
   ]
  },
  {
   "cell_type": "markdown",
   "metadata": {
    "id": "uWgm4wrRnLCW"
   },
   "source": [
    "# 4. Majority Element\n",
    "\n",
    "Given an array nums of size n, return the majority element.\n",
    "\n",
    "The majority element is the element that appears more than ⌊n / 2⌋ times. You may assume that the majority element always exists in the array.\n",
    "\n",
    "\n",
    "Example 1: \n",
    "\n",
    "```\n",
    "Input: nums = [3,2,3]\n",
    "Output: 3\n",
    "```\n",
    "\n",
    "Example 2:\n",
    "\n",
    "```\n",
    "Input: nums = [2,2,1,1,1,2,2]\n",
    "Output: 2\n",
    "```"
   ]
  },
  {
   "cell_type": "code",
   "execution_count": null,
   "metadata": {
    "colab": {
     "base_uri": "https://localhost:8080/"
    },
    "executionInfo": {
     "elapsed": 7,
     "status": "ok",
     "timestamp": 1626206931652,
     "user": {
      "displayName": "Helen Vo",
      "photoUrl": "",
      "userId": "06024641955657481731"
     },
     "user_tz": 420
    },
    "id": "PF3X5wsonayC",
    "outputId": "945f825a-3100-463d-8192-6b14f1810401"
   },
   "outputs": [
    {
     "data": {
      "text/plain": [
       "2"
      ]
     },
     "execution_count": 1,
     "metadata": {
      "tags": []
     },
     "output_type": "execute_result"
    }
   ],
   "source": [
    "def majorityElement(nums):\n",
    "  n = len(nums)\n",
    "  j = 0\n",
    "  count = 0\n",
    "  while j < n:\n",
    "    for i in range (0,n):\n",
    "      if nums[j] == nums[i]:\n",
    "        count = count +1\n",
    "    if count > n/2:\n",
    "      return nums[j]\n",
    "    else:\n",
    "      j = j +1\n",
    "      count = 0\n",
    "    \n",
    "# O(n^2), brute-force solution\n",
    "nums = [2,2,1,1,1,2,2]\n",
    "majorityElement(nums)"
   ]
  },
  {
   "cell_type": "code",
   "execution_count": null,
   "metadata": {
    "id": "yGPvoTl2fnFm"
   },
   "outputs": [],
   "source": [
    "def majorityElement2(nums):\n",
    "  nums.sort() # sort in-place  # O(nlogn)\n",
    "  # nums = sorted(nums) \n",
    "  return nums[len(nums)//2]\n",
    "\n",
    "def majorityElement3(nums):\n",
    "  count = {}\n",
    "  # dictionary (map) \n",
    "  # lookup: O(1) (constanst time)\n",
    "  # insert: O(1)\n",
    "  for n in nums:\n",
    "    if n not in count:\n",
    "      count[n] = 1\n",
    "    else:\n",
    "      count[n] += 1\n",
    "    if count[n] > len(nums) // 2:\n",
    "      return n\n",
    "  return -1\n",
    "\n",
    "# O(n)\n",
    "# nums = [1,2,1]\n",
    "# count = {1:2, 2:1}  # count[1] = 1 (key -> value)"
   ]
  },
  {
   "cell_type": "code",
   "execution_count": null,
   "metadata": {
    "colab": {
     "base_uri": "https://localhost:8080/"
    },
    "executionInfo": {
     "elapsed": 207,
     "status": "ok",
     "timestamp": 1626207130975,
     "user": {
      "displayName": "Helen Vo",
      "photoUrl": "",
      "userId": "06024641955657481731"
     },
     "user_tz": 420
    },
    "id": "0U8X3dNNgPui",
    "outputId": "3cf0ecc5-aa17-48cf-b58e-54130fda479a"
   },
   "outputs": [
    {
     "data": {
      "text/plain": [
       "2"
      ]
     },
     "execution_count": 10,
     "metadata": {
      "tags": []
     },
     "output_type": "execute_result"
    }
   ],
   "source": [
    "nums = [1,2,1,2,2]\n",
    "# count = {1:2, 2:3}\n",
    "majorityElement2(nums)"
   ]
  },
  {
   "cell_type": "code",
   "execution_count": null,
   "metadata": {
    "colab": {
     "base_uri": "https://localhost:8080/"
    },
    "executionInfo": {
     "elapsed": 203,
     "status": "ok",
     "timestamp": 1626207137141,
     "user": {
      "displayName": "Helen Vo",
      "photoUrl": "",
      "userId": "06024641955657481731"
     },
     "user_tz": 420
    },
    "id": "QNrHphVPndoc",
    "outputId": "f893b559-b91b-4f2b-ec76-9148fe65c16c"
   },
   "outputs": [
    {
     "data": {
      "text/plain": [
       "3"
      ]
     },
     "execution_count": 12,
     "metadata": {
      "tags": []
     },
     "output_type": "execute_result"
    }
   ],
   "source": [
    "nums = [3,2,3]\n",
    "majorityElement2(nums)"
   ]
  },
  {
   "cell_type": "markdown",
   "metadata": {
    "id": "MC94av1gniUK"
   },
   "source": [
    "# 5. Contains Duplicate\n",
    "\n",
    "Given an integer array nums, return true if any value appears at least twice in the array, and return false if every element is distinct.\n",
    "\n",
    "Example 1:\n",
    "\n",
    "```\n",
    "Input: nums = [1,2,3,1]\n",
    "Output: true\n",
    "```\n",
    "\n",
    "Example 2:\n",
    "\n",
    "```\n",
    "Input: nums = [1,2,3,4]\n",
    "Output: false\n",
    "```\n",
    "\n",
    "Example 3:\n",
    "\n",
    "```\n",
    "Input: nums = [1,1,1,3,3,4,3,2,4,2]\n",
    "Output: true\n",
    "```"
   ]
  },
  {
   "cell_type": "code",
   "execution_count": null,
   "metadata": {
    "colab": {
     "base_uri": "https://localhost:8080/"
    },
    "executionInfo": {
     "elapsed": 3004,
     "status": "ok",
     "timestamp": 1626158931223,
     "user": {
      "displayName": "Helen Vo",
      "photoUrl": "",
      "userId": "06024641955657481731"
     },
     "user_tz": 420
    },
    "id": "NUst1CBBnxyG",
    "outputId": "dbae7deb-c61c-4ff4-d896-e1e62ea8ea67"
   },
   "outputs": [
    {
     "data": {
      "text/plain": [
       "True"
      ]
     },
     "execution_count": 63,
     "metadata": {
      "tags": []
     },
     "output_type": "execute_result"
    }
   ],
   "source": [
    "def containDuplicate(nums):\n",
    "    n = len(nums)\n",
    "    j = 0\n",
    "    while j <n:\n",
    "      for i in range (j+1,n):\n",
    "        if nums[j] == nums[i]:\n",
    "          return True \n",
    "      else:\n",
    "        j = j +1\n",
    "    return False\n",
    "\n",
    "# 1 2 3 4 5 \n",
    "# j = 0: n\n",
    "# j = 1: n-1\n",
    "# n + (n-1) + n-2 + ... + 1 = n(n+1)/2  = O(n^2) = O(1/10000 n^2) = O(n^2)\n",
    "nums = [1,1,1,3,3,4,3,2,4,2]\n",
    "containDuplicate(nums)"
   ]
  },
  {
   "cell_type": "code",
   "execution_count": null,
   "metadata": {
    "id": "rDSq2nZqi5LN"
   },
   "outputs": [],
   "source": [
    "def containDuplicate2(nums):\n",
    "  count = {}\n",
    "  for n in nums:\n",
    "    if n in count:\n",
    "      count[n] += 1\n",
    "    else:\n",
    "      count[n] = 1\n",
    "    if count[n] > 1:\n",
    "      return True \n",
    "  return False\n",
    "\n",
    "def containDuplicate3(nums):\n",
    "  unique = set()\n",
    "  for n in nums:\n",
    "    if n in unique:\n",
    "      return True \n",
    "    unique.add(n)\n",
    "  return False\n",
    "\n",
    "def containDuplicate4(nums):\n",
    "  nums.sort()  # O(nlogn)   << O(n^2)\n",
    "  for i in range(len(nums)-1):\n",
    "    if nums[i] == nums[i+1]:\n",
    "      return True \n",
    "  return False\n",
    "# O(n)"
   ]
  },
  {
   "cell_type": "code",
   "execution_count": null,
   "metadata": {
    "colab": {
     "base_uri": "https://localhost:8080/"
    },
    "executionInfo": {
     "elapsed": 167,
     "status": "ok",
     "timestamp": 1626158937530,
     "user": {
      "displayName": "Helen Vo",
      "photoUrl": "",
      "userId": "06024641955657481731"
     },
     "user_tz": 420
    },
    "id": "Meyb9IPOlWNi",
    "outputId": "12f6610d-7b68-4b3a-9c5f-2e873f0f05ee"
   },
   "outputs": [
    {
     "data": {
      "text/plain": [
       "True"
      ]
     },
     "execution_count": 64,
     "metadata": {
      "tags": []
     },
     "output_type": "execute_result"
    }
   ],
   "source": [
    "nums = [1,2,3,1]\n",
    "containDuplicate(nums)"
   ]
  },
  {
   "cell_type": "code",
   "execution_count": null,
   "metadata": {
    "colab": {
     "base_uri": "https://localhost:8080/"
    },
    "executionInfo": {
     "elapsed": 151,
     "status": "ok",
     "timestamp": 1626158939043,
     "user": {
      "displayName": "Helen Vo",
      "photoUrl": "",
      "userId": "06024641955657481731"
     },
     "user_tz": 420
    },
    "id": "VzCpI60ClGcw",
    "outputId": "f28b9a9d-cafc-44ff-cd2d-8784ec5d08eb"
   },
   "outputs": [
    {
     "data": {
      "text/plain": [
       "False"
      ]
     },
     "execution_count": 65,
     "metadata": {
      "tags": []
     },
     "output_type": "execute_result"
    }
   ],
   "source": [
    "nums = [1,2,3,4]\n",
    "containDuplicate(nums)"
   ]
  },
  {
   "cell_type": "code",
   "execution_count": null,
   "metadata": {
    "colab": {
     "base_uri": "https://localhost:8080/"
    },
    "executionInfo": {
     "elapsed": 164,
     "status": "ok",
     "timestamp": 1626158940942,
     "user": {
      "displayName": "Helen Vo",
      "photoUrl": "",
      "userId": "06024641955657481731"
     },
     "user_tz": 420
    },
    "id": "cLCTieV8mtvW",
    "outputId": "21b69c46-bd0a-4ff3-9288-1aa276389ae2"
   },
   "outputs": [
    {
     "data": {
      "text/plain": [
       "True"
      ]
     },
     "execution_count": 66,
     "metadata": {
      "tags": []
     },
     "output_type": "execute_result"
    }
   ],
   "source": [
    "nums = [2,1,3,1,4]\n",
    "containDuplicate(nums)"
   ]
  },
  {
   "cell_type": "markdown",
   "metadata": {
    "id": "u1xx_YGfn3XO"
   },
   "source": [
    "# 6. Contains Duplicate II\n",
    "\n",
    "Given an integer array `nums` and an integer `k`, return true if there are two distinct indices `i` and `j` in the array such that `nums[i] == nums[j]` and `abs(i - j) <= k`.\n",
    "\n",
    "Example 1:\n",
    "```\n",
    "Input: nums = [1,2,3,1], k = 3\n",
    "Output: true\n",
    "```\n",
    "\n",
    "Example 2:\n",
    "```\n",
    "Input: nums = [1,0,1,1], k = 1\n",
    "Output: true\n",
    "```\n",
    "\n",
    "Example 3:\n",
    "```\n",
    "Input: nums = [1,2,3,1,2,3], k = 2\n",
    "Output: false\n",
    "```\n",
    "\n",
    " "
   ]
  },
  {
   "cell_type": "code",
   "execution_count": null,
   "metadata": {
    "id": "gu1VVqqOoTjH"
   },
   "outputs": [],
   "source": [
    "def containDuplicateII(nums, k):\n",
    "  n = len(nums)\n",
    "  j = 0\n",
    "  while j < n:\n",
    "    for i in range (j+1,n):\n",
    "      if nums[j] == nums[i] and abs(i-j)<= k:\n",
    "        return True\n",
    "    else:\n",
    "      j = j +1\n",
    "  return False\n",
    "\n",
    "# O(n^2)\n",
    "\n",
    "def containDuplicateII2(nums, k):\n",
    "  mapping = {}  # number -> index\n",
    "  for i, n in enumerate(nums):\n",
    "    if n in mapping:\n",
    "      if i - mapping[n] <= k:\n",
    "        return True\n",
    "      mapping[n] = i\n",
    "    else:\n",
    "      mapping[n] = i\n",
    "  return False\n",
    "\n",
    "# nums = [1,2,3,1,2,3], k = 2\n",
    "# mapping = {1:3, 2:4, 3:5}  \n"
   ]
  },
  {
   "cell_type": "markdown",
   "metadata": {
    "id": "wgnk97lpmFl-"
   },
   "source": [
    "hashing function:\n",
    "\"huong\" -> 42 \n",
    "\"thong\" -> 34 \n",
    "\n",
    "Array: [a0, a1, a2, a3, a4, ... ]\n",
    "\n",
    "RAM: \n",
    "\n",
    "Hashtable: 97342347\n",
    "[_, _, ..., _]  -> array = block of memory (list)\n",
    "\"huong\" -> 42 % 97 = 42\n",
    "\"thong\" -> 34 \n",
    "\"kasfjdsfjsdlfj\" -> \n",
    "\n",
    "(97^8 + 97^16 + 97^12 + 97^20 + 97^5) % 97342347\n",
    "\n",
    "# hashtable: handle collision \n",
    "34: Node(\"key\", \"1\", next) -> Node(\"thong\", next) -> Node(\"huong\", next)\n",
    "set = {\"thong\", \"huong\", \"kaskjsdf\", ...., afsfdskf}\n",
    "set[34] \n",
    "\n",
    "O(n)\n",
    "\n",
    "RAM = 8Gb = 2000000000\n",
    "\n",
    "set.add(\"thong\")\n",
    "\"thong\" in set? \"thong\" -> 34 -> Hashtable[34] \n",
    "\n",
    "\"huong\" in set? \"huong\" -> 34 -> Hashtable[34] yes, no\n",
    "\n",
    "\n"
   ]
  },
  {
   "cell_type": "code",
   "execution_count": null,
   "metadata": {
    "colab": {
     "base_uri": "https://localhost:8080/"
    },
    "executionInfo": {
     "elapsed": 210,
     "status": "ok",
     "timestamp": 1626208422136,
     "user": {
      "displayName": "Helen Vo",
      "photoUrl": "",
      "userId": "06024641955657481731"
     },
     "user_tz": 420
    },
    "id": "YfO9aeCqkxDj",
    "outputId": "7b1c3ce4-4d6e-47cb-af9a-b2a6be5d6a6d"
   },
   "outputs": [
    {
     "data": {
      "text/plain": [
       "[(0, 4), (1, 5)]"
      ]
     },
     "execution_count": 16,
     "metadata": {
      "tags": []
     },
     "output_type": "execute_result"
    }
   ],
   "source": [
    "list(enumerate([4,5]))"
   ]
  },
  {
   "cell_type": "markdown",
   "metadata": {
    "id": "kgEyDMKZxLyJ"
   },
   "source": []
  },
  {
   "cell_type": "code",
   "execution_count": null,
   "metadata": {
    "colab": {
     "base_uri": "https://localhost:8080/"
    },
    "executionInfo": {
     "elapsed": 145,
     "status": "ok",
     "timestamp": 1626159397374,
     "user": {
      "displayName": "Helen Vo",
      "photoUrl": "",
      "userId": "06024641955657481731"
     },
     "user_tz": 420
    },
    "id": "YHRLmKQSjoY1",
    "outputId": "facf25d1-b29f-471e-a14c-ac2b99b1b2bc"
   },
   "outputs": [
    {
     "data": {
      "text/plain": [
       "True"
      ]
     },
     "execution_count": 78,
     "metadata": {
      "tags": []
     },
     "output_type": "execute_result"
    }
   ],
   "source": [
    "nums = [1,2,3,1]; k = 3\n",
    "containDuplicateII(nums,k)"
   ]
  },
  {
   "cell_type": "code",
   "execution_count": null,
   "metadata": {
    "colab": {
     "base_uri": "https://localhost:8080/"
    },
    "executionInfo": {
     "elapsed": 148,
     "status": "ok",
     "timestamp": 1626159398909,
     "user": {
      "displayName": "Helen Vo",
      "photoUrl": "",
      "userId": "06024641955657481731"
     },
     "user_tz": 420
    },
    "id": "D352n6v-ogNh",
    "outputId": "733928f2-4346-40e4-d336-22874ca40eb6"
   },
   "outputs": [
    {
     "data": {
      "text/plain": [
       "True"
      ]
     },
     "execution_count": 79,
     "metadata": {
      "tags": []
     },
     "output_type": "execute_result"
    }
   ],
   "source": [
    "nums = [1,0,1,1]; k = 1\n",
    "containDuplicateII(nums,k)"
   ]
  },
  {
   "cell_type": "code",
   "execution_count": null,
   "metadata": {
    "colab": {
     "base_uri": "https://localhost:8080/"
    },
    "executionInfo": {
     "elapsed": 153,
     "status": "ok",
     "timestamp": 1626159400459,
     "user": {
      "displayName": "Helen Vo",
      "photoUrl": "",
      "userId": "06024641955657481731"
     },
     "user_tz": 420
    },
    "id": "4H0OJgsApc6P",
    "outputId": "ddad52a9-5be1-49a7-ad90-7dd9d70da50f"
   },
   "outputs": [
    {
     "data": {
      "text/plain": [
       "False"
      ]
     },
     "execution_count": 80,
     "metadata": {
      "tags": []
     },
     "output_type": "execute_result"
    }
   ],
   "source": [
    "nums = [1,2,3,1,2,3]; k = 2\n",
    "containDuplicateII(nums,k)"
   ]
  },
  {
   "cell_type": "markdown",
   "metadata": {
    "id": "cynzJsTlog3O"
   },
   "source": [
    "# 7. Missing Number\n",
    "\n",
    "Given an array nums containing n distinct numbers in the range `[0, n]`, return the only number in the range that is missing from the array.\n",
    "\n",
    "Example 1:\n",
    "```\n",
    "Input: nums = [3,0,1]\n",
    "Output: 2\n",
    "Explanation: n = 3 since there are 3 numbers, so all numbers are in the range [0,3]. 2 is the missing number in the range since it does not appear in nums.\n",
    "```\n",
    "\n",
    "Example 2:\n",
    "```\n",
    "Input: nums = [0,1]\n",
    "Output: 2\n",
    "Explanation: n = 2 since there are 2 numbers, so all numbers are in the range [0,2]. 2 is the missing number in the range since it does not appear in nums.\n",
    "```\n",
    "\n",
    "Example 3:\n",
    "```\n",
    "Input: nums = [9,6,4,2,3,5,7,0,1]\n",
    "Output: 8\n",
    "Explanation: n = 9 since there are 9 numbers, so all numbers are in the range [0,9]. 8 is the missing number in the range since it does not appear in nums.\n",
    "```\n",
    "\n",
    "Example 4:\n",
    "```\n",
    "Input: nums = [0]\n",
    "Output: 1\n",
    "Explanation: n = 1 since there is 1 number, so all numbers are in the range [0,1]. 1 is the missing number in the range since it does not appear in nums.\n",
    "```"
   ]
  },
  {
   "cell_type": "code",
   "execution_count": null,
   "metadata": {
    "colab": {
     "base_uri": "https://localhost:8080/"
    },
    "executionInfo": {
     "elapsed": 287,
     "status": "ok",
     "timestamp": 1626288113563,
     "user": {
      "displayName": "Helen Vo",
      "photoUrl": "",
      "userId": "06024641955657481731"
     },
     "user_tz": 420
    },
    "id": "Hzm4zmpqo3E0",
    "outputId": "fff70729-150f-49ef-bbef-72f6584d35e7"
   },
   "outputs": [
    {
     "data": {
      "text/plain": [
       "1"
      ]
     },
     "execution_count": 15,
     "metadata": {
      "tags": []
     },
     "output_type": "execute_result"
    }
   ],
   "source": [
    "def missingNumber(nums):\n",
    "  n = len(nums)\n",
    "  nums = set(nums)\n",
    "  for j in range(0,n+1):\n",
    "    if j not in nums:  # O(n)\n",
    "      return j\n",
    "  return -1\n",
    "\n",
    "nums = [0]\n",
    "missingNumber(nums)"
   ]
  },
  {
   "cell_type": "code",
   "execution_count": null,
   "metadata": {
    "colab": {
     "base_uri": "https://localhost:8080/"
    },
    "executionInfo": {
     "elapsed": 175,
     "status": "ok",
     "timestamp": 1626295555379,
     "user": {
      "displayName": "Helen Vo",
      "photoUrl": "",
      "userId": "06024641955657481731"
     },
     "user_tz": 420
    },
    "id": "Taei3gF9xJdP",
    "outputId": "d39b8e02-8945-4e73-d365-bf0bcaaac8c9"
   },
   "outputs": [
    {
     "data": {
      "text/plain": [
       "2"
      ]
     },
     "execution_count": 2,
     "metadata": {
      "tags": []
     },
     "output_type": "execute_result"
    }
   ],
   "source": [
    "5//2"
   ]
  },
  {
   "cell_type": "code",
   "execution_count": null,
   "metadata": {
    "colab": {
     "base_uri": "https://localhost:8080/"
    },
    "executionInfo": {
     "elapsed": 3,
     "status": "ok",
     "timestamp": 1626288115652,
     "user": {
      "displayName": "Helen Vo",
      "photoUrl": "",
      "userId": "06024641955657481731"
     },
     "user_tz": 420
    },
    "id": "9vBwA-8bUZqX",
    "outputId": "6d873224-6824-4c58-9997-38c10a79f069"
   },
   "outputs": [
    {
     "data": {
      "text/plain": [
       "2"
      ]
     },
     "execution_count": 16,
     "metadata": {
      "tags": []
     },
     "output_type": "execute_result"
    }
   ],
   "source": [
    "nums = [0,1]\n",
    "missingNumber(nums)"
   ]
  },
  {
   "cell_type": "code",
   "execution_count": null,
   "metadata": {
    "colab": {
     "base_uri": "https://localhost:8080/"
    },
    "executionInfo": {
     "elapsed": 409,
     "status": "ok",
     "timestamp": 1626288117968,
     "user": {
      "displayName": "Helen Vo",
      "photoUrl": "",
      "userId": "06024641955657481731"
     },
     "user_tz": 420
    },
    "id": "RPYJEXZ8Ufu8",
    "outputId": "d70b4068-1615-47cd-934c-b0e3d1aab014"
   },
   "outputs": [
    {
     "data": {
      "text/plain": [
       "8"
      ]
     },
     "execution_count": 17,
     "metadata": {
      "tags": []
     },
     "output_type": "execute_result"
    }
   ],
   "source": [
    "nums = [9,6,4,2,3,5,7,0,1]\n",
    "missingNumber(nums)"
   ]
  },
  {
   "cell_type": "code",
   "execution_count": null,
   "metadata": {
    "colab": {
     "base_uri": "https://localhost:8080/"
    },
    "executionInfo": {
     "elapsed": 293,
     "status": "ok",
     "timestamp": 1626288119600,
     "user": {
      "displayName": "Helen Vo",
      "photoUrl": "",
      "userId": "06024641955657481731"
     },
     "user_tz": 420
    },
    "id": "uw2BwrGcUQrA",
    "outputId": "2712a1e4-6b76-4a64-a20d-e44447e8cbb1"
   },
   "outputs": [
    {
     "data": {
      "text/plain": [
       "2"
      ]
     },
     "execution_count": 18,
     "metadata": {
      "tags": []
     },
     "output_type": "execute_result"
    }
   ],
   "source": [
    "nums = [3,0,1]\n",
    "missingNumber(nums)"
   ]
  },
  {
   "cell_type": "code",
   "execution_count": null,
   "metadata": {
    "colab": {
     "base_uri": "https://localhost:8080/"
    },
    "executionInfo": {
     "elapsed": 336,
     "status": "ok",
     "timestamp": 1626288121860,
     "user": {
      "displayName": "Helen Vo",
      "photoUrl": "",
      "userId": "06024641955657481731"
     },
     "user_tz": 420
    },
    "id": "8WF0y1kIo70Z",
    "outputId": "8f3bfb10-3a88-409e-ff36-abc39cb5b065"
   },
   "outputs": [
    {
     "data": {
      "text/plain": [
       "False"
      ]
     },
     "execution_count": 19,
     "metadata": {
      "tags": []
     },
     "output_type": "execute_result"
    }
   ],
   "source": [
    "def abc (number):\n",
    "  if number not in range(0,5):\n",
    "    return True\n",
    "  return False\n",
    "  \n",
    "abc(4)\n"
   ]
  },
  {
   "cell_type": "code",
   "execution_count": null,
   "metadata": {
    "id": "mCrUee56kOii"
   },
   "outputs": [],
   "source": []
  },
  {
   "cell_type": "markdown",
   "metadata": {
    "id": "egybhZG-kQmk"
   },
   "source": [
    "# 8. "
   ]
  }
 ],
 "metadata": {
  "colab": {
   "collapsed_sections": [],
   "name": "python_exercises_july_2021.ipynb",
   "provenance": []
  },
  "kernelspec": {
   "display_name": "Python 3",
   "language": "python",
   "name": "python3"
  },
  "language_info": {
   "codemirror_mode": {
    "name": "ipython",
    "version": 3
   },
   "file_extension": ".py",
   "mimetype": "text/x-python",
   "name": "python",
   "nbconvert_exporter": "python",
   "pygments_lexer": "ipython3",
   "version": "3.7.4"
  }
 },
 "nbformat": 4,
 "nbformat_minor": 1
}
