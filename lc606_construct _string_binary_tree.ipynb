{
 "cells": [
  {
   "cell_type": "markdown",
   "id": "38d5788c",
   "metadata": {},
   "source": [
    "### 606. Construct String from Binary Tree"
   ]
  },
  {
   "cell_type": "code",
   "execution_count": 30,
   "id": "46ea589b",
   "metadata": {},
   "outputs": [],
   "source": [
    "from typing import Optional\n",
    "class TreeNode:\n",
    "    def __init__(self, val=0, left=None, right=None):\n",
    "        self.val = val\n",
    "        self.left = left\n",
    "        self.right = right\n",
    "class Solution:\n",
    "     def tree2str(self, root: Optional[TreeNode]) -> str:\n",
    "        if root is None: \n",
    "            return ''\n",
    "        if root.left is None and root.right is None:\n",
    "            return str(root.val) \n",
    "        if root.right is None:\n",
    "            return str(root.val) + '(' + self.tree2str(root.left) + ')'\n",
    "        return str(root.val) + '(' + self.tree2str(root.left) + \")(\" + self.tree2str(root.right) + \")\"  \n",
    "    \n",
    "    # Complexity analysis: \n",
    "    # Time: O(N) visit each node once\n",
    "    # Space: O(N)"
   ]
  },
  {
   "cell_type": "code",
   "execution_count": 31,
   "id": "530c1979",
   "metadata": {},
   "outputs": [
    {
     "data": {
      "text/plain": [
       "'1(2(4))(3)'"
      ]
     },
     "execution_count": 31,
     "metadata": {},
     "output_type": "execute_result"
    }
   ],
   "source": [
    "root = TreeNode(1, TreeNode(2, TreeNode(4)), TreeNode(3))\n",
    "Solution().tree2str(root)"
   ]
  },
  {
   "cell_type": "code",
   "execution_count": 32,
   "id": "4800662f",
   "metadata": {},
   "outputs": [
    {
     "data": {
      "text/plain": [
       "'1(2()(4))(3)'"
      ]
     },
     "execution_count": 32,
     "metadata": {},
     "output_type": "execute_result"
    }
   ],
   "source": [
    "root = TreeNode(1, TreeNode(2, None, TreeNode(4)), TreeNode(3))\n",
    "Solution().tree2str(root)"
   ]
  }
 ],
 "metadata": {
  "kernelspec": {
   "display_name": "Python 3",
   "language": "python",
   "name": "python3"
  },
  "language_info": {
   "codemirror_mode": {
    "name": "ipython",
    "version": 3
   },
   "file_extension": ".py",
   "mimetype": "text/x-python",
   "name": "python",
   "nbconvert_exporter": "python",
   "pygments_lexer": "ipython3",
   "version": "3.7.4"
  }
 },
 "nbformat": 4,
 "nbformat_minor": 5
}
