{
 "cells": [
  {
   "cell_type": "code",
   "execution_count": 2,
   "id": "d5244be3",
   "metadata": {},
   "outputs": [
    {
     "data": {
      "text/plain": [
       "False"
      ]
     },
     "execution_count": 2,
     "metadata": {},
     "output_type": "execute_result"
    }
   ],
   "source": [
    "[1,2] == [2,1]"
   ]
  },
  {
   "cell_type": "code",
   "execution_count": 4,
   "id": "84a4082f",
   "metadata": {},
   "outputs": [
    {
     "data": {
      "text/plain": [
       "True"
      ]
     },
     "execution_count": 4,
     "metadata": {},
     "output_type": "execute_result"
    }
   ],
   "source": [
    "set([1,2]) == set([2,1])"
   ]
  },
  {
   "cell_type": "code",
   "execution_count": null,
   "id": "4d722666",
   "metadata": {},
   "outputs": [],
   "source": [
    "class MovingAverage:\n",
    "\n",
    "    def __init__(self, size: int):\n",
    "        self.size = size\n",
    "        self.start = 0\n",
    "        self.end = 0\n",
    "        self.array = []\n",
    "        \n",
    "    def next(self, val: int) -> float:\n",
    "        self.end += 1\n",
    "        self.array.append(val)\n",
    "        \n",
    "        if (self.end - self.start) > self.size:\n",
    "            self.start += 1\n",
    "        res = sum(self.array[self.start:self.end])/(self.end - self.start)\n",
    "        return res\n",
    "            \n",
    "\n",
    "# Your MovingAverage object will be instantiated and called as such:\n",
    "# obj = MovingAverage(size)\n",
    "# param_1 = obj.next(val)"
   ]
  },
  {
   "cell_type": "code",
   "execution_count": null,
   "id": "886a2065",
   "metadata": {},
   "outputs": [],
   "source": [
    "class Solution:\n",
    "    def numEquivDominoPairs(self, dominoes: List[List[int]]) -> int:\n",
    "        count = 0\n",
    "        for i in range(len(dominoes) -1):\n",
    "            for j in range(i+1, len(dominoes)):\n",
    "                if self.equivalent(dominoes[i], dominoes[j]) and i <j:\n",
    "                    count += 1\n",
    "        return count\n",
    "        \n",
    "    def equivalent(self,A, B):\n",
    "        if ((A[0] == B[0]) and (A[1] == B[1])) or ((A[1] == B[0]) and (A[0] == B[1])):\n",
    "            return True\n",
    "        return False\n",
    "            "
   ]
  },
  {
   "cell_type": "code",
   "execution_count": 10,
   "id": "920de3c6",
   "metadata": {},
   "outputs": [
    {
     "data": {
      "text/plain": [
       "{1, 2}"
      ]
     },
     "execution_count": 10,
     "metadata": {},
     "output_type": "execute_result"
    }
   ],
   "source": [
    "set([1,2])"
   ]
  },
  {
   "cell_type": "code",
   "execution_count": 14,
   "id": "58e57609",
   "metadata": {},
   "outputs": [],
   "source": [
    "dominoes = [[1,2],[2,1],[3,4],[5,6]]\n"
   ]
  },
  {
   "cell_type": "code",
   "execution_count": null,
   "id": "0093b800",
   "metadata": {},
   "outputs": [],
   "source": []
  }
 ],
 "metadata": {
  "kernelspec": {
   "display_name": "Python 3",
   "language": "python",
   "name": "python3"
  },
  "language_info": {
   "codemirror_mode": {
    "name": "ipython",
    "version": 3
   },
   "file_extension": ".py",
   "mimetype": "text/x-python",
   "name": "python",
   "nbconvert_exporter": "python",
   "pygments_lexer": "ipython3",
   "version": "3.7.4"
  }
 },
 "nbformat": 4,
 "nbformat_minor": 5
}
