{
 "cells": [
  {
   "cell_type": "markdown",
   "id": "2b857492",
   "metadata": {},
   "source": [
    "#### 1167. Minimum Cost to Connect Sticks"
   ]
  },
  {
   "cell_type": "code",
   "execution_count": 12,
   "id": "ae667347",
   "metadata": {},
   "outputs": [],
   "source": [
    "from heapq import heapify, heappop, heappush\n",
    "from typing import List\n",
    "class Solution:\n",
    "    def connectSticks(self, sticks: List[int]) -> int:\n",
    "        n = len(sticks)\n",
    "        ans = 0\n",
    "        if n == 1:\n",
    "            return ans\n",
    "        \n",
    "        heapify(sticks)\n",
    "        while len(sticks) > 1:\n",
    "            x, y = heappop(sticks), heappop(sticks)\n",
    "            ans += x + y\n",
    "            heappush(sticks, x+y)\n",
    "        return ans\n",
    "    \n",
    "# Time complexity: O(NlogN)\n",
    "# Space complexity: O(1)"
   ]
  },
  {
   "cell_type": "code",
   "execution_count": 13,
   "id": "2380a135",
   "metadata": {},
   "outputs": [
    {
     "data": {
      "text/plain": [
       "30"
      ]
     },
     "execution_count": 13,
     "metadata": {},
     "output_type": "execute_result"
    }
   ],
   "source": [
    "sticks = [1,8,3,5]\n",
    "Solution().connectSticks(sticks)"
   ]
  },
  {
   "cell_type": "code",
   "execution_count": 14,
   "id": "1643eff9",
   "metadata": {},
   "outputs": [
    {
     "data": {
      "text/plain": [
       "14"
      ]
     },
     "execution_count": 14,
     "metadata": {},
     "output_type": "execute_result"
    }
   ],
   "source": [
    "sticks = [2,4,3]\n",
    "Solution().connectSticks(sticks)"
   ]
  }
 ],
 "metadata": {
  "kernelspec": {
   "display_name": "Python 3",
   "language": "python",
   "name": "python3"
  },
  "language_info": {
   "codemirror_mode": {
    "name": "ipython",
    "version": 3
   },
   "file_extension": ".py",
   "mimetype": "text/x-python",
   "name": "python",
   "nbconvert_exporter": "python",
   "pygments_lexer": "ipython3",
   "version": "3.7.4"
  }
 },
 "nbformat": 4,
 "nbformat_minor": 5
}
