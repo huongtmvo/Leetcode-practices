{
 "cells": [
  {
   "cell_type": "markdown",
   "id": "2d913d12",
   "metadata": {},
   "source": [
    "https://leetcode.com/problems/leaf-similar-trees/"
   ]
  },
  {
   "cell_type": "code",
   "execution_count": null,
   "id": "f86cbdec",
   "metadata": {},
   "outputs": [],
   "source": [
    "# Definition for a binary tree node.\n",
    "class TreeNode:\n",
    "    def __init__(self, val=0, left=None, right=None):\n",
    "        self.val = val\n",
    "        self.left = left\n",
    "        self.right = right\n",
    "        \n",
    "class Solution:\n",
    "    def getLeaf(self, root, res=[]):\n",
    "        if not root: return []\n",
    "        if not root.left and not root.right:\n",
    "            return [root.val]\n",
    "        return self.getLeaf(root.left) + self.getLeaf(root.right)\n",
    "        \n",
    "    def leafSimilar(self, root1: Optional[TreeNode], root2: Optional[TreeNode]) -> bool:\n",
    "        return self.getLeaf(root1) == self.getLeaf(root2)"
   ]
  },
  {
   "cell_type": "code",
   "execution_count": null,
   "id": "111c6fc5",
   "metadata": {},
   "outputs": [],
   "source": [
    "class Solution(object):\n",
    "    def leafSimilar(self, root1, root2):\n",
    "        return self.findleaf(root1) == self.findleaf(root2)\n",
    "        \n",
    "    def findleaf(self, root):\n",
    "        if not root: return []\n",
    "        if not (root.left or root.right): return [root.val]\n",
    "        return self.findleaf(root.left) + self.findleaf(root.right)"
   ]
  }
 ],
 "metadata": {
  "kernelspec": {
   "display_name": "Python 3",
   "language": "python",
   "name": "python3"
  },
  "language_info": {
   "codemirror_mode": {
    "name": "ipython",
    "version": 3
   },
   "file_extension": ".py",
   "mimetype": "text/x-python",
   "name": "python",
   "nbconvert_exporter": "python",
   "pygments_lexer": "ipython3",
   "version": "3.7.4"
  }
 },
 "nbformat": 4,
 "nbformat_minor": 5
}
