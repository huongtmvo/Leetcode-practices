{
 "cells": [
  {
   "cell_type": "markdown",
   "id": "4616e4c4",
   "metadata": {},
   "source": [
    "547. Number of Provinces\n",
    "\n",
    "https://leetcode.com/problems/number-of-provinces/"
   ]
  },
  {
   "cell_type": "code",
   "execution_count": 42,
   "id": "55dd3b46",
   "metadata": {},
   "outputs": [],
   "source": [
    "# The problem is to ask for the number of connected components in the graph\n",
    "# Time complexity: O(n^2) because traversing the matrix, visiting each cell once\n",
    "# Space complexity: O(n) for storing adj, visited and for stack for recursion\n",
    "\n",
    "from typing import List\n",
    "class Solution:\n",
    "    def findCircleNum(self, isConnected: List[List[int]]) -> int:\n",
    "        rows = len(isConnected)\n",
    "        columns = len(isConnected[0])\n",
    "        \n",
    "        adj = [[] for _ in range(rows)]\n",
    "        for r in range(rows):\n",
    "            for c in range(columns):\n",
    "                if isConnected[r][c] == 1 and c != r:\n",
    "                    adj[r].append(c)\n",
    "        \n",
    "        visited = set()\n",
    "        \n",
    "        def dfs(v):\n",
    "            visited. add(v)\n",
    "            for u in adj[v]:\n",
    "                if u not in visited:\n",
    "                    dfs(u)        \n",
    "        \n",
    "        cc = 0\n",
    "        for i in range(rows):\n",
    "            if i not in visited: \n",
    "                dfs(i)\n",
    "                cc += 1   \n",
    "        return cc           "
   ]
  },
  {
   "cell_type": "code",
   "execution_count": 43,
   "id": "cd499c86",
   "metadata": {},
   "outputs": [
    {
     "data": {
      "text/plain": [
       "2"
      ]
     },
     "execution_count": 43,
     "metadata": {},
     "output_type": "execute_result"
    }
   ],
   "source": [
    "isConnected = [[1,1,0],[1,1,0],[0,0,1]]\n",
    "Solution().findCircleNum(isConnected)"
   ]
  }
 ],
 "metadata": {
  "kernelspec": {
   "display_name": "Python 3",
   "language": "python",
   "name": "python3"
  },
  "language_info": {
   "codemirror_mode": {
    "name": "ipython",
    "version": 3
   },
   "file_extension": ".py",
   "mimetype": "text/x-python",
   "name": "python",
   "nbconvert_exporter": "python",
   "pygments_lexer": "ipython3",
   "version": "3.7.4"
  }
 },
 "nbformat": 4,
 "nbformat_minor": 5
}
