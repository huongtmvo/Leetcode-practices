{
 "cells": [
  {
   "cell_type": "markdown",
   "id": "ad827a24",
   "metadata": {},
   "source": [
    "277. Find the Celebrity\n",
    "\n",
    "https://leetcode.com/problems/find-the-celebrity/"
   ]
  },
  {
   "cell_type": "code",
   "execution_count": 32,
   "id": "b11ca8fc",
   "metadata": {},
   "outputs": [],
   "source": [
    "# The celebrity gets known by others but know no one except themselves\n",
    "class Solution:\n",
    "    def __init__(self, graph):\n",
    "        self.graph = graph\n",
    "    def knows(self, a:int, b:int) -> bool:\n",
    "        return True if self.graph[a][b] else False \n",
    "    def isCelebrity(self, i):\n",
    "        for j in range(self.n):\n",
    "            if i == j: continue\n",
    "            if self.knows(i,j) or not self.knows(j,i):\n",
    "                return False\n",
    "        return True\n",
    "    def findCelebrity(self, n) -> int:\n",
    "        candidate = 0\n",
    "        self.n = n\n",
    "        for i in range(1,n):\n",
    "            if self.knows(candidate,i):\n",
    "                candidate = i\n",
    "        \n",
    "        if self.isCelebrity(candidate):\n",
    "            return candidate\n",
    "        return -1     \n",
    "    \n",
    "# Time complexity: O(N) candidate finding (O(N)) and to check whether she's a celebrity (O(N))\n",
    "# Space complexity: O(1)"
   ]
  },
  {
   "cell_type": "code",
   "execution_count": 33,
   "id": "6b7b0baf",
   "metadata": {},
   "outputs": [
    {
     "data": {
      "text/plain": [
       "1"
      ]
     },
     "execution_count": 33,
     "metadata": {},
     "output_type": "execute_result"
    }
   ],
   "source": [
    "graph = [[1,1,0],[0,1,0],[1,1,1]]\n",
    "sol = Solution(graph)\n",
    "sol.findCelebrity(3)"
   ]
  },
  {
   "cell_type": "code",
   "execution_count": 34,
   "id": "b908db84",
   "metadata": {},
   "outputs": [
    {
     "data": {
      "text/plain": [
       "-1"
      ]
     },
     "execution_count": 34,
     "metadata": {},
     "output_type": "execute_result"
    }
   ],
   "source": [
    "graph = [[1,0,1],[1,1,0],[0,1,1]] \n",
    "sol = Solution(graph)\n",
    "sol.findCelebrity(3)"
   ]
  },
  {
   "cell_type": "markdown",
   "id": "674bd5ea",
   "metadata": {},
   "source": [
    "Follow up: If the maximum number of allowed calls to the API knows is 3 * n, could you find a solution without exceeding the maximum number of calls?\n",
    "\n",
    "Use lru_cache"
   ]
  },
  {
   "cell_type": "code",
   "execution_count": null,
   "id": "39c9fb3f",
   "metadata": {},
   "outputs": [],
   "source": [
    "from functools import lru_cache\n",
    "\n",
    "class Solution:\n",
    "    \n",
    "    @lru_cache(maxsize=None)\n",
    "    def cachedKnows(self, a, b):\n",
    "        return knows(a, b)\n",
    "    \n",
    "    def findCelebrity(self, n: int) -> int:\n",
    "        self.n = n\n",
    "        celebrity_candidate = 0\n",
    "        for i in range(1, n):\n",
    "            if self.cachedKnows(celebrity_candidate, i):\n",
    "                celebrity_candidate = i\n",
    "        if self.is_celebrity(celebrity_candidate):\n",
    "            return celebrity_candidate\n",
    "        return -1\n",
    "\n",
    "    def is_celebrity(self, i):\n",
    "        for j in range(self.n):\n",
    "            if i == j: continue\n",
    "            if self.cachedKnows(i, j) or not self.cachedKnows(j, i):\n",
    "                return False\n",
    "        return True\n",
    "    \n",
    "# Time Complexity : O(n)\n",
    "# The only difference is that sometimes we're retrieving data from a cache inside our code \n",
    "# instead of from the API.\n",
    "\n",
    "# Space Complexity : O(n)"
   ]
  },
  {
   "cell_type": "code",
   "execution_count": 35,
   "id": "9e44c955",
   "metadata": {},
   "outputs": [],
   "source": [
    "# Another solution: Use DFS, with graph as input\n",
    "class Solution:\n",
    "    def findCelebrity(self, graph) -> int:\n",
    "        n = len(graph)\n",
    "        adj = [set() for _ in range(n)]\n",
    "        for i in range(n):\n",
    "            for j in range(n):\n",
    "                if graph[i][j] == 1 and i != j: \n",
    "                    adj[i].add(j)\n",
    "        candidate = float('inf')\n",
    "        for i in range(n):\n",
    "            if len(adj[i]) == 0:\n",
    "                candidate = i\n",
    "        for i in range(n): \n",
    "            if i != candidate and candidate not in adj[i]:\n",
    "                return -1\n",
    "        return candidate\n",
    "# Time complexity: O(V^2)\n",
    "# Space complexity: O(V + E)"
   ]
  },
  {
   "cell_type": "code",
   "execution_count": 36,
   "id": "e232845c",
   "metadata": {},
   "outputs": [
    {
     "data": {
      "text/plain": [
       "1"
      ]
     },
     "execution_count": 36,
     "metadata": {},
     "output_type": "execute_result"
    }
   ],
   "source": [
    "graph = [[1,1,0],[0,1,0],[1,1,1]]\n",
    "Solution().findCelebrity(graph)"
   ]
  },
  {
   "cell_type": "code",
   "execution_count": 37,
   "id": "4b875608",
   "metadata": {},
   "outputs": [
    {
     "data": {
      "text/plain": [
       "-1"
      ]
     },
     "execution_count": 37,
     "metadata": {},
     "output_type": "execute_result"
    }
   ],
   "source": [
    "graph = [[1,0,1],[1,1,0],[0,1,1]]\n",
    "Solution().findCelebrity(graph)"
   ]
  },
  {
   "cell_type": "code",
   "execution_count": null,
   "id": "82dbe56d",
   "metadata": {},
   "outputs": [],
   "source": []
  }
 ],
 "metadata": {
  "kernelspec": {
   "display_name": "Python 3",
   "language": "python",
   "name": "python3"
  },
  "language_info": {
   "codemirror_mode": {
    "name": "ipython",
    "version": 3
   },
   "file_extension": ".py",
   "mimetype": "text/x-python",
   "name": "python",
   "nbconvert_exporter": "python",
   "pygments_lexer": "ipython3",
   "version": "3.7.4"
  }
 },
 "nbformat": 4,
 "nbformat_minor": 5
}
