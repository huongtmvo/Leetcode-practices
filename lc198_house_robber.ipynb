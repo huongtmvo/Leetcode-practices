{
 "cells": [
  {
   "cell_type": "markdown",
   "id": "a9c95ece",
   "metadata": {},
   "source": [
    "https://leetcode.com/problems/house-robber/"
   ]
  },
  {
   "cell_type": "code",
   "execution_count": 22,
   "id": "c83ae472",
   "metadata": {},
   "outputs": [],
   "source": [
    "from typing import List\n",
    "class Solution:\n",
    "    # Top_down solution:\n",
    "    def rob(self, nums: List[int]) -> int:\n",
    "        n = len(nums)\n",
    "        lookup = {}\n",
    "        res = 0\n",
    "        def opt(i):\n",
    "            if i == 0:\n",
    "                return nums[i]\n",
    "            if i == 1:\n",
    "                return max(nums[0], nums[1])\n",
    "            if i in lookup: \n",
    "                return lookup[i]\n",
    "            res = max(opt(i-1), opt(i-2) + nums[i])\n",
    "            lookup[i] = res\n",
    "            return res\n",
    "        return opt(n - 1)\n",
    "    \n",
    "    # Bottom_up solution:\n",
    "    def rob_bottom(self, nums: List[int]) -> int:\n",
    "        n = len(nums)\n",
    "        res = [0]*(n)\n",
    "        res[0] = nums[0]\n",
    "        if n >= 2:\n",
    "            res[1] = max(nums[0], nums[1])\n",
    "        if n > 2:\n",
    "            for i in range(2, n):\n",
    "                res[i] = max(res[i-1], res[i-2] + nums[i])\n",
    "        return res[n - 1]\n",
    "\n",
    "        "
   ]
  },
  {
   "cell_type": "code",
   "execution_count": 23,
   "id": "77345ba2",
   "metadata": {},
   "outputs": [
    {
     "data": {
      "text/plain": [
       "12"
      ]
     },
     "execution_count": 23,
     "metadata": {},
     "output_type": "execute_result"
    }
   ],
   "source": [
    "nums = [2,7,9,3,1]\n",
    "Solution().rob_bottom(nums)\n"
   ]
  },
  {
   "cell_type": "code",
   "execution_count": 19,
   "id": "317c19ff",
   "metadata": {},
   "outputs": [
    {
     "data": {
      "text/plain": [
       "12"
      ]
     },
     "execution_count": 19,
     "metadata": {},
     "output_type": "execute_result"
    }
   ],
   "source": [
    "nums = [2,7,9,3,1]\n",
    "Solution().rob(nums)"
   ]
  },
  {
   "cell_type": "code",
   "execution_count": 20,
   "id": "96646d64",
   "metadata": {},
   "outputs": [
    {
     "data": {
      "text/plain": [
       "4"
      ]
     },
     "execution_count": 20,
     "metadata": {},
     "output_type": "execute_result"
    }
   ],
   "source": [
    "nums = [1,2,3,1]\n",
    "Solution().rob(nums)"
   ]
  },
  {
   "cell_type": "code",
   "execution_count": null,
   "id": "c1ba03f2",
   "metadata": {},
   "outputs": [],
   "source": []
  }
 ],
 "metadata": {
  "kernelspec": {
   "display_name": "Python 3",
   "language": "python",
   "name": "python3"
  },
  "language_info": {
   "codemirror_mode": {
    "name": "ipython",
    "version": 3
   },
   "file_extension": ".py",
   "mimetype": "text/x-python",
   "name": "python",
   "nbconvert_exporter": "python",
   "pygments_lexer": "ipython3",
   "version": "3.7.4"
  }
 },
 "nbformat": 4,
 "nbformat_minor": 5
}
