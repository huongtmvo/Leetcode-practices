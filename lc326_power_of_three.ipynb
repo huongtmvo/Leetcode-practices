{
 "cells": [
  {
   "cell_type": "markdown",
   "id": "7c3c7565",
   "metadata": {},
   "source": [
    "https://leetcode.com/problems/power-of-three/"
   ]
  },
  {
   "cell_type": "code",
   "execution_count": 1,
   "id": "995d283a",
   "metadata": {},
   "outputs": [],
   "source": [
    "class Solution:\n",
    "    def isPowerOfThree(self, n: int) -> bool:\n",
    "        if n < 1: return False\n",
    "        if n == 1: return True\n",
    "        if n % 3 != 0: return False\n",
    "        \n",
    "        return self.isPowerOfThree(n//3)"
   ]
  },
  {
   "cell_type": "code",
   "execution_count": null,
   "id": "87aa5e0b",
   "metadata": {},
   "outputs": [],
   "source": []
  }
 ],
 "metadata": {
  "kernelspec": {
   "display_name": "Python 3",
   "language": "python",
   "name": "python3"
  },
  "language_info": {
   "codemirror_mode": {
    "name": "ipython",
    "version": 3
   },
   "file_extension": ".py",
   "mimetype": "text/x-python",
   "name": "python",
   "nbconvert_exporter": "python",
   "pygments_lexer": "ipython3",
   "version": "3.7.4"
  }
 },
 "nbformat": 4,
 "nbformat_minor": 5
}
