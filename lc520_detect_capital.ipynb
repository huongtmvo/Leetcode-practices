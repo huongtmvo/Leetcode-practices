{
 "cells": [
  {
   "cell_type": "markdown",
   "id": "e23602e4",
   "metadata": {},
   "source": [
    "https://leetcode.com/problems/detect-capital/submissions/"
   ]
  },
  {
   "cell_type": "code",
   "execution_count": null,
   "id": "20707b04",
   "metadata": {},
   "outputs": [],
   "source": [
    "class Solution:\n",
    "    def detectCapitalUse(self, word: str) -> bool:\n",
    "        if not word[0].isupper():\n",
    "            for c in word[1:]:\n",
    "                if c.isupper():\n",
    "                    return False\n",
    "            return True\n",
    "\n",
    "        countlower = 0\n",
    "        countupper = 0\n",
    "        for c in word[1:]:\n",
    "            if not c.isupper():\n",
    "                countlower += 1\n",
    "            else:\n",
    "                countupper += 1\n",
    "        if (countlower == len(word)-1) or (countupper == len(word)-1):\n",
    "            return True\n",
    "        return False\n",
    "    \n",
    "    \n",
    "    # Solution2: \n",
    "    def detectCapitalUse(self, word: str) -> bool:\n",
    "        if len(word) < 2: return True\n",
    "        if word[0].isupper() and word[1].isupper():\n",
    "            for i in range(2, len(word)):\n",
    "                if word[i].islower(): return False\n",
    "        else:\n",
    "            for i in range(1, len(word)):\n",
    "                if word[i].isupper(): return False\n",
    "        return True;\n",
    "\n",
    "        "
   ]
  }
 ],
 "metadata": {
  "kernelspec": {
   "display_name": "Python 3",
   "language": "python",
   "name": "python3"
  },
  "language_info": {
   "codemirror_mode": {
    "name": "ipython",
    "version": 3
   },
   "file_extension": ".py",
   "mimetype": "text/x-python",
   "name": "python",
   "nbconvert_exporter": "python",
   "pygments_lexer": "ipython3",
   "version": "3.7.4"
  }
 },
 "nbformat": 4,
 "nbformat_minor": 5
}
