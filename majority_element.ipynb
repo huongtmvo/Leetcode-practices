{
 "cells": [
  {
   "cell_type": "markdown",
   "id": "83a9a27e",
   "metadata": {},
   "source": [
    "Given an array nums of size n, return the majority element.\n",
    "\n",
    "The majority element is the element that appears more than ⌊n / 2⌋ times. You may assume that the majority element always exists in the array.\n",
    "\n",
    "Example 1:\n",
    "Input: nums = [3,2,3]\n",
    "Output: 3\n",
    "\n",
    "Example 2:\n",
    "Input: nums = [2,2,1,1,1,2,2]\n",
    "Output: 2\n",
    "\n",
    "Constraints:\n",
    "n == nums.length\n",
    "1 <= n <= 5 * 10^4\n",
    "-2^31 <= nums[i] <= 2^31 - 1\n",
    "\n",
    "Follow-up: Could you solve the problem in linear time and in O(1) space?\n"
   ]
  },
  {
   "cell_type": "code",
   "execution_count": 3,
   "id": "3f529c03",
   "metadata": {},
   "outputs": [],
   "source": [
    "from typing import List\n",
    "\n",
    "class Solution:\n",
    "    def majorityElement(self, nums: List[int]) -> int:\n",
    "        from collections import Counter\n",
    "        counter = Counter(nums)\n",
    "        for k in counter:\n",
    "            if counter[k] > len(nums)//2:\n",
    "                return k\n",
    "sol = Solution()"
   ]
  },
  {
   "cell_type": "code",
   "execution_count": 4,
   "id": "5fed5ec6",
   "metadata": {},
   "outputs": [
    {
     "data": {
      "text/plain": [
       "3"
      ]
     },
     "execution_count": 4,
     "metadata": {},
     "output_type": "execute_result"
    }
   ],
   "source": [
    "nums = [3,2,3]\n",
    "sol.majorityElement(nums)"
   ]
  },
  {
   "cell_type": "code",
   "execution_count": 5,
   "id": "b7ad82f2",
   "metadata": {},
   "outputs": [
    {
     "data": {
      "text/plain": [
       "2"
      ]
     },
     "execution_count": 5,
     "metadata": {},
     "output_type": "execute_result"
    }
   ],
   "source": [
    "nums = [2,2,1,1,1,2,2]\n",
    "sol.majorityElement(nums)"
   ]
  },
  {
   "cell_type": "code",
   "execution_count": null,
   "id": "7901fa8e",
   "metadata": {},
   "outputs": [],
   "source": []
  }
 ],
 "metadata": {
  "kernelspec": {
   "display_name": "Python 3",
   "language": "python",
   "name": "python3"
  },
  "language_info": {
   "codemirror_mode": {
    "name": "ipython",
    "version": 3
   },
   "file_extension": ".py",
   "mimetype": "text/x-python",
   "name": "python",
   "nbconvert_exporter": "python",
   "pygments_lexer": "ipython3",
   "version": "3.7.4"
  }
 },
 "nbformat": 4,
 "nbformat_minor": 5
}
