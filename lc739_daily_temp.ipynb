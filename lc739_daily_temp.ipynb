{
 "cells": [
  {
   "cell_type": "markdown",
   "id": "669b9f67",
   "metadata": {},
   "source": [
    "### 739. Daily Temperatures"
   ]
  },
  {
   "cell_type": "code",
   "execution_count": 26,
   "id": "baaea11e",
   "metadata": {},
   "outputs": [],
   "source": [
    "from typing import List\n",
    "class Solution:\n",
    "    # Solution 1: Brute force, works but slow\n",
    "    # Time: O(N^2)\n",
    "    # Space: O(N)\n",
    "    def dailyTemperatures1(self, temperatures: List[int]) -> List[int]:\n",
    "        ans = [0] * len(temperatures)\n",
    "        for i in range(len(temperatures) -1):\n",
    "            for j in range(i+1, len(temperatures)):\n",
    "                if temperatures[j] > temperatures[i]:\n",
    "                    ans[i] = j - i\n",
    "                    break\n",
    "        return ans\n",
    "        \n",
    "    # Solution 2: use stack\n",
    "    # Time: O(N)\n",
    "    # Space: O(N)\n",
    "    def dailyTemperatures(self, temperatures: List[int]) -> List[int]:\n",
    "        stack = []\n",
    "        ans = [0] * len(temperatures)\n",
    "        \n",
    "        for i, temp in enumerate(temperatures):\n",
    "            while stack and temperatures[stack[-1]] < temp: \n",
    "                ans[stack[-1]] = i - stack[-1]\n",
    "                stack.pop()\n",
    "            stack.append(i)\n",
    "        return ans       "
   ]
  },
  {
   "cell_type": "code",
   "execution_count": 27,
   "id": "516605bc",
   "metadata": {},
   "outputs": [
    {
     "data": {
      "text/plain": [
       "[1, 1, 4, 2, 1, 1, 0, 0]"
      ]
     },
     "execution_count": 27,
     "metadata": {},
     "output_type": "execute_result"
    }
   ],
   "source": [
    "temperatures = [73,74,75,71,69,72,76,73] \n",
    "Solution().dailyTemperatures1(temperatures)"
   ]
  },
  {
   "cell_type": "code",
   "execution_count": 28,
   "id": "6ed635e6",
   "metadata": {},
   "outputs": [
    {
     "data": {
      "text/plain": [
       "[1, 1, 1, 0]"
      ]
     },
     "execution_count": 28,
     "metadata": {},
     "output_type": "execute_result"
    }
   ],
   "source": [
    "temperatures = [30,40,50,60] \n",
    "Solution().dailyTemperatures1(temperatures)"
   ]
  },
  {
   "cell_type": "code",
   "execution_count": 29,
   "id": "821211a4",
   "metadata": {},
   "outputs": [
    {
     "data": {
      "text/plain": [
       "[1, 1, 0]"
      ]
     },
     "execution_count": 29,
     "metadata": {},
     "output_type": "execute_result"
    }
   ],
   "source": [
    "temperatures = [30,60,90]\n",
    "Solution().dailyTemperatures1(temperatures)"
   ]
  }
 ],
 "metadata": {
  "kernelspec": {
   "display_name": "Python 3",
   "language": "python",
   "name": "python3"
  },
  "language_info": {
   "codemirror_mode": {
    "name": "ipython",
    "version": 3
   },
   "file_extension": ".py",
   "mimetype": "text/x-python",
   "name": "python",
   "nbconvert_exporter": "python",
   "pygments_lexer": "ipython3",
   "version": "3.7.4"
  }
 },
 "nbformat": 4,
 "nbformat_minor": 5
}
