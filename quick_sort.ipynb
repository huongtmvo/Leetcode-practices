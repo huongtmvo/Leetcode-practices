{
 "cells": [
  {
   "cell_type": "markdown",
   "id": "e1a8a94a",
   "metadata": {},
   "source": [
    "#### Sort an array\n",
    "Given an array of integers nums, sort the array in ascending order.\n",
    "\n",
    "Example 1: Input: nums = [5,2,3,1] Output: [1,2,3,5]\n",
    "\n",
    "Example 2: Input: nums = [5,1,1,2,0,0] Output: [0,0,1,1,2,5]\n",
    "\n",
    "Constraints: 1 <= nums.length <= 5 * 104 -5 * 104 <= nums[i] <= 5 * 104"
   ]
  },
  {
   "cell_type": "code",
   "execution_count": 31,
   "id": "7f4deddc",
   "metadata": {},
   "outputs": [],
   "source": [
    "from typing import List\n",
    "class Solution:\n",
    "    def partition(self,nums, l, r):\n",
    "        pivot = nums[l]\n",
    "        j = l\n",
    "        for i in range(l+1,r+1):\n",
    "            if nums[i] <= pivot:\n",
    "                j += 1\n",
    "                nums[i],nums[j] = nums[j],nums[i]\n",
    "        nums[l],nums[j] = nums[j],nums[l]      \n",
    "        return j\n",
    "\n",
    "    def sortArray(self, nums, l, r):\n",
    "        if len(nums) <= 1:\n",
    "            return nums\n",
    "        if l < r:\n",
    "            m = Solution().partition(nums,l,r)\n",
    "            Solution().sortArray(nums,l,m-1)\n",
    "            Solution().sortArray(nums, m+1, r)"
   ]
  },
  {
   "cell_type": "code",
   "execution_count": 32,
   "id": "4a3ce6d6",
   "metadata": {},
   "outputs": [
    {
     "name": "stdout",
     "output_type": "stream",
     "text": [
      "[0, 0, 1, 1, 2, 5]\n",
      "0 0 1 1 2 5 "
     ]
    }
   ],
   "source": [
    "nums = [5,1,1,2,0,0]\n",
    "Solution().sortArray(nums,0,len(nums)-1)\n",
    "print(nums)\n",
    "for i in nums:\n",
    "    print(i, end = ' ')"
   ]
  },
  {
   "cell_type": "code",
   "execution_count": null,
   "id": "134f1c9b",
   "metadata": {},
   "outputs": [],
   "source": []
  }
 ],
 "metadata": {
  "kernelspec": {
   "display_name": "Python 3",
   "language": "python",
   "name": "python3"
  },
  "language_info": {
   "codemirror_mode": {
    "name": "ipython",
    "version": 3
   },
   "file_extension": ".py",
   "mimetype": "text/x-python",
   "name": "python",
   "nbconvert_exporter": "python",
   "pygments_lexer": "ipython3",
   "version": "3.7.4"
  }
 },
 "nbformat": 4,
 "nbformat_minor": 5
}
