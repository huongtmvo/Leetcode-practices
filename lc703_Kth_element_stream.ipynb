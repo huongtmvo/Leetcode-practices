{
 "cells": [
  {
   "cell_type": "markdown",
   "id": "98e7c0c8",
   "metadata": {},
   "source": [
    "#### 703. Kth Largest Element in a Stream"
   ]
  },
  {
   "cell_type": "markdown",
   "id": "2b8899f2",
   "metadata": {},
   "source": [
    "Design a class to find the kth largest element in a stream. Note that it is the kth largest element in the sorted order, not the kth distinct element.\n",
    "\n",
    "Implement KthLargest class:\n",
    "\n",
    "KthLargest(int k, int[] nums) Initializes the object with the integer k and the stream of integers nums.\n",
    "int add(int val) Appends the integer val to the stream and returns the element representing the kth largest element in the stream."
   ]
  },
  {
   "cell_type": "markdown",
   "id": "17de7460",
   "metadata": {},
   "source": [
    "Input\n",
    "[\"KthLargest\", \"add\", \"add\", \"add\", \"add\", \"add\"]\n",
    "[[3, [4, 5, 8, 2]], [3], [5], [10], [9], [4]]\n",
    "Output\n",
    "[null, 4, 5, 5, 8, 8]\n",
    "\n",
    "Explanation\n",
    "KthLargest kthLargest = new KthLargest(3, [4, 5, 8, 2]);\n",
    "kthLargest.add(3);   // return 4\n",
    "kthLargest.add(5);   // return 5\n",
    "kthLargest.add(10);  // return 5\n",
    "kthLargest.add(9);   // return 8\n",
    "kthLargest.add(4);   // return 8"
   ]
  },
  {
   "cell_type": "markdown",
   "id": "a995dd19",
   "metadata": {},
   "source": [
    "Constraints:\n",
    "\n",
    "1 <= k <= 104\n",
    "0 <= nums.length <= 104\n",
    "-104 <= nums[i] <= 104\n",
    "-104 <= val <= 104\n",
    "At most 104 calls will be made to add.\n",
    "It is guaranteed that there will be at least k elements in the array when you search for the kth element."
   ]
  },
  {
   "cell_type": "code",
   "execution_count": null,
   "id": "16794202",
   "metadata": {},
   "outputs": [],
   "source": [
    "class KthLargest:\n",
    "\n",
    "    def __init__(self, k: int, nums: List[int]):\n",
    "        \n",
    "\n",
    "    def add(self, val: int) -> int:\n",
    "        \n",
    "\n",
    "\n",
    "# Your KthLargest object will be instantiated and called as such:\n",
    "# obj = KthLargest(k, nums)\n",
    "# param_1 = obj.add(val)"
   ]
  }
 ],
 "metadata": {
  "kernelspec": {
   "display_name": "Python 3",
   "language": "python",
   "name": "python3"
  },
  "language_info": {
   "codemirror_mode": {
    "name": "ipython",
    "version": 3
   },
   "file_extension": ".py",
   "mimetype": "text/x-python",
   "name": "python",
   "nbconvert_exporter": "python",
   "pygments_lexer": "ipython3",
   "version": "3.7.4"
  }
 },
 "nbformat": 4,
 "nbformat_minor": 5
}
