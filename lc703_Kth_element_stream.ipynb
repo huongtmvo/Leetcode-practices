{
 "cells": [
  {
   "cell_type": "markdown",
   "id": "98e7c0c8",
   "metadata": {},
   "source": [
    "#### 703. Kth Largest Element in a Stream"
   ]
  },
  {
   "cell_type": "code",
   "execution_count": 8,
   "id": "16794202",
   "metadata": {},
   "outputs": [],
   "source": [
    "import heapq\n",
    "from heapq import heapify, heappush, heappop, nlargest\n",
    "from typing import List\n",
    "class KthLargest:\n",
    "\n",
    "    def __init__(self, k: int, nums: List[int]):\n",
    "        self.k = k\n",
    "        self.heap = nums\n",
    "        heapify(self.heap)\n",
    "        \n",
    "        while len(self.heap) > k:\n",
    "            heapq.heappop(self.heap)\n",
    "        \n",
    "    def add(self, val: int) -> int:\n",
    "        heappush(self.heap, val)\n",
    "        if len(self.heap) > self.k:\n",
    "            heappop(self.heap)\n",
    "        return self.heap[0]\n",
    "       \n",
    "        \n",
    "# Your KthLargest object will be instantiated and called as such:\n",
    "# obj = KthLargest(k, nums)\n",
    "# param_1 = obj.add(val)\n",
    "\n",
    "# Complexity analysis: make heap : O(N)\n",
    "# N = len(nums); M = number of calls of add()\n",
    "# Time : O(NlogN) + Mlogk\n",
    "# Space: O(N)"
   ]
  },
  {
   "cell_type": "code",
   "execution_count": 9,
   "id": "0246f844",
   "metadata": {},
   "outputs": [
    {
     "name": "stdout",
     "output_type": "stream",
     "text": [
      "4\n",
      "5\n",
      "5\n",
      "8\n",
      "8\n"
     ]
    }
   ],
   "source": [
    "k = 3; nums= [4, 5, 8, 2]\n",
    "seq = KthLargest(k,nums)\n",
    "print(seq.add(3))\n",
    "print(seq.add(5))\n",
    "print(seq.add(10))\n",
    "print(seq.add(9))\n",
    "print(seq.add(4))"
   ]
  },
  {
   "cell_type": "code",
   "execution_count": null,
   "id": "5fb0ca8a",
   "metadata": {},
   "outputs": [],
   "source": []
  }
 ],
 "metadata": {
  "kernelspec": {
   "display_name": "Python 3",
   "language": "python",
   "name": "python3"
  },
  "language_info": {
   "codemirror_mode": {
    "name": "ipython",
    "version": 3
   },
   "file_extension": ".py",
   "mimetype": "text/x-python",
   "name": "python",
   "nbconvert_exporter": "python",
   "pygments_lexer": "ipython3",
   "version": "3.7.4"
  }
 },
 "nbformat": 4,
 "nbformat_minor": 5
}
