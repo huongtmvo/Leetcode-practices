{
 "cells": [
  {
   "cell_type": "markdown",
   "id": "6c4e57a8",
   "metadata": {},
   "source": [
    "#### 2078. Two Furthest Houses With Different Colors\n",
    "There are n houses evenly lined up on the street, and each house is beautifully painted. You are given a 0-indexed integer array colors of length n, where colors[i] represents the color of the ith house.\n",
    "\n",
    "Return the maximum distance between two houses with different colors.\n",
    "\n",
    "The distance between the ith and jth houses is abs(i - j), where abs(x) is the absolute value of x.\n",
    "\n",
    "Example 1:\n",
    "Input: colors = [1,1,1,6,1,1,1]\n",
    "Output: 3\n",
    "Explanation: In the above image, color 1 is blue, and color 6 is red.\n",
    "The furthest two houses with different colors are house 0 and house 3.\n",
    "House 0 has color 1, and house 3 has color 6. The distance between them is abs(0 - 3) = 3.\n",
    "Note that houses 3 and 6 can also produce the optimal answer.\n",
    "\n",
    "Example 2:\n",
    "Input: colors = [1,8,3,8,3]\n",
    "Output: 4\n",
    "Explanation: In the above image, color 1 is blue, color 8 is yellow, and color 3 is green.\n",
    "The furthest two houses with different colors are house 0 and house 4.\n",
    "House 0 has color 1, and house 4 has color 3. The distance between them is abs(0 - 4) = 4.\n",
    "\n",
    "Example 3:\n",
    "Input: colors = [0,1]\n",
    "Output: 1\n",
    "Explanation: The furthest two houses with different colors are house 0 and house 1.\n",
    "House 0 has color 0, and house 1 has color 1. The distance between them is abs(0 - 1) = 1.\n",
    " \n",
    "Constraints:\n",
    "\n",
    "n == colors.length\n",
    "2 <= n <= 100\n",
    "0 <= colors[i] <= 100\n",
    "Test data are generated such that at least two houses have different colors."
   ]
  },
  {
   "cell_type": "code",
   "execution_count": 13,
   "id": "694bd39f",
   "metadata": {},
   "outputs": [],
   "source": [
    "# Find the farthest house with different color from the fisrt house.\n",
    "# Find the fathest house with different color from the last house.\n",
    "# Return the max distance of these two options.\n",
    "\n",
    "class Solution:    \n",
    "    def maxDistance(self, colors):\n",
    "        i, j = 0, len(colors) - 1\n",
    "        while colors[0] == colors[j]: \n",
    "            j -= 1\n",
    "        while colors[-1] == colors[i]: \n",
    "            i += 1\n",
    "        return max(len(colors) - 1 - i, j)"
   ]
  },
  {
   "cell_type": "code",
   "execution_count": 15,
   "id": "3aca8aa4",
   "metadata": {},
   "outputs": [
    {
     "data": {
      "text/plain": [
       "3"
      ]
     },
     "execution_count": 15,
     "metadata": {},
     "output_type": "execute_result"
    }
   ],
   "source": [
    "# Test cases:\n",
    "colors = [1,1,1,6,1,1,1]\n",
    "Solution().maxDistance(colors)"
   ]
  },
  {
   "cell_type": "code",
   "execution_count": 16,
   "id": "be262f1c",
   "metadata": {},
   "outputs": [
    {
     "data": {
      "text/plain": [
       "4"
      ]
     },
     "execution_count": 16,
     "metadata": {},
     "output_type": "execute_result"
    }
   ],
   "source": [
    "colors = [1,8,3,8,3] \n",
    "Solution().maxDistance(colors)"
   ]
  },
  {
   "cell_type": "code",
   "execution_count": 18,
   "id": "343158e0",
   "metadata": {},
   "outputs": [
    {
     "data": {
      "text/plain": [
       "1"
      ]
     },
     "execution_count": 18,
     "metadata": {},
     "output_type": "execute_result"
    }
   ],
   "source": [
    "colors = [0,1]\n",
    "Solution().maxDistance(colors)         "
   ]
  },
  {
   "cell_type": "code",
   "execution_count": null,
   "id": "1705524e",
   "metadata": {},
   "outputs": [],
   "source": [
    "def maxDistance(self, A):\n",
    "        res = 0\n",
    "        for i, x in enumerate(A):\n",
    "            if x != A[0]:\n",
    "                res = max(res, i)\n",
    "            if x != A[-1]:\n",
    "                res = max(res, len(A) - 1 - i)\n",
    "        return res"
   ]
  },
  {
   "cell_type": "code",
   "execution_count": 6,
   "id": "9f28285e",
   "metadata": {},
   "outputs": [
    {
     "name": "stdout",
     "output_type": "stream",
     "text": [
      "0 1\n",
      "1 3\n",
      "2 4\n",
      "3 5\n"
     ]
    }
   ],
   "source": [
    "a = [1,3,4,5]\n",
    "for i, x in enumerate(a):\n",
    "    print(i,x)"
   ]
  },
  {
   "cell_type": "code",
   "execution_count": null,
   "id": "0f7eaf62",
   "metadata": {},
   "outputs": [],
   "source": []
  }
 ],
 "metadata": {
  "kernelspec": {
   "display_name": "Python 3",
   "language": "python",
   "name": "python3"
  },
  "language_info": {
   "codemirror_mode": {
    "name": "ipython",
    "version": 3
   },
   "file_extension": ".py",
   "mimetype": "text/x-python",
   "name": "python",
   "nbconvert_exporter": "python",
   "pygments_lexer": "ipython3",
   "version": "3.7.4"
  }
 },
 "nbformat": 4,
 "nbformat_minor": 5
}
