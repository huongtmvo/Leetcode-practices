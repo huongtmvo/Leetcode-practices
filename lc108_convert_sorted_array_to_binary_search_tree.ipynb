{
 "cells": [
  {
   "cell_type": "markdown",
   "id": "a5b035ee",
   "metadata": {},
   "source": [
    "https://leetcode.com/problems/convert-sorted-array-to-binary-search-tree/"
   ]
  },
  {
   "cell_type": "code",
   "execution_count": 1,
   "id": "72727c7f",
   "metadata": {},
   "outputs": [],
   "source": [
    "class TreeNode:\n",
    "    def __init__(self, val=0, left=None, right=None):\n",
    "        self.val = val\n",
    "        self.left = left\n",
    "        self.right = right"
   ]
  },
  {
   "cell_type": "code",
   "execution_count": null,
   "id": "256b875b",
   "metadata": {},
   "outputs": [],
   "source": [
    "class Solution:\n",
    "    def sortedArrayToBST(self, nums: List[int]) -> Optional[TreeNode]:\n",
    "        if len(nums) == 0:\n",
    "            return None\n",
    "        \n",
    "        mid = (len(nums) - 1) //2\n",
    "        root = TreeNode(nums[mid])\n",
    "        root.right = self.sortedArrayToBST(nums[mid+1:])\n",
    "        root.left = self.sortedArrayToBST(nums[:mid])\n",
    "        \n",
    "        return root "
   ]
  }
 ],
 "metadata": {
  "kernelspec": {
   "display_name": "Python 3",
   "language": "python",
   "name": "python3"
  },
  "language_info": {
   "codemirror_mode": {
    "name": "ipython",
    "version": 3
   },
   "file_extension": ".py",
   "mimetype": "text/x-python",
   "name": "python",
   "nbconvert_exporter": "python",
   "pygments_lexer": "ipython3",
   "version": "3.7.4"
  }
 },
 "nbformat": 4,
 "nbformat_minor": 5
}
