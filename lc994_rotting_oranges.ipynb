{
 "cells": [
  {
   "cell_type": "markdown",
   "id": "2b69cad2",
   "metadata": {},
   "source": [
    "### 994. Rotting Oranges"
   ]
  },
  {
   "cell_type": "code",
   "execution_count": 20,
   "id": "a07db20a",
   "metadata": {},
   "outputs": [],
   "source": [
    "from typing import List\n",
    "from collections import deque\n",
    "class Solution:\n",
    "    def orangesRotting(self, grid: List[List[int]]) -> int:\n",
    "        n, m = len(grid), len(grid[0])\n",
    "        queue = deque()\n",
    "        for i in range(n):\n",
    "            for j in range(m):\n",
    "                if grid[i][j] == 2:\n",
    "                    queue.append((i,j))\n",
    "        time = 0\n",
    "        \n",
    "        while queue:\n",
    "            for _ in range(len(queue)):\n",
    "                r, c = queue.popleft()\n",
    "            \n",
    "                for x, y in [(-1,0),(1,0),(0,-1),(0,1)]:\n",
    "                    if 0<= r+x < n and 0<= c+y < m and grid[r+x][c+y] == 1:\n",
    "                        queue.append((r+x,c+y))\n",
    "                        grid[r+x][c+y] = 2\n",
    "            if queue: \n",
    "                time += 1 \n",
    "        for i in range(n):\n",
    "            for j in range(m):\n",
    "                if grid[i][j] == 1:\n",
    "                    return -1\n",
    "        return time         "
   ]
  },
  {
   "cell_type": "code",
   "execution_count": null,
   "id": "b2500020",
   "metadata": {},
   "outputs": [],
   "source": [
    "# Complexity Analysis:\n",
    "# BFS\n",
    "# Time: O(N*M)\n",
    "# Space: O(N*M)"
   ]
  },
  {
   "cell_type": "code",
   "execution_count": 21,
   "id": "e570995f",
   "metadata": {},
   "outputs": [
    {
     "data": {
      "text/plain": [
       "4"
      ]
     },
     "execution_count": 21,
     "metadata": {},
     "output_type": "execute_result"
    }
   ],
   "source": [
    "grid = [[2,1,1],[1,1,0],[0,1,1]]\n",
    "Solution().orangesRotting(grid)"
   ]
  },
  {
   "cell_type": "code",
   "execution_count": 22,
   "id": "fbfc9c63",
   "metadata": {},
   "outputs": [
    {
     "data": {
      "text/plain": [
       "-1"
      ]
     },
     "execution_count": 22,
     "metadata": {},
     "output_type": "execute_result"
    }
   ],
   "source": [
    "grid = [[2,1,1],[0,1,1],[1,0,1]]\n",
    "Solution().orangesRotting(grid)"
   ]
  },
  {
   "cell_type": "code",
   "execution_count": 23,
   "id": "0751ba57",
   "metadata": {},
   "outputs": [
    {
     "data": {
      "text/plain": [
       "0"
      ]
     },
     "execution_count": 23,
     "metadata": {},
     "output_type": "execute_result"
    }
   ],
   "source": [
    "grid = [[0,2]]\n",
    "Solution().orangesRotting(grid)"
   ]
  }
 ],
 "metadata": {
  "kernelspec": {
   "display_name": "Python 3",
   "language": "python",
   "name": "python3"
  },
  "language_info": {
   "codemirror_mode": {
    "name": "ipython",
    "version": 3
   },
   "file_extension": ".py",
   "mimetype": "text/x-python",
   "name": "python",
   "nbconvert_exporter": "python",
   "pygments_lexer": "ipython3",
   "version": "3.7.4"
  }
 },
 "nbformat": 4,
 "nbformat_minor": 5
}
