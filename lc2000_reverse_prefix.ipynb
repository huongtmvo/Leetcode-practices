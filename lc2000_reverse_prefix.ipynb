{
 "cells": [
  {
   "cell_type": "markdown",
   "id": "bf553d93",
   "metadata": {},
   "source": [
    "https://leetcode.com/problems/reverse-prefix-of-word/"
   ]
  },
  {
   "cell_type": "code",
   "execution_count": 25,
   "id": "a90386bd",
   "metadata": {},
   "outputs": [],
   "source": [
    "from typing import List\n",
    "class Solution:\n",
    "    def reversePrefix2(self, word: str, ch: str) -> str:\n",
    "        for i in range(len(word)):\n",
    "            if word[i] == ch:\n",
    "                return (word[i::-1] + word[i+1:])\n",
    "        else:\n",
    "            return word  \n",
    "    \n",
    "    def reversePrefix(self, word: str, ch: str) -> str:\n",
    "        idx = word.find(ch)    \n",
    "        if idx:\n",
    "            return word[:idx+1][::-1]+ word[idx+1:]\n",
    "        return word"
   ]
  },
  {
   "cell_type": "code",
   "execution_count": 26,
   "id": "f9cfc0ed",
   "metadata": {},
   "outputs": [
    {
     "data": {
      "text/plain": [
       "'dcbaefd'"
      ]
     },
     "execution_count": 26,
     "metadata": {},
     "output_type": "execute_result"
    }
   ],
   "source": [
    "word = \"abcdefd\"; ch = \"d\"\n",
    "Solution().reversePrefix(word,ch)"
   ]
  },
  {
   "cell_type": "code",
   "execution_count": null,
   "id": "1a73ec34",
   "metadata": {},
   "outputs": [],
   "source": []
  }
 ],
 "metadata": {
  "kernelspec": {
   "display_name": "Python 3",
   "language": "python",
   "name": "python3"
  },
  "language_info": {
   "codemirror_mode": {
    "name": "ipython",
    "version": 3
   },
   "file_extension": ".py",
   "mimetype": "text/x-python",
   "name": "python",
   "nbconvert_exporter": "python",
   "pygments_lexer": "ipython3",
   "version": "3.7.4"
  }
 },
 "nbformat": 4,
 "nbformat_minor": 5
}
