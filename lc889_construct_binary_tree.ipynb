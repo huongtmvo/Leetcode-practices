{
 "cells": [
  {
   "cell_type": "markdown",
   "id": "f8b84e1a",
   "metadata": {},
   "source": [
    "### 889. Construct Binary Tree from Preorder and Postorder Traversal"
   ]
  },
  {
   "cell_type": "code",
   "execution_count": 49,
   "id": "f666b5cf",
   "metadata": {},
   "outputs": [],
   "source": [
    "# Definition for a binary tree node.\n",
    "from typing import List, Optional\n",
    "class TreeNode:\n",
    "    def __init__(self, val=0, left=None, right=None):\n",
    "        self.val = val\n",
    "        self.left = left\n",
    "        self.right = right\n",
    "\n",
    "class Solution1: \n",
    "    # Solution 1: Iteratively, by usings stacks\n",
    "    # Iterate on the pre array and create node one by one\n",
    "    # stack saves the current path of tree.\n",
    "    # node = new TreeNode(pre[i]), if not left child, add node to the left. otherwise add it to the right.\n",
    "    # If we meet a same value in the pre and post --> complete the construction for current subtree and pop it from stack.\n",
    "    # Time: O(N)\n",
    "    # Space: O(H)\n",
    "    def constructFromPrePost(self, pre: List[int], post: List[int]) -> Optional[TreeNode]:\n",
    "        stack = [TreeNode(pre[0])]\n",
    "        j = 0\n",
    "        for v in pre[1:]:\n",
    "            node = TreeNode(v)\n",
    "            while stack[-1].val == post[j]: # the current subtree is finished\n",
    "                stack.pop()\n",
    "                j += 1\n",
    "            if not stack[-1].left:\n",
    "                stack[-1].left = node\n",
    "            else:\n",
    "                stack[-1].right = node\n",
    "            stack.append(node)\n",
    "        return stack[0]\n",
    "   \n",
    "\n",
    "class Solution2: \n",
    "    # Solution 2: Recursively\n",
    "    # Time complexity : O(N) as iterate both pre and post once\n",
    "    # Space complexity: O(H)\n",
    "    # pre[preIndex] as the root\n",
    "    # if root.val == post[postIndex], we have constructed the whole tree\n",
    "    # If we haven't completed constructed the whole tree -> recursively constructFromPrePost for left sub tree and right sub tree.\n",
    "\n",
    "    preIndex, posIndex = 0, 0\n",
    "    def constructFromPrePost(self, pre, post):\n",
    "        root = TreeNode(pre[self.preIndex])\n",
    "        self.preIndex += 1\n",
    "        if (root.val != post[self.posIndex]):\n",
    "            root.left = self.constructFromPrePost(pre, post)\n",
    "        if (root.val != post[self.posIndex]):\n",
    "            root.right = self.constructFromPrePost(pre, post)\n",
    "        self.posIndex += 1\n",
    "        return root\n",
    "    "
   ]
  },
  {
   "cell_type": "code",
   "execution_count": 51,
   "id": "24fc70dd",
   "metadata": {},
   "outputs": [],
   "source": [
    "preorder = [1,2,4,5,3,6,7]; postorder = [4,5,2,6,7,3,1]\n",
    "root = Solution1().constructFromPrePost(preorder, postorder)"
   ]
  },
  {
   "cell_type": "code",
   "execution_count": 54,
   "id": "64e16867",
   "metadata": {},
   "outputs": [],
   "source": [
    "root2 = Solution2().constructFromPrePost(preorder, postorder)"
   ]
  },
  {
   "cell_type": "code",
   "execution_count": 52,
   "id": "2a11ee83",
   "metadata": {},
   "outputs": [],
   "source": [
    "from collections import deque\n",
    "def levelOrder(root):\n",
    "    if root is None: return None\n",
    "    \n",
    "    res = []\n",
    "    queue = deque([root])\n",
    "    while queue:\n",
    "        level = []\n",
    "        for _ in range(len(queue)):\n",
    "            node = queue.popleft()\n",
    "            level.append(node.val)\n",
    "            if node.left: queue.append(node.left)\n",
    "            if node.right: queue.append(node.right)\n",
    "        res.append(level)\n",
    "    return res"
   ]
  },
  {
   "cell_type": "code",
   "execution_count": 53,
   "id": "333a1c75",
   "metadata": {},
   "outputs": [
    {
     "data": {
      "text/plain": [
       "[[1], [2, 3], [4, 5, 6, 7]]"
      ]
     },
     "execution_count": 53,
     "metadata": {},
     "output_type": "execute_result"
    }
   ],
   "source": [
    "levelOrder(root)"
   ]
  },
  {
   "cell_type": "code",
   "execution_count": 55,
   "id": "6330d720",
   "metadata": {},
   "outputs": [
    {
     "data": {
      "text/plain": [
       "[[1], [2, 3], [4, 5, 6, 7]]"
      ]
     },
     "execution_count": 55,
     "metadata": {},
     "output_type": "execute_result"
    }
   ],
   "source": [
    "levelOrder(root2)"
   ]
  }
 ],
 "metadata": {
  "kernelspec": {
   "display_name": "Python 3",
   "language": "python",
   "name": "python3"
  },
  "language_info": {
   "codemirror_mode": {
    "name": "ipython",
    "version": 3
   },
   "file_extension": ".py",
   "mimetype": "text/x-python",
   "name": "python",
   "nbconvert_exporter": "python",
   "pygments_lexer": "ipython3",
   "version": "3.7.4"
  }
 },
 "nbformat": 4,
 "nbformat_minor": 5
}
