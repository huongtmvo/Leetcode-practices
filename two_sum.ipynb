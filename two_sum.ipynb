{
 "cells": [
  {
   "cell_type": "markdown",
   "id": "3c95434b",
   "metadata": {},
   "source": [
    "#### Problem:"
   ]
  },
  {
   "cell_type": "markdown",
   "id": "76cc9f78",
   "metadata": {},
   "source": [
    "Given an array of integers nums and an integer target, return indices of the two numbers such that they add up to target.\n",
    "You may assume that each input would have exactly one solution, and you may not use the same element twice.\n",
    "You can return the answer in any order."
   ]
  },
  {
   "cell_type": "markdown",
   "id": "9a2d8d10",
   "metadata": {},
   "source": [
    "Example 1:\n",
    "Input: nums = [2,7,11,15], target = 9\n",
    "Output: [0,1]\n",
    "Output: Because nums[0] + nums[1] == 9, we return [0, 1].\n",
    "\n",
    "Example 2:\n",
    "Input: nums = [3,2,4], target = 6\n",
    "Output: [1,2]\n",
    "\n",
    "Example 3:\n",
    "Input: nums = [3,3], target = 6\n",
    "Output: [0,1]"
   ]
  },
  {
   "cell_type": "markdown",
   "id": "0794299d",
   "metadata": {},
   "source": [
    "#### Solution:"
   ]
  },
  {
   "cell_type": "code",
   "execution_count": 16,
   "id": "755f06c0",
   "metadata": {},
   "outputs": [],
   "source": [
    "class Solution:\n",
    "    def twoSum(self, nums,target):\n",
    "        dic = {}\n",
    "        for i in range(len(nums)):\n",
    "            dic[nums[i]] = i\n",
    "        for i in range(len(nums)):\n",
    "            complement = target - nums[i]\n",
    "            if complement in dic and dic[complement] != i:\n",
    "                return i,dic[complement]\n",
    "sol = Solution()"
   ]
  },
  {
   "cell_type": "code",
   "execution_count": 17,
   "id": "be97afc1",
   "metadata": {},
   "outputs": [
    {
     "data": {
      "text/plain": [
       "(0, 1)"
      ]
     },
     "execution_count": 17,
     "metadata": {},
     "output_type": "execute_result"
    }
   ],
   "source": [
    "nums = [2,7,11,15]; target = 9 \n",
    "sol.twoSum(nums,target)"
   ]
  },
  {
   "cell_type": "code",
   "execution_count": 20,
   "id": "79a303c0",
   "metadata": {},
   "outputs": [
    {
     "data": {
      "text/plain": [
       "(0, 2)"
      ]
     },
     "execution_count": 20,
     "metadata": {},
     "output_type": "execute_result"
    }
   ],
   "source": [
    "nums = [3,2,4]; target = 7\n",
    "sol.twoSum(nums,target)"
   ]
  },
  {
   "cell_type": "code",
   "execution_count": 7,
   "id": "b522e012",
   "metadata": {},
   "outputs": [
    {
     "data": {
      "text/plain": [
       "(0, 1)"
      ]
     },
     "execution_count": 7,
     "metadata": {},
     "output_type": "execute_result"
    }
   ],
   "source": [
    "nums = [3,3]; target = 6\n",
    "sol.twoSum(nums,target)"
   ]
  },
  {
   "cell_type": "code",
   "execution_count": 22,
   "id": "1c20115e",
   "metadata": {},
   "outputs": [],
   "source": [
    "class Solution:\n",
    "    def twoSum2(self, nums,target):\n",
    "        dic = {}\n",
    "        for i in range(len(nums)):\n",
    "            complement = target - nums[i]\n",
    "            if complement in dic:\n",
    "                return dic[complement],i\n",
    "            dic[nums[i]] = i\n",
    "sol = Solution()"
   ]
  },
  {
   "cell_type": "code",
   "execution_count": 23,
   "id": "dc6af39b",
   "metadata": {},
   "outputs": [
    {
     "data": {
      "text/plain": [
       "(0, 1)"
      ]
     },
     "execution_count": 23,
     "metadata": {},
     "output_type": "execute_result"
    }
   ],
   "source": [
    "nums = [3,3]; target = 6\n",
    "sol.twoSum2(nums,target)"
   ]
  },
  {
   "cell_type": "code",
   "execution_count": 24,
   "id": "fb54decd",
   "metadata": {},
   "outputs": [
    {
     "data": {
      "text/plain": [
       "(0, 1)"
      ]
     },
     "execution_count": 24,
     "metadata": {},
     "output_type": "execute_result"
    }
   ],
   "source": [
    "nums = [2,7,11,15]; target = 9 \n",
    "sol.twoSum2(nums,target)"
   ]
  },
  {
   "cell_type": "code",
   "execution_count": 25,
   "id": "12aa1201",
   "metadata": {},
   "outputs": [
    {
     "data": {
      "text/plain": [
       "(0, 2)"
      ]
     },
     "execution_count": 25,
     "metadata": {},
     "output_type": "execute_result"
    }
   ],
   "source": [
    "nums = [3,2,4]; target = 7 \n",
    "sol.twoSum2(nums,target)"
   ]
  },
  {
   "cell_type": "code",
   "execution_count": null,
   "id": "7475e1a8",
   "metadata": {},
   "outputs": [],
   "source": []
  }
 ],
 "metadata": {
  "kernelspec": {
   "display_name": "Python 3",
   "language": "python",
   "name": "python3"
  },
  "language_info": {
   "codemirror_mode": {
    "name": "ipython",
    "version": 3
   },
   "file_extension": ".py",
   "mimetype": "text/x-python",
   "name": "python",
   "nbconvert_exporter": "python",
   "pygments_lexer": "ipython3",
   "version": "3.7.4"
  }
 },
 "nbformat": 4,
 "nbformat_minor": 5
}
