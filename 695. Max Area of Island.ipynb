{
 "cells": [
  {
   "cell_type": "markdown",
   "metadata": {
    "id": "LpFdbG1c6Jmg"
   },
   "source": [
    "695. Max Area of Island\n",
    "\n",
    "https://leetcode.com/problems/max-area-of-island/"
   ]
  },
  {
   "cell_type": "code",
   "execution_count": null,
   "metadata": {
    "id": "KyQChYj76WiD"
   },
   "outputs": [],
   "source": [
    "from typing import List\n",
    "class Solution:\n",
    "    def maxAreaOfIsland(self, grid: List[List[int]]) -> int:\n",
    "        rows = len(grid)\n",
    "        cols = len(grid[0])\n",
    "        visited = set()\n",
    "        \n",
    "        def area(r,c):\n",
    "            # Only process the node 1 with r < rows, c < cols and not yet visited\n",
    "            if not (0 <= r < rows and 0 <= c < cols and (r,c) not in visited and grid[r][c]):\n",
    "                return 0\n",
    "            visited.add((r,c))\n",
    "            return (1 + area(r+1,c) + area(r-1,c) + area(r, c-1) + area(r, c+1))\n",
    "        \n",
    "#         max_area = 0\n",
    "#         for r in range(rows):\n",
    "#             for c in range(cols):\n",
    "#                 max_area = max(max_area, area(r,c))\n",
    "#         return max_area\n",
    "#         Can be shortened by using list comprehension\n",
    "        return max(area(r,c) for r in range(rows) for c in range(cols))"
   ]
  },
  {
   "cell_type": "code",
   "execution_count": null,
   "metadata": {
    "id": "iz4RQOv7lhcl"
   },
   "outputs": [],
   "source": [
    "# Time complexity; O(R*C) since visit each cell once\n",
    "# Space complexity: O(R*C): space used to keep track of visited cells, and stacks during recursion"
   ]
  },
  {
   "cell_type": "code",
   "execution_count": null,
   "metadata": {
    "id": "K-LKromMlhcl",
    "outputId": "6e2e3f55-04b4-4e82-e544-fa166f14dab3"
   },
   "outputs": [
    {
     "data": {
      "text/plain": [
       "6"
      ]
     },
     "execution_count": 26,
     "metadata": {},
     "output_type": "execute_result"
    }
   ],
   "source": [
    "grid = [[0,0,1,0,0,0,0,1,0,0,0,0,0],[0,0,0,0,0,0,0,1,1,1,0,0,0],\n",
    "        [0,1,1,0,1,0,0,0,0,0,0,0,0],[0,1,0,0,1,1,0,0,1,0,1,0,0],\n",
    "        [0,1,0,0,1,1,0,0,1,1,1,0,0],[0,0,0,0,0,0,0,0,0,0,1,0,0],\n",
    "        [0,0,0,0,0,0,0,1,1,1,0,0,0],[0,0,0,0,0,0,0,1,1,0,0,0,0]]\n",
    "Solution().maxAreaOfIsland(grid)"
   ]
  },
  {
   "cell_type": "code",
   "execution_count": null,
   "metadata": {
    "id": "u7eCO6Z6lhcn",
    "outputId": "549ef141-0446-4c15-fe46-52f7c5202b4b"
   },
   "outputs": [
    {
     "data": {
      "text/plain": [
       "[(0, 0), (0, 1), (0, 2), (1, 0), (1, 1), (1, 2), (2, 0), (2, 1), (2, 2)]"
      ]
     },
     "execution_count": 22,
     "metadata": {},
     "output_type": "execute_result"
    }
   ],
   "source": [
    "# List comprehension\n",
    "[(i, j) for i in range(3) for j in range(3)]"
   ]
  },
  {
   "cell_type": "code",
   "execution_count": null,
   "metadata": {
    "id": "HeKMggwBlhcn",
    "outputId": "eecb4510-69cc-4e39-a50f-1a65da3c922d"
   },
   "outputs": [
    {
     "data": {
      "text/plain": [
       "(2, 2)"
      ]
     },
     "execution_count": 23,
     "metadata": {},
     "output_type": "execute_result"
    }
   ],
   "source": [
    "# Using max\n",
    "max((i,j) for i in range(3) for j in range(3))"
   ]
  },
  {
   "cell_type": "code",
   "execution_count": null,
   "metadata": {
    "id": "wX5kt9Ralhco"
   },
   "outputs": [],
   "source": []
  }
 ],
 "metadata": {
  "colab": {
   "collapsed_sections": [],
   "name": "695. Max Area of Island.ipynb",
   "provenance": []
  },
  "kernelspec": {
   "display_name": "Python 3",
   "language": "python",
   "name": "python3"
  },
  "language_info": {
   "codemirror_mode": {
    "name": "ipython",
    "version": 3
   },
   "file_extension": ".py",
   "mimetype": "text/x-python",
   "name": "python",
   "nbconvert_exporter": "python",
   "pygments_lexer": "ipython3",
   "version": "3.7.4"
  }
 },
 "nbformat": 4,
 "nbformat_minor": 1
}
