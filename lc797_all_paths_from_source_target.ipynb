{
 "cells": [
  {
   "cell_type": "markdown",
   "metadata": {
    "id": "Rb48GlMjPWEL"
   },
   "source": [
    "797. All Paths From Source to Target\n",
    "\n",
    "https://leetcode.com/problems/all-paths-from-source-to-target/"
   ]
  },
  {
   "cell_type": "code",
   "execution_count": 89,
   "metadata": {
    "executionInfo": {
     "elapsed": 143,
     "status": "ok",
     "timestamp": 1652214656192,
     "user": {
      "displayName": "Huong Vo",
      "userId": "06024641955657481731"
     },
     "user_tz": 420
    },
    "id": "Zet8J9m-PICx"
   },
   "outputs": [],
   "source": [
    "from typing import List\n",
    "class Solution:\n",
    "    def allPathsSourceTarget2(self, graph: List[List[int]]) -> List[List[int]]:\n",
    "        res = []\n",
    "        n = len(graph)\n",
    "        def dfs(v, path):\n",
    "            path.append(v)\n",
    "            if v == n-1:\n",
    "                res.append(list(path))\n",
    "                return \n",
    "            for u in graph[v]: \n",
    "                dfs(u, path)\n",
    "                path.pop()\n",
    "        \n",
    "        path = []\n",
    "        dfs(0, path)\n",
    "        return res\n",
    "\n",
    "    def allPathsSourceTarget(self, graph: List[List[int]]) -> List[List[int]]:\n",
    "        res = []\n",
    "        def dfs(v, path):\n",
    "            if v == n-1:\n",
    "                res.append(list(path))\n",
    "                return \n",
    "            for u in graph[v]:\n",
    "                path.append(u) \n",
    "                dfs(u, path)\n",
    "                path.pop()\n",
    "\n",
    "        n = len(graph)\n",
    "        dfs(0, [0])\n",
    "        return res\n"
   ]
  },
  {
   "cell_type": "code",
   "execution_count": 90,
   "metadata": {
    "colab": {
     "base_uri": "https://localhost:8080/"
    },
    "executionInfo": {
     "elapsed": 130,
     "status": "ok",
     "timestamp": 1652214657236,
     "user": {
      "displayName": "Huong Vo",
      "userId": "06024641955657481731"
     },
     "user_tz": 420
    },
    "id": "8NxkgZLAPcKE",
    "outputId": "ac432443-099c-421a-ddd6-138fc1c4ed13"
   },
   "outputs": [
    {
     "data": {
      "text/plain": [
       "[[0, 1, 3], [0, 2, 3]]"
      ]
     },
     "execution_count": 90,
     "metadata": {},
     "output_type": "execute_result"
    }
   ],
   "source": [
    "graph = [[1,2],[3],[3],[]]\n",
    "Solution().allPathsSourceTarget2(graph)"
   ]
  },
  {
   "cell_type": "code",
   "execution_count": 91,
   "metadata": {
    "colab": {
     "base_uri": "https://localhost:8080/"
    },
    "executionInfo": {
     "elapsed": 146,
     "status": "ok",
     "timestamp": 1652214659747,
     "user": {
      "displayName": "Huong Vo",
      "userId": "06024641955657481731"
     },
     "user_tz": 420
    },
    "id": "7xKGAsRnTF2t",
    "outputId": "d038fdb0-e54f-4f9a-cafd-ed74dbe36995"
   },
   "outputs": [
    {
     "data": {
      "text/plain": [
       "[[0, 4], [0, 3, 4], [0, 1, 3, 4], [0, 1, 2, 3, 4], [0, 1, 4]]"
      ]
     },
     "execution_count": 91,
     "metadata": {},
     "output_type": "execute_result"
    }
   ],
   "source": [
    "graph = [[4,3,1],[3,2,4],[3],[4],[]]\n",
    "Solution().allPathsSourceTarget(graph)"
   ]
  },
  {
   "cell_type": "code",
   "execution_count": 92,
   "metadata": {
    "executionInfo": {
     "elapsed": 122,
     "status": "ok",
     "timestamp": 1652214663142,
     "user": {
      "displayName": "Huong Vo",
      "userId": "06024641955657481731"
     },
     "user_tz": 420
    },
    "id": "vT8hevTRnHBp"
   },
   "outputs": [],
   "source": [
    "path = [1,2]\n",
    "new_path = list(path)"
   ]
  },
  {
   "cell_type": "code",
   "execution_count": 62,
   "metadata": {
    "colab": {
     "base_uri": "https://localhost:8080/"
    },
    "executionInfo": {
     "elapsed": 128,
     "status": "ok",
     "timestamp": 1652213800346,
     "user": {
      "displayName": "Huong Vo",
      "userId": "06024641955657481731"
     },
     "user_tz": 420
    },
    "id": "kAkrO79rncxd",
    "outputId": "ee4614f0-2349-4e4a-9536-99d017efbd0a"
   },
   "outputs": [
    {
     "data": {
      "text/plain": [
       "2"
      ]
     },
     "execution_count": 62,
     "metadata": {},
     "output_type": "execute_result"
    }
   ],
   "source": [
    "path.pop()"
   ]
  },
  {
   "cell_type": "code",
   "execution_count": 63,
   "metadata": {
    "colab": {
     "base_uri": "https://localhost:8080/"
    },
    "executionInfo": {
     "elapsed": 126,
     "status": "ok",
     "timestamp": 1652213802395,
     "user": {
      "displayName": "Huong Vo",
      "userId": "06024641955657481731"
     },
     "user_tz": 420
    },
    "id": "7mPirwoWndxs",
    "outputId": "5456b116-28b2-4948-a564-0ba1e8dba532"
   },
   "outputs": [
    {
     "data": {
      "text/plain": [
       "[1]"
      ]
     },
     "execution_count": 63,
     "metadata": {},
     "output_type": "execute_result"
    }
   ],
   "source": [
    "path"
   ]
  },
  {
   "cell_type": "code",
   "execution_count": 64,
   "metadata": {
    "colab": {
     "base_uri": "https://localhost:8080/"
    },
    "executionInfo": {
     "elapsed": 118,
     "status": "ok",
     "timestamp": 1652213805824,
     "user": {
      "displayName": "Huong Vo",
      "userId": "06024641955657481731"
     },
     "user_tz": 420
    },
    "id": "GbRXw5hLneP0",
    "outputId": "991e65a5-df99-42e9-ea58-04bb4a0a1978"
   },
   "outputs": [
    {
     "data": {
      "text/plain": [
       "[1, 2]"
      ]
     },
     "execution_count": 64,
     "metadata": {},
     "output_type": "execute_result"
    }
   ],
   "source": [
    "new_path"
   ]
  },
  {
   "cell_type": "code",
   "execution_count": null,
   "metadata": {
    "id": "7H0d_d3GnfHT"
   },
   "outputs": [],
   "source": []
  }
 ],
 "metadata": {
  "colab": {
   "authorship_tag": "ABX9TyP2iePDslV9RCvPpEC6DTVR",
   "collapsed_sections": [],
   "name": "lc797.ipynb",
   "provenance": []
  },
  "kernelspec": {
   "display_name": "Python 3",
   "language": "python",
   "name": "python3"
  },
  "language_info": {
   "codemirror_mode": {
    "name": "ipython",
    "version": 3
   },
   "file_extension": ".py",
   "mimetype": "text/x-python",
   "name": "python",
   "nbconvert_exporter": "python",
   "pygments_lexer": "ipython3",
   "version": "3.7.4"
  }
 },
 "nbformat": 4,
 "nbformat_minor": 1
}
