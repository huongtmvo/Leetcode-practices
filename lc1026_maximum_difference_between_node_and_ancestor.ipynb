{
 "cells": [
  {
   "cell_type": "markdown",
   "id": "63e8e65e",
   "metadata": {},
   "source": [
    "https://leetcode.com/problems/maximum-difference-between-node-and-ancestor/"
   ]
  },
  {
   "cell_type": "code",
   "execution_count": 1,
   "id": "328af57b",
   "metadata": {},
   "outputs": [],
   "source": [
    "class TreeNode:\n",
    "    def __init__(self, val=0, left=None, right=None):\n",
    "        self.val = val\n",
    "        self.left = left\n",
    "        self.right = right"
   ]
  },
  {
   "cell_type": "code",
   "execution_count": 3,
   "id": "de405078",
   "metadata": {},
   "outputs": [],
   "source": [
    "class Solution:\n",
    "    def maxAncestorDiff(self, root: TreeNode) -> int:\n",
    "        if not root: \n",
    "            return 0\n",
    "        self.result = 0\n",
    "        \n",
    "        def helper(node, cur_max, cur_min):\n",
    "            if not node:\n",
    "                return\n",
    "            self.result = max(self.result, abs(cur.max-node.val), abs(cur.min-node.val))\n",
    "            cur_max = max(cur_max, node.val)\n",
    "            cur_min = min(cur_min, node.val)\n",
    "            \n",
    "            helper(node.left, cur_max, cur_min)\n",
    "            helper(node.right, cur_max, cur_min)\n",
    "            \n",
    "        helper(root, root.val, root.val)\n",
    "        return self.result\n",
    "    \n",
    "    # Time complexity is O(N) since we visit each node once\n",
    "    # Space complexity is O(N) since we need stacks to do recursion, and the maximum depth of the recursion\n",
    "    # is the height of the tree, \n",
    "    # which is O(N) in the worst case and O(logN) in the best case"
   ]
  },
  {
   "cell_type": "markdown",
   "id": "05567d47",
   "metadata": {},
   "source": [
    "Since the problem asks us the Maximum Difference, maybe we do not need to compare all ancestor for a given node and we only need to compare the ancestors with Maximum value and Minimum value.\n",
    "\n",
    "Therefore, for a given node, we only need the maximum value and the minimum value from the root to this node."
   ]
  },
  {
   "cell_type": "code",
   "execution_count": null,
   "id": "2a6ed816",
   "metadata": {},
   "outputs": [],
   "source": []
  }
 ],
 "metadata": {
  "kernelspec": {
   "display_name": "Python 3",
   "language": "python",
   "name": "python3"
  },
  "language_info": {
   "codemirror_mode": {
    "name": "ipython",
    "version": 3
   },
   "file_extension": ".py",
   "mimetype": "text/x-python",
   "name": "python",
   "nbconvert_exporter": "python",
   "pygments_lexer": "ipython3",
   "version": "3.7.4"
  }
 },
 "nbformat": 4,
 "nbformat_minor": 5
}
