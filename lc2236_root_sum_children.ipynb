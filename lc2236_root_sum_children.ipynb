{
 "cells": [
  {
   "cell_type": "markdown",
   "id": "52348b84",
   "metadata": {},
   "source": [
    "### 2236. Root Equals Sum of Children"
   ]
  },
  {
   "cell_type": "code",
   "execution_count": 2,
   "id": "b9ba7990",
   "metadata": {},
   "outputs": [],
   "source": [
    "# Definition for a binary tree node.\n",
    "class TreeNode:\n",
    "    def __init__(self, val=0, left=None, right=None):\n",
    "        self.val = val\n",
    "        self.left = left\n",
    "        self.right = right\n",
    "\n",
    "from typing import Optional\n",
    "class Solution:\n",
    "    def checkTree(self, root: Optional[TreeNode]) -> bool:\n",
    "        return root.val == root.left.val + root.right.val"
   ]
  },
  {
   "cell_type": "code",
   "execution_count": 3,
   "id": "3e6f2b3e",
   "metadata": {},
   "outputs": [
    {
     "data": {
      "text/plain": [
       "True"
      ]
     },
     "execution_count": 3,
     "metadata": {},
     "output_type": "execute_result"
    }
   ],
   "source": [
    "root = TreeNode(10, TreeNode(4), TreeNode(6))\n",
    "Solution().checkTree(root)"
   ]
  },
  {
   "cell_type": "code",
   "execution_count": 4,
   "id": "a3360aa4",
   "metadata": {},
   "outputs": [
    {
     "data": {
      "text/plain": [
       "False"
      ]
     },
     "execution_count": 4,
     "metadata": {},
     "output_type": "execute_result"
    }
   ],
   "source": [
    "root = TreeNode(5, TreeNode(3), TreeNode(1))\n",
    "Solution().checkTree(root)"
   ]
  }
 ],
 "metadata": {
  "kernelspec": {
   "display_name": "Python 3",
   "language": "python",
   "name": "python3"
  },
  "language_info": {
   "codemirror_mode": {
    "name": "ipython",
    "version": 3
   },
   "file_extension": ".py",
   "mimetype": "text/x-python",
   "name": "python",
   "nbconvert_exporter": "python",
   "pygments_lexer": "ipython3",
   "version": "3.7.4"
  }
 },
 "nbformat": 4,
 "nbformat_minor": 5
}
