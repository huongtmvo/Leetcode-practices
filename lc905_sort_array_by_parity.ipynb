{
 "cells": [
  {
   "cell_type": "markdown",
   "id": "2b2f0a95",
   "metadata": {},
   "source": [
    "https://leetcode.com/problems/sort-array-by-parity/"
   ]
  },
  {
   "cell_type": "code",
   "execution_count": 6,
   "id": "131c00ce",
   "metadata": {},
   "outputs": [],
   "source": [
    "from typing import List\n",
    "class Solution:\n",
    "    def sortArrayByParity2(self, nums: List[int]) -> List[int]:\n",
    "        l, r = 0, len(nums) - 1\n",
    "        while l < r:\n",
    "            if nums[l] % 2 == 0:\n",
    "                l += 1\n",
    "            else:\n",
    "                if nums[r] % 2 == 0:\n",
    "                    nums[l],nums[r] = nums[r],nums[l]\n",
    "                    l += 1\n",
    "                    r -= 1\n",
    "                else:\n",
    "                    while r >= 0 and nums[r] % 2 != 0:\n",
    "                        r -= 1     \n",
    "        return nums   \n",
    "    \n",
    "    def sortArrayByParity(self, nums: List[int]) -> List[int]:\n",
    "        l, r = 0, len(nums) - 1\n",
    "        while l <= r:\n",
    "            if nums[l] % 2 == 0:\n",
    "                l += 1\n",
    "            else:\n",
    "                nums[l], nums[r] = nums[r], nums[l]\n",
    "                r -= 1\n",
    "        return nums\n",
    "    "
   ]
  },
  {
   "cell_type": "code",
   "execution_count": 7,
   "id": "d16dd60a",
   "metadata": {},
   "outputs": [
    {
     "data": {
      "text/plain": [
       "[4, 2, 1, 3]"
      ]
     },
     "execution_count": 7,
     "metadata": {},
     "output_type": "execute_result"
    }
   ],
   "source": [
    "nums = [3,1,2,4]\n",
    "Solution().sortArrayByParity(nums)"
   ]
  },
  {
   "cell_type": "code",
   "execution_count": null,
   "id": "78d3fcb2",
   "metadata": {},
   "outputs": [],
   "source": []
  }
 ],
 "metadata": {
  "kernelspec": {
   "display_name": "Python 3",
   "language": "python",
   "name": "python3"
  },
  "language_info": {
   "codemirror_mode": {
    "name": "ipython",
    "version": 3
   },
   "file_extension": ".py",
   "mimetype": "text/x-python",
   "name": "python",
   "nbconvert_exporter": "python",
   "pygments_lexer": "ipython3",
   "version": "3.7.4"
  }
 },
 "nbformat": 4,
 "nbformat_minor": 5
}
