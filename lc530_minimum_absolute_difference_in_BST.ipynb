{
 "cells": [
  {
   "cell_type": "markdown",
   "id": "240a188d",
   "metadata": {},
   "source": [
    "https://leetcode.com/problems/minimum-absolute-difference-in-bst/"
   ]
  },
  {
   "cell_type": "code",
   "execution_count": 31,
   "id": "aeb2f6ae",
   "metadata": {},
   "outputs": [],
   "source": [
    "# Definition for a binary tree node.\n",
    "from typing import Optional\n",
    "\n",
    "class TreeNode:\n",
    "    def __init__(self, val=0, left=None, right=None):\n",
    "        self.val = val\n",
    "        self.left = left\n",
    "        self.right = right\n",
    "        \n",
    "    def __str2__(self):\n",
    "        res = []\n",
    "        def inorder(root):\n",
    "            if root:\n",
    "                inorder(root.left)\n",
    "                res.append(root.val)\n",
    "                inorder(root.right)\n",
    "            return res\n",
    "        inorder(self)\n",
    "        return str(res)\n",
    "    \n",
    "    def __repr2__(self):\n",
    "        return \"Huong\"\n",
    "        \n",
    "class Solution:\n",
    "   \n",
    "    # Solution 1: O(n) running time and O(n) extra space\n",
    "    def getMinimumDifference(self, root: Optional[TreeNode]) -> int:\n",
    "        res = []\n",
    "        self.inOrder(root, res)\n",
    "        ans = float('inf')\n",
    "        for i in range(len(res) - 1):\n",
    "            ans = min(ans, (res[i+1] - res[i]))\n",
    "        return ans\n",
    "    \n",
    "    def inOrder(self, root, res):\n",
    "        if root: \n",
    "            self.inOrder(root.left, res)\n",
    "            res.append(root.val)\n",
    "            self.inOrder(root.right, res)\n",
    "            \n",
    "     # Solution 2: O(n) running time with O(1) extra space (But recursive stacks takes log(n) space)\n",
    "    def getMinimumDifference(self, root: Optional[TreeNode]) -> int:\n",
    "        self.ans = float('inf')\n",
    "        self.prev = None\n",
    "        self.inOrder(root)\n",
    "        return self.ans\n",
    "        \n",
    "    def inOrder(self, root):\n",
    "        if root:\n",
    "            self.inOrder(root.left)\n",
    "            if self.prev is not None:\n",
    "                self.ans = min(self.ans, root.val - self.prev)\n",
    "            self.prev = root.val\n",
    "            self.inOrder(root.right)\n"
   ]
  },
  {
   "cell_type": "code",
   "execution_count": 32,
   "id": "f114ce23",
   "metadata": {},
   "outputs": [],
   "source": [
    "root = TreeNode(4, TreeNode(2, TreeNode(1), TreeNode(3)), TreeNode(6))"
   ]
  },
  {
   "cell_type": "code",
   "execution_count": 8,
   "id": "28a8ca7c",
   "metadata": {},
   "outputs": [
    {
     "data": {
      "text/plain": [
       "1"
      ]
     },
     "execution_count": 8,
     "metadata": {},
     "output_type": "execute_result"
    }
   ],
   "source": [
    "Solution().getMinimumDifference(root)"
   ]
  },
  {
   "cell_type": "code",
   "execution_count": 33,
   "id": "8112a9a1",
   "metadata": {},
   "outputs": [
    {
     "name": "stdout",
     "output_type": "stream",
     "text": [
      "<__main__.TreeNode object at 0x7f8afe248050>\n"
     ]
    }
   ],
   "source": [
    "print(root)"
   ]
  }
 ],
 "metadata": {
  "kernelspec": {
   "display_name": "Python 3",
   "language": "python",
   "name": "python3"
  },
  "language_info": {
   "codemirror_mode": {
    "name": "ipython",
    "version": 3
   },
   "file_extension": ".py",
   "mimetype": "text/x-python",
   "name": "python",
   "nbconvert_exporter": "python",
   "pygments_lexer": "ipython3",
   "version": "3.7.4"
  }
 },
 "nbformat": 4,
 "nbformat_minor": 5
}
