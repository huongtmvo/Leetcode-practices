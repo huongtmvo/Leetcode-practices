{
 "cells": [
  {
   "cell_type": "markdown",
   "id": "2b28b63f",
   "metadata": {},
   "source": [
    "### 503. Next Greater Element II\n",
    "\n",
    "Given a circular integer array nums (i.e., the next element of nums[nums.length - 1] is nums[0]), return the next greater number for every element in nums.\n"
   ]
  },
  {
   "cell_type": "code",
   "execution_count": 64,
   "id": "0ff12487",
   "metadata": {},
   "outputs": [],
   "source": [
    "from typing import List\n",
    "class Solution(object):\n",
    "    def nextGreaterElements(self, nums):\n",
    "        n = len(nums)\n",
    "        ans = [-1] * n\n",
    "        stack = nums[::-1]\n",
    "        for i in range(n - 1, -1, -1):\n",
    "            while stack and stack[-1] <= nums[i]:\n",
    "                stack.pop()\n",
    "            if stack:\n",
    "                ans[i] = stack[-1]\n",
    "            stack.append(nums[i])\n",
    "        return ans\n",
    "    \n",
    "    def nextGreaterElements2(self, nums: List[int]) -> List[int]:\n",
    "        stack = []\n",
    "        n = len(nums)\n",
    "        ans = [-1] * n\n",
    "        for i in range(2*n-1, -1, -1):\n",
    "            while stack and stack[-1] <= nums[i%n]:\n",
    "                stack.pop()\n",
    "            if stack and i < n:\n",
    "                ans[i] = stack[-1]\n",
    "            stack.append(nums[i%n])\n",
    "        return ans\n",
    "    \n",
    "    # Brute force:\n",
    "    # Time: O(N^2)\n",
    "    # Space: O(N)\n",
    "    def nextGreaterElements3(self, nums: List[int]) -> List[int]:\n",
    "        n = len(nums)\n",
    "        ans = [-1] * n\n",
    "        for i in range(n):\n",
    "            for j in range(i+1, i+1+n):\n",
    "                if nums[j % n] > nums[i]:\n",
    "                    ans[i] = nums[j % n]\n",
    "                    break\n",
    "        return ans  \n",
    "    \n",
    "    "
   ]
  },
  {
   "cell_type": "code",
   "execution_count": 45,
   "id": "780f5c69",
   "metadata": {},
   "outputs": [],
   "source": [
    "# Complexity analysis:\n",
    "# Time complexity: O(N)\n",
    "# Space complexity: O(N)"
   ]
  },
  {
   "cell_type": "code",
   "execution_count": 65,
   "id": "d8b15fec",
   "metadata": {},
   "outputs": [
    {
     "data": {
      "text/plain": [
       "[2, -1, 2]"
      ]
     },
     "execution_count": 65,
     "metadata": {},
     "output_type": "execute_result"
    }
   ],
   "source": [
    "nums = [1,2,1] \n",
    "Solution().nextGreaterElements3(nums)"
   ]
  },
  {
   "cell_type": "code",
   "execution_count": 66,
   "id": "b85619d0",
   "metadata": {},
   "outputs": [
    {
     "data": {
      "text/plain": [
       "[2, 3, 4, -1, 4]"
      ]
     },
     "execution_count": 66,
     "metadata": {},
     "output_type": "execute_result"
    }
   ],
   "source": [
    "nums = [1,2,3,4,3]\n",
    "Solution().nextGreaterElements3(nums)"
   ]
  },
  {
   "cell_type": "code",
   "execution_count": null,
   "id": "27f25e41",
   "metadata": {},
   "outputs": [],
   "source": []
  }
 ],
 "metadata": {
  "kernelspec": {
   "display_name": "Python 3",
   "language": "python",
   "name": "python3"
  },
  "language_info": {
   "codemirror_mode": {
    "name": "ipython",
    "version": 3
   },
   "file_extension": ".py",
   "mimetype": "text/x-python",
   "name": "python",
   "nbconvert_exporter": "python",
   "pygments_lexer": "ipython3",
   "version": "3.7.4"
  }
 },
 "nbformat": 4,
 "nbformat_minor": 5
}
