{
 "cells": [
  {
   "cell_type": "markdown",
   "id": "402fa046",
   "metadata": {},
   "source": [
    "### 503. Next Greater Element II\n",
    "\n",
    "Given a circular integer array nums (i.e., the next element of nums[nums.length - 1] is nums[0]), return the next greater number for every element in nums.\n"
   ]
  },
  {
   "cell_type": "code",
   "execution_count": 46,
   "id": "64ea5008",
   "metadata": {},
   "outputs": [],
   "source": [
    "class Solution(object):\n",
    "    def nextGreaterElements(self, nums):\n",
    "        n = len(nums)\n",
    "        ans = [-1] * n\n",
    "        stack = nums[::-1]\n",
    "        for i in range(n - 1, -1, -1):\n",
    "            while stack and stack[-1] <= nums[i]:\n",
    "                stack.pop()\n",
    "            if stack:\n",
    "                ans[i] = stack[-1]\n",
    "            stack.append(nums[i])\n",
    "        return ans"
   ]
  },
  {
   "cell_type": "code",
   "execution_count": 45,
   "id": "764c7794",
   "metadata": {},
   "outputs": [],
   "source": [
    "# Complexity analysis:\n",
    "# Time complexity: O(N)\n",
    "# Space complexity: O(N)"
   ]
  },
  {
   "cell_type": "code",
   "execution_count": 47,
   "id": "4d9b2c78",
   "metadata": {},
   "outputs": [
    {
     "data": {
      "text/plain": [
       "[2, -1, 2]"
      ]
     },
     "execution_count": 47,
     "metadata": {},
     "output_type": "execute_result"
    }
   ],
   "source": [
    "nums = [1,2,1] \n",
    "Solution().nextGreaterElements(nums)"
   ]
  },
  {
   "cell_type": "code",
   "execution_count": 48,
   "id": "ba4beb5e",
   "metadata": {},
   "outputs": [
    {
     "data": {
      "text/plain": [
       "[2, 3, 4, -1, 4]"
      ]
     },
     "execution_count": 48,
     "metadata": {},
     "output_type": "execute_result"
    }
   ],
   "source": [
    "nums = [1,2,3,4,3]\n",
    "Solution().nextGreaterElements(nums)"
   ]
  }
 ],
 "metadata": {
  "kernelspec": {
   "display_name": "Python 3",
   "language": "python",
   "name": "python3"
  },
  "language_info": {
   "codemirror_mode": {
    "name": "ipython",
    "version": 3
   },
   "file_extension": ".py",
   "mimetype": "text/x-python",
   "name": "python",
   "nbconvert_exporter": "python",
   "pygments_lexer": "ipython3",
   "version": "3.7.4"
  }
 },
 "nbformat": 4,
 "nbformat_minor": 5
}
