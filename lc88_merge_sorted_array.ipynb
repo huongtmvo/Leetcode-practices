{
 "cells": [
  {
   "cell_type": "markdown",
   "id": "b4d59e40",
   "metadata": {},
   "source": [
    "### 88. Merge Sorted Array"
   ]
  },
  {
   "cell_type": "code",
   "execution_count": 47,
   "id": "bfa3c658",
   "metadata": {},
   "outputs": [],
   "source": [
    "from typing import List\n",
    "class Solution:\n",
    "    def merge(self, nums1: List[int], m: int, nums2: List[int], n: int) -> None:\n",
    "        \"\"\"\n",
    "        Do not return anything, modify nums1 in-place instead.\n",
    "        \"\"\"\n",
    "        idx = 0\n",
    "        for i in range(m, m+n):\n",
    "            nums1[i] = nums2[idx]\n",
    "            idx += 1\n",
    "        nums1.sort()\n",
    "        return nums1\n",
    "    # Time: O((N+M)log(N+M))\n",
    "    # Space: O(1)\n",
    "    \n",
    "    def merge2(self, nums1, m, nums2, n): \n",
    "        i = 0\n",
    "        k = n\n",
    "        while i < m: \n",
    "            nums1[i], nums1[k] = nums1[k], nums1[i]\n",
    "            i += 1\n",
    "            k += 1\n",
    "        print('nums1', nums1)     \n",
    "            \n",
    "        i1, i2, k = n, 0, 0\n",
    "        while k < n+m and i1 < n + m and i2 < n: \n",
    "            if nums1[i1] <= nums2[i2]: \n",
    "                nums1[i1], nums1[k] = nums1[k], nums1[i1]\n",
    "                i1 += 1\n",
    "            else:\n",
    "                nums1[k] = nums2[i2]\n",
    "                i2 += 1\n",
    "            k += 1\n",
    "        \n",
    "        if i2 < n: \n",
    "             for i2 in range(i2,n):\n",
    "                    nums1[k] = nums2[i2]\n",
    "                    k += 1\n",
    "        return nums1  \n",
    "    # Time: O(N + M)\n",
    "    # Space: O(1)"
   ]
  },
  {
   "cell_type": "code",
   "execution_count": 48,
   "id": "e22da9a4",
   "metadata": {},
   "outputs": [
    {
     "name": "stdout",
     "output_type": "stream",
     "text": [
      "nums1 [0, 0, 0, 1, 2, 3]\n"
     ]
    },
    {
     "data": {
      "text/plain": [
       "[1, 2, 2, 3, 5, 6]"
      ]
     },
     "execution_count": 48,
     "metadata": {},
     "output_type": "execute_result"
    }
   ],
   "source": [
    "nums1 = [1,2,3,0,0,0]; m = 3; nums2 = [2,5,6]; n = 3\n",
    "Solution().merge2(nums1, m, nums2, n)"
   ]
  },
  {
   "cell_type": "code",
   "execution_count": 49,
   "id": "ded886bd",
   "metadata": {},
   "outputs": [
    {
     "data": {
      "text/plain": [
       "[1, 2, 2, 3, 5, 6]"
      ]
     },
     "execution_count": 49,
     "metadata": {},
     "output_type": "execute_result"
    }
   ],
   "source": [
    "nums1 = [1,2,3,0,0,0]; m = 3; nums2 = [2,5,6]; n = 3\n",
    "Solution().merge(nums1, m, nums2, n)"
   ]
  },
  {
   "cell_type": "code",
   "execution_count": 50,
   "id": "4432a7c1",
   "metadata": {},
   "outputs": [
    {
     "data": {
      "text/plain": [
       "[1, 2, 3, 4, 5, 6]"
      ]
     },
     "execution_count": 50,
     "metadata": {},
     "output_type": "execute_result"
    }
   ],
   "source": [
    "nums1 = [1,2,4,5,6,0]; m = 5; nums2= [3]; n = 1\n",
    "Solution().merge(nums1, m, nums2, n)"
   ]
  },
  {
   "cell_type": "code",
   "execution_count": 51,
   "id": "5f12be07",
   "metadata": {},
   "outputs": [
    {
     "name": "stdout",
     "output_type": "stream",
     "text": [
      "nums1 [2, 4, 5, 6, 0, 1]\n"
     ]
    },
    {
     "data": {
      "text/plain": [
       "[3, 4, 5, 6, 0, 1]"
      ]
     },
     "execution_count": 51,
     "metadata": {},
     "output_type": "execute_result"
    }
   ],
   "source": [
    "nums1 = [1,2,4,5,6,0]; m = 5; nums2= [3]; n = 1\n",
    "Solution().merge2(nums1, m, nums2, n)"
   ]
  },
  {
   "cell_type": "code",
   "execution_count": null,
   "id": "b4ffb7e7",
   "metadata": {},
   "outputs": [],
   "source": []
  }
 ],
 "metadata": {
  "kernelspec": {
   "display_name": "Python 3",
   "language": "python",
   "name": "python3"
  },
  "language_info": {
   "codemirror_mode": {
    "name": "ipython",
    "version": 3
   },
   "file_extension": ".py",
   "mimetype": "text/x-python",
   "name": "python",
   "nbconvert_exporter": "python",
   "pygments_lexer": "ipython3",
   "version": "3.7.4"
  }
 },
 "nbformat": 4,
 "nbformat_minor": 5
}
