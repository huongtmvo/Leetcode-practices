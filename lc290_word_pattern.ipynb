{
 "cells": [
  {
   "cell_type": "markdown",
   "id": "7eb521ca",
   "metadata": {},
   "source": [
    "#### 290. Word Pattern"
   ]
  },
  {
   "cell_type": "code",
   "execution_count": 26,
   "id": "d659de0e",
   "metadata": {},
   "outputs": [],
   "source": [
    "from collections import defaultdict\n",
    "class Solution:\n",
    "  \n",
    "    def wordPattern(self, pattern: str, s: str) -> bool:\n",
    "        words = s.split(\" \")\n",
    "        if len(words) != len(pattern): return False\n",
    "        if len(set(words)) != len(set(pattern)): return False\n",
    "        \n",
    "        dic = dict()\n",
    "        for i in range(len(pattern)):\n",
    "            if pattern[i] not in dic:\n",
    "                dic[pattern[i]] = words[i]\n",
    "            else: \n",
    "                if dic[pattern[i]] != words[i]:\n",
    "                    return False\n",
    "        return True\n",
    "   \n",
    "    def wordPattern2(self, pattern: str, s: str) -> bool:\n",
    "        words = s.split(\" \")\n",
    "        if len(words) != len(pattern):\n",
    "            return False\n",
    "        \n",
    "        dicp = defaultdict(str)\n",
    "        dicw = defaultdict(str)\n",
    "        \n",
    "        for i in range(len(pattern)):\n",
    "            if pattern[i] not in dicp:\n",
    "                dicp[pattern[i]] = words[i]\n",
    "                if words[i] not in dicw:\n",
    "                    dicw[words[i]] = pattern[i]\n",
    "                else: \n",
    "                    if dicw[words[i]] != pattern[i]:\n",
    "                        return False\n",
    "            else: \n",
    "                if dicp[pattern[i]] != words[i]:\n",
    "                    return False\n",
    "        return True\n",
    "\n",
    "# Time; O(N)\n",
    "# Space: O(N)"
   ]
  },
  {
   "cell_type": "code",
   "execution_count": 27,
   "id": "a964967b",
   "metadata": {},
   "outputs": [
    {
     "data": {
      "text/plain": [
       "True"
      ]
     },
     "execution_count": 27,
     "metadata": {},
     "output_type": "execute_result"
    }
   ],
   "source": [
    "s = \"dog cat cat dog\"\n",
    "pattern = \"abba\"\n",
    "Solution().wordPattern(pattern, s)"
   ]
  },
  {
   "cell_type": "code",
   "execution_count": 28,
   "id": "9fe62a4a",
   "metadata": {},
   "outputs": [
    {
     "data": {
      "text/plain": [
       "False"
      ]
     },
     "execution_count": 28,
     "metadata": {},
     "output_type": "execute_result"
    }
   ],
   "source": [
    "pattern = \"abba\"; s = \"dog cat cat fish\" \n",
    "Solution().wordPattern(pattern, s)"
   ]
  },
  {
   "cell_type": "code",
   "execution_count": 29,
   "id": "d61f6c94",
   "metadata": {},
   "outputs": [
    {
     "data": {
      "text/plain": [
       "False"
      ]
     },
     "execution_count": 29,
     "metadata": {},
     "output_type": "execute_result"
    }
   ],
   "source": [
    "pattern = \"aaaa\"; s = \"dog cat cat dog\" \n",
    "Solution().wordPattern(pattern, s)"
   ]
  },
  {
   "cell_type": "code",
   "execution_count": 30,
   "id": "f7431a87",
   "metadata": {},
   "outputs": [
    {
     "data": {
      "text/plain": [
       "False"
      ]
     },
     "execution_count": 30,
     "metadata": {},
     "output_type": "execute_result"
    }
   ],
   "source": [
    "pattern = \"abba\"\n",
    "s = \"dog dog dog dog\"\n",
    "Solution().wordPattern(pattern, s)"
   ]
  },
  {
   "cell_type": "code",
   "execution_count": 31,
   "id": "fdc97375",
   "metadata": {},
   "outputs": [
    {
     "data": {
      "text/plain": [
       "False"
      ]
     },
     "execution_count": 31,
     "metadata": {},
     "output_type": "execute_result"
    }
   ],
   "source": [
    "pattern = \"aaa\"\n",
    "s = \"aa aa aa aa\"\n",
    "Solution().wordPattern(pattern, s)"
   ]
  }
 ],
 "metadata": {
  "kernelspec": {
   "display_name": "Python 3",
   "language": "python",
   "name": "python3"
  },
  "language_info": {
   "codemirror_mode": {
    "name": "ipython",
    "version": 3
   },
   "file_extension": ".py",
   "mimetype": "text/x-python",
   "name": "python",
   "nbconvert_exporter": "python",
   "pygments_lexer": "ipython3",
   "version": "3.7.4"
  }
 },
 "nbformat": 4,
 "nbformat_minor": 5
}
