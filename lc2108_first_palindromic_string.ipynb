{
 "cells": [
  {
   "cell_type": "markdown",
   "id": "d8c821bd",
   "metadata": {},
   "source": [
    "https://leetcode.com/problems/find-first-palindromic-string-in-the-array/"
   ]
  },
  {
   "cell_type": "code",
   "execution_count": 22,
   "id": "f3ccd49a",
   "metadata": {},
   "outputs": [],
   "source": [
    "from typing import List\n",
    "class Solution:\n",
    "    def firstPalindrome2(self, words: List[str]) -> str:\n",
    "        i = 0\n",
    "        while i < len(words):\n",
    "            if words[i] == words[i][::-1]:\n",
    "                return words[i]\n",
    "            i += 1\n",
    "        else:\n",
    "            return \"\"    \n",
    "    \n",
    "    def firstPalindrome(self, words: List[str]) -> str:\n",
    "        for word in words:\n",
    "            l = 0; r = len(word) - 1\n",
    "            flag = True\n",
    "            while l < r:\n",
    "                if word[l] == word[r]:\n",
    "                    l += 1\n",
    "                    r -= 1\n",
    "                else:\n",
    "                    flag = False\n",
    "                    break\n",
    "            if flag:\n",
    "                return word\n",
    "        return \"\"\n",
    "        "
   ]
  },
  {
   "cell_type": "code",
   "execution_count": 4,
   "id": "8f58d917",
   "metadata": {},
   "outputs": [
    {
     "data": {
      "text/plain": [
       "True"
      ]
     },
     "execution_count": 4,
     "metadata": {},
     "output_type": "execute_result"
    }
   ],
   "source": [
    "s = 'abc'\n",
    "s[::-1] == 'cba'"
   ]
  },
  {
   "cell_type": "code",
   "execution_count": 23,
   "id": "e5e9da0a",
   "metadata": {},
   "outputs": [
    {
     "data": {
      "text/plain": [
       "'ada'"
      ]
     },
     "execution_count": 23,
     "metadata": {},
     "output_type": "execute_result"
    }
   ],
   "source": [
    "words = [\"abc\",\"car\",\"ada\",\"racecar\",\"cool\"]\n",
    "Solution().firstPalindrome(words)"
   ]
  },
  {
   "cell_type": "code",
   "execution_count": 24,
   "id": "3234a773",
   "metadata": {},
   "outputs": [
    {
     "data": {
      "text/plain": [
       "'racecar'"
      ]
     },
     "execution_count": 24,
     "metadata": {},
     "output_type": "execute_result"
    }
   ],
   "source": [
    "words = [\"notapalindrome\",\"racecar\"]\n",
    "Solution().firstPalindrome(words)"
   ]
  },
  {
   "cell_type": "code",
   "execution_count": null,
   "id": "2ddcd974",
   "metadata": {},
   "outputs": [],
   "source": []
  }
 ],
 "metadata": {
  "kernelspec": {
   "display_name": "Python 3",
   "language": "python",
   "name": "python3"
  },
  "language_info": {
   "codemirror_mode": {
    "name": "ipython",
    "version": 3
   },
   "file_extension": ".py",
   "mimetype": "text/x-python",
   "name": "python",
   "nbconvert_exporter": "python",
   "pygments_lexer": "ipython3",
   "version": "3.7.4"
  }
 },
 "nbformat": 4,
 "nbformat_minor": 5
}
