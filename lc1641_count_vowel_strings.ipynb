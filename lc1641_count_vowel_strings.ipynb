{
 "cells": [
  {
   "cell_type": "markdown",
   "id": "40e96f57",
   "metadata": {},
   "source": [
    "### 1641. Count Sorted Vowel Strings"
   ]
  },
  {
   "cell_type": "markdown",
   "id": "ea0acf68",
   "metadata": {},
   "source": [
    "Given an integer n, return the number of strings of length n that consist only of vowels (a, e, i, o, u) and are lexicographically sorted.\n",
    "\n",
    "A string s is lexicographically sorted if for all valid i, s[i] is the same as or comes before s[i+1] in the alphabet.\n",
    "\n",
    "Example 1:\n",
    "\n",
    "Input: n = 1\n",
    "Output: 5\n",
    "Explanation: The 5 sorted strings that consist of vowels only are [\"a\",\"e\",\"i\",\"o\",\"u\"].\n",
    "    \n",
    "Example 2:\n",
    "\n",
    "Input: n = 2\n",
    "Output: 15\n",
    "Explanation: The 15 sorted strings that consist of vowels only are\n",
    "[\"aa\",\"ae\",\"ai\",\"ao\",\"au\",\"ee\",\"ei\",\"eo\",\"eu\",\"ii\",\"io\",\"iu\",\"oo\",\"ou\",\"uu\"].\n",
    "\n",
    "Note that \"ea\" is not a valid string since 'e' comes after 'a' in the alphabet.\n",
    "\n",
    "Example 3:\n",
    "\n",
    "Input: n = 33\n",
    "Output: 66045\n",
    " \n",
    "\n",
    "Constraints:\n",
    "\n",
    "1 <= n <= 50 "
   ]
  },
  {
   "cell_type": "code",
   "execution_count": 25,
   "id": "5a719025",
   "metadata": {},
   "outputs": [],
   "source": [
    "class Solution:\n",
    "    # Explanation\n",
    "    # dp[n][k] means the number of strings constructed by at most k different characters.\n",
    "\n",
    "    # If k = 1, use only u\n",
    "    # If k = 2, use only o,u\n",
    "    # If k = 3, use only i,o,u\n",
    "    # If k = 4, use only e,i,o,u\n",
    "    # If k = 5, use only a,e,i,o,u\n",
    "    \n",
    "    # Dynamic programming, bottom up solution\n",
    "    # Solution 1: Bottom Up\n",
    "    # Time O(nk)\n",
    "    # Space O(nk)\n",
    "    # where k = 5\n",
    "    def countVowelStringsBU(self, n: int) -> int:\n",
    "        dp = [[1] * 6] + [[0] * 6 for i in range(n)]\n",
    "        for i in range(1, n + 1):\n",
    "            for k in range(1, 6):\n",
    "                dp[i][k] = dp[i][k - 1] + dp[i - 1][k]\n",
    "        print(dp)\n",
    "        return dp[n][5]\n",
    "    \n",
    "    \n",
    "    # Dynamic programming: top down solution\n",
    "    # Solution 2: Top Down\n",
    "    # Time O(nk)\n",
    "    # Space O(nk)\n",
    "    # where k = 5\n",
    "    def countVowelStringsTD(self, n):\n",
    "        seen = {}\n",
    "        def dp(n, k):\n",
    "            if k == 1 or n == 1: return k\n",
    "            if (n, k) in seen:\n",
    "                return seen[n, k]\n",
    "            seen[n, k] = sum(dp(n - 1, k) for k in range(1, k + 1))\n",
    "            return seen[n, k]\n",
    "        return dp(n, 5)\n",
    "    \n",
    "    \n",
    "    # Solution 3: Bottom up, 1D DP\n",
    "    # Time O(nk)\n",
    "    # Space O(k)\n",
    "    # where k = 5\n",
    "    # Python:\n",
    "\n",
    "    def countVowelStringsBU1D(self, n):\n",
    "        dp = [0] + [1] * 5\n",
    "        for i in range(1, n + 1):\n",
    "            for k in range(1, 6):\n",
    "                dp[k] += dp[k - 1]\n",
    "        return dp[5]\n",
    "    \n",
    "    # Python3\n",
    "    def countVowelStringsBU1D2(self, n: int) -> int:\n",
    "        dp = [1] * 5\n",
    "        for i in range(n):\n",
    "            dp = accumulate(dp)\n",
    "        return list(dp)[-1]\n",
    "\n",
    "    # Solution 4: Combination number\n",
    "    # Now we have n characters, we are going to insert 4 l inside.\n",
    "    # We can add in the front, in the middle and in the end.\n",
    "    # How many ways do we have?\n",
    "    # For the 1st l, we have n+1 position to insert.\n",
    "    # For the 2nd l, we have n+2 position to insert.\n",
    "    # For the 3rd l, we have n+3 position to insert.\n",
    "    # For the 4th l, we have n+4 position to insert.\n",
    "    # Also 4 l are the same,\n",
    "    # there are (n + 1) * (n + 2) * (n + 3) * (n + 4) / 4! ways.\n",
    "\n",
    "    # The character before the 1st l, we set to a.\n",
    "    # The character before the 2nd l, we set to e.\n",
    "    # The character before the 3rd l, we set to i.\n",
    "    # The character before the 4th l, we set to o.\n",
    "    # The character before the 5th l, we set to u.\n",
    "\n",
    "    # We get the one result for the oringinal problem.\n",
    "\n",
    "    # Time O(1)\n",
    "    # Space O(1)\n",
    "\n",
    "    def countVowelStringsCN(self, n):\n",
    "        return (n + 1) * (n + 2) * (n + 3) * (n + 4) // 24"
   ]
  },
  {
   "cell_type": "code",
   "execution_count": 26,
   "id": "4c592c5b",
   "metadata": {},
   "outputs": [
    {
     "data": {
      "text/plain": [
       "15"
      ]
     },
     "execution_count": 26,
     "metadata": {},
     "output_type": "execute_result"
    }
   ],
   "source": [
    "n = 2\n",
    "Solution().countVowelStringsCN(n)"
   ]
  },
  {
   "cell_type": "code",
   "execution_count": 27,
   "id": "cce0a742",
   "metadata": {},
   "outputs": [
    {
     "name": "stdout",
     "output_type": "stream",
     "text": [
      "[[1, 1, 1, 1, 1, 1], [0, 1, 2, 3, 4, 5], [0, 1, 3, 6, 10, 15]]\n"
     ]
    },
    {
     "data": {
      "text/plain": [
       "15"
      ]
     },
     "execution_count": 27,
     "metadata": {},
     "output_type": "execute_result"
    }
   ],
   "source": [
    "n = 2\n",
    "Solution().countVowelStringsBU(n)"
   ]
  },
  {
   "cell_type": "code",
   "execution_count": 28,
   "id": "cfa6589c",
   "metadata": {},
   "outputs": [
    {
     "data": {
      "text/plain": [
       "15"
      ]
     },
     "execution_count": 28,
     "metadata": {},
     "output_type": "execute_result"
    }
   ],
   "source": [
    "n = 2\n",
    "Solution().countVowelStringsTD(n)"
   ]
  },
  {
   "cell_type": "code",
   "execution_count": 30,
   "id": "313a1d10",
   "metadata": {},
   "outputs": [
    {
     "data": {
      "text/plain": [
       "66045"
      ]
     },
     "execution_count": 30,
     "metadata": {},
     "output_type": "execute_result"
    }
   ],
   "source": [
    "n = 33\n",
    "Solution().countVowelStringsTD(n)"
   ]
  },
  {
   "cell_type": "code",
   "execution_count": 31,
   "id": "cc29c00f",
   "metadata": {},
   "outputs": [
    {
     "data": {
      "text/plain": [
       "66045"
      ]
     },
     "execution_count": 31,
     "metadata": {},
     "output_type": "execute_result"
    }
   ],
   "source": [
    "n = 33\n",
    "Solution().countVowelStringsTD(n)"
   ]
  }
 ],
 "metadata": {
  "kernelspec": {
   "display_name": "Python 3",
   "language": "python",
   "name": "python3"
  },
  "language_info": {
   "codemirror_mode": {
    "name": "ipython",
    "version": 3
   },
   "file_extension": ".py",
   "mimetype": "text/x-python",
   "name": "python",
   "nbconvert_exporter": "python",
   "pygments_lexer": "ipython3",
   "version": "3.7.4"
  }
 },
 "nbformat": 4,
 "nbformat_minor": 5
}
