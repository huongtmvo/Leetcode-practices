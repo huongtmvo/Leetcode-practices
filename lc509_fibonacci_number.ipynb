{
 "cells": [
  {
   "cell_type": "markdown",
   "id": "a8cc26f7",
   "metadata": {},
   "source": [
    "https://leetcode.com/problems/fibonacci-number/"
   ]
  },
  {
   "cell_type": "code",
   "execution_count": null,
   "id": "a4998eef",
   "metadata": {},
   "outputs": [],
   "source": [
    "class Solution:\n",
    "    def fib(self, n: int, dic = {}) -> int:\n",
    "        if n == 0: return 0\n",
    "        if n == 1: return 1\n",
    "        \n",
    "        if n in dic:\n",
    "            return dic[n]\n",
    "        dic[n] = self.fib(n-1) + self.fib(n-2)\n",
    "        return dic[n]"
   ]
  }
 ],
 "metadata": {
  "kernelspec": {
   "display_name": "Python 3",
   "language": "python",
   "name": "python3"
  },
  "language_info": {
   "codemirror_mode": {
    "name": "ipython",
    "version": 3
   },
   "file_extension": ".py",
   "mimetype": "text/x-python",
   "name": "python",
   "nbconvert_exporter": "python",
   "pygments_lexer": "ipython3",
   "version": "3.7.4"
  }
 },
 "nbformat": 4,
 "nbformat_minor": 5
}
