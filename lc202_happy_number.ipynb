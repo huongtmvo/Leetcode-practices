{
 "cells": [
  {
   "cell_type": "markdown",
   "id": "f4a64d8f",
   "metadata": {},
   "source": [
    "https://leetcode.com/problems/happy-number/"
   ]
  },
  {
   "cell_type": "code",
   "execution_count": 21,
   "id": "a731c7b2",
   "metadata": {},
   "outputs": [
    {
     "name": "stdout",
     "output_type": "stream",
     "text": [
      "ERROR! Session/line number was not unique in database. History logging moved to new session 188\n"
     ]
    }
   ],
   "source": [
    "class Solution:\n",
    "    def isHappy(self, n: int) -> bool:\n",
    "        res = set()\n",
    "        while n != 1: \n",
    "            n = sum([int(i)**2 for i in str(n)])\n",
    "            if n in res:\n",
    "                return False\n",
    "            else:\n",
    "                res.add(n)\n",
    "        return True"
   ]
  },
  {
   "cell_type": "code",
   "execution_count": 22,
   "id": "7d74703f",
   "metadata": {},
   "outputs": [
    {
     "data": {
      "text/plain": [
       "True"
      ]
     },
     "execution_count": 22,
     "metadata": {},
     "output_type": "execute_result"
    }
   ],
   "source": [
    "n = 19\n",
    "Solution().isHappy(n)"
   ]
  },
  {
   "cell_type": "code",
   "execution_count": 23,
   "id": "e074522a",
   "metadata": {},
   "outputs": [
    {
     "data": {
      "text/plain": [
       "True"
      ]
     },
     "execution_count": 23,
     "metadata": {},
     "output_type": "execute_result"
    }
   ],
   "source": [
    "n = 1\n",
    "Solution().isHappy(n)"
   ]
  },
  {
   "cell_type": "code",
   "execution_count": 24,
   "id": "f88488e9",
   "metadata": {},
   "outputs": [
    {
     "data": {
      "text/plain": [
       "False"
      ]
     },
     "execution_count": 24,
     "metadata": {},
     "output_type": "execute_result"
    }
   ],
   "source": [
    "n = 20\n",
    "Solution().isHappy(n)"
   ]
  },
  {
   "cell_type": "code",
   "execution_count": 15,
   "id": "8c47f29c",
   "metadata": {},
   "outputs": [
    {
     "name": "stdout",
     "output_type": "stream",
     "text": [
      "55\n"
     ]
    }
   ],
   "source": [
    "n = 12345\n",
    "print(sum([int(i)**2 for i in str(n)]))"
   ]
  },
  {
   "cell_type": "code",
   "execution_count": 9,
   "id": "139e68ee",
   "metadata": {},
   "outputs": [],
   "source": [
    "res = set()\n",
    "res.add(2)"
   ]
  },
  {
   "cell_type": "code",
   "execution_count": null,
   "id": "020cfdba",
   "metadata": {},
   "outputs": [],
   "source": []
  }
 ],
 "metadata": {
  "kernelspec": {
   "display_name": "Python 3",
   "language": "python",
   "name": "python3"
  },
  "language_info": {
   "codemirror_mode": {
    "name": "ipython",
    "version": 3
   },
   "file_extension": ".py",
   "mimetype": "text/x-python",
   "name": "python",
   "nbconvert_exporter": "python",
   "pygments_lexer": "ipython3",
   "version": "3.7.4"
  }
 },
 "nbformat": 4,
 "nbformat_minor": 5
}
