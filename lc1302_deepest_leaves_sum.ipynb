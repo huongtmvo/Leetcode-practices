{
 "cells": [
  {
   "cell_type": "markdown",
   "id": "2ac2dfa2",
   "metadata": {},
   "source": [
    "https://leetcode.com/problems/deepest-leaves-sum/"
   ]
  },
  {
   "cell_type": "code",
   "execution_count": null,
   "id": "48b0344b",
   "metadata": {},
   "outputs": [],
   "source": [
    "# Definition for a binary tree node.\n",
    "class TreeNode:\n",
    "    def __init__(self, val=0, left=None, right=None):\n",
    "        self.val = val\n",
    "        self.left = left\n",
    "        self.right = right\n",
    "        \n",
    "class Solution:\n",
    "    def deepestLeavesSum(self, root: Optional[TreeNode]) -> int: \n",
    "        def dfs1(node):\n",
    "            if not node: return 0\n",
    "            return max(dfs1(node.left), dfs1(node.right)) + 1\n",
    "        \n",
    "        def dfs2(node, d):\n",
    "            if not node: return\n",
    "            if d == depth: self.ans += node.val\n",
    "            dfs2(node.left, d+1)\n",
    "            dfs2(node.right, d+1)\n",
    "        \n",
    "        self.ans = 0\n",
    "        depth = dfs1(root)\n",
    "        dfs2(root, 1)\n",
    "        return self.ans"
   ]
  }
 ],
 "metadata": {
  "kernelspec": {
   "display_name": "Python 3",
   "language": "python",
   "name": "python3"
  },
  "language_info": {
   "codemirror_mode": {
    "name": "ipython",
    "version": 3
   },
   "file_extension": ".py",
   "mimetype": "text/x-python",
   "name": "python",
   "nbconvert_exporter": "python",
   "pygments_lexer": "ipython3",
   "version": "3.7.4"
  }
 },
 "nbformat": 4,
 "nbformat_minor": 5
}
