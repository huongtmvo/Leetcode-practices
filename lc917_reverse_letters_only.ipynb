{
 "cells": [
  {
   "cell_type": "markdown",
   "id": "7bfa1766",
   "metadata": {},
   "source": [
    "https://leetcode.com/problems/reverse-only-letters/"
   ]
  },
  {
   "cell_type": "code",
   "execution_count": 6,
   "id": "a40772bb",
   "metadata": {},
   "outputs": [],
   "source": [
    "class Solution:\n",
    "    def reverseOnlyLetters(self, s: str) -> str:\n",
    "        s = list(s)\n",
    "        l, r = 0, len(s) - 1\n",
    "        while l < r:\n",
    "            if s[l].isalpha():\n",
    "                if s[r].isalpha():\n",
    "                    s[l], s[r] = s[r], s[l]\n",
    "                    l += 1\n",
    "                    r -= 1\n",
    "                else:\n",
    "                    r -= 1\n",
    "            else:\n",
    "                l += 1\n",
    "        return ''.join(s)"
   ]
  },
  {
   "cell_type": "code",
   "execution_count": 7,
   "id": "60e88a88",
   "metadata": {},
   "outputs": [
    {
     "data": {
      "text/plain": [
       "'Qedo1ct-eeLg=ntse-T!'"
      ]
     },
     "execution_count": 7,
     "metadata": {},
     "output_type": "execute_result"
    }
   ],
   "source": [
    "s = \"Test1ng-Leet=code-Q!\"\n",
    "Solution().reverseOnlyLetters(s)"
   ]
  },
  {
   "cell_type": "code",
   "execution_count": null,
   "id": "9f62e6a9",
   "metadata": {},
   "outputs": [],
   "source": []
  }
 ],
 "metadata": {
  "kernelspec": {
   "display_name": "Python 3",
   "language": "python",
   "name": "python3"
  },
  "language_info": {
   "codemirror_mode": {
    "name": "ipython",
    "version": 3
   },
   "file_extension": ".py",
   "mimetype": "text/x-python",
   "name": "python",
   "nbconvert_exporter": "python",
   "pygments_lexer": "ipython3",
   "version": "3.7.4"
  }
 },
 "nbformat": 4,
 "nbformat_minor": 5
}
