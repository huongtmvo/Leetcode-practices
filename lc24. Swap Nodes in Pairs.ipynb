{
 "cells": [
  {
   "cell_type": "markdown",
   "id": "3e1285ee",
   "metadata": {},
   "source": [
    "https://leetcode.com/problems/swap-nodes-in-pairs/"
   ]
  },
  {
   "cell_type": "code",
   "execution_count": 13,
   "id": "acdf2599",
   "metadata": {},
   "outputs": [],
   "source": [
    "class ListNode:\n",
    "    def __init__(self, val=0, next=None):\n",
    "        self.val = val\n",
    "        self.next = next"
   ]
  },
  {
   "cell_type": "code",
   "execution_count": 14,
   "id": "4451308f",
   "metadata": {},
   "outputs": [],
   "source": [
    "from typing import Optional\n",
    "class Solution:\n",
    "    def swapPairs(self, head: Optional[ListNode]) -> Optional[ListNode]:\n",
    "            # Create a dummy node to be the previous node of head\n",
    "            dummy = ListNode(-1)\n",
    "            dummy.next = head\n",
    "            prev = dummy\n",
    "\n",
    "            while head and head.next:\n",
    "                first = head\n",
    "                second = head.next\n",
    "\n",
    "                # Swapping: prev->first->second->second.next\n",
    "                # To: prev->second->first->second.next\n",
    "                prev.next = second\n",
    "                first.next = second.next\n",
    "                second.next = first\n",
    "\n",
    "                # Initialize the next iteration:\n",
    "                prev = first\n",
    "                head = first.next\n",
    "\n",
    "            return dummy.next"
   ]
  },
  {
   "cell_type": "code",
   "execution_count": 15,
   "id": "94c991d2",
   "metadata": {},
   "outputs": [],
   "source": [
    "head = ListNode(1,ListNode(2, ListNode(3, ListNode(4))))"
   ]
  },
  {
   "cell_type": "code",
   "execution_count": 16,
   "id": "ac8165a2",
   "metadata": {},
   "outputs": [
    {
     "data": {
      "text/plain": [
       "[1, 2, 3, 4]"
      ]
     },
     "execution_count": 16,
     "metadata": {},
     "output_type": "execute_result"
    }
   ],
   "source": [
    "cur = head\n",
    "lst = []\n",
    "while cur:\n",
    "    lst.append(cur.val)\n",
    "    cur = cur.next\n",
    "\n",
    "lst  "
   ]
  },
  {
   "cell_type": "code",
   "execution_count": 17,
   "id": "850bbcbc",
   "metadata": {},
   "outputs": [
    {
     "data": {
      "text/plain": [
       "<__main__.ListNode at 0x7fea68464fd0>"
      ]
     },
     "execution_count": 17,
     "metadata": {},
     "output_type": "execute_result"
    }
   ],
   "source": [
    "Solution().swapPairs(head)"
   ]
  }
 ],
 "metadata": {
  "kernelspec": {
   "display_name": "Python 3",
   "language": "python",
   "name": "python3"
  },
  "language_info": {
   "codemirror_mode": {
    "name": "ipython",
    "version": 3
   },
   "file_extension": ".py",
   "mimetype": "text/x-python",
   "name": "python",
   "nbconvert_exporter": "python",
   "pygments_lexer": "ipython3",
   "version": "3.7.4"
  }
 },
 "nbformat": 4,
 "nbformat_minor": 5
}
