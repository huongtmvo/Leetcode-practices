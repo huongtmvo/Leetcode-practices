{
 "cells": [
  {
   "cell_type": "markdown",
   "id": "90382bb1",
   "metadata": {},
   "source": [
    "https://leetcode.com/problems/min-stack/"
   ]
  },
  {
   "cell_type": "code",
   "execution_count": 6,
   "id": "da0499ab",
   "metadata": {},
   "outputs": [],
   "source": [
    "class MinStack:\n",
    "    def __init__(self):\n",
    "        self.stack = []\n",
    "\n",
    "    def push(self, val: int) -> None:\n",
    "        self.stack.append(val)\n",
    "    \n",
    "    def pop(self) -> None:\n",
    "        self.stack.pop()\n",
    "        \n",
    "    def top(self) -> int:\n",
    "        return self.stack[-1]\n",
    "\n",
    "    def getMin(self) -> int:\n",
    "        return min(self.stack)"
   ]
  },
  {
   "cell_type": "code",
   "execution_count": null,
   "id": "09e58c58",
   "metadata": {},
   "outputs": [],
   "source": []
  }
 ],
 "metadata": {
  "kernelspec": {
   "display_name": "Python 3",
   "language": "python",
   "name": "python3"
  },
  "language_info": {
   "codemirror_mode": {
    "name": "ipython",
    "version": 3
   },
   "file_extension": ".py",
   "mimetype": "text/x-python",
   "name": "python",
   "nbconvert_exporter": "python",
   "pygments_lexer": "ipython3",
   "version": "3.7.4"
  }
 },
 "nbformat": 4,
 "nbformat_minor": 5
}
