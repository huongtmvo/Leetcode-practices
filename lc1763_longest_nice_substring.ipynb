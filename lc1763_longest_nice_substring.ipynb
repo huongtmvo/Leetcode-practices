{
 "cells": [
  {
   "cell_type": "markdown",
   "id": "f3523359",
   "metadata": {},
   "source": [
    "#### 1763. Longest Nice Substring"
   ]
  },
  {
   "cell_type": "code",
   "execution_count": 25,
   "id": "0c1e2397",
   "metadata": {},
   "outputs": [],
   "source": [
    "class Solution:\n",
    "    def longestNiceSubstring(self,s):\n",
    "        chars = set(s)\n",
    "        for i,c in enumerate(s):\n",
    "            if c.swapcase() not in chars:\n",
    "                s0 = self.longestNiceSubstring(s[:i])\n",
    "                s1 = self.longestNiceSubstring(s[i+1:])\n",
    "                return max(s0,s1,key=len)\n",
    "        return s\n",
    "    \n",
    "# Time: 3^N\n",
    "# Space: O(N) = length of stack"
   ]
  },
  {
   "cell_type": "code",
   "execution_count": 20,
   "id": "d1defcdc",
   "metadata": {},
   "outputs": [
    {
     "data": {
      "text/plain": [
       "'aAa'"
      ]
     },
     "execution_count": 20,
     "metadata": {},
     "output_type": "execute_result"
    }
   ],
   "source": [
    "s = \"YazaAay\"\n",
    "Solution().longestNiceSubstring(s)"
   ]
  },
  {
   "cell_type": "code",
   "execution_count": 21,
   "id": "6f5112c1",
   "metadata": {},
   "outputs": [
    {
     "data": {
      "text/plain": [
       "'Bb'"
      ]
     },
     "execution_count": 21,
     "metadata": {},
     "output_type": "execute_result"
    }
   ],
   "source": [
    "s = \"Bb\"\n",
    "Solution().longestNiceSubstring(s)"
   ]
  },
  {
   "cell_type": "code",
   "execution_count": 22,
   "id": "a0489693",
   "metadata": {},
   "outputs": [
    {
     "data": {
      "text/plain": [
       "''"
      ]
     },
     "execution_count": 22,
     "metadata": {},
     "output_type": "execute_result"
    }
   ],
   "source": [
    "s = \"c\"\n",
    "Solution().longestNiceSubstring(s)"
   ]
  }
 ],
 "metadata": {
  "kernelspec": {
   "display_name": "Python 3",
   "language": "python",
   "name": "python3"
  },
  "language_info": {
   "codemirror_mode": {
    "name": "ipython",
    "version": 3
   },
   "file_extension": ".py",
   "mimetype": "text/x-python",
   "name": "python",
   "nbconvert_exporter": "python",
   "pygments_lexer": "ipython3",
   "version": "3.7.4"
  }
 },
 "nbformat": 4,
 "nbformat_minor": 5
}
