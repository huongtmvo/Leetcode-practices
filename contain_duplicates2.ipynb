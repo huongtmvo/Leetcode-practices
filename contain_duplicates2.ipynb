{
 "cells": [
  {
   "cell_type": "markdown",
   "id": "7b1a882e",
   "metadata": {},
   "source": [
    "#### Contains Duplicate II\n",
    "\n",
    "Given an integer array nums and an integer k, return true if there are two distinct indices i and j in the array such that nums[i] == nums[j] and abs(i - j) <= k.\n",
    "\n",
    "Example 1:\n",
    "Input: nums = [1,2,3,1], k = 3\n",
    "Output: true\n",
    "\n",
    "Example 2:\n",
    "Input: nums = [1,0,1,1], k = 1\n",
    "Output: true\n",
    "\n",
    "Example 3:\n",
    "Input: nums = [1,2,3,1,2,3], k = 2\n",
    "Output: false"
   ]
  },
  {
   "cell_type": "code",
   "execution_count": 10,
   "id": "8d4796f6",
   "metadata": {},
   "outputs": [],
   "source": [
    "from typing import List\n",
    "class Solution:\n",
    "    def containsNearbyDuplicate(self, nums: List[int], k: int) -> bool:\n",
    "        mapping = {}\n",
    "        for i in range(len(nums)):\n",
    "            if nums[i] in mapping: \n",
    "                if abs(i-mapping[nums[i]]) <= k:\n",
    "                    return True\n",
    "            mapping[nums[i]] = i\n",
    "        return False\n",
    "sol = Solution()"
   ]
  },
  {
   "cell_type": "code",
   "execution_count": 14,
   "id": "d14be527",
   "metadata": {},
   "outputs": [
    {
     "data": {
      "text/plain": [
       "True"
      ]
     },
     "execution_count": 14,
     "metadata": {},
     "output_type": "execute_result"
    }
   ],
   "source": [
    "nums = [1,2,3,1]; k = 3\n",
    "sol.containsNearbyDuplicate(nums,k)"
   ]
  },
  {
   "cell_type": "code",
   "execution_count": 15,
   "id": "210a2fcc",
   "metadata": {},
   "outputs": [
    {
     "data": {
      "text/plain": [
       "True"
      ]
     },
     "execution_count": 15,
     "metadata": {},
     "output_type": "execute_result"
    }
   ],
   "source": [
    "nums = [1,0,1,1]; k = 1\n",
    "sol.containsNearbyDuplicate(nums,k)"
   ]
  },
  {
   "cell_type": "code",
   "execution_count": 16,
   "id": "79d2ce10",
   "metadata": {},
   "outputs": [
    {
     "data": {
      "text/plain": [
       "False"
      ]
     },
     "execution_count": 16,
     "metadata": {},
     "output_type": "execute_result"
    }
   ],
   "source": [
    "nums = [1,2,3,1,2,3]; k = 2\n",
    "sol.containsNearbyDuplicate(nums,k)"
   ]
  },
  {
   "cell_type": "code",
   "execution_count": null,
   "id": "a3766ad8",
   "metadata": {},
   "outputs": [],
   "source": []
  }
 ],
 "metadata": {
  "kernelspec": {
   "display_name": "Python 3",
   "language": "python",
   "name": "python3"
  },
  "language_info": {
   "codemirror_mode": {
    "name": "ipython",
    "version": 3
   },
   "file_extension": ".py",
   "mimetype": "text/x-python",
   "name": "python",
   "nbconvert_exporter": "python",
   "pygments_lexer": "ipython3",
   "version": "3.7.4"
  }
 },
 "nbformat": 4,
 "nbformat_minor": 5
}
