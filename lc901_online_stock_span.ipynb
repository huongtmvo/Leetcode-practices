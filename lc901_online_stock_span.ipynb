{
 "cells": [
  {
   "cell_type": "markdown",
   "id": "b79e1019",
   "metadata": {},
   "source": [
    "### 901. Online Stock Span\n",
    "\n",
    "Design an algorithm that collects daily price quotes for some stock and returns the span of that stock's price for the current day.\n",
    "\n",
    "The span of the stock's price today is defined as the maximum number of consecutive days (starting from today and going backward) for which the stock price was less than or equal to today's price.\n",
    "\n",
    "For example, if the price of a stock over the next 7 days were [100,80,60,70,60,75,85], then the stock spans would be [1,1,1,2,1,4,6]."
   ]
  },
  {
   "cell_type": "code",
   "execution_count": 136,
   "id": "f14eec75",
   "metadata": {},
   "outputs": [],
   "source": [
    "class StockSpanner:\n",
    "\n",
    "    def __init__(self):\n",
    "        self.stack = []\n",
    "        \n",
    "    def next(self, price: int) -> int:\n",
    "        res = 1\n",
    "        while self.stack and self.stack[-1][0] <= price:\n",
    "            res += self.stack.pop()[1] # pop the lower price out of the stack and accumulate the count\n",
    "        self.stack.append([price, res])\n",
    "        return res\n",
    "    \n",
    "# Your StockSpanner object will be instantiated and called as such:\n",
    "# obj = StockSpanner()\n",
    "# param_1 = obj.next(price)\n",
    "\n",
    "# Complexity analysis: \n",
    "# Each price will be append once and pop once. 2N stack operations and N times calls. \n",
    "# Time complexity is amortized O(1)"
   ]
  },
  {
   "cell_type": "code",
   "execution_count": 137,
   "id": "684d311b",
   "metadata": {},
   "outputs": [
    {
     "data": {
      "text/plain": [
       "1"
      ]
     },
     "execution_count": 137,
     "metadata": {},
     "output_type": "execute_result"
    }
   ],
   "source": [
    "obj = StockSpanner()\n",
    "obj.next(100)"
   ]
  },
  {
   "cell_type": "code",
   "execution_count": 138,
   "id": "506a96bf",
   "metadata": {},
   "outputs": [
    {
     "data": {
      "text/plain": [
       "1"
      ]
     },
     "execution_count": 138,
     "metadata": {},
     "output_type": "execute_result"
    }
   ],
   "source": [
    "obj.next(80)"
   ]
  },
  {
   "cell_type": "code",
   "execution_count": 139,
   "id": "21581ba4",
   "metadata": {},
   "outputs": [
    {
     "data": {
      "text/plain": [
       "1"
      ]
     },
     "execution_count": 139,
     "metadata": {},
     "output_type": "execute_result"
    }
   ],
   "source": [
    "obj.next(60)"
   ]
  },
  {
   "cell_type": "code",
   "execution_count": 140,
   "id": "ccb3ff38",
   "metadata": {},
   "outputs": [
    {
     "data": {
      "text/plain": [
       "2"
      ]
     },
     "execution_count": 140,
     "metadata": {},
     "output_type": "execute_result"
    }
   ],
   "source": [
    "obj.next(70)"
   ]
  },
  {
   "cell_type": "code",
   "execution_count": 141,
   "id": "531c59bd",
   "metadata": {},
   "outputs": [
    {
     "data": {
      "text/plain": [
       "1"
      ]
     },
     "execution_count": 141,
     "metadata": {},
     "output_type": "execute_result"
    }
   ],
   "source": [
    "obj.next(60)"
   ]
  },
  {
   "cell_type": "code",
   "execution_count": 142,
   "id": "f865c837",
   "metadata": {},
   "outputs": [
    {
     "data": {
      "text/plain": [
       "4"
      ]
     },
     "execution_count": 142,
     "metadata": {},
     "output_type": "execute_result"
    }
   ],
   "source": [
    "obj.next(75)"
   ]
  },
  {
   "cell_type": "code",
   "execution_count": 143,
   "id": "caa1c949",
   "metadata": {},
   "outputs": [
    {
     "data": {
      "text/plain": [
       "6"
      ]
     },
     "execution_count": 143,
     "metadata": {},
     "output_type": "execute_result"
    }
   ],
   "source": [
    "obj.next(85)"
   ]
  }
 ],
 "metadata": {
  "kernelspec": {
   "display_name": "Python 3",
   "language": "python",
   "name": "python3"
  },
  "language_info": {
   "codemirror_mode": {
    "name": "ipython",
    "version": 3
   },
   "file_extension": ".py",
   "mimetype": "text/x-python",
   "name": "python",
   "nbconvert_exporter": "python",
   "pygments_lexer": "ipython3",
   "version": "3.7.4"
  }
 },
 "nbformat": 4,
 "nbformat_minor": 5
}
