{
 "cells": [
  {
   "cell_type": "markdown",
   "id": "71f81c0e",
   "metadata": {},
   "source": [
    "https://leetcode.com/problems/binary-tree-preorder-traversal/"
   ]
  },
  {
   "cell_type": "code",
   "execution_count": 2,
   "id": "955328c9",
   "metadata": {},
   "outputs": [],
   "source": [
    "class TreeNode:\n",
    "    def __init__(self, val, left = None, right = None):\n",
    "        self.val = val\n",
    "        self.left = left\n",
    "        self.right = right"
   ]
  },
  {
   "cell_type": "code",
   "execution_count": null,
   "id": "7331280a",
   "metadata": {},
   "outputs": [],
   "source": [
    "class Solution:\n",
    "    # Solution1: Use recursive function\n",
    "    def preOrder(self, root, res):\n",
    "        if root:\n",
    "            res.append(root.val)\n",
    "            self.preOrder(root.left, res)\n",
    "            self.preOrder(root.right, res)\n",
    "    \n",
    "    def preorderTraversal(self, root: Optional[TreeNode]) -> List[int]:\n",
    "        res = []\n",
    "        self.preOrder(root, res)\n",
    "        return res\n",
    "    \n",
    "    # Solution 2: Iteratively, using stack\n",
    "     def preorderTraversal(self, root: Optional[TreeNode]) -> List[int]:\n",
    "        stack = [root]\n",
    "        res = []\n",
    "        while stack:\n",
    "            node = stack.pop()\n",
    "            if node:\n",
    "                res.append(node.val)\n",
    "                stack.append(node.right)\n",
    "                stack.append(node.left)\n",
    "        return res"
   ]
  },
  {
   "cell_type": "code",
   "execution_count": null,
   "id": "b950ea43",
   "metadata": {},
   "outputs": [],
   "source": []
  }
 ],
 "metadata": {
  "kernelspec": {
   "display_name": "Python 3",
   "language": "python",
   "name": "python3"
  },
  "language_info": {
   "codemirror_mode": {
    "name": "ipython",
    "version": 3
   },
   "file_extension": ".py",
   "mimetype": "text/x-python",
   "name": "python",
   "nbconvert_exporter": "python",
   "pygments_lexer": "ipython3",
   "version": "3.7.4"
  }
 },
 "nbformat": 4,
 "nbformat_minor": 5
}
