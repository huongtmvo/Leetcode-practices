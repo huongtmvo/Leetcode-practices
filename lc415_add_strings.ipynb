{
 "cells": [
  {
   "cell_type": "markdown",
   "id": "e2d7da16",
   "metadata": {},
   "source": [
    "#### 415. Add Strings"
   ]
  },
  {
   "cell_type": "markdown",
   "id": "48816a27",
   "metadata": {},
   "source": [
    "Given two non-negative integers, num1 and num2 represented as string, return the sum of num1 and num2 as a string.\n",
    "\n",
    "You must solve the problem without using any built-in library for handling large integers (such as BigInteger). You must also not convert the inputs to integers directly."
   ]
  },
  {
   "cell_type": "markdown",
   "id": "03c95380",
   "metadata": {},
   "source": [
    "Input: num1 = \"11\", num2 = \"123\"\n",
    "Output: \"134\""
   ]
  },
  {
   "cell_type": "markdown",
   "id": "c4131d5c",
   "metadata": {},
   "source": [
    "Input: num1 = \"456\", num2 = \"77\"\n",
    "Output: \"533\""
   ]
  },
  {
   "cell_type": "markdown",
   "id": "3ae65527",
   "metadata": {},
   "source": [
    "Input: num1 = \"0\", num2 = \"0\"\n",
    "Output: \"0\""
   ]
  },
  {
   "cell_type": "markdown",
   "id": "085b6d6e",
   "metadata": {},
   "source": [
    "1 <= num1.length, num2.length <= 104\n",
    "num1 and num2 consist of only digits.\n",
    "num1 and num2 don't have any leading zeros except for the zero itself."
   ]
  },
  {
   "cell_type": "code",
   "execution_count": null,
   "id": "df4b85e9",
   "metadata": {},
   "outputs": [],
   "source": [
    "class Solution:\n",
    "    def addStrings(self, num1: str, num2: str) -> str:\n",
    "        "
   ]
  }
 ],
 "metadata": {
  "kernelspec": {
   "display_name": "Python 3",
   "language": "python",
   "name": "python3"
  },
  "language_info": {
   "codemirror_mode": {
    "name": "ipython",
    "version": 3
   },
   "file_extension": ".py",
   "mimetype": "text/x-python",
   "name": "python",
   "nbconvert_exporter": "python",
   "pygments_lexer": "ipython3",
   "version": "3.7.4"
  }
 },
 "nbformat": 4,
 "nbformat_minor": 5
}
