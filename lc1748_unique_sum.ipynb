{
 "cells": [
  {
   "cell_type": "markdown",
   "id": "9243de5b",
   "metadata": {},
   "source": [
    "### 1748. Sum of Unique Elements"
   ]
  },
  {
   "cell_type": "code",
   "execution_count": 5,
   "id": "fe59137a",
   "metadata": {},
   "outputs": [],
   "source": [
    "from typing import List\n",
    "from collections import Counter\n",
    "class Solution:\n",
    "    def sumOfUnique(self, nums: List[int]) -> int:\n",
    "        counter = Counter(nums)\n",
    "        \n",
    "        total = 0\n",
    "        for k, v in counter.items():\n",
    "            if v == 1:\n",
    "                total += k\n",
    "        return total\n",
    "# Time: O(N)\n",
    "# Space : O(N)"
   ]
  },
  {
   "cell_type": "code",
   "execution_count": 6,
   "id": "3bd8ac4b",
   "metadata": {},
   "outputs": [
    {
     "data": {
      "text/plain": [
       "4"
      ]
     },
     "execution_count": 6,
     "metadata": {},
     "output_type": "execute_result"
    }
   ],
   "source": [
    "nums = [1,2,3,2]\n",
    "Solution().sumOfUnique(nums)"
   ]
  },
  {
   "cell_type": "code",
   "execution_count": 7,
   "id": "83401e89",
   "metadata": {},
   "outputs": [
    {
     "data": {
      "text/plain": [
       "0"
      ]
     },
     "execution_count": 7,
     "metadata": {},
     "output_type": "execute_result"
    }
   ],
   "source": [
    "nums = [1,1,1,1,1]\n",
    "Solution().sumOfUnique(nums)"
   ]
  },
  {
   "cell_type": "code",
   "execution_count": 9,
   "id": "dc9dddce",
   "metadata": {},
   "outputs": [
    {
     "data": {
      "text/plain": [
       "15"
      ]
     },
     "execution_count": 9,
     "metadata": {},
     "output_type": "execute_result"
    }
   ],
   "source": [
    "nums = [1,2,3,4,5] \n",
    "Solution().sumOfUnique(nums)"
   ]
  },
  {
   "cell_type": "code",
   "execution_count": 8,
   "id": "22f4ea6b",
   "metadata": {},
   "outputs": [
    {
     "data": {
      "text/plain": [
       "15"
      ]
     },
     "execution_count": 8,
     "metadata": {},
     "output_type": "execute_result"
    }
   ],
   "source": [
    "nums = [1,2,3,4,5] \n",
    "counter = Counter(nums)\n",
    "sum(a for a,c in counter.items() if c==1)"
   ]
  },
  {
   "cell_type": "code",
   "execution_count": 10,
   "id": "f40f7161",
   "metadata": {},
   "outputs": [],
   "source": [
    "def sumOfUnique(nums):\n",
    "    return sum(k for k, v in collections.Counter(nums).items() if v == 1)"
   ]
  },
  {
   "cell_type": "code",
   "execution_count": null,
   "id": "7f8d1eff",
   "metadata": {},
   "outputs": [],
   "source": []
  }
 ],
 "metadata": {
  "kernelspec": {
   "display_name": "Python 3",
   "language": "python",
   "name": "python3"
  },
  "language_info": {
   "codemirror_mode": {
    "name": "ipython",
    "version": 3
   },
   "file_extension": ".py",
   "mimetype": "text/x-python",
   "name": "python",
   "nbconvert_exporter": "python",
   "pygments_lexer": "ipython3",
   "version": "3.7.4"
  }
 },
 "nbformat": 4,
 "nbformat_minor": 5
}
