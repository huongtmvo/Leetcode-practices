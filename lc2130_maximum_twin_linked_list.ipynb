{
 "cells": [
  {
   "cell_type": "markdown",
   "id": "d6278a4a",
   "metadata": {},
   "source": [
    "#### 2130. Maximum Twin Sum of a Linked List"
   ]
  },
  {
   "cell_type": "code",
   "execution_count": 5,
   "id": "33d7f749",
   "metadata": {},
   "outputs": [],
   "source": [
    "# Definition for singly-linked list.\n",
    "class ListNode:\n",
    "    def __init__(self, val=0, next=None):\n",
    "        self.val = val\n",
    "        self.next = next\n",
    "        \n",
    "class Solution:\n",
    "    def pairSum(self, head) -> int:\n",
    "        cur = head\n",
    "        values = []\n",
    "        while cur: \n",
    "            values.append(cur.val)\n",
    "            cur = cur.next\n",
    "        \n",
    "        l, r = 0, len(values) - 1\n",
    "        maxSum = 0 \n",
    "        while l < r: \n",
    "            maxSum = max(maxSum, values[l] + values[r])\n",
    "            l += 1\n",
    "            r -= 1\n",
    "        return maxSum\n",
    "# Complexity Analysis: \n",
    "# Time: O(N)\n",
    "# Space: O(N)"
   ]
  },
  {
   "cell_type": "code",
   "execution_count": 6,
   "id": "e5e5f60f",
   "metadata": {},
   "outputs": [
    {
     "data": {
      "text/plain": [
       "6"
      ]
     },
     "execution_count": 6,
     "metadata": {},
     "output_type": "execute_result"
    }
   ],
   "source": [
    "head = ListNode(5, ListNode(4, ListNode(2, ListNode(1))))\n",
    "Solution().pairSum(head)"
   ]
  },
  {
   "cell_type": "code",
   "execution_count": 7,
   "id": "c4d4900e",
   "metadata": {},
   "outputs": [
    {
     "data": {
      "text/plain": [
       "7"
      ]
     },
     "execution_count": 7,
     "metadata": {},
     "output_type": "execute_result"
    }
   ],
   "source": [
    "head = ListNode(4, ListNode(2, ListNode(2, ListNode(3))))\n",
    "Solution().pairSum(head)"
   ]
  },
  {
   "cell_type": "code",
   "execution_count": 9,
   "id": "963aa5cb",
   "metadata": {},
   "outputs": [
    {
     "data": {
      "text/plain": [
       "100001"
      ]
     },
     "execution_count": 9,
     "metadata": {},
     "output_type": "execute_result"
    }
   ],
   "source": [
    "head = ListNode(1, ListNode(100000))\n",
    "Solution().pairSum(head)"
   ]
  },
  {
   "cell_type": "code",
   "execution_count": null,
   "id": "2f7a1e18",
   "metadata": {},
   "outputs": [],
   "source": []
  }
 ],
 "metadata": {
  "kernelspec": {
   "display_name": "Python 3",
   "language": "python",
   "name": "python3"
  },
  "language_info": {
   "codemirror_mode": {
    "name": "ipython",
    "version": 3
   },
   "file_extension": ".py",
   "mimetype": "text/x-python",
   "name": "python",
   "nbconvert_exporter": "python",
   "pygments_lexer": "ipython3",
   "version": "3.7.4"
  }
 },
 "nbformat": 4,
 "nbformat_minor": 5
}
