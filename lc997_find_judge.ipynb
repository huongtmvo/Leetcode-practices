{
 "cells": [
  {
   "cell_type": "markdown",
   "id": "57100d2a",
   "metadata": {},
   "source": [
    "997. Find the Town Judge\n",
    "\n",
    "https://leetcode.com/problems/find-the-town-judge/\n"
   ]
  },
  {
   "cell_type": "code",
   "execution_count": 24,
   "id": "0ee66b3c",
   "metadata": {},
   "outputs": [],
   "source": [
    "class Solution:\n",
    "     def findJudge(self, n: int, trust: List[List[int]]) -> int:\n",
    "        count = [0]*n\n",
    "        for u, v in trust:\n",
    "            count[v-1] += 1\n",
    "            count[u-1] -= 1\n",
    "        \n",
    "        for node in range(n):\n",
    "            if count[node] == n-1:\n",
    "                return node + 1\n",
    "        return -1 \n",
    "    \n",
    "    def findJudge(self, n: int, trust: List[List[int]]) -> int:\n",
    "        adj = [set() for _ in range(n)]\n",
    "        for edge in trust:\n",
    "            u, v = edge\n",
    "            adj[u-1].add(v-1)\n",
    "\n",
    "        candidate = -1\n",
    "        for node in range(n):\n",
    "            if len(adj[node]) == 0:\n",
    "                candidate = node\n",
    "        \n",
    "        for i in range(n):\n",
    "            if i != candidate and candidate not in adj[i]:\n",
    "                return -1\n",
    "        return candidate + 1\n",
    "        "
   ]
  },
  {
   "cell_type": "code",
   "execution_count": 27,
   "id": "86da0134",
   "metadata": {},
   "outputs": [
    {
     "data": {
      "text/plain": [
       "[0, 0, 0, 0]"
      ]
     },
     "execution_count": 27,
     "metadata": {},
     "output_type": "execute_result"
    }
   ],
   "source": [
    "[0] *4"
   ]
  },
  {
   "cell_type": "code",
   "execution_count": 25,
   "id": "c97b1f2b",
   "metadata": {},
   "outputs": [
    {
     "data": {
      "text/plain": [
       "2"
      ]
     },
     "execution_count": 25,
     "metadata": {},
     "output_type": "execute_result"
    }
   ],
   "source": [
    "n = 2; trust = [[1,2]]\n",
    "Solution().findJudge(n, trust)"
   ]
  },
  {
   "cell_type": "code",
   "execution_count": 26,
   "id": "e6c57f27",
   "metadata": {},
   "outputs": [
    {
     "data": {
      "text/plain": [
       "3"
      ]
     },
     "execution_count": 26,
     "metadata": {},
     "output_type": "execute_result"
    }
   ],
   "source": [
    "n = 3; trust = [[1,3],[2,3]] \n",
    "Solution().findJudge(n, trust)"
   ]
  },
  {
   "cell_type": "code",
   "execution_count": null,
   "id": "9744aee0",
   "metadata": {},
   "outputs": [],
   "source": [
    "# Time: O(|E|+|V|)\n",
    "# Space : O(|V| +|E|)"
   ]
  }
 ],
 "metadata": {
  "kernelspec": {
   "display_name": "Python 3",
   "language": "python",
   "name": "python3"
  },
  "language_info": {
   "codemirror_mode": {
    "name": "ipython",
    "version": 3
   },
   "file_extension": ".py",
   "mimetype": "text/x-python",
   "name": "python",
   "nbconvert_exporter": "python",
   "pygments_lexer": "ipython3",
   "version": "3.7.4"
  }
 },
 "nbformat": 4,
 "nbformat_minor": 5
}
