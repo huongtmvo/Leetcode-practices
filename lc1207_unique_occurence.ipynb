{
 "cells": [
  {
   "cell_type": "markdown",
   "id": "13a73535",
   "metadata": {},
   "source": [
    "#### 1207. Unique Number of Occurrences"
   ]
  },
  {
   "cell_type": "code",
   "execution_count": 20,
   "id": "833d8c19",
   "metadata": {},
   "outputs": [],
   "source": [
    "from collections import Counter\n",
    "from typing import List\n",
    "class Solution:\n",
    "    def uniqueOccurrences(self, arr: List[int]) -> bool:\n",
    "        counter = Counter(arr)\n",
    "        setv = set([x for _, x in counter.items()])\n",
    "        return len(setv) == len(counter)     \n",
    "\n",
    "# Time complexity: O(N)\n",
    "# Space complexity: O(N)"
   ]
  },
  {
   "cell_type": "code",
   "execution_count": 21,
   "id": "b228a2bb",
   "metadata": {},
   "outputs": [
    {
     "data": {
      "text/plain": [
       "True"
      ]
     },
     "execution_count": 21,
     "metadata": {},
     "output_type": "execute_result"
    }
   ],
   "source": [
    "arr = [1,2,2,1,1,3]\n",
    "Solution().uniqueOccurrences(arr)"
   ]
  },
  {
   "cell_type": "code",
   "execution_count": 22,
   "id": "4ee08be6",
   "metadata": {},
   "outputs": [
    {
     "data": {
      "text/plain": [
       "False"
      ]
     },
     "execution_count": 22,
     "metadata": {},
     "output_type": "execute_result"
    }
   ],
   "source": [
    "arr = [1,2]\n",
    "Solution().uniqueOccurrences(arr)"
   ]
  },
  {
   "cell_type": "code",
   "execution_count": 23,
   "id": "b18668ba",
   "metadata": {},
   "outputs": [
    {
     "data": {
      "text/plain": [
       "True"
      ]
     },
     "execution_count": 23,
     "metadata": {},
     "output_type": "execute_result"
    }
   ],
   "source": [
    "arr = [-3,0,1,-3,1,1,1,-3,10,0]\n",
    "Solution().uniqueOccurrences(arr)"
   ]
  }
 ],
 "metadata": {
  "kernelspec": {
   "display_name": "Python 3",
   "language": "python",
   "name": "python3"
  },
  "language_info": {
   "codemirror_mode": {
    "name": "ipython",
    "version": 3
   },
   "file_extension": ".py",
   "mimetype": "text/x-python",
   "name": "python",
   "nbconvert_exporter": "python",
   "pygments_lexer": "ipython3",
   "version": "3.7.4"
  }
 },
 "nbformat": 4,
 "nbformat_minor": 5
}
